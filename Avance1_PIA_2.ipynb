{
  "nbformat": 4,
  "nbformat_minor": 0,
  "metadata": {
    "colab": {
      "name": "Avance1_PIA_2.ipynb",
      "provenance": [],
      "collapsed_sections": [
        "C6xrNc2-LDuv",
        "Rw927DKdJ1uI",
        "3Ag-g7xAGurx",
        "UyzlYtuqNEva",
        "UGVLO8dhWkug"
      ],
      "include_colab_link": true
    },
    "kernelspec": {
      "name": "python3",
      "display_name": "Python 3"
    },
    "language_info": {
      "name": "python"
    }
  },
  "cells": [
    {
      "cell_type": "markdown",
      "metadata": {
        "id": "view-in-github",
        "colab_type": "text"
      },
      "source": [
        "<a href=\"https://colab.research.google.com/github/DiegoRinconP/Mineria_de_datos/blob/main/Avance1_PIA_2.ipynb\" target=\"_parent\"><img src=\"https://colab.research.google.com/assets/colab-badge.svg\" alt=\"Open In Colab\"/></a>"
      ]
    },
    {
      "cell_type": "markdown",
      "metadata": {
        "id": "y2SCARxIuOBo"
      },
      "source": [
        "# AVANCE 1 - PIA\n",
        "**Equipo**: 2\n",
        "\n",
        "**Grupo**: 002 Miércoles\n",
        "\n",
        "**Integrantes**: \n",
        "*   1850231 Cid Sanabria Dulce Ximena\n",
        "*   1851895 Ortiz Cruz Jaclyn Lizeth\n",
        "*   1849687 Rincón Pacheco Diego Alejandro\n",
        "*   1854410 Serrano Caballero Lizeth"
      ]
    },
    {
      "cell_type": "markdown",
      "metadata": {
        "id": "r18-fTPl4D2Z"
      },
      "source": [
        "# **Sales of summer clothes in E-commerce Wish**\n",
        "\n",
        "https://www.kaggle.com/jmmvutu/summer-products-and-sales-in-ecommerce-wish"
      ]
    },
    {
      "cell_type": "markdown",
      "metadata": {
        "id": "O7D9kVle54vQ"
      },
      "source": [
        "## **Introducción**"
      ]
    },
    {
      "cell_type": "markdown",
      "metadata": {
        "id": "AQOIMy3J6zku"
      },
      "source": [
        "Wish es una compañía de comercio electrónico en línea, fundada en 2010 por Peter Szulczewski y Danny Zhang, ambos ex-programadores de Google y Yahoo.\n",
        "\n",
        "En 2017, la aplicación de compra móvil de \"Wish\" decía tener más de 100 millones de usuarios en iOS y Android. Actualmente, cuenta con más de 500 millones usuarios según la propia empresa. Similar a eBay, Amazon o AliExpress, fabricantes y negocios pequeños pueden vender bienes directamente a los consumidores a precios relativamente bajos.\n",
        "\n",
        "Años más tarde, la tienda Wish añadió el Outlet, el cual vende excedentes de stock de marcas reconocidas, por debajo del precio en tienda y también añadió Wish Express, el cual ofrece envíos más rápidos. Esta empresa fue beneficiada por la pandemia, debido a que muchos usuarios empezaron a comprar más en linea a causa de las restricciones sanitarias."
      ]
    },
    {
      "cell_type": "markdown",
      "metadata": {
        "id": "lKPi1OID6x9w"
      },
      "source": [
        "##**Descripción de los datos**"
      ]
    },
    {
      "cell_type": "markdown",
      "metadata": {
        "id": "I2_E-UA0653N"
      },
      "source": [
        "a) ¿Qué tipo de datos son?\n",
        "\n",
        "La base de datos incluye información de registros originados de la pagina web Wish acerca de las preferencias que tienen los usuarios a la hora de escribir summer (verano en inglés) en el campo de búsqueda de la plataforma. No solo muestra información acerca del producto, sino también acerca del vendedor y de las ventas.\n",
        "\n",
        "\n",
        "b) Descripción de las columnas\n",
        "\n",
        "El conjunto de datos cuenta con 63,790 datos divididos en 43 columnas y 1,573 filas donde podemos encontrar diferentes tipos de datos, como texto, número y url, recolectados del registro de la venta de verano de la plataforma. En las columnas, podemos observar la descripción del producto, precio Wish y precio externo, no. de ventas, rating, sellos, envio, inventario, info del vendedor, entre otras, las cuales nos van a ayudar a encontrar patrones sobre el éxito de un producto.\n",
        "\n",
        "\n"
      ]
    },
    {
      "cell_type": "markdown",
      "metadata": {
        "id": "6AlX87Nv66Wr"
      },
      "source": [
        "## **Justificación del uso de datos**"
      ]
    },
    {
      "cell_type": "markdown",
      "metadata": {
        "id": "XNA-f-HE6_xT"
      },
      "source": [
        "La base de datos viene ordenada de una manera muy práctica y con mucha información, lo cual nos permite tener un gran panorama para hacer un análisis con mayor facilidad. Una característica importante es que cuenta con datos de interés público de una compañia que ha crecido en los últimos años debido a la nueva modalidad de compras en línea desde cualquier dispositivo móvil. Nos gustaría saber si existe una correlación entre las variables y si los productos exitosos siguen un patrón determinado."
      ]
    },
    {
      "cell_type": "markdown",
      "metadata": {
        "id": "DsKcf0rn7AgC"
      },
      "source": [
        "## **Objetivos**"
      ]
    },
    {
      "cell_type": "markdown",
      "metadata": {
        "id": "fUf892or7FQP"
      },
      "source": [
        "Encontrar un patrón de la diferencia de precios con el desempeño de ventas.\n",
        "\n",
        "\n",
        "Secundarios:\n",
        "\n",
        "---Evaluar la relación de las ventas de un producto con el rating.\n",
        "\n",
        "---Analizar si el precio del producto influye en el costo de envío. "
      ]
    },
    {
      "cell_type": "markdown",
      "metadata": {
        "id": "Z0qmKZ337_lv"
      },
      "source": [
        "## **Preguntas de interés**"
      ]
    },
    {
      "cell_type": "markdown",
      "metadata": {
        "id": "RyIcsvD77_WJ"
      },
      "source": [
        "* ¿Cuál es la relación entre el rating del producto y su éxito en ventas?\n",
        "* ¿Qué tan sensibles son los usuarios al precio que está por debajo del externo?"
      ]
    },
    {
      "cell_type": "markdown",
      "metadata": {
        "id": "7HTDwUeq7FrM"
      },
      "source": [
        "## **Programación**"
      ]
    },
    {
      "cell_type": "markdown",
      "metadata": {
        "id": "-tnuYjCS7azs"
      },
      "source": [
        "El primer paso es importar las librerías que se usarán en el proceso."
      ]
    },
    {
      "cell_type": "code",
      "metadata": {
        "id": "JbEiPr257ha2"
      },
      "source": [
        "import pandas as pd\n",
        "import numpy as np"
      ],
      "execution_count": 1,
      "outputs": []
    },
    {
      "cell_type": "markdown",
      "metadata": {
        "id": "1iHa38DS7ken"
      },
      "source": [
        "Se carga la base de datos csv a archivos, para después llamarla y almacenarla en una variable."
      ]
    },
    {
      "cell_type": "code",
      "metadata": {
        "id": "qs3p1HsJ7n_b"
      },
      "source": [
        "bd=pd.read_csv('/content/summer-products-with-rating-and-performance_2020-08.csv') #se manda llamar la base de datos original"
      ],
      "execution_count": 2,
      "outputs": []
    },
    {
      "cell_type": "markdown",
      "metadata": {
        "id": "R5BQOuFX7sIX"
      },
      "source": [
        "Después de analizar la base de datos cargada, para verificar que no hayan existido problemas al momento de llamarla."
      ]
    },
    {
      "cell_type": "markdown",
      "metadata": {
        "id": "knYFvJP-7u35"
      },
      "source": [
        "Con la función shape se puede observar el número de filas y columnas de la base de datos."
      ]
    },
    {
      "cell_type": "code",
      "metadata": {
        "colab": {
          "base_uri": "https://localhost:8080/"
        },
        "id": "cp-_9hoK7zR1",
        "outputId": "94117a08-3bdc-415f-919d-ecce6bdb40f8"
      },
      "source": [
        "bd.shape #regresa filas, columnas"
      ],
      "execution_count": 3,
      "outputs": [
        {
          "output_type": "execute_result",
          "data": {
            "text/plain": [
              "(1573, 43)"
            ]
          },
          "metadata": {},
          "execution_count": 3
        }
      ]
    },
    {
      "cell_type": "markdown",
      "metadata": {
        "id": "5aBHJp9J8Htw"
      },
      "source": [
        "Para ver como se forma la base de datos, las propiedades head y tail permiten mostrar las primeras 5 filas y las últimas 5 filas de la base de datos, respectivamente.\n",
        "\n"
      ]
    },
    {
      "cell_type": "code",
      "metadata": {
        "colab": {
          "base_uri": "https://localhost:8080/",
          "height": 694
        },
        "id": "5FY9AN-e8Lb_",
        "outputId": "a51991fd-e81b-4646-8da5-f88250d7d31c"
      },
      "source": [
        "bd.head() #enseña las primeras 5 filas"
      ],
      "execution_count": 4,
      "outputs": [
        {
          "output_type": "execute_result",
          "data": {
            "text/html": [
              "<div>\n",
              "<style scoped>\n",
              "    .dataframe tbody tr th:only-of-type {\n",
              "        vertical-align: middle;\n",
              "    }\n",
              "\n",
              "    .dataframe tbody tr th {\n",
              "        vertical-align: top;\n",
              "    }\n",
              "\n",
              "    .dataframe thead th {\n",
              "        text-align: right;\n",
              "    }\n",
              "</style>\n",
              "<table border=\"1\" class=\"dataframe\">\n",
              "  <thead>\n",
              "    <tr style=\"text-align: right;\">\n",
              "      <th></th>\n",
              "      <th>title</th>\n",
              "      <th>title_orig</th>\n",
              "      <th>price</th>\n",
              "      <th>retail_price</th>\n",
              "      <th>currency_buyer</th>\n",
              "      <th>units_sold</th>\n",
              "      <th>uses_ad_boosts</th>\n",
              "      <th>rating</th>\n",
              "      <th>rating_count</th>\n",
              "      <th>rating_five_count</th>\n",
              "      <th>rating_four_count</th>\n",
              "      <th>rating_three_count</th>\n",
              "      <th>rating_two_count</th>\n",
              "      <th>rating_one_count</th>\n",
              "      <th>badges_count</th>\n",
              "      <th>badge_local_product</th>\n",
              "      <th>badge_product_quality</th>\n",
              "      <th>badge_fast_shipping</th>\n",
              "      <th>tags</th>\n",
              "      <th>product_color</th>\n",
              "      <th>product_variation_size_id</th>\n",
              "      <th>product_variation_inventory</th>\n",
              "      <th>shipping_option_name</th>\n",
              "      <th>shipping_option_price</th>\n",
              "      <th>shipping_is_express</th>\n",
              "      <th>countries_shipped_to</th>\n",
              "      <th>inventory_total</th>\n",
              "      <th>has_urgency_banner</th>\n",
              "      <th>urgency_text</th>\n",
              "      <th>origin_country</th>\n",
              "      <th>merchant_title</th>\n",
              "      <th>merchant_name</th>\n",
              "      <th>merchant_info_subtitle</th>\n",
              "      <th>merchant_rating_count</th>\n",
              "      <th>merchant_rating</th>\n",
              "      <th>merchant_id</th>\n",
              "      <th>merchant_has_profile_picture</th>\n",
              "      <th>merchant_profile_picture</th>\n",
              "      <th>product_url</th>\n",
              "      <th>product_picture</th>\n",
              "      <th>product_id</th>\n",
              "      <th>theme</th>\n",
              "      <th>crawl_month</th>\n",
              "    </tr>\n",
              "  </thead>\n",
              "  <tbody>\n",
              "    <tr>\n",
              "      <th>0</th>\n",
              "      <td>2020 Summer Vintage Flamingo Print  Pajamas Se...</td>\n",
              "      <td>2020 Summer Vintage Flamingo Print  Pajamas Se...</td>\n",
              "      <td>16.00</td>\n",
              "      <td>14</td>\n",
              "      <td>EUR</td>\n",
              "      <td>100</td>\n",
              "      <td>0</td>\n",
              "      <td>3.76</td>\n",
              "      <td>54</td>\n",
              "      <td>26.0</td>\n",
              "      <td>8.0</td>\n",
              "      <td>10.0</td>\n",
              "      <td>1.0</td>\n",
              "      <td>9.0</td>\n",
              "      <td>0</td>\n",
              "      <td>0</td>\n",
              "      <td>0</td>\n",
              "      <td>0</td>\n",
              "      <td>Summer,Fashion,womenunderwearsuit,printedpajam...</td>\n",
              "      <td>white</td>\n",
              "      <td>M</td>\n",
              "      <td>50</td>\n",
              "      <td>Livraison standard</td>\n",
              "      <td>4</td>\n",
              "      <td>0</td>\n",
              "      <td>34</td>\n",
              "      <td>50</td>\n",
              "      <td>1.0</td>\n",
              "      <td>Quantité limitée !</td>\n",
              "      <td>CN</td>\n",
              "      <td>zgrdejia</td>\n",
              "      <td>zgrdejia</td>\n",
              "      <td>(568 notes)</td>\n",
              "      <td>568</td>\n",
              "      <td>4.128521</td>\n",
              "      <td>595097d6a26f6e070cb878d1</td>\n",
              "      <td>0</td>\n",
              "      <td>NaN</td>\n",
              "      <td>https://www.wish.com/c/5e9ae51d43d6a96e303acdb0</td>\n",
              "      <td>https://contestimg.wish.com/api/webimage/5e9ae...</td>\n",
              "      <td>5e9ae51d43d6a96e303acdb0</td>\n",
              "      <td>summer</td>\n",
              "      <td>2020-08</td>\n",
              "    </tr>\n",
              "    <tr>\n",
              "      <th>1</th>\n",
              "      <td>SSHOUSE Summer Casual Sleeveless Soirée Party ...</td>\n",
              "      <td>Women's Casual Summer Sleeveless Sexy Mini Dress</td>\n",
              "      <td>8.00</td>\n",
              "      <td>22</td>\n",
              "      <td>EUR</td>\n",
              "      <td>20000</td>\n",
              "      <td>1</td>\n",
              "      <td>3.45</td>\n",
              "      <td>6135</td>\n",
              "      <td>2269.0</td>\n",
              "      <td>1027.0</td>\n",
              "      <td>1118.0</td>\n",
              "      <td>644.0</td>\n",
              "      <td>1077.0</td>\n",
              "      <td>0</td>\n",
              "      <td>0</td>\n",
              "      <td>0</td>\n",
              "      <td>0</td>\n",
              "      <td>Mini,womens dresses,Summer,Patchwork,fashion d...</td>\n",
              "      <td>green</td>\n",
              "      <td>XS</td>\n",
              "      <td>50</td>\n",
              "      <td>Livraison standard</td>\n",
              "      <td>2</td>\n",
              "      <td>0</td>\n",
              "      <td>41</td>\n",
              "      <td>50</td>\n",
              "      <td>1.0</td>\n",
              "      <td>Quantité limitée !</td>\n",
              "      <td>CN</td>\n",
              "      <td>SaraHouse</td>\n",
              "      <td>sarahouse</td>\n",
              "      <td>83 % avis positifs (17,752 notes)</td>\n",
              "      <td>17752</td>\n",
              "      <td>3.899673</td>\n",
              "      <td>56458aa03a698c35c9050988</td>\n",
              "      <td>0</td>\n",
              "      <td>NaN</td>\n",
              "      <td>https://www.wish.com/c/58940d436a0d3d5da4e95a38</td>\n",
              "      <td>https://contestimg.wish.com/api/webimage/58940...</td>\n",
              "      <td>58940d436a0d3d5da4e95a38</td>\n",
              "      <td>summer</td>\n",
              "      <td>2020-08</td>\n",
              "    </tr>\n",
              "    <tr>\n",
              "      <th>2</th>\n",
              "      <td>2020 Nouvelle Arrivée Femmes Printemps et Été ...</td>\n",
              "      <td>2020 New Arrival Women Spring and Summer Beach...</td>\n",
              "      <td>8.00</td>\n",
              "      <td>43</td>\n",
              "      <td>EUR</td>\n",
              "      <td>100</td>\n",
              "      <td>0</td>\n",
              "      <td>3.57</td>\n",
              "      <td>14</td>\n",
              "      <td>5.0</td>\n",
              "      <td>4.0</td>\n",
              "      <td>2.0</td>\n",
              "      <td>0.0</td>\n",
              "      <td>3.0</td>\n",
              "      <td>0</td>\n",
              "      <td>0</td>\n",
              "      <td>0</td>\n",
              "      <td>0</td>\n",
              "      <td>Summer,cardigan,women beachwear,chiffon,Sexy w...</td>\n",
              "      <td>leopardprint</td>\n",
              "      <td>XS</td>\n",
              "      <td>1</td>\n",
              "      <td>Livraison standard</td>\n",
              "      <td>3</td>\n",
              "      <td>0</td>\n",
              "      <td>36</td>\n",
              "      <td>50</td>\n",
              "      <td>1.0</td>\n",
              "      <td>Quantité limitée !</td>\n",
              "      <td>CN</td>\n",
              "      <td>hxt520</td>\n",
              "      <td>hxt520</td>\n",
              "      <td>86 % avis positifs (295 notes)</td>\n",
              "      <td>295</td>\n",
              "      <td>3.989831</td>\n",
              "      <td>5d464a1ffdf7bc44ee933c65</td>\n",
              "      <td>0</td>\n",
              "      <td>NaN</td>\n",
              "      <td>https://www.wish.com/c/5ea10e2c617580260d55310a</td>\n",
              "      <td>https://contestimg.wish.com/api/webimage/5ea10...</td>\n",
              "      <td>5ea10e2c617580260d55310a</td>\n",
              "      <td>summer</td>\n",
              "      <td>2020-08</td>\n",
              "    </tr>\n",
              "    <tr>\n",
              "      <th>3</th>\n",
              "      <td>Hot Summer Cool T-shirt pour les femmes Mode T...</td>\n",
              "      <td>Hot Summer Cool T Shirt for Women Fashion Tops...</td>\n",
              "      <td>8.00</td>\n",
              "      <td>8</td>\n",
              "      <td>EUR</td>\n",
              "      <td>5000</td>\n",
              "      <td>1</td>\n",
              "      <td>4.03</td>\n",
              "      <td>579</td>\n",
              "      <td>295.0</td>\n",
              "      <td>119.0</td>\n",
              "      <td>87.0</td>\n",
              "      <td>42.0</td>\n",
              "      <td>36.0</td>\n",
              "      <td>0</td>\n",
              "      <td>0</td>\n",
              "      <td>0</td>\n",
              "      <td>0</td>\n",
              "      <td>Summer,Shorts,Cotton,Cotton T Shirt,Sleeve,pri...</td>\n",
              "      <td>black</td>\n",
              "      <td>M</td>\n",
              "      <td>50</td>\n",
              "      <td>Livraison standard</td>\n",
              "      <td>2</td>\n",
              "      <td>0</td>\n",
              "      <td>41</td>\n",
              "      <td>50</td>\n",
              "      <td>NaN</td>\n",
              "      <td>NaN</td>\n",
              "      <td>CN</td>\n",
              "      <td>allenfan</td>\n",
              "      <td>allenfan</td>\n",
              "      <td>(23,832 notes)</td>\n",
              "      <td>23832</td>\n",
              "      <td>4.020435</td>\n",
              "      <td>58cfdefdacb37b556efdff7c</td>\n",
              "      <td>0</td>\n",
              "      <td>NaN</td>\n",
              "      <td>https://www.wish.com/c/5cedf17ad1d44c52c59e4aca</td>\n",
              "      <td>https://contestimg.wish.com/api/webimage/5cedf...</td>\n",
              "      <td>5cedf17ad1d44c52c59e4aca</td>\n",
              "      <td>summer</td>\n",
              "      <td>2020-08</td>\n",
              "    </tr>\n",
              "    <tr>\n",
              "      <th>4</th>\n",
              "      <td>Femmes Shorts d'été à lacets taille élastique ...</td>\n",
              "      <td>Women Summer Shorts Lace Up Elastic Waistband ...</td>\n",
              "      <td>2.72</td>\n",
              "      <td>3</td>\n",
              "      <td>EUR</td>\n",
              "      <td>100</td>\n",
              "      <td>1</td>\n",
              "      <td>3.10</td>\n",
              "      <td>20</td>\n",
              "      <td>6.0</td>\n",
              "      <td>4.0</td>\n",
              "      <td>2.0</td>\n",
              "      <td>2.0</td>\n",
              "      <td>6.0</td>\n",
              "      <td>0</td>\n",
              "      <td>0</td>\n",
              "      <td>0</td>\n",
              "      <td>0</td>\n",
              "      <td>Summer,Plus Size,Lace,Casual pants,Bottom,pant...</td>\n",
              "      <td>yellow</td>\n",
              "      <td>S</td>\n",
              "      <td>1</td>\n",
              "      <td>Livraison standard</td>\n",
              "      <td>1</td>\n",
              "      <td>0</td>\n",
              "      <td>35</td>\n",
              "      <td>50</td>\n",
              "      <td>1.0</td>\n",
              "      <td>Quantité limitée !</td>\n",
              "      <td>CN</td>\n",
              "      <td>youngpeopleshop</td>\n",
              "      <td>happyhorses</td>\n",
              "      <td>85 % avis positifs (14,482 notes)</td>\n",
              "      <td>14482</td>\n",
              "      <td>4.001588</td>\n",
              "      <td>5ab3b592c3911a095ad5dadb</td>\n",
              "      <td>0</td>\n",
              "      <td>NaN</td>\n",
              "      <td>https://www.wish.com/c/5ebf5819ebac372b070b0e70</td>\n",
              "      <td>https://contestimg.wish.com/api/webimage/5ebf5...</td>\n",
              "      <td>5ebf5819ebac372b070b0e70</td>\n",
              "      <td>summer</td>\n",
              "      <td>2020-08</td>\n",
              "    </tr>\n",
              "  </tbody>\n",
              "</table>\n",
              "</div>"
            ],
            "text/plain": [
              "                                               title  ... crawl_month\n",
              "0  2020 Summer Vintage Flamingo Print  Pajamas Se...  ...     2020-08\n",
              "1  SSHOUSE Summer Casual Sleeveless Soirée Party ...  ...     2020-08\n",
              "2  2020 Nouvelle Arrivée Femmes Printemps et Été ...  ...     2020-08\n",
              "3  Hot Summer Cool T-shirt pour les femmes Mode T...  ...     2020-08\n",
              "4  Femmes Shorts d'été à lacets taille élastique ...  ...     2020-08\n",
              "\n",
              "[5 rows x 43 columns]"
            ]
          },
          "metadata": {},
          "execution_count": 4
        }
      ]
    },
    {
      "cell_type": "code",
      "metadata": {
        "colab": {
          "base_uri": "https://localhost:8080/",
          "height": 643
        },
        "id": "h_JxSUPS8Wzv",
        "outputId": "f26cffe9-483c-4348-d487-d4f2e072773c"
      },
      "source": [
        "bd.tail() #enseña las últimas 5 filas"
      ],
      "execution_count": 5,
      "outputs": [
        {
          "output_type": "execute_result",
          "data": {
            "text/html": [
              "<div>\n",
              "<style scoped>\n",
              "    .dataframe tbody tr th:only-of-type {\n",
              "        vertical-align: middle;\n",
              "    }\n",
              "\n",
              "    .dataframe tbody tr th {\n",
              "        vertical-align: top;\n",
              "    }\n",
              "\n",
              "    .dataframe thead th {\n",
              "        text-align: right;\n",
              "    }\n",
              "</style>\n",
              "<table border=\"1\" class=\"dataframe\">\n",
              "  <thead>\n",
              "    <tr style=\"text-align: right;\">\n",
              "      <th></th>\n",
              "      <th>title</th>\n",
              "      <th>title_orig</th>\n",
              "      <th>price</th>\n",
              "      <th>retail_price</th>\n",
              "      <th>currency_buyer</th>\n",
              "      <th>units_sold</th>\n",
              "      <th>uses_ad_boosts</th>\n",
              "      <th>rating</th>\n",
              "      <th>rating_count</th>\n",
              "      <th>rating_five_count</th>\n",
              "      <th>rating_four_count</th>\n",
              "      <th>rating_three_count</th>\n",
              "      <th>rating_two_count</th>\n",
              "      <th>rating_one_count</th>\n",
              "      <th>badges_count</th>\n",
              "      <th>badge_local_product</th>\n",
              "      <th>badge_product_quality</th>\n",
              "      <th>badge_fast_shipping</th>\n",
              "      <th>tags</th>\n",
              "      <th>product_color</th>\n",
              "      <th>product_variation_size_id</th>\n",
              "      <th>product_variation_inventory</th>\n",
              "      <th>shipping_option_name</th>\n",
              "      <th>shipping_option_price</th>\n",
              "      <th>shipping_is_express</th>\n",
              "      <th>countries_shipped_to</th>\n",
              "      <th>inventory_total</th>\n",
              "      <th>has_urgency_banner</th>\n",
              "      <th>urgency_text</th>\n",
              "      <th>origin_country</th>\n",
              "      <th>merchant_title</th>\n",
              "      <th>merchant_name</th>\n",
              "      <th>merchant_info_subtitle</th>\n",
              "      <th>merchant_rating_count</th>\n",
              "      <th>merchant_rating</th>\n",
              "      <th>merchant_id</th>\n",
              "      <th>merchant_has_profile_picture</th>\n",
              "      <th>merchant_profile_picture</th>\n",
              "      <th>product_url</th>\n",
              "      <th>product_picture</th>\n",
              "      <th>product_id</th>\n",
              "      <th>theme</th>\n",
              "      <th>crawl_month</th>\n",
              "    </tr>\n",
              "  </thead>\n",
              "  <tbody>\n",
              "    <tr>\n",
              "      <th>1568</th>\n",
              "      <td>Nouvelle Mode Femmes Bohême Pissenlit Imprimer...</td>\n",
              "      <td>New Fashion Women Bohemia Dandelion Print Tee ...</td>\n",
              "      <td>6.0</td>\n",
              "      <td>9</td>\n",
              "      <td>EUR</td>\n",
              "      <td>10000</td>\n",
              "      <td>1</td>\n",
              "      <td>4.08</td>\n",
              "      <td>1367</td>\n",
              "      <td>722.0</td>\n",
              "      <td>293.0</td>\n",
              "      <td>185.0</td>\n",
              "      <td>77.0</td>\n",
              "      <td>90.0</td>\n",
              "      <td>0</td>\n",
              "      <td>0</td>\n",
              "      <td>0</td>\n",
              "      <td>0</td>\n",
              "      <td>bohemia,Plus Size,dandelionfloralprinted,short...</td>\n",
              "      <td>navyblue</td>\n",
              "      <td>S</td>\n",
              "      <td>50</td>\n",
              "      <td>Livraison standard</td>\n",
              "      <td>2</td>\n",
              "      <td>0</td>\n",
              "      <td>41</td>\n",
              "      <td>50</td>\n",
              "      <td>NaN</td>\n",
              "      <td>NaN</td>\n",
              "      <td>CN</td>\n",
              "      <td>cxuelin99126</td>\n",
              "      <td>cxuelin99126</td>\n",
              "      <td>90 % avis positifs (5,316 notes)</td>\n",
              "      <td>5316</td>\n",
              "      <td>4.224605</td>\n",
              "      <td>5b507899ab577736508a0782</td>\n",
              "      <td>0</td>\n",
              "      <td>NaN</td>\n",
              "      <td>https://www.wish.com/c/5d5fadc99febd9356cbc52ee</td>\n",
              "      <td>https://contestimg.wish.com/api/webimage/5d5fa...</td>\n",
              "      <td>5d5fadc99febd9356cbc52ee</td>\n",
              "      <td>summer</td>\n",
              "      <td>2020-08</td>\n",
              "    </tr>\n",
              "    <tr>\n",
              "      <th>1569</th>\n",
              "      <td>10 couleurs femmes shorts d'été lacent ceintur...</td>\n",
              "      <td>10 Color Women Summer Shorts Lace Up Elastic W...</td>\n",
              "      <td>2.0</td>\n",
              "      <td>56</td>\n",
              "      <td>EUR</td>\n",
              "      <td>100</td>\n",
              "      <td>1</td>\n",
              "      <td>3.07</td>\n",
              "      <td>28</td>\n",
              "      <td>11.0</td>\n",
              "      <td>3.0</td>\n",
              "      <td>1.0</td>\n",
              "      <td>3.0</td>\n",
              "      <td>10.0</td>\n",
              "      <td>0</td>\n",
              "      <td>0</td>\n",
              "      <td>0</td>\n",
              "      <td>0</td>\n",
              "      <td>Summer,Panties,Elastic,Lace,Casual pants,casua...</td>\n",
              "      <td>lightblue</td>\n",
              "      <td>S</td>\n",
              "      <td>2</td>\n",
              "      <td>Livraison standard</td>\n",
              "      <td>1</td>\n",
              "      <td>0</td>\n",
              "      <td>26</td>\n",
              "      <td>50</td>\n",
              "      <td>1.0</td>\n",
              "      <td>Quantité limitée !</td>\n",
              "      <td>CN</td>\n",
              "      <td>sell best quality goods</td>\n",
              "      <td>sellbestqualitygoods</td>\n",
              "      <td>(4,435 notes)</td>\n",
              "      <td>4435</td>\n",
              "      <td>3.696054</td>\n",
              "      <td>54d83b6b6b8a771e478558de</td>\n",
              "      <td>0</td>\n",
              "      <td>NaN</td>\n",
              "      <td>https://www.wish.com/c/5eccd22b4497b86fd48f16b4</td>\n",
              "      <td>https://contestimg.wish.com/api/webimage/5eccd...</td>\n",
              "      <td>5eccd22b4497b86fd48f16b4</td>\n",
              "      <td>summer</td>\n",
              "      <td>2020-08</td>\n",
              "    </tr>\n",
              "    <tr>\n",
              "      <th>1570</th>\n",
              "      <td>Nouveautés Hommes Siwmwear Beach-Shorts Hommes...</td>\n",
              "      <td>New Men Siwmwear Beach-Shorts Men Summer Quick...</td>\n",
              "      <td>5.0</td>\n",
              "      <td>19</td>\n",
              "      <td>EUR</td>\n",
              "      <td>100</td>\n",
              "      <td>0</td>\n",
              "      <td>3.71</td>\n",
              "      <td>59</td>\n",
              "      <td>24.0</td>\n",
              "      <td>15.0</td>\n",
              "      <td>8.0</td>\n",
              "      <td>3.0</td>\n",
              "      <td>9.0</td>\n",
              "      <td>0</td>\n",
              "      <td>0</td>\n",
              "      <td>0</td>\n",
              "      <td>0</td>\n",
              "      <td>runningshort,Beach Shorts,beachpant,menbeachsh...</td>\n",
              "      <td>white</td>\n",
              "      <td>SIZE S</td>\n",
              "      <td>15</td>\n",
              "      <td>Livraison standard</td>\n",
              "      <td>2</td>\n",
              "      <td>0</td>\n",
              "      <td>11</td>\n",
              "      <td>50</td>\n",
              "      <td>NaN</td>\n",
              "      <td>NaN</td>\n",
              "      <td>CN</td>\n",
              "      <td>shixueying</td>\n",
              "      <td>shixueying</td>\n",
              "      <td>86 % avis positifs (210 notes)</td>\n",
              "      <td>210</td>\n",
              "      <td>3.961905</td>\n",
              "      <td>5b42da1bf64320209fc8da69</td>\n",
              "      <td>0</td>\n",
              "      <td>NaN</td>\n",
              "      <td>https://www.wish.com/c/5e74be96034d613d42b52dfe</td>\n",
              "      <td>https://contestimg.wish.com/api/webimage/5e74b...</td>\n",
              "      <td>5e74be96034d613d42b52dfe</td>\n",
              "      <td>summer</td>\n",
              "      <td>2020-08</td>\n",
              "    </tr>\n",
              "    <tr>\n",
              "      <th>1571</th>\n",
              "      <td>Mode femmes d'été sans manches robes col en V ...</td>\n",
              "      <td>Fashion Women Summer Sleeveless Dresses V Neck...</td>\n",
              "      <td>13.0</td>\n",
              "      <td>11</td>\n",
              "      <td>EUR</td>\n",
              "      <td>100</td>\n",
              "      <td>0</td>\n",
              "      <td>2.50</td>\n",
              "      <td>2</td>\n",
              "      <td>0.0</td>\n",
              "      <td>1.0</td>\n",
              "      <td>0.0</td>\n",
              "      <td>0.0</td>\n",
              "      <td>1.0</td>\n",
              "      <td>0</td>\n",
              "      <td>0</td>\n",
              "      <td>0</td>\n",
              "      <td>0</td>\n",
              "      <td>Summer,fashion women,Fashion,Lace,Dresses,Dres...</td>\n",
              "      <td>white</td>\n",
              "      <td>Size S.</td>\n",
              "      <td>36</td>\n",
              "      <td>Livraison standard</td>\n",
              "      <td>3</td>\n",
              "      <td>0</td>\n",
              "      <td>29</td>\n",
              "      <td>50</td>\n",
              "      <td>NaN</td>\n",
              "      <td>NaN</td>\n",
              "      <td>CN</td>\n",
              "      <td>modai</td>\n",
              "      <td>modai</td>\n",
              "      <td>77 % avis positifs (31 notes)</td>\n",
              "      <td>31</td>\n",
              "      <td>3.774194</td>\n",
              "      <td>5d56b32c40defd78043d5af9</td>\n",
              "      <td>0</td>\n",
              "      <td>NaN</td>\n",
              "      <td>https://www.wish.com/c/5eda07ab0e295c2097c36590</td>\n",
              "      <td>https://contestimg.wish.com/api/webimage/5eda0...</td>\n",
              "      <td>5eda07ab0e295c2097c36590</td>\n",
              "      <td>summer</td>\n",
              "      <td>2020-08</td>\n",
              "    </tr>\n",
              "    <tr>\n",
              "      <th>1572</th>\n",
              "      <td>Pantalon de yoga pour femmes à la mode Slim Fi...</td>\n",
              "      <td>Fashion Women Yoga Pants Slim Fit Fitness Runn...</td>\n",
              "      <td>7.0</td>\n",
              "      <td>6</td>\n",
              "      <td>EUR</td>\n",
              "      <td>100</td>\n",
              "      <td>1</td>\n",
              "      <td>4.07</td>\n",
              "      <td>14</td>\n",
              "      <td>8.0</td>\n",
              "      <td>3.0</td>\n",
              "      <td>1.0</td>\n",
              "      <td>0.0</td>\n",
              "      <td>2.0</td>\n",
              "      <td>0</td>\n",
              "      <td>0</td>\n",
              "      <td>0</td>\n",
              "      <td>0</td>\n",
              "      <td>Summer,Leggings,slim,Yoga,pants,Slim Fit,Women...</td>\n",
              "      <td>red</td>\n",
              "      <td>S</td>\n",
              "      <td>50</td>\n",
              "      <td>Livraison standard</td>\n",
              "      <td>2</td>\n",
              "      <td>0</td>\n",
              "      <td>41</td>\n",
              "      <td>50</td>\n",
              "      <td>NaN</td>\n",
              "      <td>NaN</td>\n",
              "      <td>CN</td>\n",
              "      <td>AISHOPPINGMALL</td>\n",
              "      <td>aishoppingmall</td>\n",
              "      <td>90 % avis positifs (7,023 notes)</td>\n",
              "      <td>7023</td>\n",
              "      <td>4.235939</td>\n",
              "      <td>5a409cf87b584e7951b2e25f</td>\n",
              "      <td>0</td>\n",
              "      <td>NaN</td>\n",
              "      <td>https://www.wish.com/c/5e857321f53c3d2d8f25e7ed</td>\n",
              "      <td>https://contestimg.wish.com/api/webimage/5e857...</td>\n",
              "      <td>5e857321f53c3d2d8f25e7ed</td>\n",
              "      <td>summer</td>\n",
              "      <td>2020-08</td>\n",
              "    </tr>\n",
              "  </tbody>\n",
              "</table>\n",
              "</div>"
            ],
            "text/plain": [
              "                                                  title  ... crawl_month\n",
              "1568  Nouvelle Mode Femmes Bohême Pissenlit Imprimer...  ...     2020-08\n",
              "1569  10 couleurs femmes shorts d'été lacent ceintur...  ...     2020-08\n",
              "1570  Nouveautés Hommes Siwmwear Beach-Shorts Hommes...  ...     2020-08\n",
              "1571  Mode femmes d'été sans manches robes col en V ...  ...     2020-08\n",
              "1572  Pantalon de yoga pour femmes à la mode Slim Fi...  ...     2020-08\n",
              "\n",
              "[5 rows x 43 columns]"
            ]
          },
          "metadata": {},
          "execution_count": 5
        }
      ]
    },
    {
      "cell_type": "markdown",
      "metadata": {
        "id": "kUXlMAln8bUG"
      },
      "source": [
        "Para observar las columnas que conforman la base de datos, se puede hacer uso del atributo columns, el cual regresa los nombres de las columnas."
      ]
    },
    {
      "cell_type": "code",
      "metadata": {
        "colab": {
          "base_uri": "https://localhost:8080/"
        },
        "id": "8TKYt80v8em4",
        "outputId": "11e36d01-5dc8-4bb8-b728-ae9a00f8878d"
      },
      "source": [
        "bd.columns #enseña las columnas que conforman la base de datos"
      ],
      "execution_count": 6,
      "outputs": [
        {
          "output_type": "execute_result",
          "data": {
            "text/plain": [
              "Index(['title', 'title_orig', 'price', 'retail_price', 'currency_buyer',\n",
              "       'units_sold', 'uses_ad_boosts', 'rating', 'rating_count',\n",
              "       'rating_five_count', 'rating_four_count', 'rating_three_count',\n",
              "       'rating_two_count', 'rating_one_count', 'badges_count',\n",
              "       'badge_local_product', 'badge_product_quality', 'badge_fast_shipping',\n",
              "       'tags', 'product_color', 'product_variation_size_id',\n",
              "       'product_variation_inventory', 'shipping_option_name',\n",
              "       'shipping_option_price', 'shipping_is_express', 'countries_shipped_to',\n",
              "       'inventory_total', 'has_urgency_banner', 'urgency_text',\n",
              "       'origin_country', 'merchant_title', 'merchant_name',\n",
              "       'merchant_info_subtitle', 'merchant_rating_count', 'merchant_rating',\n",
              "       'merchant_id', 'merchant_has_profile_picture',\n",
              "       'merchant_profile_picture', 'product_url', 'product_picture',\n",
              "       'product_id', 'theme', 'crawl_month'],\n",
              "      dtype='object')"
            ]
          },
          "metadata": {},
          "execution_count": 6
        }
      ]
    },
    {
      "cell_type": "markdown",
      "metadata": {
        "id": "1VyzT66M8nhV"
      },
      "source": [
        "Para saber el tipo de dato de cada columna, se puede hacer uso del atributo dtypes."
      ]
    },
    {
      "cell_type": "code",
      "metadata": {
        "colab": {
          "base_uri": "https://localhost:8080/"
        },
        "id": "gOp8G_OU8isw",
        "outputId": "3dac71d5-4035-45b6-b2a3-235e6ee807fc"
      },
      "source": [
        "bd.dtypes"
      ],
      "execution_count": 7,
      "outputs": [
        {
          "output_type": "execute_result",
          "data": {
            "text/plain": [
              "title                            object\n",
              "title_orig                       object\n",
              "price                           float64\n",
              "retail_price                      int64\n",
              "currency_buyer                   object\n",
              "units_sold                        int64\n",
              "uses_ad_boosts                    int64\n",
              "rating                          float64\n",
              "rating_count                      int64\n",
              "rating_five_count               float64\n",
              "rating_four_count               float64\n",
              "rating_three_count              float64\n",
              "rating_two_count                float64\n",
              "rating_one_count                float64\n",
              "badges_count                      int64\n",
              "badge_local_product               int64\n",
              "badge_product_quality             int64\n",
              "badge_fast_shipping               int64\n",
              "tags                             object\n",
              "product_color                    object\n",
              "product_variation_size_id        object\n",
              "product_variation_inventory       int64\n",
              "shipping_option_name             object\n",
              "shipping_option_price             int64\n",
              "shipping_is_express               int64\n",
              "countries_shipped_to              int64\n",
              "inventory_total                   int64\n",
              "has_urgency_banner              float64\n",
              "urgency_text                     object\n",
              "origin_country                   object\n",
              "merchant_title                   object\n",
              "merchant_name                    object\n",
              "merchant_info_subtitle           object\n",
              "merchant_rating_count             int64\n",
              "merchant_rating                 float64\n",
              "merchant_id                      object\n",
              "merchant_has_profile_picture      int64\n",
              "merchant_profile_picture         object\n",
              "product_url                      object\n",
              "product_picture                  object\n",
              "product_id                       object\n",
              "theme                            object\n",
              "crawl_month                      object\n",
              "dtype: object"
            ]
          },
          "metadata": {},
          "execution_count": 7
        }
      ]
    },
    {
      "cell_type": "markdown",
      "metadata": {
        "id": "JoE3JD1DUhrm"
      },
      "source": [
        "Una parte importante de trabajar bases de datos es la identificación de datos nulos. Las siguientes líneas de código ejemplifican este proceso."
      ]
    },
    {
      "cell_type": "code",
      "metadata": {
        "colab": {
          "base_uri": "https://localhost:8080/"
        },
        "id": "KrfZzGmaUmXB",
        "outputId": "ca72a099-296d-4e39-8fdc-a99669efceca"
      },
      "source": [
        "bd.isnull().sum() #devuleve la lista de columnas y la cantidad de datos nulos por columna"
      ],
      "execution_count": 8,
      "outputs": [
        {
          "output_type": "execute_result",
          "data": {
            "text/plain": [
              "title                              0\n",
              "title_orig                         0\n",
              "price                              0\n",
              "retail_price                       0\n",
              "currency_buyer                     0\n",
              "units_sold                         0\n",
              "uses_ad_boosts                     0\n",
              "rating                             0\n",
              "rating_count                       0\n",
              "rating_five_count                 45\n",
              "rating_four_count                 45\n",
              "rating_three_count                45\n",
              "rating_two_count                  45\n",
              "rating_one_count                  45\n",
              "badges_count                       0\n",
              "badge_local_product                0\n",
              "badge_product_quality              0\n",
              "badge_fast_shipping                0\n",
              "tags                               0\n",
              "product_color                     41\n",
              "product_variation_size_id         14\n",
              "product_variation_inventory        0\n",
              "shipping_option_name               0\n",
              "shipping_option_price              0\n",
              "shipping_is_express                0\n",
              "countries_shipped_to               0\n",
              "inventory_total                    0\n",
              "has_urgency_banner              1100\n",
              "urgency_text                    1100\n",
              "origin_country                    17\n",
              "merchant_title                     0\n",
              "merchant_name                      4\n",
              "merchant_info_subtitle             1\n",
              "merchant_rating_count              0\n",
              "merchant_rating                    0\n",
              "merchant_id                        0\n",
              "merchant_has_profile_picture       0\n",
              "merchant_profile_picture        1347\n",
              "product_url                        0\n",
              "product_picture                    0\n",
              "product_id                         0\n",
              "theme                              0\n",
              "crawl_month                        0\n",
              "dtype: int64"
            ]
          },
          "metadata": {},
          "execution_count": 8
        }
      ]
    },
    {
      "cell_type": "markdown",
      "metadata": {
        "id": "1qxr-PNhVCcy"
      },
      "source": [
        "A continuación, se eliminan las columnas que contienen datos nulos, ya que no son necesarias para lo que se quiere analizar."
      ]
    },
    {
      "cell_type": "code",
      "metadata": {
        "id": "u1VajnxKWIEj"
      },
      "source": [
        "bd.drop([\"rating_five_count\",\"rating_four_count\",\"rating_three_count\",\"rating_two_count\",\"rating_one_count\",\n",
        "         \"product_color\",\"product_variation_size_id\",\"has_urgency_banner\",\"urgency_text\",\"origin_country\",\n",
        "         \"merchant_profile_picture\",\"merchant_name\",\"merchant_info_subtitle\"],axis=1,inplace=True)"
      ],
      "execution_count": 9,
      "outputs": []
    },
    {
      "cell_type": "markdown",
      "metadata": {
        "id": "D9QsgvA-Y9oz"
      },
      "source": [
        "Después, se eliminan todas aquellas columnas que no son necesarias para nuestros objetivos."
      ]
    },
    {
      "cell_type": "code",
      "metadata": {
        "id": "DzhRc6DxYHBR"
      },
      "source": [
        "bd.drop(['title','title_orig','currency_buyer','uses_ad_boosts','rating_count','badges_count','badge_local_product','badge_product_quality',\n",
        "       'badge_fast_shipping','tags','product_variation_inventory','shipping_option_name','shipping_is_express','countries_shipped_to',\n",
        "       'inventory_total','merchant_title','merchant_rating_count','merchant_rating','merchant_id','merchant_has_profile_picture','product_url',\n",
        "       'product_picture','theme','crawl_month'],axis=1,inplace=True)"
      ],
      "execution_count": 10,
      "outputs": []
    },
    {
      "cell_type": "markdown",
      "metadata": {
        "id": "err8Y7KzZixy"
      },
      "source": [
        "\n",
        "En la siguiente línea de código se cambian el nombre de las columnas de la base de datos, con uso del atributo rename."
      ]
    },
    {
      "cell_type": "code",
      "metadata": {
        "id": "YotwXeFtZoSB"
      },
      "source": [
        "bd.rename(columns={'price':'Precio_wish','retail_price':'Precio_externo','units_sold':'No._de_ventas',\n",
        "                   'shipping_option_price':'Precio_envio','product_id':'Id_producto'},inplace=True) #con el inplace se hace el cambio \"permanente\"\n",
        "\n",
        "#https://stackoverflow.com/questions/11346283/renaming-column-names-in-pandas"
      ],
      "execution_count": 11,
      "outputs": []
    },
    {
      "cell_type": "code",
      "metadata": {
        "colab": {
          "base_uri": "https://localhost:8080/",
          "height": 203
        },
        "id": "RPA3bBa8ZqUi",
        "outputId": "0d677945-589a-4cd1-8951-c0227ba3a785"
      },
      "source": [
        "bd.head()"
      ],
      "execution_count": 12,
      "outputs": [
        {
          "output_type": "execute_result",
          "data": {
            "text/html": [
              "<div>\n",
              "<style scoped>\n",
              "    .dataframe tbody tr th:only-of-type {\n",
              "        vertical-align: middle;\n",
              "    }\n",
              "\n",
              "    .dataframe tbody tr th {\n",
              "        vertical-align: top;\n",
              "    }\n",
              "\n",
              "    .dataframe thead th {\n",
              "        text-align: right;\n",
              "    }\n",
              "</style>\n",
              "<table border=\"1\" class=\"dataframe\">\n",
              "  <thead>\n",
              "    <tr style=\"text-align: right;\">\n",
              "      <th></th>\n",
              "      <th>Precio_wish</th>\n",
              "      <th>Precio_externo</th>\n",
              "      <th>No._de_ventas</th>\n",
              "      <th>rating</th>\n",
              "      <th>Precio_envio</th>\n",
              "      <th>Id_producto</th>\n",
              "    </tr>\n",
              "  </thead>\n",
              "  <tbody>\n",
              "    <tr>\n",
              "      <th>0</th>\n",
              "      <td>16.00</td>\n",
              "      <td>14</td>\n",
              "      <td>100</td>\n",
              "      <td>3.76</td>\n",
              "      <td>4</td>\n",
              "      <td>5e9ae51d43d6a96e303acdb0</td>\n",
              "    </tr>\n",
              "    <tr>\n",
              "      <th>1</th>\n",
              "      <td>8.00</td>\n",
              "      <td>22</td>\n",
              "      <td>20000</td>\n",
              "      <td>3.45</td>\n",
              "      <td>2</td>\n",
              "      <td>58940d436a0d3d5da4e95a38</td>\n",
              "    </tr>\n",
              "    <tr>\n",
              "      <th>2</th>\n",
              "      <td>8.00</td>\n",
              "      <td>43</td>\n",
              "      <td>100</td>\n",
              "      <td>3.57</td>\n",
              "      <td>3</td>\n",
              "      <td>5ea10e2c617580260d55310a</td>\n",
              "    </tr>\n",
              "    <tr>\n",
              "      <th>3</th>\n",
              "      <td>8.00</td>\n",
              "      <td>8</td>\n",
              "      <td>5000</td>\n",
              "      <td>4.03</td>\n",
              "      <td>2</td>\n",
              "      <td>5cedf17ad1d44c52c59e4aca</td>\n",
              "    </tr>\n",
              "    <tr>\n",
              "      <th>4</th>\n",
              "      <td>2.72</td>\n",
              "      <td>3</td>\n",
              "      <td>100</td>\n",
              "      <td>3.10</td>\n",
              "      <td>1</td>\n",
              "      <td>5ebf5819ebac372b070b0e70</td>\n",
              "    </tr>\n",
              "  </tbody>\n",
              "</table>\n",
              "</div>"
            ],
            "text/plain": [
              "   Precio_wish  Precio_externo  ...  Precio_envio               Id_producto\n",
              "0        16.00              14  ...             4  5e9ae51d43d6a96e303acdb0\n",
              "1         8.00              22  ...             2  58940d436a0d3d5da4e95a38\n",
              "2         8.00              43  ...             3  5ea10e2c617580260d55310a\n",
              "3         8.00               8  ...             2  5cedf17ad1d44c52c59e4aca\n",
              "4         2.72               3  ...             1  5ebf5819ebac372b070b0e70\n",
              "\n",
              "[5 rows x 6 columns]"
            ]
          },
          "metadata": {},
          "execution_count": 12
        }
      ]
    },
    {
      "cell_type": "markdown",
      "metadata": {
        "id": "ECyf_jj_d86i"
      },
      "source": [
        "Se creó una nueva columna en la cual se calcula la diferencia entre los valores de la columna Precio_wish con los de Precio_externo."
      ]
    },
    {
      "cell_type": "code",
      "metadata": {
        "id": "2eTnOhbtcnoU"
      },
      "source": [
        "bd[\"Diferencia\"]=bd.Precio_wish-bd.Precio_externo"
      ],
      "execution_count": 13,
      "outputs": []
    },
    {
      "cell_type": "markdown",
      "metadata": {
        "id": "dhstEfF_fWpN"
      },
      "source": [
        "Se ordenaron las columnas de la base de datos para una mejor visualización. "
      ]
    },
    {
      "cell_type": "code",
      "metadata": {
        "colab": {
          "base_uri": "https://localhost:8080/",
          "height": 417
        },
        "id": "1lAfk7m7dVsO",
        "outputId": "e715c963-9c96-41a6-d8de-85fac28d1691"
      },
      "source": [
        "bd[[\"Id_producto\",\"Precio_wish\",\"Precio_externo\",\"Diferencia\",\"No._de_ventas\",\"rating\",\"Precio_envio\"]]"
      ],
      "execution_count": 14,
      "outputs": [
        {
          "output_type": "execute_result",
          "data": {
            "text/html": [
              "<div>\n",
              "<style scoped>\n",
              "    .dataframe tbody tr th:only-of-type {\n",
              "        vertical-align: middle;\n",
              "    }\n",
              "\n",
              "    .dataframe tbody tr th {\n",
              "        vertical-align: top;\n",
              "    }\n",
              "\n",
              "    .dataframe thead th {\n",
              "        text-align: right;\n",
              "    }\n",
              "</style>\n",
              "<table border=\"1\" class=\"dataframe\">\n",
              "  <thead>\n",
              "    <tr style=\"text-align: right;\">\n",
              "      <th></th>\n",
              "      <th>Id_producto</th>\n",
              "      <th>Precio_wish</th>\n",
              "      <th>Precio_externo</th>\n",
              "      <th>Diferencia</th>\n",
              "      <th>No._de_ventas</th>\n",
              "      <th>rating</th>\n",
              "      <th>Precio_envio</th>\n",
              "    </tr>\n",
              "  </thead>\n",
              "  <tbody>\n",
              "    <tr>\n",
              "      <th>0</th>\n",
              "      <td>5e9ae51d43d6a96e303acdb0</td>\n",
              "      <td>16.00</td>\n",
              "      <td>14</td>\n",
              "      <td>2.00</td>\n",
              "      <td>100</td>\n",
              "      <td>3.76</td>\n",
              "      <td>4</td>\n",
              "    </tr>\n",
              "    <tr>\n",
              "      <th>1</th>\n",
              "      <td>58940d436a0d3d5da4e95a38</td>\n",
              "      <td>8.00</td>\n",
              "      <td>22</td>\n",
              "      <td>-14.00</td>\n",
              "      <td>20000</td>\n",
              "      <td>3.45</td>\n",
              "      <td>2</td>\n",
              "    </tr>\n",
              "    <tr>\n",
              "      <th>2</th>\n",
              "      <td>5ea10e2c617580260d55310a</td>\n",
              "      <td>8.00</td>\n",
              "      <td>43</td>\n",
              "      <td>-35.00</td>\n",
              "      <td>100</td>\n",
              "      <td>3.57</td>\n",
              "      <td>3</td>\n",
              "    </tr>\n",
              "    <tr>\n",
              "      <th>3</th>\n",
              "      <td>5cedf17ad1d44c52c59e4aca</td>\n",
              "      <td>8.00</td>\n",
              "      <td>8</td>\n",
              "      <td>0.00</td>\n",
              "      <td>5000</td>\n",
              "      <td>4.03</td>\n",
              "      <td>2</td>\n",
              "    </tr>\n",
              "    <tr>\n",
              "      <th>4</th>\n",
              "      <td>5ebf5819ebac372b070b0e70</td>\n",
              "      <td>2.72</td>\n",
              "      <td>3</td>\n",
              "      <td>-0.28</td>\n",
              "      <td>100</td>\n",
              "      <td>3.10</td>\n",
              "      <td>1</td>\n",
              "    </tr>\n",
              "    <tr>\n",
              "      <th>...</th>\n",
              "      <td>...</td>\n",
              "      <td>...</td>\n",
              "      <td>...</td>\n",
              "      <td>...</td>\n",
              "      <td>...</td>\n",
              "      <td>...</td>\n",
              "      <td>...</td>\n",
              "    </tr>\n",
              "    <tr>\n",
              "      <th>1568</th>\n",
              "      <td>5d5fadc99febd9356cbc52ee</td>\n",
              "      <td>6.00</td>\n",
              "      <td>9</td>\n",
              "      <td>-3.00</td>\n",
              "      <td>10000</td>\n",
              "      <td>4.08</td>\n",
              "      <td>2</td>\n",
              "    </tr>\n",
              "    <tr>\n",
              "      <th>1569</th>\n",
              "      <td>5eccd22b4497b86fd48f16b4</td>\n",
              "      <td>2.00</td>\n",
              "      <td>56</td>\n",
              "      <td>-54.00</td>\n",
              "      <td>100</td>\n",
              "      <td>3.07</td>\n",
              "      <td>1</td>\n",
              "    </tr>\n",
              "    <tr>\n",
              "      <th>1570</th>\n",
              "      <td>5e74be96034d613d42b52dfe</td>\n",
              "      <td>5.00</td>\n",
              "      <td>19</td>\n",
              "      <td>-14.00</td>\n",
              "      <td>100</td>\n",
              "      <td>3.71</td>\n",
              "      <td>2</td>\n",
              "    </tr>\n",
              "    <tr>\n",
              "      <th>1571</th>\n",
              "      <td>5eda07ab0e295c2097c36590</td>\n",
              "      <td>13.00</td>\n",
              "      <td>11</td>\n",
              "      <td>2.00</td>\n",
              "      <td>100</td>\n",
              "      <td>2.50</td>\n",
              "      <td>3</td>\n",
              "    </tr>\n",
              "    <tr>\n",
              "      <th>1572</th>\n",
              "      <td>5e857321f53c3d2d8f25e7ed</td>\n",
              "      <td>7.00</td>\n",
              "      <td>6</td>\n",
              "      <td>1.00</td>\n",
              "      <td>100</td>\n",
              "      <td>4.07</td>\n",
              "      <td>2</td>\n",
              "    </tr>\n",
              "  </tbody>\n",
              "</table>\n",
              "<p>1573 rows × 7 columns</p>\n",
              "</div>"
            ],
            "text/plain": [
              "                   Id_producto  Precio_wish  ...  rating  Precio_envio\n",
              "0     5e9ae51d43d6a96e303acdb0        16.00  ...    3.76             4\n",
              "1     58940d436a0d3d5da4e95a38         8.00  ...    3.45             2\n",
              "2     5ea10e2c617580260d55310a         8.00  ...    3.57             3\n",
              "3     5cedf17ad1d44c52c59e4aca         8.00  ...    4.03             2\n",
              "4     5ebf5819ebac372b070b0e70         2.72  ...    3.10             1\n",
              "...                        ...          ...  ...     ...           ...\n",
              "1568  5d5fadc99febd9356cbc52ee         6.00  ...    4.08             2\n",
              "1569  5eccd22b4497b86fd48f16b4         2.00  ...    3.07             1\n",
              "1570  5e74be96034d613d42b52dfe         5.00  ...    3.71             2\n",
              "1571  5eda07ab0e295c2097c36590        13.00  ...    2.50             3\n",
              "1572  5e857321f53c3d2d8f25e7ed         7.00  ...    4.07             2\n",
              "\n",
              "[1573 rows x 7 columns]"
            ]
          },
          "metadata": {},
          "execution_count": 14
        }
      ]
    },
    {
      "cell_type": "markdown",
      "metadata": {
        "id": "o3mVhbd-eX2N"
      },
      "source": [
        "Se agruparon las columnas de Precio_wish y No_de_ventas en una nueva base de datos, la cuál se guardó en una archivo csv."
      ]
    },
    {
      "cell_type": "code",
      "metadata": {
        "id": "ieh0EaM6ebJ2"
      },
      "source": [
        "y=bd[[\"Precio_wish\",\"No._de_ventas\"]]\n",
        "y.to_csv('Reporte_ventas.csv',index=True)"
      ],
      "execution_count": 15,
      "outputs": []
    },
    {
      "cell_type": "code",
      "metadata": {
        "colab": {
          "base_uri": "https://localhost:8080/",
          "height": 203
        },
        "id": "f_6IYux_gPT6",
        "outputId": "29b6390c-deba-4e2c-b576-a0ffd7d5133f"
      },
      "source": [
        "y.head() #analizando como queda la base de datos después del filtro"
      ],
      "execution_count": 16,
      "outputs": [
        {
          "output_type": "execute_result",
          "data": {
            "text/html": [
              "<div>\n",
              "<style scoped>\n",
              "    .dataframe tbody tr th:only-of-type {\n",
              "        vertical-align: middle;\n",
              "    }\n",
              "\n",
              "    .dataframe tbody tr th {\n",
              "        vertical-align: top;\n",
              "    }\n",
              "\n",
              "    .dataframe thead th {\n",
              "        text-align: right;\n",
              "    }\n",
              "</style>\n",
              "<table border=\"1\" class=\"dataframe\">\n",
              "  <thead>\n",
              "    <tr style=\"text-align: right;\">\n",
              "      <th></th>\n",
              "      <th>Precio_wish</th>\n",
              "      <th>No._de_ventas</th>\n",
              "    </tr>\n",
              "  </thead>\n",
              "  <tbody>\n",
              "    <tr>\n",
              "      <th>0</th>\n",
              "      <td>16.00</td>\n",
              "      <td>100</td>\n",
              "    </tr>\n",
              "    <tr>\n",
              "      <th>1</th>\n",
              "      <td>8.00</td>\n",
              "      <td>20000</td>\n",
              "    </tr>\n",
              "    <tr>\n",
              "      <th>2</th>\n",
              "      <td>8.00</td>\n",
              "      <td>100</td>\n",
              "    </tr>\n",
              "    <tr>\n",
              "      <th>3</th>\n",
              "      <td>8.00</td>\n",
              "      <td>5000</td>\n",
              "    </tr>\n",
              "    <tr>\n",
              "      <th>4</th>\n",
              "      <td>2.72</td>\n",
              "      <td>100</td>\n",
              "    </tr>\n",
              "  </tbody>\n",
              "</table>\n",
              "</div>"
            ],
            "text/plain": [
              "   Precio_wish  No._de_ventas\n",
              "0        16.00            100\n",
              "1         8.00          20000\n",
              "2         8.00            100\n",
              "3         8.00           5000\n",
              "4         2.72            100"
            ]
          },
          "metadata": {},
          "execution_count": 16
        }
      ]
    },
    {
      "cell_type": "markdown",
      "metadata": {
        "id": "kaZudg9TcXTv"
      },
      "source": [
        "# **Amazon Best Seller June 2021 Products**\n",
        "https://www.kaggle.com/hussainaliarif/amazon-best-seller-june-2021-products"
      ]
    },
    {
      "cell_type": "markdown",
      "metadata": {
        "id": "C6xrNc2-LDuv"
      },
      "source": [
        "##**Introducción**"
      ]
    },
    {
      "cell_type": "markdown",
      "metadata": {
        "id": "-69y9Asq9Azh"
      },
      "source": [
        "\n",
        "Amazon.com Inc. fue fundada en 1994, es una empresa de venta por correo de comercio electrónico estadounidense que ofrece una amplia gama de productos, incluyendo libros, música, películas, y computadoras. Las operaciones de Amazon se dividen en tres segmentos de negocio: Norteamérica, Internacional y Amazon Web Services (AWS); donde permite a cada cliente una experiencia de compra personalizada como la \"lista de deseos\" la cual facilita la navegación por la gama de productos y, por tanto, ayudan a la decisión de compra.\n",
        "\n",
        "Esta empresa fue beneficiada por la pandemia, debido a que muchos usuarios empezaron a comprar más en linea a causa de las restricciones sanitarias.\n",
        "\n",
        "Que utilidad tiene una herramienta para procesar los datos: las empresas tienen requisitos exigentes desde el momento en que se generan los datos hasta el momento en que se entrega información procesable a los usuarios. Por lo tanto, es necesario recopilar, almacenar, procesar y analizar los datos en periodos relativamente cortos. De lo contrario, pueden existir problemas en la reducción de la productividad y competitividad."
      ]
    },
    {
      "cell_type": "markdown",
      "metadata": {
        "id": "Rw927DKdJ1uI"
      },
      "source": [
        "##**Descripción de los datos**"
      ]
    },
    {
      "cell_type": "markdown",
      "metadata": {
        "id": "-Pe7VHw4ClDO"
      },
      "source": [
        "a) ¿Qué tipo de datos son?\n",
        "\n",
        "La base de datos incluye información de registros originados de la pagina web\n",
        "sobre las preferencias que los usuarios tienen de los productos agrupados por categorías como\n",
        "electrónica, videojuegos, fotografía, tarjetas de regalo y productos básicos como ropa,\n",
        "zapatos y joyería; donde se muestra el top 100 de los productos por cada una de ellas en\n",
        "Amazon durante el periodo de Junio 2021.\n",
        "\n",
        "b) Descripción de las columnas\n",
        "\n",
        "El conjunto de datos cuenta con 5,656 datos dividido en 8 columnas con 707 filas donde podemos  encontrar diferentes tipos de datos recolectados del registro de la venta mensual de la plataforma: \n",
        "* Código de producto (string)\n",
        "* Link del producto (url)\n",
        "* Categoría (string)\n",
        "* Número de vendedores (string)\n",
        "* Posición en el top 100 (string)\n",
        "* Rating (numérico)\n",
        "* Número de reseñas (numérico)\n",
        "* Precio (string)"
      ]
    },
    {
      "cell_type": "markdown",
      "metadata": {
        "id": "3Ag-g7xAGurx"
      },
      "source": [
        "## **Justificación del uso de datos**\n",
        "\n"
      ]
    },
    {
      "cell_type": "markdown",
      "metadata": {
        "id": "vUb-VcfDG67F"
      },
      "source": [
        "La base de datos viene ordenada de una manera muy práctica y sin datos nulos, lo cual nos permite hacer un análisis con mayor facilidad. Una característica importante es que cuenta con datos recientes de interés público de una empresa con gran crecimiento en los últimos años. Nos gustaría saber si existe una relación entre el número de vendedores y el precio o el número de vendedores y la categoría.  "
      ]
    },
    {
      "cell_type": "markdown",
      "metadata": {
        "id": "UyzlYtuqNEva"
      },
      "source": [
        "## **Objetivos**"
      ]
    },
    {
      "cell_type": "markdown",
      "metadata": {
        "id": "ENEMaSNzNOXs"
      },
      "source": [
        "Analizar si existe un mercado oligopolio por categoría.\n",
        "\n",
        "--Observar la relación entre el precio y el número de vendedores"
      ]
    },
    {
      "cell_type": "markdown",
      "metadata": {
        "id": "UGVLO8dhWkug"
      },
      "source": [
        "## **Preguntas de interés**"
      ]
    },
    {
      "cell_type": "markdown",
      "metadata": {
        "id": "iJBFyLFJWsBV"
      },
      "source": [
        "\n",
        "\n",
        "*   ¿Hay más productos caros o baratos?\n",
        "*   ¿Destaca más un mercado oligopolio o un mercado monopolio?\n",
        "\n",
        "\n",
        "\n"
      ]
    },
    {
      "cell_type": "markdown",
      "metadata": {
        "id": "McGlEgnESpax"
      },
      "source": [
        "## **Programación**"
      ]
    },
    {
      "cell_type": "markdown",
      "metadata": {
        "id": "mRfNvw4KMywp"
      },
      "source": [
        "El primer paso es importar las librerías que se usarán en el proceso."
      ]
    },
    {
      "cell_type": "code",
      "metadata": {
        "id": "WnWqQHcwFoph"
      },
      "source": [
        "import pandas as pd\n",
        "import numpy as np"
      ],
      "execution_count": 17,
      "outputs": []
    },
    {
      "cell_type": "markdown",
      "metadata": {
        "id": "iecKv_xqNF2n"
      },
      "source": [
        "Se carga la base de datos csv a archivos, para después llamarla y almacenarla en una variable."
      ]
    },
    {
      "cell_type": "code",
      "metadata": {
        "id": "ngA5WFCHF4_f"
      },
      "source": [
        "bd=pd.read_csv('/content/Amazon_Best_Seller_2021_June.csv') #se manda llamar la base de datos original"
      ],
      "execution_count": 18,
      "outputs": []
    },
    {
      "cell_type": "markdown",
      "metadata": {
        "id": "gZVVycvnNfbg"
      },
      "source": [
        "Después de analizar la base de datos cargada, para verificar que no hayan existido problemas al momento de llamarla."
      ]
    },
    {
      "cell_type": "markdown",
      "metadata": {
        "id": "uDN1D58iNx6L"
      },
      "source": [
        "Con la función shape se puede observar el número de filas y columnas de la base de datos."
      ]
    },
    {
      "cell_type": "code",
      "metadata": {
        "id": "KUW-qfgdaLOG",
        "colab": {
          "base_uri": "https://localhost:8080/"
        },
        "outputId": "68dbd1c6-dcda-461b-e8e4-8b258eefcb26"
      },
      "source": [
        "bd.shape #regresa filas, columnas"
      ],
      "execution_count": 19,
      "outputs": [
        {
          "output_type": "execute_result",
          "data": {
            "text/plain": [
              "(707, 8)"
            ]
          },
          "metadata": {},
          "execution_count": 19
        }
      ]
    },
    {
      "cell_type": "markdown",
      "metadata": {
        "id": "WUmu-4rmOhFf"
      },
      "source": [
        "Para ver como se forma la base de datos, las propiedades head y tail permiten mostrar las primeras 5 filas y las últimas 5 filas de la base de datos, respectivamente.\n",
        "\n"
      ]
    },
    {
      "cell_type": "code",
      "metadata": {
        "id": "5r1sdRPVbCnO",
        "colab": {
          "base_uri": "https://localhost:8080/",
          "height": 203
        },
        "outputId": "607f596d-d577-46e4-d342-9c69971d7da5"
      },
      "source": [
        "bd.head() #enseña las primeras 5 filas"
      ],
      "execution_count": 20,
      "outputs": [
        {
          "output_type": "execute_result",
          "data": {
            "text/html": [
              "<div>\n",
              "<style scoped>\n",
              "    .dataframe tbody tr th:only-of-type {\n",
              "        vertical-align: middle;\n",
              "    }\n",
              "\n",
              "    .dataframe tbody tr th {\n",
              "        vertical-align: top;\n",
              "    }\n",
              "\n",
              "    .dataframe thead th {\n",
              "        text-align: right;\n",
              "    }\n",
              "</style>\n",
              "<table border=\"1\" class=\"dataframe\">\n",
              "  <thead>\n",
              "    <tr style=\"text-align: right;\">\n",
              "      <th></th>\n",
              "      <th>ASIN</th>\n",
              "      <th>Category</th>\n",
              "      <th>Product Link</th>\n",
              "      <th>No of Sellers</th>\n",
              "      <th>Rank</th>\n",
              "      <th>Rating</th>\n",
              "      <th>Reviews Count</th>\n",
              "      <th>Price</th>\n",
              "    </tr>\n",
              "  </thead>\n",
              "  <tbody>\n",
              "    <tr>\n",
              "      <th>0</th>\n",
              "      <td>B079QHML21</td>\n",
              "      <td>Electronics</td>\n",
              "      <td>https://www.amazon.com/gp/offer-listing/B079QH...</td>\n",
              "      <td>1 Sellers</td>\n",
              "      <td>#1</td>\n",
              "      <td>4.7</td>\n",
              "      <td>640,721</td>\n",
              "      <td>$39.99</td>\n",
              "    </tr>\n",
              "    <tr>\n",
              "      <th>1</th>\n",
              "      <td>B07FZ8S74R</td>\n",
              "      <td>Electronics</td>\n",
              "      <td>https://www.amazon.com/gp/offer-listing/B07FZ8...</td>\n",
              "      <td>1 Sellers</td>\n",
              "      <td>#2</td>\n",
              "      <td>4.7</td>\n",
              "      <td>854,114</td>\n",
              "      <td>$34.99</td>\n",
              "    </tr>\n",
              "    <tr>\n",
              "      <th>2</th>\n",
              "      <td>B07XJ8C8F5</td>\n",
              "      <td>Electronics</td>\n",
              "      <td>https://www.amazon.com/gp/offer-listing/B07XJ8...</td>\n",
              "      <td>1 Sellers</td>\n",
              "      <td>#3</td>\n",
              "      <td>4.7</td>\n",
              "      <td>267,821</td>\n",
              "      <td>$44.99</td>\n",
              "    </tr>\n",
              "    <tr>\n",
              "      <th>3</th>\n",
              "      <td>B07WVFCVJN</td>\n",
              "      <td>Electronics</td>\n",
              "      <td>https://www.amazon.com/gp/offer-listing/B07WVF...</td>\n",
              "      <td>27 Sellers</td>\n",
              "      <td>#4</td>\n",
              "      <td>4.8</td>\n",
              "      <td>114,267</td>\n",
              "      <td>$28.48</td>\n",
              "    </tr>\n",
              "    <tr>\n",
              "      <th>4</th>\n",
              "      <td>B08YT2N5SX</td>\n",
              "      <td>Electronics</td>\n",
              "      <td>https://www.amazon.com/gp/offer-listing/B08YT2...</td>\n",
              "      <td>1 Sellers</td>\n",
              "      <td>#5</td>\n",
              "      <td>4.7</td>\n",
              "      <td>267,821</td>\n",
              "      <td>$49.99</td>\n",
              "    </tr>\n",
              "  </tbody>\n",
              "</table>\n",
              "</div>"
            ],
            "text/plain": [
              "         ASIN     Category  ... Reviews Count    Price\n",
              "0  B079QHML21  Electronics  ...       640,721  $39.99 \n",
              "1  B07FZ8S74R  Electronics  ...       854,114  $34.99 \n",
              "2  B07XJ8C8F5  Electronics  ...       267,821  $44.99 \n",
              "3  B07WVFCVJN  Electronics  ...       114,267  $28.48 \n",
              "4  B08YT2N5SX  Electronics  ...       267,821  $49.99 \n",
              "\n",
              "[5 rows x 8 columns]"
            ]
          },
          "metadata": {},
          "execution_count": 20
        }
      ]
    },
    {
      "cell_type": "code",
      "metadata": {
        "id": "i2YPLi4Zbb-G",
        "colab": {
          "base_uri": "https://localhost:8080/",
          "height": 203
        },
        "outputId": "d1ba73e6-233e-4ce0-c98b-d6d973f7badc"
      },
      "source": [
        "bd.tail() #enseña las últimas 5 filas"
      ],
      "execution_count": 21,
      "outputs": [
        {
          "output_type": "execute_result",
          "data": {
            "text/html": [
              "<div>\n",
              "<style scoped>\n",
              "    .dataframe tbody tr th:only-of-type {\n",
              "        vertical-align: middle;\n",
              "    }\n",
              "\n",
              "    .dataframe tbody tr th {\n",
              "        vertical-align: top;\n",
              "    }\n",
              "\n",
              "    .dataframe thead th {\n",
              "        text-align: right;\n",
              "    }\n",
              "</style>\n",
              "<table border=\"1\" class=\"dataframe\">\n",
              "  <thead>\n",
              "    <tr style=\"text-align: right;\">\n",
              "      <th></th>\n",
              "      <th>ASIN</th>\n",
              "      <th>Category</th>\n",
              "      <th>Product Link</th>\n",
              "      <th>No of Sellers</th>\n",
              "      <th>Rank</th>\n",
              "      <th>Rating</th>\n",
              "      <th>Reviews Count</th>\n",
              "      <th>Price</th>\n",
              "    </tr>\n",
              "  </thead>\n",
              "  <tbody>\n",
              "    <tr>\n",
              "      <th>702</th>\n",
              "      <td>B007DW6F34</td>\n",
              "      <td>Toys &amp; Games</td>\n",
              "      <td>https://www.amazon.com/gp/offer-listing/B007DW...</td>\n",
              "      <td>10 Sellers</td>\n",
              "      <td>#95</td>\n",
              "      <td>4.6</td>\n",
              "      <td>8,795</td>\n",
              "      <td>$6.99</td>\n",
              "    </tr>\n",
              "    <tr>\n",
              "      <th>703</th>\n",
              "      <td>B01N16VX79</td>\n",
              "      <td>Toys &amp; Games</td>\n",
              "      <td>https://www.amazon.com/gp/offer-listing/B01N16...</td>\n",
              "      <td>5 Sellers</td>\n",
              "      <td>#96</td>\n",
              "      <td>4.7</td>\n",
              "      <td>649</td>\n",
              "      <td>$16.99</td>\n",
              "    </tr>\n",
              "    <tr>\n",
              "      <th>704</th>\n",
              "      <td>B09197N995</td>\n",
              "      <td>Toys &amp; Games</td>\n",
              "      <td>https://www.amazon.com/gp/offer-listing/B09197...</td>\n",
              "      <td>1 Sellers</td>\n",
              "      <td>#97</td>\n",
              "      <td>4.8</td>\n",
              "      <td>9,121</td>\n",
              "      <td>$8.99</td>\n",
              "    </tr>\n",
              "    <tr>\n",
              "      <th>705</th>\n",
              "      <td>B015CCR1FW</td>\n",
              "      <td>Toys &amp; Games</td>\n",
              "      <td>https://www.amazon.com/gp/offer-listing/B015CC...</td>\n",
              "      <td>26 Sellers</td>\n",
              "      <td>#98</td>\n",
              "      <td>4.7</td>\n",
              "      <td>18,449</td>\n",
              "      <td>$19.99</td>\n",
              "    </tr>\n",
              "    <tr>\n",
              "      <th>706</th>\n",
              "      <td>B07TS96J7Q</td>\n",
              "      <td>Toys &amp; Games</td>\n",
              "      <td>https://www.amazon.com/gp/offer-listing/B07TS9...</td>\n",
              "      <td>2 Sellers</td>\n",
              "      <td>#99</td>\n",
              "      <td>4.7</td>\n",
              "      <td>12,902</td>\n",
              "      <td>$24.99</td>\n",
              "    </tr>\n",
              "  </tbody>\n",
              "</table>\n",
              "</div>"
            ],
            "text/plain": [
              "           ASIN      Category  ... Reviews Count    Price\n",
              "702  B007DW6F34  Toys & Games  ...         8,795   $6.99 \n",
              "703  B01N16VX79  Toys & Games  ...           649  $16.99 \n",
              "704  B09197N995  Toys & Games  ...         9,121   $8.99 \n",
              "705  B015CCR1FW  Toys & Games  ...        18,449  $19.99 \n",
              "706  B07TS96J7Q  Toys & Games  ...        12,902  $24.99 \n",
              "\n",
              "[5 rows x 8 columns]"
            ]
          },
          "metadata": {},
          "execution_count": 21
        }
      ]
    },
    {
      "cell_type": "markdown",
      "metadata": {
        "id": "vC0r3L_tPmqf"
      },
      "source": [
        "Para observar las columnas que conforman la base de datos, se puede hacer uso del atributo columns, el cual regresa los nombres de las columnas y el atributo dtypes para saber el tipo de dato por columna."
      ]
    },
    {
      "cell_type": "code",
      "metadata": {
        "id": "Zyry2T0CbPG1",
        "colab": {
          "base_uri": "https://localhost:8080/"
        },
        "outputId": "b22c1ccf-8f49-49f6-a1f2-384057f3e262"
      },
      "source": [
        "bd.columns #enseña las columnas que conforman la base de datos"
      ],
      "execution_count": 22,
      "outputs": [
        {
          "output_type": "execute_result",
          "data": {
            "text/plain": [
              "Index(['ASIN', 'Category', 'Product Link', 'No of Sellers', 'Rank', 'Rating',\n",
              "       'Reviews Count', 'Price'],\n",
              "      dtype='object')"
            ]
          },
          "metadata": {},
          "execution_count": 22
        }
      ]
    },
    {
      "cell_type": "code",
      "metadata": {
        "id": "Xj7La4ATFjdP",
        "colab": {
          "base_uri": "https://localhost:8080/"
        },
        "outputId": "bfe989b4-8961-4045-a5cd-26c858df3ebf"
      },
      "source": [
        "bd.dtypes"
      ],
      "execution_count": 23,
      "outputs": [
        {
          "output_type": "execute_result",
          "data": {
            "text/plain": [
              "ASIN              object\n",
              "Category          object\n",
              "Product Link      object\n",
              "No of Sellers     object\n",
              "Rank              object\n",
              "Rating           float64\n",
              "Reviews Count     object\n",
              "Price             object\n",
              "dtype: object"
            ]
          },
          "metadata": {},
          "execution_count": 23
        }
      ]
    },
    {
      "cell_type": "markdown",
      "metadata": {
        "id": "GlESu1KVS-PL"
      },
      "source": [
        "Una parte importante de trabajar bases de datos es la identificación de datos nulos. Las siguientes líneas de código ejemplifican este proceso."
      ]
    },
    {
      "cell_type": "code",
      "metadata": {
        "id": "eNNZlphQ4Pip",
        "colab": {
          "base_uri": "https://localhost:8080/"
        },
        "outputId": "1d401ff7-788f-44ad-9860-ea8e249aecc9"
      },
      "source": [
        "bd.isnull().any() #devuleve la lista de columnas y los valores True o False, dependiendo si hay valores nulos o no en las columnas"
      ],
      "execution_count": 24,
      "outputs": [
        {
          "output_type": "execute_result",
          "data": {
            "text/plain": [
              "ASIN             False\n",
              "Category         False\n",
              "Product Link     False\n",
              "No of Sellers    False\n",
              "Rank             False\n",
              "Rating           False\n",
              "Reviews Count    False\n",
              "Price            False\n",
              "dtype: bool"
            ]
          },
          "metadata": {},
          "execution_count": 24
        }
      ]
    },
    {
      "cell_type": "markdown",
      "metadata": {
        "id": "MypwxG00CGvz"
      },
      "source": [
        "A continuación se eliminan las columnas \"ASIN\", \"Product Link\", \"Rank\", ya que no son necesarias para lo que se quiere analizar."
      ]
    },
    {
      "cell_type": "code",
      "metadata": {
        "id": "1flRYclAO9BD"
      },
      "source": [
        "bd.drop([\"ASIN\", \"Product Link\", \"Rank\"],axis=1,inplace=True)"
      ],
      "execution_count": 25,
      "outputs": []
    },
    {
      "cell_type": "markdown",
      "metadata": {
        "id": "5fdW7gqQQHbJ"
      },
      "source": [
        "\n",
        "En la siguiente línea de código se cambian el nombre de las columnas de la base de datos, con uso del atributo rename."
      ]
    },
    {
      "cell_type": "code",
      "metadata": {
        "id": "YdgesKWudRPv"
      },
      "source": [
        "bd.rename(columns={'Category':'Categoria','No of Sellers':'Vendedores',\n",
        "                   'Reviews Count':'Reseñas','Price':'Precio'},inplace=True) #con el inplace se hace el cambio \"permanente\"\n",
        "\n",
        "#https://stackoverflow.com/questions/11346283/renaming-column-names-in-pandas"
      ],
      "execution_count": 26,
      "outputs": []
    },
    {
      "cell_type": "markdown",
      "metadata": {
        "id": "UezxBHe8RkN4"
      },
      "source": [
        "Vamos a cambiar la columna de categoría para que sea un diccionario y muestre solo los valores."
      ]
    },
    {
      "cell_type": "code",
      "metadata": {
        "id": "ZwkOT4BvR3HF"
      },
      "source": [
        "dict_cat = {'Electronics':\"Electronicos\",'Clothing, Shoes & Jewelry':\"Ropa y joyeria\",'Gift Cards':\"Tarjetas de regalo\",'Books':\"Libros\",'Video Games':\"Videojuegos\",'Camera & Photo':\"Fotografia\",'Toys & Games':\"Juguetes\"}\n",
        "bd['Categoria'] = bd['Categoria'].map(dict_cat)"
      ],
      "execution_count": 27,
      "outputs": []
    },
    {
      "cell_type": "markdown",
      "metadata": {
        "id": "R6oQpH78TUtG"
      },
      "source": [
        "Después, se eliminó la palabra \"sellers\" en la columna Vendedores."
      ]
    },
    {
      "cell_type": "code",
      "metadata": {
        "id": "MI1maUWfTmSI"
      },
      "source": [
        "bd['Vendedores'] = bd['Vendedores'].str.replace(' Sellers','', regex=True)\n"
      ],
      "execution_count": 28,
      "outputs": []
    },
    {
      "cell_type": "markdown",
      "metadata": {
        "id": "n5ML99tMULlM"
      },
      "source": [
        "Se eliminó el signo $ de la columna precio."
      ]
    },
    {
      "cell_type": "code",
      "metadata": {
        "id": "AAegYm89UILA"
      },
      "source": [
        "bd['Precio'] = bd['Precio'].str.replace('$','', regex=True)"
      ],
      "execution_count": 29,
      "outputs": []
    },
    {
      "cell_type": "code",
      "metadata": {
        "id": "V03xFD89XtWU",
        "colab": {
          "base_uri": "https://localhost:8080/",
          "height": 417
        },
        "outputId": "9dfa1d77-c456-4577-f6fa-6ccb58f475b8"
      },
      "source": [
        "bd"
      ],
      "execution_count": 30,
      "outputs": [
        {
          "output_type": "execute_result",
          "data": {
            "text/html": [
              "<div>\n",
              "<style scoped>\n",
              "    .dataframe tbody tr th:only-of-type {\n",
              "        vertical-align: middle;\n",
              "    }\n",
              "\n",
              "    .dataframe tbody tr th {\n",
              "        vertical-align: top;\n",
              "    }\n",
              "\n",
              "    .dataframe thead th {\n",
              "        text-align: right;\n",
              "    }\n",
              "</style>\n",
              "<table border=\"1\" class=\"dataframe\">\n",
              "  <thead>\n",
              "    <tr style=\"text-align: right;\">\n",
              "      <th></th>\n",
              "      <th>Categoria</th>\n",
              "      <th>Vendedores</th>\n",
              "      <th>Rating</th>\n",
              "      <th>Reseñas</th>\n",
              "      <th>Precio</th>\n",
              "    </tr>\n",
              "  </thead>\n",
              "  <tbody>\n",
              "    <tr>\n",
              "      <th>0</th>\n",
              "      <td>Electronicos</td>\n",
              "      <td>1</td>\n",
              "      <td>4.7</td>\n",
              "      <td>640,721</td>\n",
              "      <td>39.99</td>\n",
              "    </tr>\n",
              "    <tr>\n",
              "      <th>1</th>\n",
              "      <td>Electronicos</td>\n",
              "      <td>1</td>\n",
              "      <td>4.7</td>\n",
              "      <td>854,114</td>\n",
              "      <td>34.99</td>\n",
              "    </tr>\n",
              "    <tr>\n",
              "      <th>2</th>\n",
              "      <td>Electronicos</td>\n",
              "      <td>1</td>\n",
              "      <td>4.7</td>\n",
              "      <td>267,821</td>\n",
              "      <td>44.99</td>\n",
              "    </tr>\n",
              "    <tr>\n",
              "      <th>3</th>\n",
              "      <td>Electronicos</td>\n",
              "      <td>27</td>\n",
              "      <td>4.8</td>\n",
              "      <td>114,267</td>\n",
              "      <td>28.48</td>\n",
              "    </tr>\n",
              "    <tr>\n",
              "      <th>4</th>\n",
              "      <td>Electronicos</td>\n",
              "      <td>1</td>\n",
              "      <td>4.7</td>\n",
              "      <td>267,821</td>\n",
              "      <td>49.99</td>\n",
              "    </tr>\n",
              "    <tr>\n",
              "      <th>...</th>\n",
              "      <td>...</td>\n",
              "      <td>...</td>\n",
              "      <td>...</td>\n",
              "      <td>...</td>\n",
              "      <td>...</td>\n",
              "    </tr>\n",
              "    <tr>\n",
              "      <th>702</th>\n",
              "      <td>Juguetes</td>\n",
              "      <td>10</td>\n",
              "      <td>4.6</td>\n",
              "      <td>8,795</td>\n",
              "      <td>6.99</td>\n",
              "    </tr>\n",
              "    <tr>\n",
              "      <th>703</th>\n",
              "      <td>Juguetes</td>\n",
              "      <td>5</td>\n",
              "      <td>4.7</td>\n",
              "      <td>649</td>\n",
              "      <td>16.99</td>\n",
              "    </tr>\n",
              "    <tr>\n",
              "      <th>704</th>\n",
              "      <td>Juguetes</td>\n",
              "      <td>1</td>\n",
              "      <td>4.8</td>\n",
              "      <td>9,121</td>\n",
              "      <td>8.99</td>\n",
              "    </tr>\n",
              "    <tr>\n",
              "      <th>705</th>\n",
              "      <td>Juguetes</td>\n",
              "      <td>26</td>\n",
              "      <td>4.7</td>\n",
              "      <td>18,449</td>\n",
              "      <td>19.99</td>\n",
              "    </tr>\n",
              "    <tr>\n",
              "      <th>706</th>\n",
              "      <td>Juguetes</td>\n",
              "      <td>2</td>\n",
              "      <td>4.7</td>\n",
              "      <td>12,902</td>\n",
              "      <td>24.99</td>\n",
              "    </tr>\n",
              "  </tbody>\n",
              "</table>\n",
              "<p>707 rows × 5 columns</p>\n",
              "</div>"
            ],
            "text/plain": [
              "        Categoria Vendedores  Rating  Reseñas  Precio\n",
              "0    Electronicos          1     4.7  640,721  39.99 \n",
              "1    Electronicos          1     4.7  854,114  34.99 \n",
              "2    Electronicos          1     4.7  267,821  44.99 \n",
              "3    Electronicos         27     4.8  114,267  28.48 \n",
              "4    Electronicos          1     4.7  267,821  49.99 \n",
              "..            ...        ...     ...      ...     ...\n",
              "702      Juguetes         10     4.6    8,795   6.99 \n",
              "703      Juguetes          5     4.7      649  16.99 \n",
              "704      Juguetes          1     4.8    9,121   8.99 \n",
              "705      Juguetes         26     4.7   18,449  19.99 \n",
              "706      Juguetes          2     4.7   12,902  24.99 \n",
              "\n",
              "[707 rows x 5 columns]"
            ]
          },
          "metadata": {},
          "execution_count": 30
        }
      ]
    },
    {
      "cell_type": "markdown",
      "metadata": {
        "id": "ukzKrOQ7Va59"
      },
      "source": [
        "Otro aspecto importante a trabajar base de datos es agrupar los datos para tener un mejor manejo.\n"
      ]
    },
    {
      "cell_type": "markdown",
      "metadata": {
        "id": "XyQ7fDTKVrVz"
      },
      "source": [
        "En la siguiente línea de código, se está identificando los valores que se contienen en la columna \"type\", usando el atributo unique."
      ]
    },
    {
      "cell_type": "code",
      "metadata": {
        "id": "20v02OIRoM4j",
        "colab": {
          "base_uri": "https://localhost:8080/"
        },
        "outputId": "346c5bb2-0a49-41c5-b7db-c998916ff444"
      },
      "source": [
        "bd.Categoria.unique() #nos arroja los datos únicos que aparecen en esa columna"
      ],
      "execution_count": 31,
      "outputs": [
        {
          "output_type": "execute_result",
          "data": {
            "text/plain": [
              "array(['Electronicos', 'Ropa y joyeria', 'Tarjetas de regalo', 'Libros',\n",
              "       'Videojuegos', 'Fotografia', 'Juguetes'], dtype=object)"
            ]
          },
          "metadata": {},
          "execution_count": 31
        }
      ]
    },
    {
      "cell_type": "markdown",
      "metadata": {
        "id": "V-s696F6WOiD"
      },
      "source": [
        "Después de identificar los valores de la columna, se pueden filtrar los datos, como se muestra en el ejemplo que se estan guardando por \"Electrónicos\" en una variable. Luego esa variable se puede guardar en un archivo csv para tener acceso a él.\n"
      ]
    },
    {
      "cell_type": "code",
      "metadata": {
        "id": "KdWHVKJHsS_l"
      },
      "source": [
        "z=bd[bd[\"Categoria\"]=='Electronicos'] #definir que información queremos guardar en la variable\n",
        "\n",
        "z.to_csv('Solo_Electro.csv',index=False)  #guardar los datos en csv"
      ],
      "execution_count": 32,
      "outputs": []
    },
    {
      "cell_type": "code",
      "metadata": {
        "id": "T6-_Noyeswks",
        "colab": {
          "base_uri": "https://localhost:8080/",
          "height": 203
        },
        "outputId": "16111aee-cae8-4ee4-b796-6a9af4ccb61a"
      },
      "source": [
        "z.head() #analizando como queda la base de datos después del filtro"
      ],
      "execution_count": 33,
      "outputs": [
        {
          "output_type": "execute_result",
          "data": {
            "text/html": [
              "<div>\n",
              "<style scoped>\n",
              "    .dataframe tbody tr th:only-of-type {\n",
              "        vertical-align: middle;\n",
              "    }\n",
              "\n",
              "    .dataframe tbody tr th {\n",
              "        vertical-align: top;\n",
              "    }\n",
              "\n",
              "    .dataframe thead th {\n",
              "        text-align: right;\n",
              "    }\n",
              "</style>\n",
              "<table border=\"1\" class=\"dataframe\">\n",
              "  <thead>\n",
              "    <tr style=\"text-align: right;\">\n",
              "      <th></th>\n",
              "      <th>Categoria</th>\n",
              "      <th>Vendedores</th>\n",
              "      <th>Rating</th>\n",
              "      <th>Reseñas</th>\n",
              "      <th>Precio</th>\n",
              "    </tr>\n",
              "  </thead>\n",
              "  <tbody>\n",
              "    <tr>\n",
              "      <th>0</th>\n",
              "      <td>Electronicos</td>\n",
              "      <td>1</td>\n",
              "      <td>4.7</td>\n",
              "      <td>640,721</td>\n",
              "      <td>39.99</td>\n",
              "    </tr>\n",
              "    <tr>\n",
              "      <th>1</th>\n",
              "      <td>Electronicos</td>\n",
              "      <td>1</td>\n",
              "      <td>4.7</td>\n",
              "      <td>854,114</td>\n",
              "      <td>34.99</td>\n",
              "    </tr>\n",
              "    <tr>\n",
              "      <th>2</th>\n",
              "      <td>Electronicos</td>\n",
              "      <td>1</td>\n",
              "      <td>4.7</td>\n",
              "      <td>267,821</td>\n",
              "      <td>44.99</td>\n",
              "    </tr>\n",
              "    <tr>\n",
              "      <th>3</th>\n",
              "      <td>Electronicos</td>\n",
              "      <td>27</td>\n",
              "      <td>4.8</td>\n",
              "      <td>114,267</td>\n",
              "      <td>28.48</td>\n",
              "    </tr>\n",
              "    <tr>\n",
              "      <th>4</th>\n",
              "      <td>Electronicos</td>\n",
              "      <td>1</td>\n",
              "      <td>4.7</td>\n",
              "      <td>267,821</td>\n",
              "      <td>49.99</td>\n",
              "    </tr>\n",
              "  </tbody>\n",
              "</table>\n",
              "</div>"
            ],
            "text/plain": [
              "      Categoria Vendedores  Rating  Reseñas  Precio\n",
              "0  Electronicos          1     4.7  640,721  39.99 \n",
              "1  Electronicos          1     4.7  854,114  34.99 \n",
              "2  Electronicos          1     4.7  267,821  44.99 \n",
              "3  Electronicos         27     4.8  114,267  28.48 \n",
              "4  Electronicos          1     4.7  267,821  49.99 "
            ]
          },
          "metadata": {},
          "execution_count": 33
        }
      ]
    }
  ]
}