{
  "nbformat": 4,
  "nbformat_minor": 0,
  "metadata": {
    "colab": {
      "name": "Pruebas outliers.ipynb",
      "provenance": [],
      "collapsed_sections": [],
      "include_colab_link": true
    },
    "kernelspec": {
      "name": "python3",
      "display_name": "Python 3"
    },
    "language_info": {
      "name": "python"
    }
  },
  "cells": [
    {
      "cell_type": "markdown",
      "metadata": {
        "id": "view-in-github",
        "colab_type": "text"
      },
      "source": [
        "<a href=\"https://colab.research.google.com/github/DiegoRinconP/Mineria_de_datos/blob/main/Pruebas_outliers.ipynb\" target=\"_parent\"><img src=\"https://colab.research.google.com/assets/colab-badge.svg\" alt=\"Open In Colab\"/></a>"
      ]
    },
    {
      "cell_type": "markdown",
      "metadata": {
        "id": "VogD7-V-VgjM"
      },
      "source": [
        "# IRIS"
      ]
    },
    {
      "cell_type": "markdown",
      "metadata": {
        "id": "1DwT6l4Zec2b"
      },
      "source": [
        "El primer paso es importar las librerías que se usarán en el proceso. *Seaborn* es una librería que genera fácilmente diferentes gráficos."
      ]
    },
    {
      "cell_type": "code",
      "metadata": {
        "id": "8tUsHIg1ej5V"
      },
      "source": [
        "import seaborn as sns\n",
        "import pandas as pd\n",
        "import numpy as np"
      ],
      "execution_count": 10,
      "outputs": []
    },
    {
      "cell_type": "markdown",
      "metadata": {
        "id": "jAxtEsWldpM2"
      },
      "source": [
        "Se abre la base de datos iris y se conocen los datos que contiene."
      ]
    },
    {
      "cell_type": "code",
      "metadata": {
        "id": "0cSxxfAhc-l8"
      },
      "source": [
        "iris=sns.load_dataset(\"iris\")"
      ],
      "execution_count": 11,
      "outputs": []
    },
    {
      "cell_type": "code",
      "metadata": {
        "colab": {
          "base_uri": "https://localhost:8080/"
        },
        "id": "Ztfu2ePaeFCT",
        "outputId": "9abb346b-f1f6-4279-8811-f560471b9aca"
      },
      "source": [
        "iris.shape"
      ],
      "execution_count": 12,
      "outputs": [
        {
          "output_type": "execute_result",
          "data": {
            "text/plain": [
              "(150, 5)"
            ]
          },
          "metadata": {},
          "execution_count": 12
        }
      ]
    },
    {
      "cell_type": "code",
      "metadata": {
        "colab": {
          "base_uri": "https://localhost:8080/",
          "height": 203
        },
        "id": "x57VRsXsd4RL",
        "outputId": "656e1f53-ea02-426f-ef60-664f024a4c55"
      },
      "source": [
        "iris.head()"
      ],
      "execution_count": 13,
      "outputs": [
        {
          "output_type": "execute_result",
          "data": {
            "text/html": [
              "<div>\n",
              "<style scoped>\n",
              "    .dataframe tbody tr th:only-of-type {\n",
              "        vertical-align: middle;\n",
              "    }\n",
              "\n",
              "    .dataframe tbody tr th {\n",
              "        vertical-align: top;\n",
              "    }\n",
              "\n",
              "    .dataframe thead th {\n",
              "        text-align: right;\n",
              "    }\n",
              "</style>\n",
              "<table border=\"1\" class=\"dataframe\">\n",
              "  <thead>\n",
              "    <tr style=\"text-align: right;\">\n",
              "      <th></th>\n",
              "      <th>sepal_length</th>\n",
              "      <th>sepal_width</th>\n",
              "      <th>petal_length</th>\n",
              "      <th>petal_width</th>\n",
              "      <th>species</th>\n",
              "    </tr>\n",
              "  </thead>\n",
              "  <tbody>\n",
              "    <tr>\n",
              "      <th>0</th>\n",
              "      <td>5.1</td>\n",
              "      <td>3.5</td>\n",
              "      <td>1.4</td>\n",
              "      <td>0.2</td>\n",
              "      <td>setosa</td>\n",
              "    </tr>\n",
              "    <tr>\n",
              "      <th>1</th>\n",
              "      <td>4.9</td>\n",
              "      <td>3.0</td>\n",
              "      <td>1.4</td>\n",
              "      <td>0.2</td>\n",
              "      <td>setosa</td>\n",
              "    </tr>\n",
              "    <tr>\n",
              "      <th>2</th>\n",
              "      <td>4.7</td>\n",
              "      <td>3.2</td>\n",
              "      <td>1.3</td>\n",
              "      <td>0.2</td>\n",
              "      <td>setosa</td>\n",
              "    </tr>\n",
              "    <tr>\n",
              "      <th>3</th>\n",
              "      <td>4.6</td>\n",
              "      <td>3.1</td>\n",
              "      <td>1.5</td>\n",
              "      <td>0.2</td>\n",
              "      <td>setosa</td>\n",
              "    </tr>\n",
              "    <tr>\n",
              "      <th>4</th>\n",
              "      <td>5.0</td>\n",
              "      <td>3.6</td>\n",
              "      <td>1.4</td>\n",
              "      <td>0.2</td>\n",
              "      <td>setosa</td>\n",
              "    </tr>\n",
              "  </tbody>\n",
              "</table>\n",
              "</div>"
            ],
            "text/plain": [
              "   sepal_length  sepal_width  petal_length  petal_width species\n",
              "0           5.1          3.5           1.4          0.2  setosa\n",
              "1           4.9          3.0           1.4          0.2  setosa\n",
              "2           4.7          3.2           1.3          0.2  setosa\n",
              "3           4.6          3.1           1.5          0.2  setosa\n",
              "4           5.0          3.6           1.4          0.2  setosa"
            ]
          },
          "metadata": {},
          "execution_count": 13
        }
      ]
    },
    {
      "cell_type": "markdown",
      "metadata": {
        "id": "expClSu6fNfW"
      },
      "source": [
        "A continuación se muestra el diagrama de caja con la ayuda de la función **boxplot**."
      ]
    },
    {
      "cell_type": "code",
      "metadata": {
        "colab": {
          "base_uri": "https://localhost:8080/",
          "height": 266
        },
        "id": "WxyHjKv7Smlw",
        "outputId": "32bde8c3-3d5b-4d21-8926-b1dcb5e6e926"
      },
      "source": [
        "bp = sns.boxplot(data=iris, orient=\"v\", palette=\"Set2\")"
      ],
      "execution_count": 14,
      "outputs": [
        {
          "output_type": "display_data",
          "data": {
            "image/png": "[encoded data removed]",
            "text/plain": [
              "<Figure size 432x288 with 1 Axes>"
            ]
          },
          "metadata": {
            "needs_background": "light"
          }
        }
      ]
    },
    {
      "cell_type": "markdown",
      "metadata": {
        "id": "xSDCbzLwChdA"
      },
      "source": [
        "También, se puede mostrar el boxplot con la ayuda de la siguiente librería."
      ]
    },
    {
      "cell_type": "code",
      "metadata": {
        "id": "AQbJTitaNXOX"
      },
      "source": [
        "import matplotlib.pyplot as plt"
      ],
      "execution_count": 15,
      "outputs": []
    },
    {
      "cell_type": "code",
      "metadata": {
        "id": "Hi9Tf7ljNdGf",
        "colab": {
          "base_uri": "https://localhost:8080/",
          "height": 402
        },
        "outputId": "26240e0c-a37c-4675-e95e-c24bd4ad5410"
      },
      "source": [
        "plt.boxplot(iris[\"sepal_width\"])"
      ],
      "execution_count": 16,
      "outputs": [
        {
          "output_type": "execute_result",
          "data": {
            "text/plain": [
              "{'boxes': [<matplotlib.lines.Line2D at 0x7f362945add0>],\n",
              " 'caps': [<matplotlib.lines.Line2D at 0x7f36293e3dd0>,\n",
              "  <matplotlib.lines.Line2D at 0x7f36293ea350>],\n",
              " 'fliers': [<matplotlib.lines.Line2D at 0x7f36293eae10>],\n",
              " 'means': [],\n",
              " 'medians': [<matplotlib.lines.Line2D at 0x7f36293ea8d0>],\n",
              " 'whiskers': [<matplotlib.lines.Line2D at 0x7f36293e3350>,\n",
              "  <matplotlib.lines.Line2D at 0x7f36293e3890>]}"
            ]
          },
          "metadata": {},
          "execution_count": 16
        },
        {
          "output_type": "display_data",
          "data": {
            "image/png": "[encoded data removed]",
            "text/plain": [
              "<Figure size 432x288 with 1 Axes>"
            ]
          },
          "metadata": {
            "needs_background": "light"
          }
        }
      ]
    },
    {
      "cell_type": "markdown",
      "metadata": {
        "id": "10pq6Oj0fspH"
      },
      "source": [
        "Después de observar que hay presencia de datos atípicos, es hora de saber sus valores."
      ]
    },
    {
      "cell_type": "code",
      "metadata": {
        "id": "Cnth7kySgGcq",
        "colab": {
          "base_uri": "https://localhost:8080/"
        },
        "outputId": "52a59b42-8956-41b8-db5f-675c397b7deb"
      },
      "source": [
        "outliers = []\n",
        "def outliers_iqr(data):\n",
        "    data = sorted(data)\n",
        "    q1 = np.percentile(data, 25)\n",
        "    q3 = np.percentile(data, 75)\n",
        "    IQR = q3-q1 #calcula el iqr\n",
        "    lim_inf = q1-(1.5*IQR) #limite inf\n",
        "    lim_sup = q3+(1.5*IQR) #limite sup\n",
        "    # Ciclo para saber cuales son atípicos\n",
        "    for i in data: \n",
        "        if (i<lim_inf or i>lim_sup):\n",
        "            outliers.append(i)\n",
        "    return outliers\n",
        "out = outliers_iqr(iris[\"sepal_width\"])\n",
        "print(\"Los outliers por el método IQR son: \", out)"
      ],
      "execution_count": 17,
      "outputs": [
        {
          "output_type": "stream",
          "name": "stdout",
          "text": [
            "Los outliers por el método IQR son:  [2.0, 4.1, 4.2, 4.4]\n"
          ]
        }
      ]
    },
    {
      "cell_type": "markdown",
      "metadata": {
        "id": "SfOoOokP-9G6"
      },
      "source": [
        "# TREATMENT"
      ]
    },
    {
      "cell_type": "markdown",
      "metadata": {
        "id": "I3Kw651gyWV8"
      },
      "source": [
        "El primer paso es importar las librerías que se usarán."
      ]
    },
    {
      "cell_type": "code",
      "metadata": {
        "id": "ZZtK5XDFmxwB"
      },
      "source": [
        "bd=sns.load_dataset(\"iris\")"
      ],
      "execution_count": 18,
      "outputs": []
    },
    {
      "cell_type": "markdown",
      "metadata": {
        "id": "LOnYRNSyyms2"
      },
      "source": [
        "# Winsorizing"
      ]
    },
    {
      "cell_type": "markdown",
      "metadata": {
        "id": "OJ58m0zOysia"
      },
      "source": [
        "Antes de trabajar con el proceso Winsorize, es recomendable realizar una copia de la base de datos para que sea más ordenado.\n"
      ]
    },
    {
      "cell_type": "code",
      "metadata": {
        "id": "EuWuUHm3hM9s"
      },
      "source": [
        "bd_win = bd.copy(deep=True) #crea una copia de la base de datos para trabajar en ella"
      ],
      "execution_count": 19,
      "outputs": []
    },
    {
      "cell_type": "markdown",
      "metadata": {
        "id": "7-XYC2IWy6ID"
      },
      "source": [
        "Posteriormente se importa winsorize desde la librería Scipy."
      ]
    },
    {
      "cell_type": "code",
      "metadata": {
        "id": "x-hzWA6Rhjd9"
      },
      "source": [
        "from scipy.stats.mstats import winsorize"
      ],
      "execution_count": 20,
      "outputs": []
    },
    {
      "cell_type": "markdown",
      "metadata": {
        "id": "mIX1SJb0zuju"
      },
      "source": [
        "Con la librería cargada, se procede a usar la función winsorize para poder transformar los outliers como se desee."
      ]
    },
    {
      "cell_type": "code",
      "metadata": {
        "id": "7YwqZSP7zWnz"
      },
      "source": [
        "bd_win['SepalW_w_5%'] = winsorize(bd['sepal_width'], limits=(0.05, 0.05))#winsorizing con k=5 (5% y 95%)"
      ],
      "execution_count": 21,
      "outputs": []
    },
    {
      "cell_type": "markdown",
      "metadata": {
        "id": "A54LGPnd0Wku"
      },
      "source": [
        "Si se quieren saber los valores con los que estará trabajando el proceso,\n",
        " se puede realizar lo siguiente con ayuda de la librería numpy."
      ]
    },
    {
      "cell_type": "code",
      "metadata": {
        "colab": {
          "base_uri": "https://localhost:8080/"
        },
        "id": "DNi7qyj9jyuX",
        "outputId": "dee340f9-f4f2-4e40-e6d5-8fcb2f1aefd7"
      },
      "source": [
        "noventaycinco_pct = np.percentile(bd.sepal_width, 95) \n",
        "cinco_pct = np.percentile(bd.sepal_width, 5) \n",
        "print(\"valor del 95%:\",noventaycinco_pct)\n",
        "print(\"valor del 5%:\",cinco_pct)"
      ],
      "execution_count": 22,
      "outputs": [
        {
          "output_type": "stream",
          "name": "stdout",
          "text": [
            "valor del 95%: 3.8\n",
            "valor del 5%: 2.3449999999999998\n"
          ]
        }
      ]
    },
    {
      "cell_type": "markdown",
      "metadata": {
        "id": "2YGmi6910tcY"
      },
      "source": [
        "Para poder ver como trabajó el winsorizing, se pueden graficar las gráficas de distribución tanto de los datos con y sin el proceso."
      ]
    },
    {
      "cell_type": "code",
      "metadata": {
        "colab": {
          "base_uri": "https://localhost:8080/",
          "height": 388
        },
        "id": "J4nyjqawjELg",
        "outputId": "d6be030b-097e-4939-8c32-48710231766e"
      },
      "source": [
        "#Distribución sin winsorize\n",
        "sns.distplot(bd['sepal_width']) #plot en color azul\n",
        "\n",
        "#Nueva Distribución con Winsorize\n",
        "sns.distplot(bd_win['SepalW_w_5%']) #plot en color naranja"
      ],
      "execution_count": 23,
      "outputs": [
        {
          "output_type": "stream",
          "name": "stderr",
          "text": [
            "/usr/local/lib/python3.7/dist-packages/seaborn/distributions.py:2557: FutureWarning: `distplot` is a deprecated function and will be removed in a future version. Please adapt your code to use either `displot` (a figure-level function with similar flexibility) or `histplot` (an axes-level function for histograms).\n",
            "  warnings.warn(msg, FutureWarning)\n",
            "/usr/local/lib/python3.7/dist-packages/seaborn/distributions.py:2557: FutureWarning: `distplot` is a deprecated function and will be removed in a future version. Please adapt your code to use either `displot` (a figure-level function with similar flexibility) or `histplot` (an axes-level function for histograms).\n",
            "  warnings.warn(msg, FutureWarning)\n"
          ]
        },
        {
          "output_type": "execute_result",
          "data": {
            "text/plain": [
              "<matplotlib.axes._subplots.AxesSubplot at 0x7f362936e250>"
            ]
          },
          "metadata": {},
          "execution_count": 23
        },
        {
          "output_type": "display_data",
          "data": {
            "image/png": "[encoded data removed]",
            "text/plain": [
              "<Figure size 432x288 with 1 Axes>"
            ]
          },
          "metadata": {
            "needs_background": "light"
          }
        }
      ]
    },
    {
      "cell_type": "code",
      "metadata": {
        "colab": {
          "base_uri": "https://localhost:8080/"
        },
        "id": "z3oGVzdEsfCN",
        "outputId": "11e40346-1676-412a-efc5-ead7a2c2e4df"
      },
      "source": [
        "outliers = []\n",
        "def outliers_iqr(data):\n",
        "    data = sorted(data)\n",
        "    q1 = np.percentile(data, 25)\n",
        "    q3 = np.percentile(data, 75)\n",
        "    IQR = q3-q1 #calcula el iqr\n",
        "    lim_inf = q1-(1.5*IQR) #limite inf\n",
        "    lim_sup = q3+(1.5*IQR) #limite sup\n",
        "    # Ciclo para saber cuales son atípicos\n",
        "    for i in data: \n",
        "        if (i<lim_inf or i>lim_sup):\n",
        "            outliers.append(i)\n",
        "    return outliers\n",
        "out = outliers_iqr(bd[\"sepal_width\"])\n",
        "print(\"Los outliers por el método IQR son: \", out)"
      ],
      "execution_count": 24,
      "outputs": [
        {
          "output_type": "stream",
          "name": "stdout",
          "text": [
            "Los outliers por el método IQR son:  [2.0, 4.1, 4.2, 4.4]\n"
          ]
        }
      ]
    },
    {
      "cell_type": "code",
      "metadata": {
        "colab": {
          "base_uri": "https://localhost:8080/"
        },
        "id": "hgFmhizktStQ",
        "outputId": "fcc785a5-a278-48ab-a4c2-f244eb10f5f6"
      },
      "source": [
        "out"
      ],
      "execution_count": 25,
      "outputs": [
        {
          "output_type": "execute_result",
          "data": {
            "text/plain": [
              "[2.0, 4.1, 4.2, 4.4]"
            ]
          },
          "metadata": {},
          "execution_count": 25
        }
      ]
    },
    {
      "cell_type": "markdown",
      "metadata": {
        "id": "iwaKT94z2jE5"
      },
      "source": [
        "# Imputación media/mediana"
      ]
    },
    {
      "cell_type": "code",
      "metadata": {
        "colab": {
          "base_uri": "https://localhost:8080/"
        },
        "id": "xUqcQUmauayg",
        "outputId": "6e1b3a92-8f79-483a-9cf5-95e33b3e7d9f"
      },
      "source": [
        "median=np.median(bd.sepal_width)  \n",
        "median"
      ],
      "execution_count": 26,
      "outputs": [
        {
          "output_type": "execute_result",
          "data": {
            "text/plain": [
              "3.0"
            ]
          },
          "metadata": {},
          "execution_count": 26
        }
      ]
    },
    {
      "cell_type": "markdown",
      "metadata": {
        "id": "xUt1tOfyqoOL"
      },
      "source": [
        "Ya con el valor de la mediana, se utiliza la función where de Numpy para poder cambiar los valores outliers por el valor de la mediana."
      ]
    },
    {
      "cell_type": "code",
      "metadata": {
        "colab": {
          "base_uri": "https://localhost:8080/"
        },
        "id": "xxOS5FdOhZbX",
        "outputId": "26bc01fc-e647-42d0-d6f7-bd8e3521af12"
      },
      "source": [
        "q1 = np.percentile(bd.sepal_width, 25)\n",
        "q3 = np.percentile(bd.sepal_width, 75)\n",
        "IQR = q3-q1 #calcula el iqr\n",
        "lim_inf = q1-(1.5*IQR) #limite inf\n",
        "lim_sup = q3+(1.5*IQR) #limite sup \n",
        "print(\"limites inferior y superior:\",lim_inf,lim_sup)\n",
        "\n",
        "a=np.where((bd.sepal_width > lim_sup) | (bd.sepal_width < lim_inf),median,bd.sepal_width) \n",
        "# where funciona como un if else; el símbolo | es como un or.\n",
        "print(a)"
      ],
      "execution_count": 27,
      "outputs": [
        {
          "output_type": "stream",
          "name": "stdout",
          "text": [
            "limites inferior y superior: 2.05 4.05\n",
            "[3.5 3.  3.2 3.1 3.6 3.9 3.4 3.4 2.9 3.1 3.7 3.4 3.  3.  4.  3.  3.9 3.5\n",
            " 3.8 3.8 3.4 3.7 3.6 3.3 3.4 3.  3.4 3.5 3.4 3.2 3.1 3.4 3.  3.  3.1 3.2\n",
            " 3.5 3.6 3.  3.4 3.5 2.3 3.2 3.5 3.8 3.  3.8 3.2 3.7 3.3 3.2 3.2 3.1 2.3\n",
            " 2.8 2.8 3.3 2.4 2.9 2.7 3.  3.  2.2 2.9 2.9 3.1 3.  2.7 2.2 2.5 3.2 2.8\n",
            " 2.5 2.8 2.9 3.  2.8 3.  2.9 2.6 2.4 2.4 2.7 2.7 3.  3.4 3.1 2.3 3.  2.5\n",
            " 2.6 3.  2.6 2.3 2.7 3.  2.9 2.9 2.5 2.8 3.3 2.7 3.  2.9 3.  3.  2.5 2.9\n",
            " 2.5 3.6 3.2 2.7 3.  2.5 2.8 3.2 3.  3.8 2.6 2.2 3.2 2.8 2.8 2.7 3.3 3.2\n",
            " 2.8 3.  2.8 3.  2.8 3.8 2.8 2.8 2.6 3.  3.4 3.1 3.  3.1 3.1 3.1 2.7 3.2\n",
            " 3.3 3.  2.5 3.  3.4 3. ]\n"
          ]
        }
      ]
    },
    {
      "cell_type": "markdown",
      "metadata": {
        "id": "F8If8Hhp28Ow"
      },
      "source": [
        "En este proceso se busca reemplazar los valores de los outliers con los valores  de la mediana de los datos para bajar la influencia de los outliers en la media."
      ]
    },
    {
      "cell_type": "code",
      "metadata": {
        "colab": {
          "base_uri": "https://localhost:8080/",
          "height": 738
        },
        "id": "O7uv5LCG3P6W",
        "outputId": "22bf7908-8333-4c42-90e1-a5cba1646945"
      },
      "source": [
        "#Distribución con outliers\n",
        "sns.displot(bd['sepal_width'],color=\"purple\") \n",
        "\n",
        "#Distribución sin outliers\n",
        "sns.displot(a,color=\"skyblue\") "
      ],
      "execution_count": 28,
      "outputs": [
        {
          "output_type": "execute_result",
          "data": {
            "text/plain": [
              "<seaborn.axisgrid.FacetGrid at 0x7f361dfb2c10>"
            ]
          },
          "metadata": {},
          "execution_count": 28
        },
        {
          "output_type": "display_data",
          "data": {
            "image/png": "[encoded data removed]",
            "text/plain": [
              "<Figure size 360x360 with 1 Axes>"
            ]
          },
          "metadata": {
            "needs_background": "light"
          }
        },
        {
          "output_type": "display_data",
          "data": {
            "image/png": "[encoded data removed]",
            "text/plain": [
              "<Figure size 360x360 with 1 Axes>"
            ]
          },
          "metadata": {
            "needs_background": "light"
          }
        }
      ]
    }
  ]
}