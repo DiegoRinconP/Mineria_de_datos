{
  "nbformat": 4,
  "nbformat_minor": 0,
  "metadata": {
    "colab": {
      "name": "AvancePIA_II_002_Equipo2 corregido",
      "provenance": [],
      "collapsed_sections": [],
      "include_colab_link": true
    },
    "kernelspec": {
      "name": "python3",
      "display_name": "Python 3"
    },
    "language_info": {
      "name": "python"
    }
  },
  "cells": [
    {
      "cell_type": "markdown",
      "metadata": {
        "id": "view-in-github",
        "colab_type": "text"
      },
      "source": [
        "<a href=\"https://colab.research.google.com/github/DiegoRinconP/Mineria_de_datos/blob/main/AvancePIA_II_002_Equipo2_corregido.ipynb\" target=\"_parent\"><img src=\"https://colab.research.google.com/assets/colab-badge.svg\" alt=\"Open In Colab\"/></a>"
      ]
    },
    {
      "cell_type": "markdown",
      "metadata": {
        "id": "y2SCARxIuOBo"
      },
      "source": [
        "# AVANCE 2 - PIA\n",
        "**Equipo**: 2\n",
        "\n",
        "**Grupo**: 002 Miércoles\n",
        "\n",
        "**Integrantes**: \n",
        "*   1850231 Cid Sanabria Dulce Ximena\n",
        "*   1851895 Ortiz Cruz Jaclyn Lizeth\n",
        "*   1849687 Rincón Pacheco Diego Alejandro\n",
        "*   1854410 Serrano Caballero Lizeth"
      ]
    },
    {
      "cell_type": "markdown",
      "metadata": {
        "id": "r18-fTPl4D2Z"
      },
      "source": [
        "# **Sales of summer clothes in E-commerce Wish**\n",
        "\n",
        "https://www.kaggle.com/jmmvutu/summer-products-and-sales-in-ecommerce-wish"
      ]
    },
    {
      "cell_type": "markdown",
      "metadata": {
        "id": "O7D9kVle54vQ"
      },
      "source": [
        "## **Introducción**"
      ]
    },
    {
      "cell_type": "markdown",
      "metadata": {
        "id": "AQOIMy3J6zku"
      },
      "source": [
        "Wish es una compañía de comercio electrónico en línea, fundada en 2010 por Peter Szulczewski y Danny Zhang, ambos ex-programadores de Google y Yahoo.\n",
        "\n",
        "En 2017, la aplicación de compra móvil de \"Wish\" decía tener más de 100 millones de usuarios en iOS y Android. Actualmente, cuenta con más de 500 millones usuarios según la propia empresa. Similar a eBay, Amazon o AliExpress, fabricantes y negocios pequeños pueden vender bienes directamente a los consumidores a precios relativamente bajos.\n",
        "\n",
        "Años más tarde, la tienda Wish añadió el Outlet, el cual vende excedentes de stock de marcas reconocidas, por debajo del precio en tienda y también añadió Wish Express, el cual ofrece envíos más rápidos. Esta empresa fue beneficiada por la pandemia, debido a que muchos usuarios empezaron a comprar más en linea a causa de las restricciones sanitarias."
      ]
    },
    {
      "cell_type": "markdown",
      "metadata": {
        "id": "lKPi1OID6x9w"
      },
      "source": [
        "##**Descripción de los datos**"
      ]
    },
    {
      "cell_type": "markdown",
      "metadata": {
        "id": "I2_E-UA0653N"
      },
      "source": [
        "a) ¿Qué tipo de datos son?\n",
        "\n",
        "La base de datos incluye información de registros originados de la pagina web Wish acerca de las preferencias que tienen los usuarios a la hora de escribir summer (verano en inglés) en el campo de búsqueda de la plataforma. No solo muestra información acerca del producto, sino también acerca del vendedor y de las ventas.\n",
        "\n",
        "\n",
        "b) Descripción de las columnas\n",
        "\n",
        "El conjunto de datos cuenta con 63,790 datos divididos en 43 columnas y 1,573 filas donde podemos encontrar diferentes tipos de datos, como object, int y float, recolectados del registro de la venta de verano de la plataforma. En las columnas, podemos observar la descripción del producto, precio Wish y precio externo, no. de ventas, rating, sellos, envio, inventario, info del vendedor, entre otras.\n",
        "\n",
        "\n"
      ]
    },
    {
      "cell_type": "markdown",
      "metadata": {
        "id": "6AlX87Nv66Wr"
      },
      "source": [
        "## **Justificación del uso de datos**"
      ]
    },
    {
      "cell_type": "markdown",
      "metadata": {
        "id": "XNA-f-HE6_xT"
      },
      "source": [
        "La base de datos cuenta con datos de interés público de una compañia que ha crecido en los últimos años debido a la nueva modalidad de compras en línea. \n",
        "Hoy en día, podemos encontrar mucha competencia en el mercado de e-commerce, por lo tanto, es necesario incrementar las ventas de la plataforma.\n",
        "\n",
        "Nos gustaría encontrar la relación entre las ventas y el rating para poder determinar una estrategía a seguir para posicionarnos como una empresa lider en compras en línea. Además, comparar el precio wish con el costo de envío para saber si depende una variable de la otra. "
      ]
    },
    {
      "cell_type": "markdown",
      "metadata": {
        "id": "DsKcf0rn7AgC"
      },
      "source": [
        "## **Objetivos**"
      ]
    },
    {
      "cell_type": "markdown",
      "metadata": {
        "id": "fUf892or7FQP"
      },
      "source": [
        "Predecir el éxito de ventas que tiene un producto de Wish.\n",
        "\n",
        "\n",
        "\n",
        "Secundarios:\n",
        "* Analizar la relación entre el rating de un producto y sus ventas.\n",
        "* Comparar el precio wish con el precio externo"
      ]
    },
    {
      "cell_type": "markdown",
      "metadata": {
        "id": "Z0qmKZ337_lv"
      },
      "source": [
        "## **Preguntas de interés**"
      ]
    },
    {
      "cell_type": "markdown",
      "metadata": {
        "id": "RyIcsvD77_WJ"
      },
      "source": [
        "* ¿Qué tan diferentes son los precios dentro de Wish comparado con otras plataformas?\n",
        "* ¿Qué tan satisfechos están los clientes con el producto?"
      ]
    },
    {
      "cell_type": "markdown",
      "metadata": {
        "id": "7HTDwUeq7FrM"
      },
      "source": [
        "## **Programación**"
      ]
    },
    {
      "cell_type": "markdown",
      "metadata": {
        "id": "jNyv800gqIRX"
      },
      "source": [
        "###**Limpieza de Datos**"
      ]
    },
    {
      "cell_type": "markdown",
      "metadata": {
        "id": "-tnuYjCS7azs"
      },
      "source": [
        "El primer paso es importar las librerías que se usarán en el proceso."
      ]
    },
    {
      "cell_type": "code",
      "metadata": {
        "id": "mwKiPAqVQOay"
      },
      "source": [
        "import numpy as np\n",
        "import pandas as pd\n",
        "import matplotlib.pyplot as plt\n",
        "import plotly.express as px\n",
        "import seaborn as sns\n",
        "pd.set_option('display.max_columns', None)\n",
        "%matplotlib inline\n",
        "sns.set_context('notebook')\n",
        "sns.set_style('whitegrid')\n",
        "sns.set_palette('Blues_r')\n",
        "import matplotlib.patches as mpatches\n",
        "import re\n",
        "from sklearn.preprocessing import OrdinalEncoder, StandardScaler"
      ],
      "execution_count": 1,
      "outputs": []
    },
    {
      "cell_type": "markdown",
      "metadata": {
        "id": "1iHa38DS7ken"
      },
      "source": [
        "Se carga la base de datos csv a archivos, para después llamarla y almacenarla en una variable."
      ]
    },
    {
      "cell_type": "code",
      "metadata": {
        "id": "VKBNuiagQLQ-"
      },
      "source": [
        "bd=pd.read_csv('/content/summer-products-with-rating-and-performance_2020-08.csv')"
      ],
      "execution_count": 2,
      "outputs": []
    },
    {
      "cell_type": "markdown",
      "metadata": {
        "id": "yhFDdsMOJt7u"
      },
      "source": [
        "Con la función shape se puede observar el número de filas y columnas de la base de datos."
      ]
    },
    {
      "cell_type": "code",
      "metadata": {
        "colab": {
          "base_uri": "https://localhost:8080/"
        },
        "id": "p526neMBJt7u",
        "outputId": "4766adbb-ef16-4634-f0a6-e272ed12b608"
      },
      "source": [
        "bd.shape #regresa filas, columnas"
      ],
      "execution_count": 3,
      "outputs": [
        {
          "output_type": "execute_result",
          "data": {
            "text/plain": [
              "(1573, 43)"
            ]
          },
          "metadata": {},
          "execution_count": 3
        }
      ]
    },
    {
      "cell_type": "markdown",
      "metadata": {
        "id": "oZwVWVwpJt7v"
      },
      "source": [
        "Para ver como se forma la base de datos, la propiedades head permite mostrar las primeras 5 filas de la base de datos.\n",
        "\n"
      ]
    },
    {
      "cell_type": "code",
      "metadata": {
        "id": "JtM_449uQgwi",
        "colab": {
          "base_uri": "https://localhost:8080/",
          "height": 694
        },
        "outputId": "fe4bd7e3-df55-40db-8fd8-2c50722289f3"
      },
      "source": [
        "bd.head()"
      ],
      "execution_count": 4,
      "outputs": [
        {
          "output_type": "execute_result",
          "data": {
            "text/html": [
              "<div>\n",
              "<style scoped>\n",
              "    .dataframe tbody tr th:only-of-type {\n",
              "        vertical-align: middle;\n",
              "    }\n",
              "\n",
              "    .dataframe tbody tr th {\n",
              "        vertical-align: top;\n",
              "    }\n",
              "\n",
              "    .dataframe thead th {\n",
              "        text-align: right;\n",
              "    }\n",
              "</style>\n",
              "<table border=\"1\" class=\"dataframe\">\n",
              "  <thead>\n",
              "    <tr style=\"text-align: right;\">\n",
              "      <th></th>\n",
              "      <th>title</th>\n",
              "      <th>title_orig</th>\n",
              "      <th>price</th>\n",
              "      <th>retail_price</th>\n",
              "      <th>currency_buyer</th>\n",
              "      <th>units_sold</th>\n",
              "      <th>uses_ad_boosts</th>\n",
              "      <th>rating</th>\n",
              "      <th>rating_count</th>\n",
              "      <th>rating_five_count</th>\n",
              "      <th>rating_four_count</th>\n",
              "      <th>rating_three_count</th>\n",
              "      <th>rating_two_count</th>\n",
              "      <th>rating_one_count</th>\n",
              "      <th>badges_count</th>\n",
              "      <th>badge_local_product</th>\n",
              "      <th>badge_product_quality</th>\n",
              "      <th>badge_fast_shipping</th>\n",
              "      <th>tags</th>\n",
              "      <th>product_color</th>\n",
              "      <th>product_variation_size_id</th>\n",
              "      <th>product_variation_inventory</th>\n",
              "      <th>shipping_option_name</th>\n",
              "      <th>shipping_option_price</th>\n",
              "      <th>shipping_is_express</th>\n",
              "      <th>countries_shipped_to</th>\n",
              "      <th>inventory_total</th>\n",
              "      <th>has_urgency_banner</th>\n",
              "      <th>urgency_text</th>\n",
              "      <th>origin_country</th>\n",
              "      <th>merchant_title</th>\n",
              "      <th>merchant_name</th>\n",
              "      <th>merchant_info_subtitle</th>\n",
              "      <th>merchant_rating_count</th>\n",
              "      <th>merchant_rating</th>\n",
              "      <th>merchant_id</th>\n",
              "      <th>merchant_has_profile_picture</th>\n",
              "      <th>merchant_profile_picture</th>\n",
              "      <th>product_url</th>\n",
              "      <th>product_picture</th>\n",
              "      <th>product_id</th>\n",
              "      <th>theme</th>\n",
              "      <th>crawl_month</th>\n",
              "    </tr>\n",
              "  </thead>\n",
              "  <tbody>\n",
              "    <tr>\n",
              "      <th>0</th>\n",
              "      <td>2020 Summer Vintage Flamingo Print  Pajamas Se...</td>\n",
              "      <td>2020 Summer Vintage Flamingo Print  Pajamas Se...</td>\n",
              "      <td>16.00</td>\n",
              "      <td>14</td>\n",
              "      <td>EUR</td>\n",
              "      <td>100</td>\n",
              "      <td>0</td>\n",
              "      <td>3.76</td>\n",
              "      <td>54</td>\n",
              "      <td>26.0</td>\n",
              "      <td>8.0</td>\n",
              "      <td>10.0</td>\n",
              "      <td>1.0</td>\n",
              "      <td>9.0</td>\n",
              "      <td>0</td>\n",
              "      <td>0</td>\n",
              "      <td>0</td>\n",
              "      <td>0</td>\n",
              "      <td>Summer,Fashion,womenunderwearsuit,printedpajam...</td>\n",
              "      <td>white</td>\n",
              "      <td>M</td>\n",
              "      <td>50</td>\n",
              "      <td>Livraison standard</td>\n",
              "      <td>4</td>\n",
              "      <td>0</td>\n",
              "      <td>34</td>\n",
              "      <td>50</td>\n",
              "      <td>1.0</td>\n",
              "      <td>Quantité limitée !</td>\n",
              "      <td>CN</td>\n",
              "      <td>zgrdejia</td>\n",
              "      <td>zgrdejia</td>\n",
              "      <td>(568 notes)</td>\n",
              "      <td>568</td>\n",
              "      <td>4.128521</td>\n",
              "      <td>595097d6a26f6e070cb878d1</td>\n",
              "      <td>0</td>\n",
              "      <td>NaN</td>\n",
              "      <td>https://www.wish.com/c/5e9ae51d43d6a96e303acdb0</td>\n",
              "      <td>https://contestimg.wish.com/api/webimage/5e9ae...</td>\n",
              "      <td>5e9ae51d43d6a96e303acdb0</td>\n",
              "      <td>summer</td>\n",
              "      <td>2020-08</td>\n",
              "    </tr>\n",
              "    <tr>\n",
              "      <th>1</th>\n",
              "      <td>SSHOUSE Summer Casual Sleeveless Soirée Party ...</td>\n",
              "      <td>Women's Casual Summer Sleeveless Sexy Mini Dress</td>\n",
              "      <td>8.00</td>\n",
              "      <td>22</td>\n",
              "      <td>EUR</td>\n",
              "      <td>20000</td>\n",
              "      <td>1</td>\n",
              "      <td>3.45</td>\n",
              "      <td>6135</td>\n",
              "      <td>2269.0</td>\n",
              "      <td>1027.0</td>\n",
              "      <td>1118.0</td>\n",
              "      <td>644.0</td>\n",
              "      <td>1077.0</td>\n",
              "      <td>0</td>\n",
              "      <td>0</td>\n",
              "      <td>0</td>\n",
              "      <td>0</td>\n",
              "      <td>Mini,womens dresses,Summer,Patchwork,fashion d...</td>\n",
              "      <td>green</td>\n",
              "      <td>XS</td>\n",
              "      <td>50</td>\n",
              "      <td>Livraison standard</td>\n",
              "      <td>2</td>\n",
              "      <td>0</td>\n",
              "      <td>41</td>\n",
              "      <td>50</td>\n",
              "      <td>1.0</td>\n",
              "      <td>Quantité limitée !</td>\n",
              "      <td>CN</td>\n",
              "      <td>SaraHouse</td>\n",
              "      <td>sarahouse</td>\n",
              "      <td>83 % avis positifs (17,752 notes)</td>\n",
              "      <td>17752</td>\n",
              "      <td>3.899673</td>\n",
              "      <td>56458aa03a698c35c9050988</td>\n",
              "      <td>0</td>\n",
              "      <td>NaN</td>\n",
              "      <td>https://www.wish.com/c/58940d436a0d3d5da4e95a38</td>\n",
              "      <td>https://contestimg.wish.com/api/webimage/58940...</td>\n",
              "      <td>58940d436a0d3d5da4e95a38</td>\n",
              "      <td>summer</td>\n",
              "      <td>2020-08</td>\n",
              "    </tr>\n",
              "    <tr>\n",
              "      <th>2</th>\n",
              "      <td>2020 Nouvelle Arrivée Femmes Printemps et Été ...</td>\n",
              "      <td>2020 New Arrival Women Spring and Summer Beach...</td>\n",
              "      <td>8.00</td>\n",
              "      <td>43</td>\n",
              "      <td>EUR</td>\n",
              "      <td>100</td>\n",
              "      <td>0</td>\n",
              "      <td>3.57</td>\n",
              "      <td>14</td>\n",
              "      <td>5.0</td>\n",
              "      <td>4.0</td>\n",
              "      <td>2.0</td>\n",
              "      <td>0.0</td>\n",
              "      <td>3.0</td>\n",
              "      <td>0</td>\n",
              "      <td>0</td>\n",
              "      <td>0</td>\n",
              "      <td>0</td>\n",
              "      <td>Summer,cardigan,women beachwear,chiffon,Sexy w...</td>\n",
              "      <td>leopardprint</td>\n",
              "      <td>XS</td>\n",
              "      <td>1</td>\n",
              "      <td>Livraison standard</td>\n",
              "      <td>3</td>\n",
              "      <td>0</td>\n",
              "      <td>36</td>\n",
              "      <td>50</td>\n",
              "      <td>1.0</td>\n",
              "      <td>Quantité limitée !</td>\n",
              "      <td>CN</td>\n",
              "      <td>hxt520</td>\n",
              "      <td>hxt520</td>\n",
              "      <td>86 % avis positifs (295 notes)</td>\n",
              "      <td>295</td>\n",
              "      <td>3.989831</td>\n",
              "      <td>5d464a1ffdf7bc44ee933c65</td>\n",
              "      <td>0</td>\n",
              "      <td>NaN</td>\n",
              "      <td>https://www.wish.com/c/5ea10e2c617580260d55310a</td>\n",
              "      <td>https://contestimg.wish.com/api/webimage/5ea10...</td>\n",
              "      <td>5ea10e2c617580260d55310a</td>\n",
              "      <td>summer</td>\n",
              "      <td>2020-08</td>\n",
              "    </tr>\n",
              "    <tr>\n",
              "      <th>3</th>\n",
              "      <td>Hot Summer Cool T-shirt pour les femmes Mode T...</td>\n",
              "      <td>Hot Summer Cool T Shirt for Women Fashion Tops...</td>\n",
              "      <td>8.00</td>\n",
              "      <td>8</td>\n",
              "      <td>EUR</td>\n",
              "      <td>5000</td>\n",
              "      <td>1</td>\n",
              "      <td>4.03</td>\n",
              "      <td>579</td>\n",
              "      <td>295.0</td>\n",
              "      <td>119.0</td>\n",
              "      <td>87.0</td>\n",
              "      <td>42.0</td>\n",
              "      <td>36.0</td>\n",
              "      <td>0</td>\n",
              "      <td>0</td>\n",
              "      <td>0</td>\n",
              "      <td>0</td>\n",
              "      <td>Summer,Shorts,Cotton,Cotton T Shirt,Sleeve,pri...</td>\n",
              "      <td>black</td>\n",
              "      <td>M</td>\n",
              "      <td>50</td>\n",
              "      <td>Livraison standard</td>\n",
              "      <td>2</td>\n",
              "      <td>0</td>\n",
              "      <td>41</td>\n",
              "      <td>50</td>\n",
              "      <td>NaN</td>\n",
              "      <td>NaN</td>\n",
              "      <td>CN</td>\n",
              "      <td>allenfan</td>\n",
              "      <td>allenfan</td>\n",
              "      <td>(23,832 notes)</td>\n",
              "      <td>23832</td>\n",
              "      <td>4.020435</td>\n",
              "      <td>58cfdefdacb37b556efdff7c</td>\n",
              "      <td>0</td>\n",
              "      <td>NaN</td>\n",
              "      <td>https://www.wish.com/c/5cedf17ad1d44c52c59e4aca</td>\n",
              "      <td>https://contestimg.wish.com/api/webimage/5cedf...</td>\n",
              "      <td>5cedf17ad1d44c52c59e4aca</td>\n",
              "      <td>summer</td>\n",
              "      <td>2020-08</td>\n",
              "    </tr>\n",
              "    <tr>\n",
              "      <th>4</th>\n",
              "      <td>Femmes Shorts d'été à lacets taille élastique ...</td>\n",
              "      <td>Women Summer Shorts Lace Up Elastic Waistband ...</td>\n",
              "      <td>2.72</td>\n",
              "      <td>3</td>\n",
              "      <td>EUR</td>\n",
              "      <td>100</td>\n",
              "      <td>1</td>\n",
              "      <td>3.10</td>\n",
              "      <td>20</td>\n",
              "      <td>6.0</td>\n",
              "      <td>4.0</td>\n",
              "      <td>2.0</td>\n",
              "      <td>2.0</td>\n",
              "      <td>6.0</td>\n",
              "      <td>0</td>\n",
              "      <td>0</td>\n",
              "      <td>0</td>\n",
              "      <td>0</td>\n",
              "      <td>Summer,Plus Size,Lace,Casual pants,Bottom,pant...</td>\n",
              "      <td>yellow</td>\n",
              "      <td>S</td>\n",
              "      <td>1</td>\n",
              "      <td>Livraison standard</td>\n",
              "      <td>1</td>\n",
              "      <td>0</td>\n",
              "      <td>35</td>\n",
              "      <td>50</td>\n",
              "      <td>1.0</td>\n",
              "      <td>Quantité limitée !</td>\n",
              "      <td>CN</td>\n",
              "      <td>youngpeopleshop</td>\n",
              "      <td>happyhorses</td>\n",
              "      <td>85 % avis positifs (14,482 notes)</td>\n",
              "      <td>14482</td>\n",
              "      <td>4.001588</td>\n",
              "      <td>5ab3b592c3911a095ad5dadb</td>\n",
              "      <td>0</td>\n",
              "      <td>NaN</td>\n",
              "      <td>https://www.wish.com/c/5ebf5819ebac372b070b0e70</td>\n",
              "      <td>https://contestimg.wish.com/api/webimage/5ebf5...</td>\n",
              "      <td>5ebf5819ebac372b070b0e70</td>\n",
              "      <td>summer</td>\n",
              "      <td>2020-08</td>\n",
              "    </tr>\n",
              "  </tbody>\n",
              "</table>\n",
              "</div>"
            ],
            "text/plain": [
              "                                               title  \\\n",
              "0  2020 Summer Vintage Flamingo Print  Pajamas Se...   \n",
              "1  SSHOUSE Summer Casual Sleeveless Soirée Party ...   \n",
              "2  2020 Nouvelle Arrivée Femmes Printemps et Été ...   \n",
              "3  Hot Summer Cool T-shirt pour les femmes Mode T...   \n",
              "4  Femmes Shorts d'été à lacets taille élastique ...   \n",
              "\n",
              "                                          title_orig  price  retail_price  \\\n",
              "0  2020 Summer Vintage Flamingo Print  Pajamas Se...  16.00            14   \n",
              "1   Women's Casual Summer Sleeveless Sexy Mini Dress   8.00            22   \n",
              "2  2020 New Arrival Women Spring and Summer Beach...   8.00            43   \n",
              "3  Hot Summer Cool T Shirt for Women Fashion Tops...   8.00             8   \n",
              "4  Women Summer Shorts Lace Up Elastic Waistband ...   2.72             3   \n",
              "\n",
              "  currency_buyer  units_sold  uses_ad_boosts  rating  rating_count  \\\n",
              "0            EUR         100               0    3.76            54   \n",
              "1            EUR       20000               1    3.45          6135   \n",
              "2            EUR         100               0    3.57            14   \n",
              "3            EUR        5000               1    4.03           579   \n",
              "4            EUR         100               1    3.10            20   \n",
              "\n",
              "   rating_five_count  rating_four_count  rating_three_count  rating_two_count  \\\n",
              "0               26.0                8.0                10.0               1.0   \n",
              "1             2269.0             1027.0              1118.0             644.0   \n",
              "2                5.0                4.0                 2.0               0.0   \n",
              "3              295.0              119.0                87.0              42.0   \n",
              "4                6.0                4.0                 2.0               2.0   \n",
              "\n",
              "   rating_one_count  badges_count  badge_local_product  badge_product_quality  \\\n",
              "0               9.0             0                    0                      0   \n",
              "1            1077.0             0                    0                      0   \n",
              "2               3.0             0                    0                      0   \n",
              "3              36.0             0                    0                      0   \n",
              "4               6.0             0                    0                      0   \n",
              "\n",
              "   badge_fast_shipping                                               tags  \\\n",
              "0                    0  Summer,Fashion,womenunderwearsuit,printedpajam...   \n",
              "1                    0  Mini,womens dresses,Summer,Patchwork,fashion d...   \n",
              "2                    0  Summer,cardigan,women beachwear,chiffon,Sexy w...   \n",
              "3                    0  Summer,Shorts,Cotton,Cotton T Shirt,Sleeve,pri...   \n",
              "4                    0  Summer,Plus Size,Lace,Casual pants,Bottom,pant...   \n",
              "\n",
              "  product_color product_variation_size_id  product_variation_inventory  \\\n",
              "0         white                         M                           50   \n",
              "1         green                        XS                           50   \n",
              "2  leopardprint                        XS                            1   \n",
              "3         black                         M                           50   \n",
              "4        yellow                         S                            1   \n",
              "\n",
              "  shipping_option_name  shipping_option_price  shipping_is_express  \\\n",
              "0   Livraison standard                      4                    0   \n",
              "1   Livraison standard                      2                    0   \n",
              "2   Livraison standard                      3                    0   \n",
              "3   Livraison standard                      2                    0   \n",
              "4   Livraison standard                      1                    0   \n",
              "\n",
              "   countries_shipped_to  inventory_total  has_urgency_banner  \\\n",
              "0                    34               50                 1.0   \n",
              "1                    41               50                 1.0   \n",
              "2                    36               50                 1.0   \n",
              "3                    41               50                 NaN   \n",
              "4                    35               50                 1.0   \n",
              "\n",
              "         urgency_text origin_country   merchant_title merchant_name  \\\n",
              "0  Quantité limitée !             CN         zgrdejia      zgrdejia   \n",
              "1  Quantité limitée !             CN        SaraHouse     sarahouse   \n",
              "2  Quantité limitée !             CN           hxt520        hxt520   \n",
              "3                 NaN             CN         allenfan      allenfan   \n",
              "4  Quantité limitée !             CN  youngpeopleshop   happyhorses   \n",
              "\n",
              "              merchant_info_subtitle  merchant_rating_count  merchant_rating  \\\n",
              "0                        (568 notes)                    568         4.128521   \n",
              "1  83 % avis positifs (17,752 notes)                  17752         3.899673   \n",
              "2     86 % avis positifs (295 notes)                    295         3.989831   \n",
              "3                     (23,832 notes)                  23832         4.020435   \n",
              "4  85 % avis positifs (14,482 notes)                  14482         4.001588   \n",
              "\n",
              "                merchant_id  merchant_has_profile_picture  \\\n",
              "0  595097d6a26f6e070cb878d1                             0   \n",
              "1  56458aa03a698c35c9050988                             0   \n",
              "2  5d464a1ffdf7bc44ee933c65                             0   \n",
              "3  58cfdefdacb37b556efdff7c                             0   \n",
              "4  5ab3b592c3911a095ad5dadb                             0   \n",
              "\n",
              "  merchant_profile_picture                                      product_url  \\\n",
              "0                      NaN  https://www.wish.com/c/5e9ae51d43d6a96e303acdb0   \n",
              "1                      NaN  https://www.wish.com/c/58940d436a0d3d5da4e95a38   \n",
              "2                      NaN  https://www.wish.com/c/5ea10e2c617580260d55310a   \n",
              "3                      NaN  https://www.wish.com/c/5cedf17ad1d44c52c59e4aca   \n",
              "4                      NaN  https://www.wish.com/c/5ebf5819ebac372b070b0e70   \n",
              "\n",
              "                                     product_picture  \\\n",
              "0  https://contestimg.wish.com/api/webimage/5e9ae...   \n",
              "1  https://contestimg.wish.com/api/webimage/58940...   \n",
              "2  https://contestimg.wish.com/api/webimage/5ea10...   \n",
              "3  https://contestimg.wish.com/api/webimage/5cedf...   \n",
              "4  https://contestimg.wish.com/api/webimage/5ebf5...   \n",
              "\n",
              "                 product_id   theme crawl_month  \n",
              "0  5e9ae51d43d6a96e303acdb0  summer     2020-08  \n",
              "1  58940d436a0d3d5da4e95a38  summer     2020-08  \n",
              "2  5ea10e2c617580260d55310a  summer     2020-08  \n",
              "3  5cedf17ad1d44c52c59e4aca  summer     2020-08  \n",
              "4  5ebf5819ebac372b070b0e70  summer     2020-08  "
            ]
          },
          "metadata": {},
          "execution_count": 4
        }
      ]
    },
    {
      "cell_type": "markdown",
      "metadata": {
        "id": "JoE3JD1DUhrm"
      },
      "source": [
        "Una parte importante de trabajar bases de datos es la identificación de datos nulos. Las siguientes líneas de código ejemplifican este proceso."
      ]
    },
    {
      "cell_type": "code",
      "metadata": {
        "id": "KrfZzGmaUmXB",
        "colab": {
          "base_uri": "https://localhost:8080/"
        },
        "outputId": "cee383f9-5c5c-40ea-bb79-a0546b4cb357"
      },
      "source": [
        "bd.isnull().sum().sort_values(ascending=False) "
      ],
      "execution_count": 5,
      "outputs": [
        {
          "output_type": "execute_result",
          "data": {
            "text/plain": [
              "merchant_profile_picture        1347\n",
              "has_urgency_banner              1100\n",
              "urgency_text                    1100\n",
              "rating_one_count                  45\n",
              "rating_two_count                  45\n",
              "rating_three_count                45\n",
              "rating_four_count                 45\n",
              "rating_five_count                 45\n",
              "product_color                     41\n",
              "origin_country                    17\n",
              "product_variation_size_id         14\n",
              "merchant_name                      4\n",
              "merchant_info_subtitle             1\n",
              "crawl_month                        0\n",
              "badges_count                       0\n",
              "rating_count                       0\n",
              "badge_product_quality              0\n",
              "rating                             0\n",
              "uses_ad_boosts                     0\n",
              "units_sold                         0\n",
              "currency_buyer                     0\n",
              "retail_price                       0\n",
              "price                              0\n",
              "title_orig                         0\n",
              "badge_local_product                0\n",
              "product_variation_inventory        0\n",
              "badge_fast_shipping                0\n",
              "merchant_rating_count              0\n",
              "product_id                         0\n",
              "product_picture                    0\n",
              "product_url                        0\n",
              "merchant_has_profile_picture       0\n",
              "merchant_id                        0\n",
              "merchant_rating                    0\n",
              "merchant_title                     0\n",
              "tags                               0\n",
              "inventory_total                    0\n",
              "countries_shipped_to               0\n",
              "shipping_is_express                0\n",
              "shipping_option_price              0\n",
              "shipping_option_name               0\n",
              "theme                              0\n",
              "title                              0\n",
              "dtype: int64"
            ]
          },
          "metadata": {},
          "execution_count": 5
        }
      ]
    },
    {
      "cell_type": "markdown",
      "metadata": {
        "id": "WEc8NXcel_Ss"
      },
      "source": [
        "A continuación, se eliminan las columnas que no son necesarias para nuestro proyecto."
      ]
    },
    {
      "cell_type": "code",
      "metadata": {
        "id": "9MVFt3YHcXjg"
      },
      "source": [
        "bd.drop([\"merchant_id\", \"merchant_title\", \"merchant_name\", \"merchant_info_subtitle\",\"currency_buyer\",\"origin_country\",\"merchant_rating\",\"merchant_id\",\"merchant_has_profile_picture\",\"merchant_rating_count\"], axis=1, inplace=True)\n",
        "bd.drop([\"merchant_profile_picture\",\"has_urgency_banner\",\"urgency_text\",\"title\",\"theme\",\"title_orig\",\"product_color\",\"crawl_month\",\"shipping_option_name\",\"product_url\",\"product_picture\",\"countries_shipped_to\"],axis=1,inplace=True)"
      ],
      "execution_count": 6,
      "outputs": []
    },
    {
      "cell_type": "markdown",
      "metadata": {
        "id": "1_nDDPoufMov"
      },
      "source": [
        "En esta sección revisaremos las columnas:\n",
        "\n",
        "rating_one_count, \n",
        "rating_two_count,\n",
        "rating_third_count, \n",
        "rating_fourth_count, \n",
        "rating_five_count,\n",
        "rating y \n",
        "rating_count\n",
        "\n",
        "Las primeras 5 columnas tienen valores perdidos. Resultaron ser productos sin ninguna calificación, aunque por alguna razón la calificación de estos productos es 5, teniendo un rating_count de 0.\n",
        "\n",
        "Para estos productos, cambiamos la calificación y todas las calificaciones cuentan a 0, lo que indica que aún no obtuvieron ningún voto."
      ]
    },
    {
      "cell_type": "code",
      "metadata": {
        "id": "u8vuqX11e_YT",
        "colab": {
          "base_uri": "https://localhost:8080/",
          "height": 203
        },
        "outputId": "eaaa084a-b482-4e0c-8c94-1b23234ff650"
      },
      "source": [
        "rating_cols = [\"rating_one_count\", \"rating_two_count\", \"rating_three_count\", \"rating_four_count\", \"rating_five_count\", \"rating\", \"rating_count\"]\n",
        "\n",
        "no_vote_bd = bd.loc[bd[rating_cols].isna().any(axis=1), rating_cols]\n",
        "bd.loc[no_vote_bd.index, rating_cols] = 0\n",
        "\n",
        "bd.loc[no_vote_bd.index, rating_cols].head()"
      ],
      "execution_count": 7,
      "outputs": [
        {
          "output_type": "execute_result",
          "data": {
            "text/html": [
              "<div>\n",
              "<style scoped>\n",
              "    .dataframe tbody tr th:only-of-type {\n",
              "        vertical-align: middle;\n",
              "    }\n",
              "\n",
              "    .dataframe tbody tr th {\n",
              "        vertical-align: top;\n",
              "    }\n",
              "\n",
              "    .dataframe thead th {\n",
              "        text-align: right;\n",
              "    }\n",
              "</style>\n",
              "<table border=\"1\" class=\"dataframe\">\n",
              "  <thead>\n",
              "    <tr style=\"text-align: right;\">\n",
              "      <th></th>\n",
              "      <th>rating_one_count</th>\n",
              "      <th>rating_two_count</th>\n",
              "      <th>rating_three_count</th>\n",
              "      <th>rating_four_count</th>\n",
              "      <th>rating_five_count</th>\n",
              "      <th>rating</th>\n",
              "      <th>rating_count</th>\n",
              "    </tr>\n",
              "  </thead>\n",
              "  <tbody>\n",
              "    <tr>\n",
              "      <th>74</th>\n",
              "      <td>0.0</td>\n",
              "      <td>0.0</td>\n",
              "      <td>0.0</td>\n",
              "      <td>0.0</td>\n",
              "      <td>0.0</td>\n",
              "      <td>0.0</td>\n",
              "      <td>0</td>\n",
              "    </tr>\n",
              "    <tr>\n",
              "      <th>112</th>\n",
              "      <td>0.0</td>\n",
              "      <td>0.0</td>\n",
              "      <td>0.0</td>\n",
              "      <td>0.0</td>\n",
              "      <td>0.0</td>\n",
              "      <td>0.0</td>\n",
              "      <td>0</td>\n",
              "    </tr>\n",
              "    <tr>\n",
              "      <th>126</th>\n",
              "      <td>0.0</td>\n",
              "      <td>0.0</td>\n",
              "      <td>0.0</td>\n",
              "      <td>0.0</td>\n",
              "      <td>0.0</td>\n",
              "      <td>0.0</td>\n",
              "      <td>0</td>\n",
              "    </tr>\n",
              "    <tr>\n",
              "      <th>189</th>\n",
              "      <td>0.0</td>\n",
              "      <td>0.0</td>\n",
              "      <td>0.0</td>\n",
              "      <td>0.0</td>\n",
              "      <td>0.0</td>\n",
              "      <td>0.0</td>\n",
              "      <td>0</td>\n",
              "    </tr>\n",
              "    <tr>\n",
              "      <th>216</th>\n",
              "      <td>0.0</td>\n",
              "      <td>0.0</td>\n",
              "      <td>0.0</td>\n",
              "      <td>0.0</td>\n",
              "      <td>0.0</td>\n",
              "      <td>0.0</td>\n",
              "      <td>0</td>\n",
              "    </tr>\n",
              "  </tbody>\n",
              "</table>\n",
              "</div>"
            ],
            "text/plain": [
              "     rating_one_count  rating_two_count  rating_three_count  \\\n",
              "74                0.0               0.0                 0.0   \n",
              "112               0.0               0.0                 0.0   \n",
              "126               0.0               0.0                 0.0   \n",
              "189               0.0               0.0                 0.0   \n",
              "216               0.0               0.0                 0.0   \n",
              "\n",
              "     rating_four_count  rating_five_count  rating  rating_count  \n",
              "74                 0.0                0.0     0.0             0  \n",
              "112                0.0                0.0     0.0             0  \n",
              "126                0.0                0.0     0.0             0  \n",
              "189                0.0                0.0     0.0             0  \n",
              "216                0.0                0.0     0.0             0  "
            ]
          },
          "metadata": {},
          "execution_count": 7
        }
      ]
    },
    {
      "cell_type": "markdown",
      "metadata": {
        "id": "1bmhBx04jWBD"
      },
      "source": [
        "product_validation_size_id\n",
        "\n",
        "Esta es la variación de tamaño. Cambiamos los valores de la columna a XS, S, M, L y XL. Para los datos faltantes, se asumió \"M\".\n",
        "\n",
        "\n",
        "Muchos de estos tamaños son de diferentes escalas, así que necesitamos convertirlos a la misma escala y después los hicimos ordinales.\n"
      ]
    },
    {
      "cell_type": "code",
      "metadata": {
        "id": "8dBJUqVojJA2",
        "colab": {
          "base_uri": "https://localhost:8080/"
        },
        "outputId": "201980f3-5fe4-4275-fd8d-472bafe7ef73"
      },
      "source": [
        "bd[\"product_variation_size_id\"].value_counts()"
      ],
      "execution_count": 8,
      "outputs": [
        {
          "output_type": "execute_result",
          "data": {
            "text/plain": [
              "S           641\n",
              "XS          356\n",
              "M           200\n",
              "XXS         100\n",
              "L            49\n",
              "           ... \n",
              "B             1\n",
              "36            1\n",
              "White         1\n",
              "32/L          1\n",
              "1m by 3m      1\n",
              "Name: product_variation_size_id, Length: 106, dtype: int64"
            ]
          },
          "metadata": {},
          "execution_count": 8
        }
      ]
    },
    {
      "cell_type": "code",
      "metadata": {
        "id": "7osCrlasjI9-"
      },
      "source": [
        "def clean_sizes(s: str) -> str:\n",
        "    return re.findall(r\"M|X?[SsLl](?!\\w+)\", s)\n",
        "\n",
        "def convert_us_to_eu(s: str) -> str:\n",
        "    number = re.findall(\"\\d+\", s[0])[0]\n",
        "    \n",
        "    eu_to_letter = {\n",
        "        (0, 36): \"XS\",\n",
        "        (36, 40): \"S\",\n",
        "        (40, 44): \"M\",\n",
        "        (44, 48): \"L\",\n",
        "        (48, 52): \"XL\",\n",
        "        (52, 60): \"XXL\"\n",
        "    }\n",
        "    return [v for k, v in eu_to_letter.items() if k[0]<int(number)<k[1]][0]\n",
        "     \n",
        "original_sizes = bd[\"product_variation_size_id\"].dropna().unique()\n",
        "changed_to_letter = [re.sub(r\"EU\\s*\\d+\", convert_us_to_eu, s) for s in original_sizes]\n",
        "filtered_sizes = [clean_sizes(s) for s in changed_to_letter]"
      ],
      "execution_count": 9,
      "outputs": []
    },
    {
      "cell_type": "code",
      "metadata": {
        "id": "oQc8ctbRjI75"
      },
      "source": [
        "original_sizes = bd[\"product_variation_size_id\"].dropna()\n",
        "changed_to_letter = [re.sub(r\"EU\\s*\\d+\", convert_us_to_eu, s) for s in original_sizes]\n",
        "filtered_sizes = [clean_sizes(s) for s in changed_to_letter]"
      ],
      "execution_count": 10,
      "outputs": []
    },
    {
      "cell_type": "code",
      "metadata": {
        "id": "lvkWn8NhjI4w",
        "colab": {
          "base_uri": "https://localhost:8080/"
        },
        "outputId": "a97b7c1b-ca4d-4f08-fc6b-ab7d19f1d1d6"
      },
      "source": [
        "bd.loc[original_sizes.index, \"product_size\"] = [c[0].lower() if c != [] else np.nan for c in filtered_sizes ]\n",
        "bd[\"product_size\"].fillna(\"M\", inplace=True)\n",
        "bd[\"product_size\"].value_counts()"
      ],
      "execution_count": 11,
      "outputs": [
        {
          "output_type": "execute_result",
          "data": {
            "text/plain": [
              "s     704\n",
              "xs    485\n",
              "m     209\n",
              "l      59\n",
              "M      59\n",
              "xl     57\n",
              "Name: product_size, dtype: int64"
            ]
          },
          "metadata": {},
          "execution_count": 11
        }
      ]
    },
    {
      "cell_type": "code",
      "metadata": {
        "id": "tn9_s6EdjI2x",
        "colab": {
          "base_uri": "https://localhost:8080/"
        },
        "outputId": "fdee596e-e0d8-460e-e1c1-6e2f1865614d"
      },
      "source": [
        "bd[\"product_size\"] = OrdinalEncoder().fit_transform(bd[\"product_size\"].values.reshape(-1, 1))\n",
        "bd[\"product_size\"].value_counts()"
      ],
      "execution_count": 12,
      "outputs": [
        {
          "output_type": "execute_result",
          "data": {
            "text/plain": [
              "3.0    704\n",
              "5.0    485\n",
              "2.0    209\n",
              "0.0     59\n",
              "1.0     59\n",
              "4.0     57\n",
              "Name: product_size, dtype: int64"
            ]
          },
          "metadata": {},
          "execution_count": 12
        }
      ]
    },
    {
      "cell_type": "markdown",
      "metadata": {
        "id": "d3WDQKveln-V"
      },
      "source": [
        "Creamos una columna para el número de etiquetas de cada producto y despues quitaremos la columna tags"
      ]
    },
    {
      "cell_type": "code",
      "metadata": {
        "id": "MxZcnD2Clu9q"
      },
      "source": [
        "bd[\"n_tags\"] = bd[\"tags\"].apply(lambda x: len(x.split(\",\")))"
      ],
      "execution_count": 13,
      "outputs": []
    },
    {
      "cell_type": "code",
      "metadata": {
        "id": "o2GJbPaBLbgj"
      },
      "source": [
        "bd.drop([\"tags\",\"product_id\"],axis=1,inplace=True)"
      ],
      "execution_count": 14,
      "outputs": []
    },
    {
      "cell_type": "markdown",
      "metadata": {
        "id": "pt_OwykjKoVm"
      },
      "source": [
        "A continuación se guarda la base de datos ya limpia y modificada en un nuevo archivo csv."
      ]
    },
    {
      "cell_type": "code",
      "metadata": {
        "id": "ieh0EaM6ebJ2"
      },
      "source": [
        "wish=bd\n",
        "wish.to_csv('wish_datos_limpios.csv',index=True)"
      ],
      "execution_count": 15,
      "outputs": []
    },
    {
      "cell_type": "code",
      "metadata": {
        "id": "9WDB2xF7Kx8m",
        "colab": {
          "base_uri": "https://localhost:8080/",
          "height": 223
        },
        "outputId": "d12cab62-94cd-4986-f17b-cc64b919c9f7"
      },
      "source": [
        "wish.head()"
      ],
      "execution_count": 16,
      "outputs": [
        {
          "output_type": "execute_result",
          "data": {
            "text/html": [
              "<div>\n",
              "<style scoped>\n",
              "    .dataframe tbody tr th:only-of-type {\n",
              "        vertical-align: middle;\n",
              "    }\n",
              "\n",
              "    .dataframe tbody tr th {\n",
              "        vertical-align: top;\n",
              "    }\n",
              "\n",
              "    .dataframe thead th {\n",
              "        text-align: right;\n",
              "    }\n",
              "</style>\n",
              "<table border=\"1\" class=\"dataframe\">\n",
              "  <thead>\n",
              "    <tr style=\"text-align: right;\">\n",
              "      <th></th>\n",
              "      <th>price</th>\n",
              "      <th>retail_price</th>\n",
              "      <th>units_sold</th>\n",
              "      <th>uses_ad_boosts</th>\n",
              "      <th>rating</th>\n",
              "      <th>rating_count</th>\n",
              "      <th>rating_five_count</th>\n",
              "      <th>rating_four_count</th>\n",
              "      <th>rating_three_count</th>\n",
              "      <th>rating_two_count</th>\n",
              "      <th>rating_one_count</th>\n",
              "      <th>badges_count</th>\n",
              "      <th>badge_local_product</th>\n",
              "      <th>badge_product_quality</th>\n",
              "      <th>badge_fast_shipping</th>\n",
              "      <th>product_variation_size_id</th>\n",
              "      <th>product_variation_inventory</th>\n",
              "      <th>shipping_option_price</th>\n",
              "      <th>shipping_is_express</th>\n",
              "      <th>inventory_total</th>\n",
              "      <th>product_size</th>\n",
              "      <th>n_tags</th>\n",
              "    </tr>\n",
              "  </thead>\n",
              "  <tbody>\n",
              "    <tr>\n",
              "      <th>0</th>\n",
              "      <td>16.00</td>\n",
              "      <td>14</td>\n",
              "      <td>100</td>\n",
              "      <td>0</td>\n",
              "      <td>3.76</td>\n",
              "      <td>54</td>\n",
              "      <td>26.0</td>\n",
              "      <td>8.0</td>\n",
              "      <td>10.0</td>\n",
              "      <td>1.0</td>\n",
              "      <td>9.0</td>\n",
              "      <td>0</td>\n",
              "      <td>0</td>\n",
              "      <td>0</td>\n",
              "      <td>0</td>\n",
              "      <td>M</td>\n",
              "      <td>50</td>\n",
              "      <td>4</td>\n",
              "      <td>0</td>\n",
              "      <td>50</td>\n",
              "      <td>2.0</td>\n",
              "      <td>24</td>\n",
              "    </tr>\n",
              "    <tr>\n",
              "      <th>1</th>\n",
              "      <td>8.00</td>\n",
              "      <td>22</td>\n",
              "      <td>20000</td>\n",
              "      <td>1</td>\n",
              "      <td>3.45</td>\n",
              "      <td>6135</td>\n",
              "      <td>2269.0</td>\n",
              "      <td>1027.0</td>\n",
              "      <td>1118.0</td>\n",
              "      <td>644.0</td>\n",
              "      <td>1077.0</td>\n",
              "      <td>0</td>\n",
              "      <td>0</td>\n",
              "      <td>0</td>\n",
              "      <td>0</td>\n",
              "      <td>XS</td>\n",
              "      <td>50</td>\n",
              "      <td>2</td>\n",
              "      <td>0</td>\n",
              "      <td>50</td>\n",
              "      <td>5.0</td>\n",
              "      <td>15</td>\n",
              "    </tr>\n",
              "    <tr>\n",
              "      <th>2</th>\n",
              "      <td>8.00</td>\n",
              "      <td>43</td>\n",
              "      <td>100</td>\n",
              "      <td>0</td>\n",
              "      <td>3.57</td>\n",
              "      <td>14</td>\n",
              "      <td>5.0</td>\n",
              "      <td>4.0</td>\n",
              "      <td>2.0</td>\n",
              "      <td>0.0</td>\n",
              "      <td>3.0</td>\n",
              "      <td>0</td>\n",
              "      <td>0</td>\n",
              "      <td>0</td>\n",
              "      <td>0</td>\n",
              "      <td>XS</td>\n",
              "      <td>1</td>\n",
              "      <td>3</td>\n",
              "      <td>0</td>\n",
              "      <td>50</td>\n",
              "      <td>5.0</td>\n",
              "      <td>19</td>\n",
              "    </tr>\n",
              "    <tr>\n",
              "      <th>3</th>\n",
              "      <td>8.00</td>\n",
              "      <td>8</td>\n",
              "      <td>5000</td>\n",
              "      <td>1</td>\n",
              "      <td>4.03</td>\n",
              "      <td>579</td>\n",
              "      <td>295.0</td>\n",
              "      <td>119.0</td>\n",
              "      <td>87.0</td>\n",
              "      <td>42.0</td>\n",
              "      <td>36.0</td>\n",
              "      <td>0</td>\n",
              "      <td>0</td>\n",
              "      <td>0</td>\n",
              "      <td>0</td>\n",
              "      <td>M</td>\n",
              "      <td>50</td>\n",
              "      <td>2</td>\n",
              "      <td>0</td>\n",
              "      <td>50</td>\n",
              "      <td>2.0</td>\n",
              "      <td>18</td>\n",
              "    </tr>\n",
              "    <tr>\n",
              "      <th>4</th>\n",
              "      <td>2.72</td>\n",
              "      <td>3</td>\n",
              "      <td>100</td>\n",
              "      <td>1</td>\n",
              "      <td>3.10</td>\n",
              "      <td>20</td>\n",
              "      <td>6.0</td>\n",
              "      <td>4.0</td>\n",
              "      <td>2.0</td>\n",
              "      <td>2.0</td>\n",
              "      <td>6.0</td>\n",
              "      <td>0</td>\n",
              "      <td>0</td>\n",
              "      <td>0</td>\n",
              "      <td>0</td>\n",
              "      <td>S</td>\n",
              "      <td>1</td>\n",
              "      <td>1</td>\n",
              "      <td>0</td>\n",
              "      <td>50</td>\n",
              "      <td>3.0</td>\n",
              "      <td>13</td>\n",
              "    </tr>\n",
              "  </tbody>\n",
              "</table>\n",
              "</div>"
            ],
            "text/plain": [
              "   price  retail_price  units_sold  uses_ad_boosts  rating  rating_count  \\\n",
              "0  16.00            14         100               0    3.76            54   \n",
              "1   8.00            22       20000               1    3.45          6135   \n",
              "2   8.00            43         100               0    3.57            14   \n",
              "3   8.00             8        5000               1    4.03           579   \n",
              "4   2.72             3         100               1    3.10            20   \n",
              "\n",
              "   rating_five_count  rating_four_count  rating_three_count  rating_two_count  \\\n",
              "0               26.0                8.0                10.0               1.0   \n",
              "1             2269.0             1027.0              1118.0             644.0   \n",
              "2                5.0                4.0                 2.0               0.0   \n",
              "3              295.0              119.0                87.0              42.0   \n",
              "4                6.0                4.0                 2.0               2.0   \n",
              "\n",
              "   rating_one_count  badges_count  badge_local_product  badge_product_quality  \\\n",
              "0               9.0             0                    0                      0   \n",
              "1            1077.0             0                    0                      0   \n",
              "2               3.0             0                    0                      0   \n",
              "3              36.0             0                    0                      0   \n",
              "4               6.0             0                    0                      0   \n",
              "\n",
              "   badge_fast_shipping product_variation_size_id  product_variation_inventory  \\\n",
              "0                    0                         M                           50   \n",
              "1                    0                        XS                           50   \n",
              "2                    0                        XS                            1   \n",
              "3                    0                         M                           50   \n",
              "4                    0                         S                            1   \n",
              "\n",
              "   shipping_option_price  shipping_is_express  inventory_total  product_size  \\\n",
              "0                      4                    0               50           2.0   \n",
              "1                      2                    0               50           5.0   \n",
              "2                      3                    0               50           5.0   \n",
              "3                      2                    0               50           2.0   \n",
              "4                      1                    0               50           3.0   \n",
              "\n",
              "   n_tags  \n",
              "0      24  \n",
              "1      15  \n",
              "2      19  \n",
              "3      18  \n",
              "4      13  "
            ]
          },
          "metadata": {},
          "execution_count": 16
        }
      ]
    },
    {
      "cell_type": "markdown",
      "metadata": {
        "id": "6uXKJJ60BTDP"
      },
      "source": [
        "### **Estadística básica de los datos**\n"
      ]
    },
    {
      "cell_type": "markdown",
      "metadata": {
        "id": "olwSiYa6fBKb"
      },
      "source": [
        "A continuación, analizamos el comportamiento de nuestras variables obteniendo: el total de datos por columna, su promedio, la desviación estándar, mínimos, máximos y cuartiles"
      ]
    },
    {
      "cell_type": "code",
      "metadata": {
        "id": "aSBMFpoIk8SS",
        "colab": {
          "base_uri": "https://localhost:8080/",
          "height": 315
        },
        "outputId": "813c5890-02c0-4b42-de5b-95ca8f6cbd6d"
      },
      "source": [
        "wish.describe()"
      ],
      "execution_count": 17,
      "outputs": [
        {
          "output_type": "execute_result",
          "data": {
            "text/html": [
              "<div>\n",
              "<style scoped>\n",
              "    .dataframe tbody tr th:only-of-type {\n",
              "        vertical-align: middle;\n",
              "    }\n",
              "\n",
              "    .dataframe tbody tr th {\n",
              "        vertical-align: top;\n",
              "    }\n",
              "\n",
              "    .dataframe thead th {\n",
              "        text-align: right;\n",
              "    }\n",
              "</style>\n",
              "<table border=\"1\" class=\"dataframe\">\n",
              "  <thead>\n",
              "    <tr style=\"text-align: right;\">\n",
              "      <th></th>\n",
              "      <th>price</th>\n",
              "      <th>retail_price</th>\n",
              "      <th>units_sold</th>\n",
              "      <th>uses_ad_boosts</th>\n",
              "      <th>rating</th>\n",
              "      <th>rating_count</th>\n",
              "      <th>rating_five_count</th>\n",
              "      <th>rating_four_count</th>\n",
              "      <th>rating_three_count</th>\n",
              "      <th>rating_two_count</th>\n",
              "      <th>rating_one_count</th>\n",
              "      <th>badges_count</th>\n",
              "      <th>badge_local_product</th>\n",
              "      <th>badge_product_quality</th>\n",
              "      <th>badge_fast_shipping</th>\n",
              "      <th>product_variation_inventory</th>\n",
              "      <th>shipping_option_price</th>\n",
              "      <th>shipping_is_express</th>\n",
              "      <th>inventory_total</th>\n",
              "      <th>product_size</th>\n",
              "      <th>n_tags</th>\n",
              "    </tr>\n",
              "  </thead>\n",
              "  <tbody>\n",
              "    <tr>\n",
              "      <th>count</th>\n",
              "      <td>1573.000000</td>\n",
              "      <td>1573.000000</td>\n",
              "      <td>1573.000000</td>\n",
              "      <td>1573.000000</td>\n",
              "      <td>1573.000000</td>\n",
              "      <td>1573.000000</td>\n",
              "      <td>1573.000000</td>\n",
              "      <td>1573.000000</td>\n",
              "      <td>1573.000000</td>\n",
              "      <td>1573.000000</td>\n",
              "      <td>1573.000000</td>\n",
              "      <td>1573.000000</td>\n",
              "      <td>1573.000000</td>\n",
              "      <td>1573.000000</td>\n",
              "      <td>1573.000000</td>\n",
              "      <td>1573.000000</td>\n",
              "      <td>1573.000000</td>\n",
              "      <td>1573.000000</td>\n",
              "      <td>1573.000000</td>\n",
              "      <td>1573.000000</td>\n",
              "      <td>1573.000000</td>\n",
              "    </tr>\n",
              "    <tr>\n",
              "      <th>mean</th>\n",
              "      <td>8.325372</td>\n",
              "      <td>23.288620</td>\n",
              "      <td>4339.005086</td>\n",
              "      <td>0.432931</td>\n",
              "      <td>3.677858</td>\n",
              "      <td>889.659250</td>\n",
              "      <td>429.611570</td>\n",
              "      <td>174.461538</td>\n",
              "      <td>130.700572</td>\n",
              "      <td>61.888748</td>\n",
              "      <td>92.996821</td>\n",
              "      <td>0.105531</td>\n",
              "      <td>0.018436</td>\n",
              "      <td>0.074380</td>\n",
              "      <td>0.012715</td>\n",
              "      <td>33.081373</td>\n",
              "      <td>2.345200</td>\n",
              "      <td>0.002543</td>\n",
              "      <td>49.821360</td>\n",
              "      <td>3.332486</td>\n",
              "      <td>17.390337</td>\n",
              "    </tr>\n",
              "    <tr>\n",
              "      <th>std</th>\n",
              "      <td>3.932030</td>\n",
              "      <td>30.357863</td>\n",
              "      <td>9356.539302</td>\n",
              "      <td>0.495639</td>\n",
              "      <td>0.789466</td>\n",
              "      <td>1983.928834</td>\n",
              "      <td>968.882684</td>\n",
              "      <td>395.876511</td>\n",
              "      <td>308.015310</td>\n",
              "      <td>149.539900</td>\n",
              "      <td>211.592341</td>\n",
              "      <td>0.340709</td>\n",
              "      <td>0.134565</td>\n",
              "      <td>0.262472</td>\n",
              "      <td>0.112075</td>\n",
              "      <td>21.353137</td>\n",
              "      <td>1.024371</td>\n",
              "      <td>0.050379</td>\n",
              "      <td>2.562799</td>\n",
              "      <td>1.334393</td>\n",
              "      <td>4.066115</td>\n",
              "    </tr>\n",
              "    <tr>\n",
              "      <th>min</th>\n",
              "      <td>1.000000</td>\n",
              "      <td>1.000000</td>\n",
              "      <td>1.000000</td>\n",
              "      <td>0.000000</td>\n",
              "      <td>0.000000</td>\n",
              "      <td>0.000000</td>\n",
              "      <td>0.000000</td>\n",
              "      <td>0.000000</td>\n",
              "      <td>0.000000</td>\n",
              "      <td>0.000000</td>\n",
              "      <td>0.000000</td>\n",
              "      <td>0.000000</td>\n",
              "      <td>0.000000</td>\n",
              "      <td>0.000000</td>\n",
              "      <td>0.000000</td>\n",
              "      <td>1.000000</td>\n",
              "      <td>1.000000</td>\n",
              "      <td>0.000000</td>\n",
              "      <td>1.000000</td>\n",
              "      <td>0.000000</td>\n",
              "      <td>8.000000</td>\n",
              "    </tr>\n",
              "    <tr>\n",
              "      <th>25%</th>\n",
              "      <td>5.810000</td>\n",
              "      <td>7.000000</td>\n",
              "      <td>100.000000</td>\n",
              "      <td>0.000000</td>\n",
              "      <td>3.500000</td>\n",
              "      <td>24.000000</td>\n",
              "      <td>10.000000</td>\n",
              "      <td>4.000000</td>\n",
              "      <td>3.000000</td>\n",
              "      <td>1.000000</td>\n",
              "      <td>3.000000</td>\n",
              "      <td>0.000000</td>\n",
              "      <td>0.000000</td>\n",
              "      <td>0.000000</td>\n",
              "      <td>0.000000</td>\n",
              "      <td>6.000000</td>\n",
              "      <td>2.000000</td>\n",
              "      <td>0.000000</td>\n",
              "      <td>50.000000</td>\n",
              "      <td>3.000000</td>\n",
              "      <td>14.000000</td>\n",
              "    </tr>\n",
              "    <tr>\n",
              "      <th>50%</th>\n",
              "      <td>8.000000</td>\n",
              "      <td>10.000000</td>\n",
              "      <td>1000.000000</td>\n",
              "      <td>0.000000</td>\n",
              "      <td>3.810000</td>\n",
              "      <td>150.000000</td>\n",
              "      <td>72.000000</td>\n",
              "      <td>29.000000</td>\n",
              "      <td>22.000000</td>\n",
              "      <td>10.000000</td>\n",
              "      <td>18.000000</td>\n",
              "      <td>0.000000</td>\n",
              "      <td>0.000000</td>\n",
              "      <td>0.000000</td>\n",
              "      <td>0.000000</td>\n",
              "      <td>50.000000</td>\n",
              "      <td>2.000000</td>\n",
              "      <td>0.000000</td>\n",
              "      <td>50.000000</td>\n",
              "      <td>3.000000</td>\n",
              "      <td>17.000000</td>\n",
              "    </tr>\n",
              "    <tr>\n",
              "      <th>75%</th>\n",
              "      <td>11.000000</td>\n",
              "      <td>26.000000</td>\n",
              "      <td>5000.000000</td>\n",
              "      <td>1.000000</td>\n",
              "      <td>4.080000</td>\n",
              "      <td>855.000000</td>\n",
              "      <td>394.000000</td>\n",
              "      <td>163.000000</td>\n",
              "      <td>121.000000</td>\n",
              "      <td>59.000000</td>\n",
              "      <td>90.000000</td>\n",
              "      <td>0.000000</td>\n",
              "      <td>0.000000</td>\n",
              "      <td>0.000000</td>\n",
              "      <td>0.000000</td>\n",
              "      <td>50.000000</td>\n",
              "      <td>3.000000</td>\n",
              "      <td>0.000000</td>\n",
              "      <td>50.000000</td>\n",
              "      <td>5.000000</td>\n",
              "      <td>20.000000</td>\n",
              "    </tr>\n",
              "    <tr>\n",
              "      <th>max</th>\n",
              "      <td>49.000000</td>\n",
              "      <td>252.000000</td>\n",
              "      <td>100000.000000</td>\n",
              "      <td>1.000000</td>\n",
              "      <td>5.000000</td>\n",
              "      <td>20744.000000</td>\n",
              "      <td>11548.000000</td>\n",
              "      <td>4152.000000</td>\n",
              "      <td>3658.000000</td>\n",
              "      <td>2003.000000</td>\n",
              "      <td>2789.000000</td>\n",
              "      <td>3.000000</td>\n",
              "      <td>1.000000</td>\n",
              "      <td>1.000000</td>\n",
              "      <td>1.000000</td>\n",
              "      <td>50.000000</td>\n",
              "      <td>12.000000</td>\n",
              "      <td>1.000000</td>\n",
              "      <td>50.000000</td>\n",
              "      <td>5.000000</td>\n",
              "      <td>41.000000</td>\n",
              "    </tr>\n",
              "  </tbody>\n",
              "</table>\n",
              "</div>"
            ],
            "text/plain": [
              "             price  retail_price     units_sold  uses_ad_boosts       rating  \\\n",
              "count  1573.000000   1573.000000    1573.000000     1573.000000  1573.000000   \n",
              "mean      8.325372     23.288620    4339.005086        0.432931     3.677858   \n",
              "std       3.932030     30.357863    9356.539302        0.495639     0.789466   \n",
              "min       1.000000      1.000000       1.000000        0.000000     0.000000   \n",
              "25%       5.810000      7.000000     100.000000        0.000000     3.500000   \n",
              "50%       8.000000     10.000000    1000.000000        0.000000     3.810000   \n",
              "75%      11.000000     26.000000    5000.000000        1.000000     4.080000   \n",
              "max      49.000000    252.000000  100000.000000        1.000000     5.000000   \n",
              "\n",
              "       rating_count  rating_five_count  rating_four_count  rating_three_count  \\\n",
              "count   1573.000000        1573.000000        1573.000000         1573.000000   \n",
              "mean     889.659250         429.611570         174.461538          130.700572   \n",
              "std     1983.928834         968.882684         395.876511          308.015310   \n",
              "min        0.000000           0.000000           0.000000            0.000000   \n",
              "25%       24.000000          10.000000           4.000000            3.000000   \n",
              "50%      150.000000          72.000000          29.000000           22.000000   \n",
              "75%      855.000000         394.000000         163.000000          121.000000   \n",
              "max    20744.000000       11548.000000        4152.000000         3658.000000   \n",
              "\n",
              "       rating_two_count  rating_one_count  badges_count  badge_local_product  \\\n",
              "count       1573.000000       1573.000000   1573.000000          1573.000000   \n",
              "mean          61.888748         92.996821      0.105531             0.018436   \n",
              "std          149.539900        211.592341      0.340709             0.134565   \n",
              "min            0.000000          0.000000      0.000000             0.000000   \n",
              "25%            1.000000          3.000000      0.000000             0.000000   \n",
              "50%           10.000000         18.000000      0.000000             0.000000   \n",
              "75%           59.000000         90.000000      0.000000             0.000000   \n",
              "max         2003.000000       2789.000000      3.000000             1.000000   \n",
              "\n",
              "       badge_product_quality  badge_fast_shipping  \\\n",
              "count            1573.000000          1573.000000   \n",
              "mean                0.074380             0.012715   \n",
              "std                 0.262472             0.112075   \n",
              "min                 0.000000             0.000000   \n",
              "25%                 0.000000             0.000000   \n",
              "50%                 0.000000             0.000000   \n",
              "75%                 0.000000             0.000000   \n",
              "max                 1.000000             1.000000   \n",
              "\n",
              "       product_variation_inventory  shipping_option_price  \\\n",
              "count                  1573.000000            1573.000000   \n",
              "mean                     33.081373               2.345200   \n",
              "std                      21.353137               1.024371   \n",
              "min                       1.000000               1.000000   \n",
              "25%                       6.000000               2.000000   \n",
              "50%                      50.000000               2.000000   \n",
              "75%                      50.000000               3.000000   \n",
              "max                      50.000000              12.000000   \n",
              "\n",
              "       shipping_is_express  inventory_total  product_size       n_tags  \n",
              "count          1573.000000      1573.000000   1573.000000  1573.000000  \n",
              "mean              0.002543        49.821360      3.332486    17.390337  \n",
              "std               0.050379         2.562799      1.334393     4.066115  \n",
              "min               0.000000         1.000000      0.000000     8.000000  \n",
              "25%               0.000000        50.000000      3.000000    14.000000  \n",
              "50%               0.000000        50.000000      3.000000    17.000000  \n",
              "75%               0.000000        50.000000      5.000000    20.000000  \n",
              "max               1.000000        50.000000      5.000000    41.000000  "
            ]
          },
          "metadata": {},
          "execution_count": 17
        }
      ]
    },
    {
      "cell_type": "markdown",
      "metadata": {
        "id": "Kyt42gB-SVs8"
      },
      "source": [
        "Lo que más nos llamó la atención de esta tabla fue la diferencia de promedios entre el precio wish y el precio externo. De primera instancia, parece que Wish maneja precios bajos a comparación de la competencia. Además, viendo el número de ventas, el rango de datos es bastante amplio y esto ocasionó que la desviación estándar de los datos esté elevada."
      ]
    },
    {
      "cell_type": "markdown",
      "metadata": {
        "id": "wO3Q7Mxqir8C"
      },
      "source": [
        "A continuación, se muestra la matriz de correlación de la base de datos. Dicha información nos es de utilidad para saber si existe una relación directa o indirecta entre las variables."
      ]
    },
    {
      "cell_type": "code",
      "metadata": {
        "colab": {
          "base_uri": "https://localhost:8080/",
          "height": 716
        },
        "id": "X0VlnJe8s0RL",
        "outputId": "59bfde19-c136-4b9d-e321-7df1ef52ca4c"
      },
      "source": [
        "wish.corr()"
      ],
      "execution_count": 18,
      "outputs": [
        {
          "output_type": "execute_result",
          "data": {
            "text/html": [
              "<div>\n",
              "<style scoped>\n",
              "    .dataframe tbody tr th:only-of-type {\n",
              "        vertical-align: middle;\n",
              "    }\n",
              "\n",
              "    .dataframe tbody tr th {\n",
              "        vertical-align: top;\n",
              "    }\n",
              "\n",
              "    .dataframe thead th {\n",
              "        text-align: right;\n",
              "    }\n",
              "</style>\n",
              "<table border=\"1\" class=\"dataframe\">\n",
              "  <thead>\n",
              "    <tr style=\"text-align: right;\">\n",
              "      <th></th>\n",
              "      <th>price</th>\n",
              "      <th>retail_price</th>\n",
              "      <th>units_sold</th>\n",
              "      <th>uses_ad_boosts</th>\n",
              "      <th>rating</th>\n",
              "      <th>rating_count</th>\n",
              "      <th>rating_five_count</th>\n",
              "      <th>rating_four_count</th>\n",
              "      <th>rating_three_count</th>\n",
              "      <th>rating_two_count</th>\n",
              "      <th>rating_one_count</th>\n",
              "      <th>badges_count</th>\n",
              "      <th>badge_local_product</th>\n",
              "      <th>badge_product_quality</th>\n",
              "      <th>badge_fast_shipping</th>\n",
              "      <th>product_variation_inventory</th>\n",
              "      <th>shipping_option_price</th>\n",
              "      <th>shipping_is_express</th>\n",
              "      <th>inventory_total</th>\n",
              "      <th>product_size</th>\n",
              "      <th>n_tags</th>\n",
              "    </tr>\n",
              "  </thead>\n",
              "  <tbody>\n",
              "    <tr>\n",
              "      <th>price</th>\n",
              "      <td>1.000000</td>\n",
              "      <td>0.304748</td>\n",
              "      <td>-0.024815</td>\n",
              "      <td>-0.073269</td>\n",
              "      <td>0.050379</td>\n",
              "      <td>-0.001911</td>\n",
              "      <td>-0.000660</td>\n",
              "      <td>0.001648</td>\n",
              "      <td>-0.011343</td>\n",
              "      <td>-0.009483</td>\n",
              "      <td>0.005241</td>\n",
              "      <td>0.063542</td>\n",
              "      <td>0.069592</td>\n",
              "      <td>0.009512</td>\n",
              "      <td>0.087336</td>\n",
              "      <td>0.274819</td>\n",
              "      <td>0.872580</td>\n",
              "      <td>0.146751</td>\n",
              "      <td>-0.168222</td>\n",
              "      <td>-0.244089</td>\n",
              "      <td>0.047916</td>\n",
              "    </tr>\n",
              "    <tr>\n",
              "      <th>retail_price</th>\n",
              "      <td>0.304748</td>\n",
              "      <td>1.000000</td>\n",
              "      <td>0.012638</td>\n",
              "      <td>-0.035325</td>\n",
              "      <td>0.012816</td>\n",
              "      <td>0.053872</td>\n",
              "      <td>0.052374</td>\n",
              "      <td>0.060483</td>\n",
              "      <td>0.047875</td>\n",
              "      <td>0.045413</td>\n",
              "      <td>0.050345</td>\n",
              "      <td>0.019625</td>\n",
              "      <td>0.022677</td>\n",
              "      <td>0.000098</td>\n",
              "      <td>0.032201</td>\n",
              "      <td>0.118842</td>\n",
              "      <td>0.262516</td>\n",
              "      <td>-0.010047</td>\n",
              "      <td>-0.003041</td>\n",
              "      <td>-0.133321</td>\n",
              "      <td>0.028327</td>\n",
              "    </tr>\n",
              "    <tr>\n",
              "      <th>units_sold</th>\n",
              "      <td>-0.024815</td>\n",
              "      <td>0.012638</td>\n",
              "      <td>1.000000</td>\n",
              "      <td>-0.016055</td>\n",
              "      <td>0.109264</td>\n",
              "      <td>0.899464</td>\n",
              "      <td>0.876972</td>\n",
              "      <td>0.891761</td>\n",
              "      <td>0.894835</td>\n",
              "      <td>0.867406</td>\n",
              "      <td>0.833807</td>\n",
              "      <td>0.045402</td>\n",
              "      <td>-0.007544</td>\n",
              "      <td>0.063187</td>\n",
              "      <td>-0.000898</td>\n",
              "      <td>0.133846</td>\n",
              "      <td>-0.030987</td>\n",
              "      <td>-0.008308</td>\n",
              "      <td>0.005608</td>\n",
              "      <td>-0.133342</td>\n",
              "      <td>0.025363</td>\n",
              "    </tr>\n",
              "    <tr>\n",
              "      <th>uses_ad_boosts</th>\n",
              "      <td>-0.073269</td>\n",
              "      <td>-0.035325</td>\n",
              "      <td>-0.016055</td>\n",
              "      <td>1.000000</td>\n",
              "      <td>-0.028338</td>\n",
              "      <td>-0.043936</td>\n",
              "      <td>-0.043323</td>\n",
              "      <td>-0.043691</td>\n",
              "      <td>-0.041540</td>\n",
              "      <td>-0.043963</td>\n",
              "      <td>-0.040294</td>\n",
              "      <td>0.038173</td>\n",
              "      <td>0.061471</td>\n",
              "      <td>0.001697</td>\n",
              "      <td>0.038265</td>\n",
              "      <td>-0.135384</td>\n",
              "      <td>-0.061495</td>\n",
              "      <td>-0.018641</td>\n",
              "      <td>0.042395</td>\n",
              "      <td>0.041914</td>\n",
              "      <td>-0.086115</td>\n",
              "    </tr>\n",
              "    <tr>\n",
              "      <th>rating</th>\n",
              "      <td>0.050379</td>\n",
              "      <td>0.012816</td>\n",
              "      <td>0.109264</td>\n",
              "      <td>-0.028338</td>\n",
              "      <td>1.000000</td>\n",
              "      <td>0.116626</td>\n",
              "      <td>0.143732</td>\n",
              "      <td>0.120747</td>\n",
              "      <td>0.086529</td>\n",
              "      <td>0.059653</td>\n",
              "      <td>0.041326</td>\n",
              "      <td>0.187700</td>\n",
              "      <td>0.028576</td>\n",
              "      <td>0.223955</td>\n",
              "      <td>0.011811</td>\n",
              "      <td>0.061739</td>\n",
              "      <td>0.042534</td>\n",
              "      <td>0.024928</td>\n",
              "      <td>-0.047339</td>\n",
              "      <td>-0.118065</td>\n",
              "      <td>0.046121</td>\n",
              "    </tr>\n",
              "    <tr>\n",
              "      <th>rating_count</th>\n",
              "      <td>-0.001911</td>\n",
              "      <td>0.053872</td>\n",
              "      <td>0.899464</td>\n",
              "      <td>-0.043936</td>\n",
              "      <td>0.116626</td>\n",
              "      <td>1.000000</td>\n",
              "      <td>0.983434</td>\n",
              "      <td>0.995945</td>\n",
              "      <td>0.981581</td>\n",
              "      <td>0.946411</td>\n",
              "      <td>0.911927</td>\n",
              "      <td>0.077648</td>\n",
              "      <td>-0.002285</td>\n",
              "      <td>0.082852</td>\n",
              "      <td>0.044762</td>\n",
              "      <td>0.134246</td>\n",
              "      <td>-0.005928</td>\n",
              "      <td>-0.001137</td>\n",
              "      <td>0.008076</td>\n",
              "      <td>-0.125577</td>\n",
              "      <td>-0.000782</td>\n",
              "    </tr>\n",
              "    <tr>\n",
              "      <th>rating_five_count</th>\n",
              "      <td>-0.000660</td>\n",
              "      <td>0.052374</td>\n",
              "      <td>0.876972</td>\n",
              "      <td>-0.043323</td>\n",
              "      <td>0.143732</td>\n",
              "      <td>0.983434</td>\n",
              "      <td>1.000000</td>\n",
              "      <td>0.981310</td>\n",
              "      <td>0.933016</td>\n",
              "      <td>0.874361</td>\n",
              "      <td>0.829750</td>\n",
              "      <td>0.120916</td>\n",
              "      <td>0.002319</td>\n",
              "      <td>0.139067</td>\n",
              "      <td>0.039114</td>\n",
              "      <td>0.126979</td>\n",
              "      <td>-0.000976</td>\n",
              "      <td>0.006172</td>\n",
              "      <td>-0.000243</td>\n",
              "      <td>-0.133010</td>\n",
              "      <td>0.002105</td>\n",
              "    </tr>\n",
              "    <tr>\n",
              "      <th>rating_four_count</th>\n",
              "      <td>0.001648</td>\n",
              "      <td>0.060483</td>\n",
              "      <td>0.891761</td>\n",
              "      <td>-0.043691</td>\n",
              "      <td>0.120747</td>\n",
              "      <td>0.995945</td>\n",
              "      <td>0.981310</td>\n",
              "      <td>1.000000</td>\n",
              "      <td>0.976517</td>\n",
              "      <td>0.933517</td>\n",
              "      <td>0.892538</td>\n",
              "      <td>0.072289</td>\n",
              "      <td>-0.005892</td>\n",
              "      <td>0.079692</td>\n",
              "      <td>0.040199</td>\n",
              "      <td>0.135092</td>\n",
              "      <td>-0.003982</td>\n",
              "      <td>-0.004429</td>\n",
              "      <td>0.013147</td>\n",
              "      <td>-0.125162</td>\n",
              "      <td>-0.002190</td>\n",
              "    </tr>\n",
              "    <tr>\n",
              "      <th>rating_three_count</th>\n",
              "      <td>-0.011343</td>\n",
              "      <td>0.047875</td>\n",
              "      <td>0.894835</td>\n",
              "      <td>-0.041540</td>\n",
              "      <td>0.086529</td>\n",
              "      <td>0.981581</td>\n",
              "      <td>0.933016</td>\n",
              "      <td>0.976517</td>\n",
              "      <td>1.000000</td>\n",
              "      <td>0.984942</td>\n",
              "      <td>0.952396</td>\n",
              "      <td>0.029913</td>\n",
              "      <td>-0.007801</td>\n",
              "      <td>0.023842</td>\n",
              "      <td>0.044465</td>\n",
              "      <td>0.135342</td>\n",
              "      <td>-0.018233</td>\n",
              "      <td>-0.007781</td>\n",
              "      <td>0.016045</td>\n",
              "      <td>-0.111079</td>\n",
              "      <td>-0.004857</td>\n",
              "    </tr>\n",
              "    <tr>\n",
              "      <th>rating_two_count</th>\n",
              "      <td>-0.009483</td>\n",
              "      <td>0.045413</td>\n",
              "      <td>0.867406</td>\n",
              "      <td>-0.043963</td>\n",
              "      <td>0.059653</td>\n",
              "      <td>0.946411</td>\n",
              "      <td>0.874361</td>\n",
              "      <td>0.933517</td>\n",
              "      <td>0.984942</td>\n",
              "      <td>1.000000</td>\n",
              "      <td>0.982943</td>\n",
              "      <td>0.003439</td>\n",
              "      <td>-0.009477</td>\n",
              "      <td>-0.013419</td>\n",
              "      <td>0.053261</td>\n",
              "      <td>0.133836</td>\n",
              "      <td>-0.018245</td>\n",
              "      <td>-0.010686</td>\n",
              "      <td>0.017832</td>\n",
              "      <td>-0.101187</td>\n",
              "      <td>-0.002947</td>\n",
              "    </tr>\n",
              "    <tr>\n",
              "      <th>rating_one_count</th>\n",
              "      <td>0.005241</td>\n",
              "      <td>0.050345</td>\n",
              "      <td>0.833807</td>\n",
              "      <td>-0.040294</td>\n",
              "      <td>0.041326</td>\n",
              "      <td>0.911927</td>\n",
              "      <td>0.829750</td>\n",
              "      <td>0.892538</td>\n",
              "      <td>0.952396</td>\n",
              "      <td>0.982943</td>\n",
              "      <td>1.000000</td>\n",
              "      <td>-0.006852</td>\n",
              "      <td>-0.002969</td>\n",
              "      <td>-0.034278</td>\n",
              "      <td>0.063013</td>\n",
              "      <td>0.132924</td>\n",
              "      <td>-0.004224</td>\n",
              "      <td>-0.011755</td>\n",
              "      <td>0.016280</td>\n",
              "      <td>-0.101003</td>\n",
              "      <td>-0.003725</td>\n",
              "    </tr>\n",
              "    <tr>\n",
              "      <th>badges_count</th>\n",
              "      <td>0.063542</td>\n",
              "      <td>0.019625</td>\n",
              "      <td>0.045402</td>\n",
              "      <td>0.038173</td>\n",
              "      <td>0.187700</td>\n",
              "      <td>0.077648</td>\n",
              "      <td>0.120916</td>\n",
              "      <td>0.072289</td>\n",
              "      <td>0.029913</td>\n",
              "      <td>0.003439</td>\n",
              "      <td>-0.006852</td>\n",
              "      <td>1.000000</td>\n",
              "      <td>0.568036</td>\n",
              "      <td>0.801352</td>\n",
              "      <td>0.481274</td>\n",
              "      <td>0.031346</td>\n",
              "      <td>0.106984</td>\n",
              "      <td>0.317902</td>\n",
              "      <td>-0.093504</td>\n",
              "      <td>-0.096814</td>\n",
              "      <td>0.023512</td>\n",
              "    </tr>\n",
              "    <tr>\n",
              "      <th>badge_local_product</th>\n",
              "      <td>0.069592</td>\n",
              "      <td>0.022677</td>\n",
              "      <td>-0.007544</td>\n",
              "      <td>0.061471</td>\n",
              "      <td>0.028576</td>\n",
              "      <td>-0.002285</td>\n",
              "      <td>0.002319</td>\n",
              "      <td>-0.005892</td>\n",
              "      <td>-0.007801</td>\n",
              "      <td>-0.009477</td>\n",
              "      <td>-0.002969</td>\n",
              "      <td>0.568036</td>\n",
              "      <td>1.000000</td>\n",
              "      <td>0.069215</td>\n",
              "      <td>0.364066</td>\n",
              "      <td>-0.009599</td>\n",
              "      <td>0.101477</td>\n",
              "      <td>0.274585</td>\n",
              "      <td>-0.008890</td>\n",
              "      <td>-0.069586</td>\n",
              "      <td>-0.021299</td>\n",
              "    </tr>\n",
              "    <tr>\n",
              "      <th>badge_product_quality</th>\n",
              "      <td>0.009512</td>\n",
              "      <td>0.000098</td>\n",
              "      <td>0.063187</td>\n",
              "      <td>0.001697</td>\n",
              "      <td>0.223955</td>\n",
              "      <td>0.082852</td>\n",
              "      <td>0.139067</td>\n",
              "      <td>0.079692</td>\n",
              "      <td>0.023842</td>\n",
              "      <td>-0.013419</td>\n",
              "      <td>-0.034278</td>\n",
              "      <td>0.801352</td>\n",
              "      <td>0.069215</td>\n",
              "      <td>1.000000</td>\n",
              "      <td>0.011081</td>\n",
              "      <td>0.081776</td>\n",
              "      <td>0.022741</td>\n",
              "      <td>0.081902</td>\n",
              "      <td>-0.065347</td>\n",
              "      <td>-0.076103</td>\n",
              "      <td>0.053246</td>\n",
              "    </tr>\n",
              "    <tr>\n",
              "      <th>badge_fast_shipping</th>\n",
              "      <td>0.087336</td>\n",
              "      <td>0.032201</td>\n",
              "      <td>-0.000898</td>\n",
              "      <td>0.038265</td>\n",
              "      <td>0.011811</td>\n",
              "      <td>0.044762</td>\n",
              "      <td>0.039114</td>\n",
              "      <td>0.040199</td>\n",
              "      <td>0.044465</td>\n",
              "      <td>0.053261</td>\n",
              "      <td>0.063013</td>\n",
              "      <td>0.481274</td>\n",
              "      <td>0.364066</td>\n",
              "      <td>0.011081</td>\n",
              "      <td>1.000000</td>\n",
              "      <td>-0.084695</td>\n",
              "      <td>0.150136</td>\n",
              "      <td>0.444928</td>\n",
              "      <td>-0.120542</td>\n",
              "      <td>-0.032539</td>\n",
              "      <td>-0.027648</td>\n",
              "    </tr>\n",
              "    <tr>\n",
              "      <th>product_variation_inventory</th>\n",
              "      <td>0.274819</td>\n",
              "      <td>0.118842</td>\n",
              "      <td>0.133846</td>\n",
              "      <td>-0.135384</td>\n",
              "      <td>0.061739</td>\n",
              "      <td>0.134246</td>\n",
              "      <td>0.126979</td>\n",
              "      <td>0.135092</td>\n",
              "      <td>0.135342</td>\n",
              "      <td>0.133836</td>\n",
              "      <td>0.132924</td>\n",
              "      <td>0.031346</td>\n",
              "      <td>-0.009599</td>\n",
              "      <td>0.081776</td>\n",
              "      <td>-0.084695</td>\n",
              "      <td>1.000000</td>\n",
              "      <td>0.265225</td>\n",
              "      <td>0.011634</td>\n",
              "      <td>0.092285</td>\n",
              "      <td>-0.359297</td>\n",
              "      <td>0.022039</td>\n",
              "    </tr>\n",
              "    <tr>\n",
              "      <th>shipping_option_price</th>\n",
              "      <td>0.872580</td>\n",
              "      <td>0.262516</td>\n",
              "      <td>-0.030987</td>\n",
              "      <td>-0.061495</td>\n",
              "      <td>0.042534</td>\n",
              "      <td>-0.005928</td>\n",
              "      <td>-0.000976</td>\n",
              "      <td>-0.003982</td>\n",
              "      <td>-0.018233</td>\n",
              "      <td>-0.018245</td>\n",
              "      <td>-0.004224</td>\n",
              "      <td>0.106984</td>\n",
              "      <td>0.101477</td>\n",
              "      <td>0.022741</td>\n",
              "      <td>0.150136</td>\n",
              "      <td>0.265225</td>\n",
              "      <td>1.000000</td>\n",
              "      <td>0.278815</td>\n",
              "      <td>-0.159684</td>\n",
              "      <td>-0.245040</td>\n",
              "      <td>0.038036</td>\n",
              "    </tr>\n",
              "    <tr>\n",
              "      <th>shipping_is_express</th>\n",
              "      <td>0.146751</td>\n",
              "      <td>-0.010047</td>\n",
              "      <td>-0.008308</td>\n",
              "      <td>-0.018641</td>\n",
              "      <td>0.024928</td>\n",
              "      <td>-0.001137</td>\n",
              "      <td>0.006172</td>\n",
              "      <td>-0.004429</td>\n",
              "      <td>-0.007781</td>\n",
              "      <td>-0.010686</td>\n",
              "      <td>-0.011755</td>\n",
              "      <td>0.317902</td>\n",
              "      <td>0.274585</td>\n",
              "      <td>0.081902</td>\n",
              "      <td>0.444928</td>\n",
              "      <td>0.011634</td>\n",
              "      <td>0.278815</td>\n",
              "      <td>1.000000</td>\n",
              "      <td>-0.232975</td>\n",
              "      <td>-0.031510</td>\n",
              "      <td>-0.020376</td>\n",
              "    </tr>\n",
              "    <tr>\n",
              "      <th>inventory_total</th>\n",
              "      <td>-0.168222</td>\n",
              "      <td>-0.003041</td>\n",
              "      <td>0.005608</td>\n",
              "      <td>0.042395</td>\n",
              "      <td>-0.047339</td>\n",
              "      <td>0.008076</td>\n",
              "      <td>-0.000243</td>\n",
              "      <td>0.013147</td>\n",
              "      <td>0.016045</td>\n",
              "      <td>0.017832</td>\n",
              "      <td>0.016280</td>\n",
              "      <td>-0.093504</td>\n",
              "      <td>-0.008890</td>\n",
              "      <td>-0.065347</td>\n",
              "      <td>-0.120542</td>\n",
              "      <td>0.092285</td>\n",
              "      <td>-0.159684</td>\n",
              "      <td>-0.232975</td>\n",
              "      <td>1.000000</td>\n",
              "      <td>0.019239</td>\n",
              "      <td>0.016280</td>\n",
              "    </tr>\n",
              "    <tr>\n",
              "      <th>product_size</th>\n",
              "      <td>-0.244089</td>\n",
              "      <td>-0.133321</td>\n",
              "      <td>-0.133342</td>\n",
              "      <td>0.041914</td>\n",
              "      <td>-0.118065</td>\n",
              "      <td>-0.125577</td>\n",
              "      <td>-0.133010</td>\n",
              "      <td>-0.125162</td>\n",
              "      <td>-0.111079</td>\n",
              "      <td>-0.101187</td>\n",
              "      <td>-0.101003</td>\n",
              "      <td>-0.096814</td>\n",
              "      <td>-0.069586</td>\n",
              "      <td>-0.076103</td>\n",
              "      <td>-0.032539</td>\n",
              "      <td>-0.359297</td>\n",
              "      <td>-0.245040</td>\n",
              "      <td>-0.031510</td>\n",
              "      <td>0.019239</td>\n",
              "      <td>1.000000</td>\n",
              "      <td>0.048404</td>\n",
              "    </tr>\n",
              "    <tr>\n",
              "      <th>n_tags</th>\n",
              "      <td>0.047916</td>\n",
              "      <td>0.028327</td>\n",
              "      <td>0.025363</td>\n",
              "      <td>-0.086115</td>\n",
              "      <td>0.046121</td>\n",
              "      <td>-0.000782</td>\n",
              "      <td>0.002105</td>\n",
              "      <td>-0.002190</td>\n",
              "      <td>-0.004857</td>\n",
              "      <td>-0.002947</td>\n",
              "      <td>-0.003725</td>\n",
              "      <td>0.023512</td>\n",
              "      <td>-0.021299</td>\n",
              "      <td>0.053246</td>\n",
              "      <td>-0.027648</td>\n",
              "      <td>0.022039</td>\n",
              "      <td>0.038036</td>\n",
              "      <td>-0.020376</td>\n",
              "      <td>0.016280</td>\n",
              "      <td>0.048404</td>\n",
              "      <td>1.000000</td>\n",
              "    </tr>\n",
              "  </tbody>\n",
              "</table>\n",
              "</div>"
            ],
            "text/plain": [
              "                                price  retail_price  units_sold  \\\n",
              "price                        1.000000      0.304748   -0.024815   \n",
              "retail_price                 0.304748      1.000000    0.012638   \n",
              "units_sold                  -0.024815      0.012638    1.000000   \n",
              "uses_ad_boosts              -0.073269     -0.035325   -0.016055   \n",
              "rating                       0.050379      0.012816    0.109264   \n",
              "rating_count                -0.001911      0.053872    0.899464   \n",
              "rating_five_count           -0.000660      0.052374    0.876972   \n",
              "rating_four_count            0.001648      0.060483    0.891761   \n",
              "rating_three_count          -0.011343      0.047875    0.894835   \n",
              "rating_two_count            -0.009483      0.045413    0.867406   \n",
              "rating_one_count             0.005241      0.050345    0.833807   \n",
              "badges_count                 0.063542      0.019625    0.045402   \n",
              "badge_local_product          0.069592      0.022677   -0.007544   \n",
              "badge_product_quality        0.009512      0.000098    0.063187   \n",
              "badge_fast_shipping          0.087336      0.032201   -0.000898   \n",
              "product_variation_inventory  0.274819      0.118842    0.133846   \n",
              "shipping_option_price        0.872580      0.262516   -0.030987   \n",
              "shipping_is_express          0.146751     -0.010047   -0.008308   \n",
              "inventory_total             -0.168222     -0.003041    0.005608   \n",
              "product_size                -0.244089     -0.133321   -0.133342   \n",
              "n_tags                       0.047916      0.028327    0.025363   \n",
              "\n",
              "                             uses_ad_boosts    rating  rating_count  \\\n",
              "price                             -0.073269  0.050379     -0.001911   \n",
              "retail_price                      -0.035325  0.012816      0.053872   \n",
              "units_sold                        -0.016055  0.109264      0.899464   \n",
              "uses_ad_boosts                     1.000000 -0.028338     -0.043936   \n",
              "rating                            -0.028338  1.000000      0.116626   \n",
              "rating_count                      -0.043936  0.116626      1.000000   \n",
              "rating_five_count                 -0.043323  0.143732      0.983434   \n",
              "rating_four_count                 -0.043691  0.120747      0.995945   \n",
              "rating_three_count                -0.041540  0.086529      0.981581   \n",
              "rating_two_count                  -0.043963  0.059653      0.946411   \n",
              "rating_one_count                  -0.040294  0.041326      0.911927   \n",
              "badges_count                       0.038173  0.187700      0.077648   \n",
              "badge_local_product                0.061471  0.028576     -0.002285   \n",
              "badge_product_quality              0.001697  0.223955      0.082852   \n",
              "badge_fast_shipping                0.038265  0.011811      0.044762   \n",
              "product_variation_inventory       -0.135384  0.061739      0.134246   \n",
              "shipping_option_price             -0.061495  0.042534     -0.005928   \n",
              "shipping_is_express               -0.018641  0.024928     -0.001137   \n",
              "inventory_total                    0.042395 -0.047339      0.008076   \n",
              "product_size                       0.041914 -0.118065     -0.125577   \n",
              "n_tags                            -0.086115  0.046121     -0.000782   \n",
              "\n",
              "                             rating_five_count  rating_four_count  \\\n",
              "price                                -0.000660           0.001648   \n",
              "retail_price                          0.052374           0.060483   \n",
              "units_sold                            0.876972           0.891761   \n",
              "uses_ad_boosts                       -0.043323          -0.043691   \n",
              "rating                                0.143732           0.120747   \n",
              "rating_count                          0.983434           0.995945   \n",
              "rating_five_count                     1.000000           0.981310   \n",
              "rating_four_count                     0.981310           1.000000   \n",
              "rating_three_count                    0.933016           0.976517   \n",
              "rating_two_count                      0.874361           0.933517   \n",
              "rating_one_count                      0.829750           0.892538   \n",
              "badges_count                          0.120916           0.072289   \n",
              "badge_local_product                   0.002319          -0.005892   \n",
              "badge_product_quality                 0.139067           0.079692   \n",
              "badge_fast_shipping                   0.039114           0.040199   \n",
              "product_variation_inventory           0.126979           0.135092   \n",
              "shipping_option_price                -0.000976          -0.003982   \n",
              "shipping_is_express                   0.006172          -0.004429   \n",
              "inventory_total                      -0.000243           0.013147   \n",
              "product_size                         -0.133010          -0.125162   \n",
              "n_tags                                0.002105          -0.002190   \n",
              "\n",
              "                             rating_three_count  rating_two_count  \\\n",
              "price                                 -0.011343         -0.009483   \n",
              "retail_price                           0.047875          0.045413   \n",
              "units_sold                             0.894835          0.867406   \n",
              "uses_ad_boosts                        -0.041540         -0.043963   \n",
              "rating                                 0.086529          0.059653   \n",
              "rating_count                           0.981581          0.946411   \n",
              "rating_five_count                      0.933016          0.874361   \n",
              "rating_four_count                      0.976517          0.933517   \n",
              "rating_three_count                     1.000000          0.984942   \n",
              "rating_two_count                       0.984942          1.000000   \n",
              "rating_one_count                       0.952396          0.982943   \n",
              "badges_count                           0.029913          0.003439   \n",
              "badge_local_product                   -0.007801         -0.009477   \n",
              "badge_product_quality                  0.023842         -0.013419   \n",
              "badge_fast_shipping                    0.044465          0.053261   \n",
              "product_variation_inventory            0.135342          0.133836   \n",
              "shipping_option_price                 -0.018233         -0.018245   \n",
              "shipping_is_express                   -0.007781         -0.010686   \n",
              "inventory_total                        0.016045          0.017832   \n",
              "product_size                          -0.111079         -0.101187   \n",
              "n_tags                                -0.004857         -0.002947   \n",
              "\n",
              "                             rating_one_count  badges_count  \\\n",
              "price                                0.005241      0.063542   \n",
              "retail_price                         0.050345      0.019625   \n",
              "units_sold                           0.833807      0.045402   \n",
              "uses_ad_boosts                      -0.040294      0.038173   \n",
              "rating                               0.041326      0.187700   \n",
              "rating_count                         0.911927      0.077648   \n",
              "rating_five_count                    0.829750      0.120916   \n",
              "rating_four_count                    0.892538      0.072289   \n",
              "rating_three_count                   0.952396      0.029913   \n",
              "rating_two_count                     0.982943      0.003439   \n",
              "rating_one_count                     1.000000     -0.006852   \n",
              "badges_count                        -0.006852      1.000000   \n",
              "badge_local_product                 -0.002969      0.568036   \n",
              "badge_product_quality               -0.034278      0.801352   \n",
              "badge_fast_shipping                  0.063013      0.481274   \n",
              "product_variation_inventory          0.132924      0.031346   \n",
              "shipping_option_price               -0.004224      0.106984   \n",
              "shipping_is_express                 -0.011755      0.317902   \n",
              "inventory_total                      0.016280     -0.093504   \n",
              "product_size                        -0.101003     -0.096814   \n",
              "n_tags                              -0.003725      0.023512   \n",
              "\n",
              "                             badge_local_product  badge_product_quality  \\\n",
              "price                                   0.069592               0.009512   \n",
              "retail_price                            0.022677               0.000098   \n",
              "units_sold                             -0.007544               0.063187   \n",
              "uses_ad_boosts                          0.061471               0.001697   \n",
              "rating                                  0.028576               0.223955   \n",
              "rating_count                           -0.002285               0.082852   \n",
              "rating_five_count                       0.002319               0.139067   \n",
              "rating_four_count                      -0.005892               0.079692   \n",
              "rating_three_count                     -0.007801               0.023842   \n",
              "rating_two_count                       -0.009477              -0.013419   \n",
              "rating_one_count                       -0.002969              -0.034278   \n",
              "badges_count                            0.568036               0.801352   \n",
              "badge_local_product                     1.000000               0.069215   \n",
              "badge_product_quality                   0.069215               1.000000   \n",
              "badge_fast_shipping                     0.364066               0.011081   \n",
              "product_variation_inventory            -0.009599               0.081776   \n",
              "shipping_option_price                   0.101477               0.022741   \n",
              "shipping_is_express                     0.274585               0.081902   \n",
              "inventory_total                        -0.008890              -0.065347   \n",
              "product_size                           -0.069586              -0.076103   \n",
              "n_tags                                 -0.021299               0.053246   \n",
              "\n",
              "                             badge_fast_shipping  product_variation_inventory  \\\n",
              "price                                   0.087336                     0.274819   \n",
              "retail_price                            0.032201                     0.118842   \n",
              "units_sold                             -0.000898                     0.133846   \n",
              "uses_ad_boosts                          0.038265                    -0.135384   \n",
              "rating                                  0.011811                     0.061739   \n",
              "rating_count                            0.044762                     0.134246   \n",
              "rating_five_count                       0.039114                     0.126979   \n",
              "rating_four_count                       0.040199                     0.135092   \n",
              "rating_three_count                      0.044465                     0.135342   \n",
              "rating_two_count                        0.053261                     0.133836   \n",
              "rating_one_count                        0.063013                     0.132924   \n",
              "badges_count                            0.481274                     0.031346   \n",
              "badge_local_product                     0.364066                    -0.009599   \n",
              "badge_product_quality                   0.011081                     0.081776   \n",
              "badge_fast_shipping                     1.000000                    -0.084695   \n",
              "product_variation_inventory            -0.084695                     1.000000   \n",
              "shipping_option_price                   0.150136                     0.265225   \n",
              "shipping_is_express                     0.444928                     0.011634   \n",
              "inventory_total                        -0.120542                     0.092285   \n",
              "product_size                           -0.032539                    -0.359297   \n",
              "n_tags                                 -0.027648                     0.022039   \n",
              "\n",
              "                             shipping_option_price  shipping_is_express  \\\n",
              "price                                     0.872580             0.146751   \n",
              "retail_price                              0.262516            -0.010047   \n",
              "units_sold                               -0.030987            -0.008308   \n",
              "uses_ad_boosts                           -0.061495            -0.018641   \n",
              "rating                                    0.042534             0.024928   \n",
              "rating_count                             -0.005928            -0.001137   \n",
              "rating_five_count                        -0.000976             0.006172   \n",
              "rating_four_count                        -0.003982            -0.004429   \n",
              "rating_three_count                       -0.018233            -0.007781   \n",
              "rating_two_count                         -0.018245            -0.010686   \n",
              "rating_one_count                         -0.004224            -0.011755   \n",
              "badges_count                              0.106984             0.317902   \n",
              "badge_local_product                       0.101477             0.274585   \n",
              "badge_product_quality                     0.022741             0.081902   \n",
              "badge_fast_shipping                       0.150136             0.444928   \n",
              "product_variation_inventory               0.265225             0.011634   \n",
              "shipping_option_price                     1.000000             0.278815   \n",
              "shipping_is_express                       0.278815             1.000000   \n",
              "inventory_total                          -0.159684            -0.232975   \n",
              "product_size                             -0.245040            -0.031510   \n",
              "n_tags                                    0.038036            -0.020376   \n",
              "\n",
              "                             inventory_total  product_size    n_tags  \n",
              "price                              -0.168222     -0.244089  0.047916  \n",
              "retail_price                       -0.003041     -0.133321  0.028327  \n",
              "units_sold                          0.005608     -0.133342  0.025363  \n",
              "uses_ad_boosts                      0.042395      0.041914 -0.086115  \n",
              "rating                             -0.047339     -0.118065  0.046121  \n",
              "rating_count                        0.008076     -0.125577 -0.000782  \n",
              "rating_five_count                  -0.000243     -0.133010  0.002105  \n",
              "rating_four_count                   0.013147     -0.125162 -0.002190  \n",
              "rating_three_count                  0.016045     -0.111079 -0.004857  \n",
              "rating_two_count                    0.017832     -0.101187 -0.002947  \n",
              "rating_one_count                    0.016280     -0.101003 -0.003725  \n",
              "badges_count                       -0.093504     -0.096814  0.023512  \n",
              "badge_local_product                -0.008890     -0.069586 -0.021299  \n",
              "badge_product_quality              -0.065347     -0.076103  0.053246  \n",
              "badge_fast_shipping                -0.120542     -0.032539 -0.027648  \n",
              "product_variation_inventory         0.092285     -0.359297  0.022039  \n",
              "shipping_option_price              -0.159684     -0.245040  0.038036  \n",
              "shipping_is_express                -0.232975     -0.031510 -0.020376  \n",
              "inventory_total                     1.000000      0.019239  0.016280  \n",
              "product_size                        0.019239      1.000000  0.048404  \n",
              "n_tags                              0.016280      0.048404  1.000000  "
            ]
          },
          "metadata": {},
          "execution_count": 18
        }
      ]
    },
    {
      "cell_type": "markdown",
      "metadata": {
        "id": "FDq4Ndh3iqGI"
      },
      "source": [
        "Las columnas que muestran una mayor correlación (alrededor de 0.9) son *rating_one_count, \n",
        "rating_two_count,\n",
        "rating_third_count, \n",
        "rating_fourth_count, \n",
        "rating_five_count y \n",
        "rating_count* con la columna *units sold*.\n",
        "\n",
        "Esto puede significar que estas variables nos pueden ser muy utiles a la hora de hacer predicciones."
      ]
    },
    {
      "cell_type": "markdown",
      "metadata": {
        "id": "Jh0pdB3L3hZ4"
      },
      "source": [
        "###**Gráficas**"
      ]
    },
    {
      "cell_type": "markdown",
      "metadata": {
        "id": "-XgZaAxA7Nbd"
      },
      "source": [
        "La primera gráfica que quisimos realizar es una gráfica de barras de las tallas. Se graficaron las diferentes tallas ya agrupadas para buscar cual es la preferida por el cliente."
      ]
    },
    {
      "cell_type": "code",
      "metadata": {
        "id": "E7v7yUbYv_6E"
      },
      "source": [
        "def pr_var(name):\n",
        "    if name == 'XXXS' \\\n",
        "    or name == 'XXS' \\\n",
        "    or name == 'XS' \\\n",
        "    or name == 'S' \\\n",
        "    or name == 'M' \\\n",
        "    or name == 'L' \\\n",
        "    or name == 'XL' \\\n",
        "    or name == 'XXL' \\\n",
        "    or name == 'XXXXL' \\\n",
        "    or name == 'XXXXXL':\n",
        "        return name\n",
        "    else:\n",
        "        return \"OTHER\"\n",
        "    \n",
        "wish['product_variation_size_id'] = wish['product_variation_size_id'].replace(np.nan, 'OTHER')\n",
        "wish['product_variation_size_id'] = wish['product_variation_size_id'].apply(pr_var)"
      ],
      "execution_count": 19,
      "outputs": []
    },
    {
      "cell_type": "code",
      "metadata": {
        "id": "PiPfvfASvtgN",
        "colab": {
          "base_uri": "https://localhost:8080/",
          "height": 698
        },
        "outputId": "6bf84df3-af0b-4044-ec32-b01ab2c4d8b9"
      },
      "source": [
        "fig_dims = (10, 10)\n",
        "fig, ax = plt.subplots(figsize=fig_dims)\n",
        "sns.countplot('product_variation_size_id',\n",
        "              order = wish['product_variation_size_id'].value_counts().index,\n",
        "              data = wish,\n",
        "              ax = ax)\n",
        "ax.set(xlabel='Size', ylabel='Count')\n",
        "plt.show()"
      ],
      "execution_count": 25,
      "outputs": [
        {
          "output_type": "stream",
          "name": "stderr",
          "text": [
            "/usr/local/lib/python3.7/dist-packages/seaborn/_decorators.py:43: FutureWarning:\n",
            "\n",
            "Pass the following variable as a keyword arg: x. From version 0.12, the only valid positional argument will be `data`, and passing other arguments without an explicit keyword will result in an error or misinterpretation.\n",
            "\n"
          ]
        },
        {
          "output_type": "display_data",
          "data": {
            "image/png": "[encoded data removed]",
            "text/plain": [
              "<Figure size 720x720 with 1 Axes>"
            ]
          },
          "metadata": {
            "needs_background": "light"
          }
        }
      ]
    },
    {
      "cell_type": "markdown",
      "metadata": {
        "id": "SeG4Hby74SO7"
      },
      "source": [
        "De esta gráfica de barras podemos saber que la talla que más se compra en esta plataforma es la \"S\" seguida por la \"XS\" y esto nos puede ayudar a saber que tallas surtir más y tenemos que tener un stock en el inventario. Por otro lado, las tallas más grandes son las que menos se venden, por lo tanto son las que menos se deben tener en el inventario."
      ]
    },
    {
      "cell_type": "markdown",
      "metadata": {
        "id": "PBkEt4Gtt3Qo"
      },
      "source": [
        "Con la ayuda del mapa de calor, podemos ver la correlación de las variables de nuestra base de datos."
      ]
    },
    {
      "cell_type": "code",
      "metadata": {
        "id": "cqd_rkdGu1y9",
        "colab": {
          "base_uri": "https://localhost:8080/",
          "height": 798
        },
        "outputId": "c987ec06-3cab-438d-8969-b4cab2d1f4e9"
      },
      "source": [
        "f,ax=plt.subplots(figsize = (25,15))\n",
        "sns.heatmap(bd.corr(),annot= True,linewidths=0.5,fmt = \".1f\",ax=ax)\n",
        "plt.xticks(rotation=90)\n",
        "plt.yticks(rotation=0)\n",
        "plt.title('Mapa de correlación')\n",
        "plt.show()"
      ],
      "execution_count": 21,
      "outputs": [
        {
          "output_type": "display_data",
          "data": {
            "image/png": "[encoded data removed]",
            "text/plain": [
              "<Figure size 1800x1080 with 2 Axes>"
            ]
          },
          "metadata": {
            "needs_background": "light"
          }
        }
      ]
    },
    {
      "cell_type": "markdown",
      "metadata": {
        "id": "VAouggei0twR"
      },
      "source": [
        "Después de realizar este gráfico, nos dimos cuenta que la variable units_sold tiene una alta correlación con las columnas de rating_count. Esto quiere decir que el numero de ventas y la cantidad de calificaciones por producto nos pueden resultar muy útiles más tarde para poder lograr nuestro objetivo de predecir el éxito de ventas."
      ]
    },
    {
      "cell_type": "code",
      "metadata": {
        "id": "Z_9y3xQOu1t3",
        "colab": {
          "base_uri": "https://localhost:8080/",
          "height": 406
        },
        "outputId": "f69643e1-acca-419c-dd06-cfb12bded13f"
      },
      "source": [
        "sns.distplot(bd['rating'])\n",
        "print(\"Sesgo: %f\" % bd['rating'].skew())\n",
        "print(\"Curtosis: %f\" % bd['rating'].kurt())"
      ],
      "execution_count": 22,
      "outputs": [
        {
          "output_type": "stream",
          "name": "stderr",
          "text": [
            "/usr/local/lib/python3.7/dist-packages/seaborn/distributions.py:2619: FutureWarning:\n",
            "\n",
            "`distplot` is a deprecated function and will be removed in a future version. Please adapt your code to use either `displot` (a figure-level function with similar flexibility) or `histplot` (an axes-level function for histograms).\n",
            "\n"
          ]
        },
        {
          "output_type": "stream",
          "name": "stdout",
          "text": [
            "Sesgo: -2.942432\n",
            "Curtosis: 11.324077\n"
          ]
        },
        {
          "output_type": "display_data",
          "data": {
            "image/png": "[encoded data removed]",
            "text/plain": [
              "<Figure size 432x288 with 1 Axes>"
            ]
          },
          "metadata": {
            "needs_background": "light"
          }
        }
      ]
    },
    {
      "cell_type": "markdown",
      "metadata": {
        "id": "ixHcRG_S3Hxl"
      },
      "source": [
        "En la gráfica de arriba podemos observar la distribución de los datos de la columna rating, la cuál esta ligeramente sesgada a la derecha y cuenta con una gran curtosis. Podemos notar que es muy probable que a un producto le pongan una calificación de 4 estrellas."
      ]
    },
    {
      "cell_type": "code",
      "metadata": {
        "id": "2IDi50WYu1oR",
        "colab": {
          "base_uri": "https://localhost:8080/",
          "height": 268
        },
        "outputId": "8cb963d4-a7c6-4e0b-b72a-c510cda6e306"
      },
      "source": [
        "b = bd[\"price\"]\n",
        "a = bd[\"retail_price\"]\n",
        "\n",
        "plt.hist(a, alpha = 0.5, label='Precio externo')\n",
        "plt.hist(b, alpha = 0.5, label='Precio wish',color=\"g\")\n",
        "plt.legend(loc='upper right')\n",
        "plt.xlim(0,175)\n",
        "plt.show()"
      ],
      "execution_count": 23,
      "outputs": [
        {
          "output_type": "display_data",
          "data": {
            "image/png": "[encoded data removed]",
            "text/plain": [
              "<Figure size 432x288 with 1 Axes>"
            ]
          },
          "metadata": {
            "needs_background": "light"
          }
        }
      ]
    },
    {
      "cell_type": "markdown",
      "metadata": {
        "id": "oK3A91Uk3hah"
      },
      "source": [
        "En la gráfica de arriba comparamos el precio externo con el precio wish. Claramente se puede apreciar que el precio externo es más elevado que el precio wish porque el precio externo, que es la parte azul, se extiende por el eje x, mientras que el precio wish, que es la parte verde, se mantiene en valores menores a 20. \n"
      ]
    },
    {
      "cell_type": "code",
      "metadata": {
        "colab": {
          "base_uri": "https://localhost:8080/",
          "height": 402
        },
        "id": "EaLIF1f_asAQ",
        "outputId": "58c4c472-a7ba-44b8-f101-a9ff727e1a80"
      },
      "source": [
        "sns.lmplot(x='shipping_option_price', y='price', data=wish,fit_reg=False)\n",
        "plt.title('Relación entre precio de envío y precio del producto')"
      ],
      "execution_count": 24,
      "outputs": [
        {
          "output_type": "execute_result",
          "data": {
            "text/plain": [
              "Text(0.5, 1.0, 'Relación entre precio de envío y precio del producto')"
            ]
          },
          "metadata": {},
          "execution_count": 24
        },
        {
          "output_type": "display_data",
          "data": {
            "image/png": "[encoded data removed]",
            "text/plain": [
              "<Figure size 360x360 with 1 Axes>"
            ]
          },
          "metadata": {
            "needs_background": "light"
          }
        }
      ]
    },
    {
      "cell_type": "markdown",
      "metadata": {
        "id": "cpWLQBCqZ4ZX"
      },
      "source": [
        "Del scatter plot, se puede ver una tendencia lineal que, a medida que aumenta el precio de envío, el precio wish también lo hace, por lo que en lo que respecta a un análisis gráfico, persiste la idea de que estas dos variables muestran una relación entre sí"
      ]
    },
    {
      "cell_type": "markdown",
      "metadata": {
        "id": "BPNKGyuM1RXH"
      },
      "source": [
        "## **Conclusión**"
      ]
    },
    {
      "cell_type": "markdown",
      "metadata": {
        "id": "cQt_S9EP1U6n"
      },
      "source": [
        "Después de haber realizado diferentes gráficas, pudimos notar que, tenemos varias variables (como las columnas de rating) que creemos que nos pueden ayudar mucho a contruir un modelo para predecir el éxito de viernes. Sin embargo, esto lo podríamos ver con mayor claridad a la hora de usar las técnicas de míneria.\n",
        "\n",
        "\n",
        "En cuanto a los demás objetivos se observó que el precio de envío y el precio wish muestran una relación lineal positiva, por lo que se puede pensar en un posible cumplimiento del objetivo. Por último, notamos una gran brecha de precios entre el que establece wish y la competencia. Esta diferencia beneficia a Wish debido a que sus precios, en su mayoría, son considerablemente más bajos que los precios de los demas."
      ]
    }
  ]
}