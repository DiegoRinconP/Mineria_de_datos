{
  "nbformat": 4,
  "nbformat_minor": 0,
  "metadata": {
    "colab": {
      "name": "Notebook_Equipo2 ",
      "provenance": [],
      "collapsed_sections": [],
      "toc_visible": true,
      "include_colab_link": true
    },
    "kernelspec": {
      "name": "python3",
      "display_name": "Python 3"
    },
    "language_info": {
      "name": "python"
    }
  },
  "cells": [
    {
      "cell_type": "markdown",
      "metadata": {
        "id": "view-in-github",
        "colab_type": "text"
      },
      "source": [
        "<a href=\"https://colab.research.google.com/github/DiegoRinconP/Mineria_de_datos/blob/main/Notebook_Equipo2.ipynb\" target=\"_parent\"><img src=\"https://colab.research.google.com/assets/colab-badge.svg\" alt=\"Open In Colab\"/></a>"
      ]
    },
    {
      "cell_type": "markdown",
      "metadata": {
        "id": "y2SCARxIuOBo"
      },
      "source": [
        "\n",
        "**Equipo**: 2\n",
        "\n",
        "**Grupo**: 002 Miércoles\n",
        "\n",
        "**Integrantes**: \n",
        "*   1850231 Cid Sanabria Dulce Ximena\n",
        "*   1851895 Ortiz Cruz Jaclyn Lizeth\n",
        "*   1849687 Rincón Pacheco Diego Alejandro\n",
        "*   1854410 Serrano Caballero Lizeth"
      ]
    },
    {
      "cell_type": "markdown",
      "metadata": {
        "id": "r18-fTPl4D2Z"
      },
      "source": [
        "\n",
        "\n",
        "# **Wish: Ventas de verano**\n",
        "\n",
        "\n",
        "https://www.kaggle.com/jmmvutu/summer-products-and-sales-in-ecommerce-wish"
      ]
    },
    {
      "cell_type": "markdown",
      "metadata": {
        "id": "WWfBr_7MZFoG"
      },
      "source": [
        "\n",
        "\n",
        "---\n",
        "\n"
      ]
    },
    {
      "cell_type": "markdown",
      "metadata": {
        "id": "O7D9kVle54vQ"
      },
      "source": [
        "## **A) Introducción**"
      ]
    },
    {
      "cell_type": "markdown",
      "metadata": {
        "id": "AQOIMy3J6zku"
      },
      "source": [
        "Wish es una compañía de comercio electrónico en línea, fundada en 2010 por Peter Szulczewski y Danny Zhang, ambos ex-programadores de Google y Yahoo.\n",
        "\n",
        "En 2017, la aplicación de compra móvil de \"Wish\" decía tener más de 100 millones de usuarios en iOS y Android. Actualmente, cuenta con más de 500 millones usuarios según la propia empresa. Similar a eBay, Amazon o AliExpress, fabricantes y negocios pequeños pueden vender bienes directamente a los consumidores a precios relativamente bajos.\n",
        "\n",
        "Años más tarde, la tienda Wish añadió el Outlet, el cual vende excedentes de stock de marcas reconocidas, por debajo del precio en tienda y también añadió Wish Express, el cual ofrece envíos más rápidos. Esta empresa fue beneficiada por la pandemia, debido a que muchos usuarios empezaron a comprar más en linea a causa de las restricciones sanitarias."
      ]
    },
    {
      "cell_type": "markdown",
      "metadata": {
        "id": "lKPi1OID6x9w"
      },
      "source": [
        "### 1) Descripción de los datos"
      ]
    },
    {
      "cell_type": "markdown",
      "metadata": {
        "id": "I2_E-UA0653N"
      },
      "source": [
        "La base de datos incluye información de registros originados de la pagina web Wish acerca de las preferencias que tienen los usuarios a la hora de escribir summer (verano en inglés) en el campo de búsqueda de la plataforma. No solo muestra información acerca del producto, sino también acerca del vendedor y de las ventas.\n",
        "\n",
        "\n",
        "El conjunto de datos cuenta con 63,790 datos divididos en 43 columnas y 1,573 filas donde podemos encontrar diferentes tipos de datos, como object, int y float, recolectados del registro de la venta de verano de la plataforma. En las columnas, podemos observar la descripción del producto, precio Wish y precio externo, no. de ventas, rating, sellos, envio, inventario, info del vendedor, entre otras.\n",
        "\n",
        "\n"
      ]
    },
    {
      "cell_type": "markdown",
      "metadata": {
        "id": "6AlX87Nv66Wr"
      },
      "source": [
        "### 2) Justificación del uso de datos"
      ]
    },
    {
      "cell_type": "markdown",
      "metadata": {
        "id": "XNA-f-HE6_xT"
      },
      "source": [
        "La base de datos cuenta con datos de interés público de una compañia que ha crecido en los últimos años debido a la nueva modalidad de compras en línea. \n",
        "Hoy en día, podemos encontrar mucha competencia en el mercado de e-commerce, por lo tanto, es necesario incrementar las ventas de la plataforma.\n",
        "\n",
        "Nos gustaría encontrar un patrón que sigan las ventas de la plataforma para, de esta manera, poder llegar a predecirlas. Haciendo uso de esta información, podremos determinar una estrategía a seguir para posicionarnos como una empresa lider en compras en línea. Además, comparar el precio wish con el precio que manejan los competidores."
      ]
    },
    {
      "cell_type": "markdown",
      "metadata": {
        "id": "DsKcf0rn7AgC"
      },
      "source": [
        "### 3) Objetivos"
      ]
    },
    {
      "cell_type": "markdown",
      "metadata": {
        "id": "fUf892or7FQP"
      },
      "source": [
        "Predecir el éxito de ventas que tiene un producto de Wish.\n",
        "\n",
        "\n",
        "\n",
        "Secundarios:\n",
        "* Analizar la relación entre el precio de un producto y su costo de envío.\n",
        "* Comparar el precio wish con el precio externo"
      ]
    },
    {
      "cell_type": "markdown",
      "metadata": {
        "id": "Z0qmKZ337_lv"
      },
      "source": [
        "### 4) Preguntas de interés"
      ]
    },
    {
      "cell_type": "markdown",
      "metadata": {
        "id": "RyIcsvD77_WJ"
      },
      "source": [
        "* ¿Qué tan diferentes son los precios dentro de Wish comparado con otras plataformas?\n",
        "* ¿Qué tan satisfechos están los clientes con el producto?"
      ]
    },
    {
      "cell_type": "markdown",
      "metadata": {
        "id": "7HTDwUeq7FrM"
      },
      "source": [
        "## **B) Carga de Datos y Librerias**"
      ]
    },
    {
      "cell_type": "markdown",
      "metadata": {
        "id": "lIgZ-eq8bZq_"
      },
      "source": [
        "### 1) Carga de librerias y base de datos"
      ]
    },
    {
      "cell_type": "markdown",
      "metadata": {
        "id": "-tnuYjCS7azs"
      },
      "source": [
        "Importamos nuestras liberias que utilizaremos en el proceso de analisis y predicción de datos."
      ]
    },
    {
      "cell_type": "code",
      "metadata": {
        "id": "3gIJPL3RaKdP"
      },
      "source": [
        "import numpy as np \n",
        "import pandas as pd \n",
        "import seaborn as sns\n",
        "import matplotlib.pyplot as plt\n",
        "import matplotlib\n",
        "import plotly.express as px\n",
        "import re\n",
        "from functools import reduce\n",
        "from sklearn.preprocessing import OrdinalEncoder, StandardScaler\n",
        "from sklearn.linear_model import ElasticNet\n",
        "from sklearn.feature_selection import RFECV\n",
        "from sklearn.model_selection import train_test_split\n",
        "from sklearn.pipeline import make_pipeline\n",
        "from sklearn.metrics import r2_score\n",
        "\n",
        "sns.set()"
      ],
      "execution_count": null,
      "outputs": []
    },
    {
      "cell_type": "markdown",
      "metadata": {
        "id": "1iHa38DS7ken"
      },
      "source": [
        "Caragamos la base de datos de venta de productos de verano wish."
      ]
    },
    {
      "cell_type": "code",
      "metadata": {
        "id": "VKBNuiagQLQ-",
        "colab": {
          "base_uri": "https://localhost:8080/",
          "height": 709
        },
        "outputId": "c7ec8fee-1032-422e-f991-bf750cc9a7d2"
      },
      "source": [
        "bd = pd.read_csv('/content/summer-products-with-rating-and-performance_2020-08.csv')\n",
        "bd.head()"
      ],
      "execution_count": null,
      "outputs": [
        {
          "output_type": "execute_result",
          "data": {
            "text/html": [
              "<div>\n",
              "<style scoped>\n",
              "    .dataframe tbody tr th:only-of-type {\n",
              "        vertical-align: middle;\n",
              "    }\n",
              "\n",
              "    .dataframe tbody tr th {\n",
              "        vertical-align: top;\n",
              "    }\n",
              "\n",
              "    .dataframe thead th {\n",
              "        text-align: right;\n",
              "    }\n",
              "</style>\n",
              "<table border=\"1\" class=\"dataframe\">\n",
              "  <thead>\n",
              "    <tr style=\"text-align: right;\">\n",
              "      <th></th>\n",
              "      <th>title</th>\n",
              "      <th>title_orig</th>\n",
              "      <th>price</th>\n",
              "      <th>retail_price</th>\n",
              "      <th>currency_buyer</th>\n",
              "      <th>units_sold</th>\n",
              "      <th>uses_ad_boosts</th>\n",
              "      <th>rating</th>\n",
              "      <th>rating_count</th>\n",
              "      <th>rating_five_count</th>\n",
              "      <th>rating_four_count</th>\n",
              "      <th>rating_three_count</th>\n",
              "      <th>rating_two_count</th>\n",
              "      <th>rating_one_count</th>\n",
              "      <th>badges_count</th>\n",
              "      <th>badge_local_product</th>\n",
              "      <th>badge_product_quality</th>\n",
              "      <th>badge_fast_shipping</th>\n",
              "      <th>tags</th>\n",
              "      <th>product_color</th>\n",
              "      <th>product_variation_size_id</th>\n",
              "      <th>product_variation_inventory</th>\n",
              "      <th>shipping_option_name</th>\n",
              "      <th>shipping_option_price</th>\n",
              "      <th>shipping_is_express</th>\n",
              "      <th>countries_shipped_to</th>\n",
              "      <th>inventory_total</th>\n",
              "      <th>has_urgency_banner</th>\n",
              "      <th>urgency_text</th>\n",
              "      <th>origin_country</th>\n",
              "      <th>merchant_title</th>\n",
              "      <th>merchant_name</th>\n",
              "      <th>merchant_info_subtitle</th>\n",
              "      <th>merchant_rating_count</th>\n",
              "      <th>merchant_rating</th>\n",
              "      <th>merchant_id</th>\n",
              "      <th>merchant_has_profile_picture</th>\n",
              "      <th>merchant_profile_picture</th>\n",
              "      <th>product_url</th>\n",
              "      <th>product_picture</th>\n",
              "      <th>product_id</th>\n",
              "      <th>theme</th>\n",
              "      <th>crawl_month</th>\n",
              "    </tr>\n",
              "  </thead>\n",
              "  <tbody>\n",
              "    <tr>\n",
              "      <th>0</th>\n",
              "      <td>2020 Summer Vintage Flamingo Print  Pajamas Se...</td>\n",
              "      <td>2020 Summer Vintage Flamingo Print  Pajamas Se...</td>\n",
              "      <td>16.00</td>\n",
              "      <td>14</td>\n",
              "      <td>EUR</td>\n",
              "      <td>100</td>\n",
              "      <td>0</td>\n",
              "      <td>3.76</td>\n",
              "      <td>54</td>\n",
              "      <td>26.0</td>\n",
              "      <td>8.0</td>\n",
              "      <td>10.0</td>\n",
              "      <td>1.0</td>\n",
              "      <td>9.0</td>\n",
              "      <td>0</td>\n",
              "      <td>0</td>\n",
              "      <td>0</td>\n",
              "      <td>0</td>\n",
              "      <td>Summer,Fashion,womenunderwearsuit,printedpajam...</td>\n",
              "      <td>white</td>\n",
              "      <td>M</td>\n",
              "      <td>50</td>\n",
              "      <td>Livraison standard</td>\n",
              "      <td>4</td>\n",
              "      <td>0</td>\n",
              "      <td>34</td>\n",
              "      <td>50</td>\n",
              "      <td>1.0</td>\n",
              "      <td>Quantité limitée !</td>\n",
              "      <td>CN</td>\n",
              "      <td>zgrdejia</td>\n",
              "      <td>zgrdejia</td>\n",
              "      <td>(568 notes)</td>\n",
              "      <td>568</td>\n",
              "      <td>4.128521</td>\n",
              "      <td>595097d6a26f6e070cb878d1</td>\n",
              "      <td>0</td>\n",
              "      <td>NaN</td>\n",
              "      <td>https://www.wish.com/c/5e9ae51d43d6a96e303acdb0</td>\n",
              "      <td>https://contestimg.wish.com/api/webimage/5e9ae...</td>\n",
              "      <td>5e9ae51d43d6a96e303acdb0</td>\n",
              "      <td>summer</td>\n",
              "      <td>2020-08</td>\n",
              "    </tr>\n",
              "    <tr>\n",
              "      <th>1</th>\n",
              "      <td>SSHOUSE Summer Casual Sleeveless Soirée Party ...</td>\n",
              "      <td>Women's Casual Summer Sleeveless Sexy Mini Dress</td>\n",
              "      <td>8.00</td>\n",
              "      <td>22</td>\n",
              "      <td>EUR</td>\n",
              "      <td>20000</td>\n",
              "      <td>1</td>\n",
              "      <td>3.45</td>\n",
              "      <td>6135</td>\n",
              "      <td>2269.0</td>\n",
              "      <td>1027.0</td>\n",
              "      <td>1118.0</td>\n",
              "      <td>644.0</td>\n",
              "      <td>1077.0</td>\n",
              "      <td>0</td>\n",
              "      <td>0</td>\n",
              "      <td>0</td>\n",
              "      <td>0</td>\n",
              "      <td>Mini,womens dresses,Summer,Patchwork,fashion d...</td>\n",
              "      <td>green</td>\n",
              "      <td>XS</td>\n",
              "      <td>50</td>\n",
              "      <td>Livraison standard</td>\n",
              "      <td>2</td>\n",
              "      <td>0</td>\n",
              "      <td>41</td>\n",
              "      <td>50</td>\n",
              "      <td>1.0</td>\n",
              "      <td>Quantité limitée !</td>\n",
              "      <td>CN</td>\n",
              "      <td>SaraHouse</td>\n",
              "      <td>sarahouse</td>\n",
              "      <td>83 % avis positifs (17,752 notes)</td>\n",
              "      <td>17752</td>\n",
              "      <td>3.899673</td>\n",
              "      <td>56458aa03a698c35c9050988</td>\n",
              "      <td>0</td>\n",
              "      <td>NaN</td>\n",
              "      <td>https://www.wish.com/c/58940d436a0d3d5da4e95a38</td>\n",
              "      <td>https://contestimg.wish.com/api/webimage/58940...</td>\n",
              "      <td>58940d436a0d3d5da4e95a38</td>\n",
              "      <td>summer</td>\n",
              "      <td>2020-08</td>\n",
              "    </tr>\n",
              "    <tr>\n",
              "      <th>2</th>\n",
              "      <td>2020 Nouvelle Arrivée Femmes Printemps et Été ...</td>\n",
              "      <td>2020 New Arrival Women Spring and Summer Beach...</td>\n",
              "      <td>8.00</td>\n",
              "      <td>43</td>\n",
              "      <td>EUR</td>\n",
              "      <td>100</td>\n",
              "      <td>0</td>\n",
              "      <td>3.57</td>\n",
              "      <td>14</td>\n",
              "      <td>5.0</td>\n",
              "      <td>4.0</td>\n",
              "      <td>2.0</td>\n",
              "      <td>0.0</td>\n",
              "      <td>3.0</td>\n",
              "      <td>0</td>\n",
              "      <td>0</td>\n",
              "      <td>0</td>\n",
              "      <td>0</td>\n",
              "      <td>Summer,cardigan,women beachwear,chiffon,Sexy w...</td>\n",
              "      <td>leopardprint</td>\n",
              "      <td>XS</td>\n",
              "      <td>1</td>\n",
              "      <td>Livraison standard</td>\n",
              "      <td>3</td>\n",
              "      <td>0</td>\n",
              "      <td>36</td>\n",
              "      <td>50</td>\n",
              "      <td>1.0</td>\n",
              "      <td>Quantité limitée !</td>\n",
              "      <td>CN</td>\n",
              "      <td>hxt520</td>\n",
              "      <td>hxt520</td>\n",
              "      <td>86 % avis positifs (295 notes)</td>\n",
              "      <td>295</td>\n",
              "      <td>3.989831</td>\n",
              "      <td>5d464a1ffdf7bc44ee933c65</td>\n",
              "      <td>0</td>\n",
              "      <td>NaN</td>\n",
              "      <td>https://www.wish.com/c/5ea10e2c617580260d55310a</td>\n",
              "      <td>https://contestimg.wish.com/api/webimage/5ea10...</td>\n",
              "      <td>5ea10e2c617580260d55310a</td>\n",
              "      <td>summer</td>\n",
              "      <td>2020-08</td>\n",
              "    </tr>\n",
              "    <tr>\n",
              "      <th>3</th>\n",
              "      <td>Hot Summer Cool T-shirt pour les femmes Mode T...</td>\n",
              "      <td>Hot Summer Cool T Shirt for Women Fashion Tops...</td>\n",
              "      <td>8.00</td>\n",
              "      <td>8</td>\n",
              "      <td>EUR</td>\n",
              "      <td>5000</td>\n",
              "      <td>1</td>\n",
              "      <td>4.03</td>\n",
              "      <td>579</td>\n",
              "      <td>295.0</td>\n",
              "      <td>119.0</td>\n",
              "      <td>87.0</td>\n",
              "      <td>42.0</td>\n",
              "      <td>36.0</td>\n",
              "      <td>0</td>\n",
              "      <td>0</td>\n",
              "      <td>0</td>\n",
              "      <td>0</td>\n",
              "      <td>Summer,Shorts,Cotton,Cotton T Shirt,Sleeve,pri...</td>\n",
              "      <td>black</td>\n",
              "      <td>M</td>\n",
              "      <td>50</td>\n",
              "      <td>Livraison standard</td>\n",
              "      <td>2</td>\n",
              "      <td>0</td>\n",
              "      <td>41</td>\n",
              "      <td>50</td>\n",
              "      <td>NaN</td>\n",
              "      <td>NaN</td>\n",
              "      <td>CN</td>\n",
              "      <td>allenfan</td>\n",
              "      <td>allenfan</td>\n",
              "      <td>(23,832 notes)</td>\n",
              "      <td>23832</td>\n",
              "      <td>4.020435</td>\n",
              "      <td>58cfdefdacb37b556efdff7c</td>\n",
              "      <td>0</td>\n",
              "      <td>NaN</td>\n",
              "      <td>https://www.wish.com/c/5cedf17ad1d44c52c59e4aca</td>\n",
              "      <td>https://contestimg.wish.com/api/webimage/5cedf...</td>\n",
              "      <td>5cedf17ad1d44c52c59e4aca</td>\n",
              "      <td>summer</td>\n",
              "      <td>2020-08</td>\n",
              "    </tr>\n",
              "    <tr>\n",
              "      <th>4</th>\n",
              "      <td>Femmes Shorts d'été à lacets taille élastique ...</td>\n",
              "      <td>Women Summer Shorts Lace Up Elastic Waistband ...</td>\n",
              "      <td>2.72</td>\n",
              "      <td>3</td>\n",
              "      <td>EUR</td>\n",
              "      <td>100</td>\n",
              "      <td>1</td>\n",
              "      <td>3.10</td>\n",
              "      <td>20</td>\n",
              "      <td>6.0</td>\n",
              "      <td>4.0</td>\n",
              "      <td>2.0</td>\n",
              "      <td>2.0</td>\n",
              "      <td>6.0</td>\n",
              "      <td>0</td>\n",
              "      <td>0</td>\n",
              "      <td>0</td>\n",
              "      <td>0</td>\n",
              "      <td>Summer,Plus Size,Lace,Casual pants,Bottom,pant...</td>\n",
              "      <td>yellow</td>\n",
              "      <td>S</td>\n",
              "      <td>1</td>\n",
              "      <td>Livraison standard</td>\n",
              "      <td>1</td>\n",
              "      <td>0</td>\n",
              "      <td>35</td>\n",
              "      <td>50</td>\n",
              "      <td>1.0</td>\n",
              "      <td>Quantité limitée !</td>\n",
              "      <td>CN</td>\n",
              "      <td>youngpeopleshop</td>\n",
              "      <td>happyhorses</td>\n",
              "      <td>85 % avis positifs (14,482 notes)</td>\n",
              "      <td>14482</td>\n",
              "      <td>4.001588</td>\n",
              "      <td>5ab3b592c3911a095ad5dadb</td>\n",
              "      <td>0</td>\n",
              "      <td>NaN</td>\n",
              "      <td>https://www.wish.com/c/5ebf5819ebac372b070b0e70</td>\n",
              "      <td>https://contestimg.wish.com/api/webimage/5ebf5...</td>\n",
              "      <td>5ebf5819ebac372b070b0e70</td>\n",
              "      <td>summer</td>\n",
              "      <td>2020-08</td>\n",
              "    </tr>\n",
              "  </tbody>\n",
              "</table>\n",
              "</div>"
            ],
            "text/plain": [
              "                                               title  ... crawl_month\n",
              "0  2020 Summer Vintage Flamingo Print  Pajamas Se...  ...     2020-08\n",
              "1  SSHOUSE Summer Casual Sleeveless Soirée Party ...  ...     2020-08\n",
              "2  2020 Nouvelle Arrivée Femmes Printemps et Été ...  ...     2020-08\n",
              "3  Hot Summer Cool T-shirt pour les femmes Mode T...  ...     2020-08\n",
              "4  Femmes Shorts d'été à lacets taille élastique ...  ...     2020-08\n",
              "\n",
              "[5 rows x 43 columns]"
            ]
          },
          "metadata": {},
          "execution_count": 83
        }
      ]
    },
    {
      "cell_type": "markdown",
      "metadata": {
        "id": "mx1UPALRbjjr"
      },
      "source": [
        "### 2) Conclusion"
      ]
    },
    {
      "cell_type": "markdown",
      "metadata": {
        "id": "Cc9h1kbhbol5"
      },
      "source": [
        "Contamos con 63,790 diferentes productos divididos en 43 columnas y 1,573 filas de las cuales tenemos:\n",
        "*   9 variables flotantes\n",
        "*   15 variables enteros\n",
        "*   19 variables categoricas\n",
        "\n",
        "Contamos con información sobre las características del producto, datos del vendedor, ventas y datos del post. Las variables que más nos interesa de principio son el número de ventas y el precio.\n"
      ]
    },
    {
      "cell_type": "markdown",
      "metadata": {
        "id": "VMUZy08kbojG"
      },
      "source": [
        "\n",
        "\n",
        "---\n",
        "\n"
      ]
    },
    {
      "cell_type": "markdown",
      "metadata": {
        "id": "sxwvN--Db01l"
      },
      "source": [
        "## **C) Limpieza de Datos**"
      ]
    },
    {
      "cell_type": "markdown",
      "metadata": {
        "id": "VKyoaUU0fbCx"
      },
      "source": [
        "### 1) Datos Faltantes o Nulos"
      ]
    },
    {
      "cell_type": "markdown",
      "metadata": {
        "id": "JoE3JD1DUhrm"
      },
      "source": [
        "Una parte importante de trabajar bases de datos es la identificación de datos nulos. Las siguientes líneas de código ejemplifican este proceso."
      ]
    },
    {
      "cell_type": "code",
      "metadata": {
        "colab": {
          "base_uri": "https://localhost:8080/",
          "height": 1000
        },
        "id": "Nb-4w7iYdlVf",
        "outputId": "78405ea0-9be2-45ad-d350-99cf6037fc09"
      },
      "source": [
        "import plotly.express as px\n",
        "fig = px.bar(bd.isna().sum().sort_values().reset_index(), x=\"index\", y=0, title=\"Datos Nulos\")\n",
        "fig.update_layout({\"yaxis\": {\"title\": \"Datos Nulos\"}})\n",
        "fig.show()\n",
        "bd.isnull().sum().sort_values(ascending=False) "
      ],
      "execution_count": null,
      "outputs": [
        {
          "output_type": "display_data",
          "data": {
            "text/html": [
              "<html>\n",
              "<head><meta charset=\"utf-8\" /></head>\n",
              "<body>\n",
              "    <div>\n",
              "            <script src=\"https://cdnjs.cloudflare.com/ajax/libs/mathjax/2.7.5/MathJax.js?config=TeX-AMS-MML_SVG\"></script><script type=\"text/javascript\">if (window.MathJax) {MathJax.Hub.Config({SVG: {font: \"STIX-Web\"}});}</script>\n",
              "                <script type=\"text/javascript\">window.PlotlyConfig = {MathJaxConfig: 'local'};</script>\n",
              "        <script src=\"https://cdn.plot.ly/plotly-latest.min.js\"></script>    \n",
              "            <div id=\"6f42d090-0b18-4bb3-8dcf-218d4f089d03\" class=\"plotly-graph-div\" style=\"height:525px; width:100%;\"></div>\n",
              "            <script type=\"text/javascript\">\n",
              "                \n",
              "                    window.PLOTLYENV=window.PLOTLYENV || {};\n",
              "                    \n",
              "                if (document.getElementById(\"6f42d090-0b18-4bb3-8dcf-218d4f089d03\")) {\n",
              "                    Plotly.newPlot(\n",
              "                        '6f42d090-0b18-4bb3-8dcf-218d4f089d03',\n",
              "                        [{\"alignmentgroup\": \"True\", \"hoverlabel\": {\"namelength\": 0}, \"hovertemplate\": \"index=%{x}<br>0=%{y}\", \"legendgroup\": \"\", \"marker\": {\"color\": \"#636efa\"}, \"name\": \"\", \"offsetgroup\": \"\", \"orientation\": \"v\", \"showlegend\": false, \"textposition\": \"auto\", \"type\": \"bar\", \"x\": [\"title\", \"theme\", \"shipping_option_name\", \"shipping_option_price\", \"shipping_is_express\", \"countries_shipped_to\", \"inventory_total\", \"tags\", \"merchant_title\", \"merchant_rating\", \"merchant_id\", \"merchant_has_profile_picture\", \"product_url\", \"product_picture\", \"product_id\", \"merchant_rating_count\", \"badge_fast_shipping\", \"product_variation_inventory\", \"badge_local_product\", \"title_orig\", \"price\", \"retail_price\", \"currency_buyer\", \"units_sold\", \"uses_ad_boosts\", \"rating\", \"badge_product_quality\", \"rating_count\", \"badges_count\", \"crawl_month\", \"merchant_info_subtitle\", \"merchant_name\", \"product_variation_size_id\", \"origin_country\", \"product_color\", \"rating_five_count\", \"rating_four_count\", \"rating_three_count\", \"rating_two_count\", \"rating_one_count\", \"urgency_text\", \"has_urgency_banner\", \"merchant_profile_picture\"], \"xaxis\": \"x\", \"y\": [0, 0, 0, 0, 0, 0, 0, 0, 0, 0, 0, 0, 0, 0, 0, 0, 0, 0, 0, 0, 0, 0, 0, 0, 0, 0, 0, 0, 0, 0, 1, 4, 14, 17, 41, 45, 45, 45, 45, 45, 1100, 1100, 1347], \"yaxis\": \"y\"}],\n",
              "                        {\"barmode\": \"relative\", \"legend\": {\"tracegroupgap\": 0}, \"template\": {\"data\": {\"bar\": [{\"error_x\": {\"color\": \"#2a3f5f\"}, \"error_y\": {\"color\": \"#2a3f5f\"}, \"marker\": {\"line\": {\"color\": \"#E5ECF6\", \"width\": 0.5}}, \"type\": \"bar\"}], \"barpolar\": [{\"marker\": {\"line\": {\"color\": \"#E5ECF6\", \"width\": 0.5}}, \"type\": \"barpolar\"}], \"carpet\": [{\"aaxis\": {\"endlinecolor\": \"#2a3f5f\", \"gridcolor\": \"white\", \"linecolor\": \"white\", \"minorgridcolor\": \"white\", \"startlinecolor\": \"#2a3f5f\"}, \"baxis\": {\"endlinecolor\": \"#2a3f5f\", \"gridcolor\": \"white\", \"linecolor\": \"white\", \"minorgridcolor\": \"white\", \"startlinecolor\": \"#2a3f5f\"}, \"type\": \"carpet\"}], \"choropleth\": [{\"colorbar\": {\"outlinewidth\": 0, \"ticks\": \"\"}, \"type\": \"choropleth\"}], \"contour\": [{\"colorbar\": {\"outlinewidth\": 0, \"ticks\": \"\"}, \"colorscale\": [[0.0, \"#0d0887\"], [0.1111111111111111, \"#46039f\"], [0.2222222222222222, \"#7201a8\"], [0.3333333333333333, \"#9c179e\"], [0.4444444444444444, \"#bd3786\"], [0.5555555555555556, \"#d8576b\"], [0.6666666666666666, \"#ed7953\"], [0.7777777777777778, \"#fb9f3a\"], [0.8888888888888888, \"#fdca26\"], [1.0, \"#f0f921\"]], \"type\": \"contour\"}], \"contourcarpet\": [{\"colorbar\": {\"outlinewidth\": 0, \"ticks\": \"\"}, \"type\": \"contourcarpet\"}], \"heatmap\": [{\"colorbar\": {\"outlinewidth\": 0, \"ticks\": \"\"}, \"colorscale\": [[0.0, \"#0d0887\"], [0.1111111111111111, \"#46039f\"], [0.2222222222222222, \"#7201a8\"], [0.3333333333333333, \"#9c179e\"], [0.4444444444444444, \"#bd3786\"], [0.5555555555555556, \"#d8576b\"], [0.6666666666666666, \"#ed7953\"], [0.7777777777777778, \"#fb9f3a\"], [0.8888888888888888, \"#fdca26\"], [1.0, \"#f0f921\"]], \"type\": \"heatmap\"}], \"heatmapgl\": [{\"colorbar\": {\"outlinewidth\": 0, \"ticks\": \"\"}, \"colorscale\": [[0.0, \"#0d0887\"], [0.1111111111111111, \"#46039f\"], [0.2222222222222222, \"#7201a8\"], [0.3333333333333333, \"#9c179e\"], [0.4444444444444444, \"#bd3786\"], [0.5555555555555556, \"#d8576b\"], [0.6666666666666666, \"#ed7953\"], [0.7777777777777778, \"#fb9f3a\"], [0.8888888888888888, \"#fdca26\"], [1.0, \"#f0f921\"]], \"type\": \"heatmapgl\"}], \"histogram\": [{\"marker\": {\"colorbar\": {\"outlinewidth\": 0, \"ticks\": \"\"}}, \"type\": \"histogram\"}], \"histogram2d\": [{\"colorbar\": {\"outlinewidth\": 0, \"ticks\": \"\"}, \"colorscale\": [[0.0, \"#0d0887\"], [0.1111111111111111, \"#46039f\"], [0.2222222222222222, \"#7201a8\"], [0.3333333333333333, \"#9c179e\"], [0.4444444444444444, \"#bd3786\"], [0.5555555555555556, \"#d8576b\"], [0.6666666666666666, \"#ed7953\"], [0.7777777777777778, \"#fb9f3a\"], [0.8888888888888888, \"#fdca26\"], [1.0, \"#f0f921\"]], \"type\": \"histogram2d\"}], \"histogram2dcontour\": [{\"colorbar\": {\"outlinewidth\": 0, \"ticks\": \"\"}, \"colorscale\": [[0.0, \"#0d0887\"], [0.1111111111111111, \"#46039f\"], [0.2222222222222222, \"#7201a8\"], [0.3333333333333333, \"#9c179e\"], [0.4444444444444444, \"#bd3786\"], [0.5555555555555556, \"#d8576b\"], [0.6666666666666666, \"#ed7953\"], [0.7777777777777778, \"#fb9f3a\"], [0.8888888888888888, \"#fdca26\"], [1.0, \"#f0f921\"]], \"type\": \"histogram2dcontour\"}], \"mesh3d\": [{\"colorbar\": {\"outlinewidth\": 0, \"ticks\": \"\"}, \"type\": \"mesh3d\"}], \"parcoords\": [{\"line\": {\"colorbar\": {\"outlinewidth\": 0, \"ticks\": \"\"}}, \"type\": \"parcoords\"}], \"pie\": [{\"automargin\": true, \"type\": \"pie\"}], \"scatter\": [{\"marker\": {\"colorbar\": {\"outlinewidth\": 0, \"ticks\": \"\"}}, \"type\": \"scatter\"}], \"scatter3d\": [{\"line\": {\"colorbar\": {\"outlinewidth\": 0, \"ticks\": \"\"}}, \"marker\": {\"colorbar\": {\"outlinewidth\": 0, \"ticks\": \"\"}}, \"type\": \"scatter3d\"}], \"scattercarpet\": [{\"marker\": {\"colorbar\": {\"outlinewidth\": 0, \"ticks\": \"\"}}, \"type\": \"scattercarpet\"}], \"scattergeo\": [{\"marker\": {\"colorbar\": {\"outlinewidth\": 0, \"ticks\": \"\"}}, \"type\": \"scattergeo\"}], \"scattergl\": [{\"marker\": {\"colorbar\": {\"outlinewidth\": 0, \"ticks\": \"\"}}, \"type\": \"scattergl\"}], \"scattermapbox\": [{\"marker\": {\"colorbar\": {\"outlinewidth\": 0, \"ticks\": \"\"}}, \"type\": \"scattermapbox\"}], \"scatterpolar\": [{\"marker\": {\"colorbar\": {\"outlinewidth\": 0, \"ticks\": \"\"}}, \"type\": \"scatterpolar\"}], \"scatterpolargl\": [{\"marker\": {\"colorbar\": {\"outlinewidth\": 0, \"ticks\": \"\"}}, \"type\": \"scatterpolargl\"}], \"scatterternary\": [{\"marker\": {\"colorbar\": {\"outlinewidth\": 0, \"ticks\": \"\"}}, \"type\": \"scatterternary\"}], \"surface\": [{\"colorbar\": {\"outlinewidth\": 0, \"ticks\": \"\"}, \"colorscale\": [[0.0, \"#0d0887\"], [0.1111111111111111, \"#46039f\"], [0.2222222222222222, \"#7201a8\"], [0.3333333333333333, \"#9c179e\"], [0.4444444444444444, \"#bd3786\"], [0.5555555555555556, \"#d8576b\"], [0.6666666666666666, \"#ed7953\"], [0.7777777777777778, \"#fb9f3a\"], [0.8888888888888888, \"#fdca26\"], [1.0, \"#f0f921\"]], \"type\": \"surface\"}], \"table\": [{\"cells\": {\"fill\": {\"color\": \"#EBF0F8\"}, \"line\": {\"color\": \"white\"}}, \"header\": {\"fill\": {\"color\": \"#C8D4E3\"}, \"line\": {\"color\": \"white\"}}, \"type\": \"table\"}]}, \"layout\": {\"annotationdefaults\": {\"arrowcolor\": \"#2a3f5f\", \"arrowhead\": 0, \"arrowwidth\": 1}, \"coloraxis\": {\"colorbar\": {\"outlinewidth\": 0, \"ticks\": \"\"}}, \"colorscale\": {\"diverging\": [[0, \"#8e0152\"], [0.1, \"#c51b7d\"], [0.2, \"#de77ae\"], [0.3, \"#f1b6da\"], [0.4, \"#fde0ef\"], [0.5, \"#f7f7f7\"], [0.6, \"#e6f5d0\"], [0.7, \"#b8e186\"], [0.8, \"#7fbc41\"], [0.9, \"#4d9221\"], [1, \"#276419\"]], \"sequential\": [[0.0, \"#0d0887\"], [0.1111111111111111, \"#46039f\"], [0.2222222222222222, \"#7201a8\"], [0.3333333333333333, \"#9c179e\"], [0.4444444444444444, \"#bd3786\"], [0.5555555555555556, \"#d8576b\"], [0.6666666666666666, \"#ed7953\"], [0.7777777777777778, \"#fb9f3a\"], [0.8888888888888888, \"#fdca26\"], [1.0, \"#f0f921\"]], \"sequentialminus\": [[0.0, \"#0d0887\"], [0.1111111111111111, \"#46039f\"], [0.2222222222222222, \"#7201a8\"], [0.3333333333333333, \"#9c179e\"], [0.4444444444444444, \"#bd3786\"], [0.5555555555555556, \"#d8576b\"], [0.6666666666666666, \"#ed7953\"], [0.7777777777777778, \"#fb9f3a\"], [0.8888888888888888, \"#fdca26\"], [1.0, \"#f0f921\"]]}, \"colorway\": [\"#636efa\", \"#EF553B\", \"#00cc96\", \"#ab63fa\", \"#FFA15A\", \"#19d3f3\", \"#FF6692\", \"#B6E880\", \"#FF97FF\", \"#FECB52\"], \"font\": {\"color\": \"#2a3f5f\"}, \"geo\": {\"bgcolor\": \"white\", \"lakecolor\": \"white\", \"landcolor\": \"#E5ECF6\", \"showlakes\": true, \"showland\": true, \"subunitcolor\": \"white\"}, \"hoverlabel\": {\"align\": \"left\"}, \"hovermode\": \"closest\", \"mapbox\": {\"style\": \"light\"}, \"paper_bgcolor\": \"white\", \"plot_bgcolor\": \"#E5ECF6\", \"polar\": {\"angularaxis\": {\"gridcolor\": \"white\", \"linecolor\": \"white\", \"ticks\": \"\"}, \"bgcolor\": \"#E5ECF6\", \"radialaxis\": {\"gridcolor\": \"white\", \"linecolor\": \"white\", \"ticks\": \"\"}}, \"scene\": {\"xaxis\": {\"backgroundcolor\": \"#E5ECF6\", \"gridcolor\": \"white\", \"gridwidth\": 2, \"linecolor\": \"white\", \"showbackground\": true, \"ticks\": \"\", \"zerolinecolor\": \"white\"}, \"yaxis\": {\"backgroundcolor\": \"#E5ECF6\", \"gridcolor\": \"white\", \"gridwidth\": 2, \"linecolor\": \"white\", \"showbackground\": true, \"ticks\": \"\", \"zerolinecolor\": \"white\"}, \"zaxis\": {\"backgroundcolor\": \"#E5ECF6\", \"gridcolor\": \"white\", \"gridwidth\": 2, \"linecolor\": \"white\", \"showbackground\": true, \"ticks\": \"\", \"zerolinecolor\": \"white\"}}, \"shapedefaults\": {\"line\": {\"color\": \"#2a3f5f\"}}, \"ternary\": {\"aaxis\": {\"gridcolor\": \"white\", \"linecolor\": \"white\", \"ticks\": \"\"}, \"baxis\": {\"gridcolor\": \"white\", \"linecolor\": \"white\", \"ticks\": \"\"}, \"bgcolor\": \"#E5ECF6\", \"caxis\": {\"gridcolor\": \"white\", \"linecolor\": \"white\", \"ticks\": \"\"}}, \"title\": {\"x\": 0.05}, \"xaxis\": {\"automargin\": true, \"gridcolor\": \"white\", \"linecolor\": \"white\", \"ticks\": \"\", \"title\": {\"standoff\": 15}, \"zerolinecolor\": \"white\", \"zerolinewidth\": 2}, \"yaxis\": {\"automargin\": true, \"gridcolor\": \"white\", \"linecolor\": \"white\", \"ticks\": \"\", \"title\": {\"standoff\": 15}, \"zerolinecolor\": \"white\", \"zerolinewidth\": 2}}}, \"title\": {\"text\": \"Datos Nulos\"}, \"xaxis\": {\"anchor\": \"y\", \"domain\": [0.0, 1.0], \"title\": {\"text\": \"index\"}}, \"yaxis\": {\"anchor\": \"x\", \"domain\": [0.0, 1.0], \"title\": {\"text\": \"Datos Nulos\"}}},\n",
              "                        {\"responsive\": true}\n",
              "                    ).then(function(){\n",
              "                            \n",
              "var gd = document.getElementById('6f42d090-0b18-4bb3-8dcf-218d4f089d03');\n",
              "var x = new MutationObserver(function (mutations, observer) {{\n",
              "        var display = window.getComputedStyle(gd).display;\n",
              "        if (!display || display === 'none') {{\n",
              "            console.log([gd, 'removed!']);\n",
              "            Plotly.purge(gd);\n",
              "            observer.disconnect();\n",
              "        }}\n",
              "}});\n",
              "\n",
              "// Listen for the removal of the full notebook cells\n",
              "var notebookContainer = gd.closest('#notebook-container');\n",
              "if (notebookContainer) {{\n",
              "    x.observe(notebookContainer, {childList: true});\n",
              "}}\n",
              "\n",
              "// Listen for the clearing of the current output cell\n",
              "var outputEl = gd.closest('.output');\n",
              "if (outputEl) {{\n",
              "    x.observe(outputEl, {childList: true});\n",
              "}}\n",
              "\n",
              "                        })\n",
              "                };\n",
              "                \n",
              "            </script>\n",
              "        </div>\n",
              "</body>\n",
              "</html>"
            ]
          },
          "metadata": {}
        },
        {
          "output_type": "execute_result",
          "data": {
            "text/plain": [
              "merchant_profile_picture        1347\n",
              "has_urgency_banner              1100\n",
              "urgency_text                    1100\n",
              "rating_one_count                  45\n",
              "rating_two_count                  45\n",
              "rating_three_count                45\n",
              "rating_four_count                 45\n",
              "rating_five_count                 45\n",
              "product_color                     41\n",
              "origin_country                    17\n",
              "product_variation_size_id         14\n",
              "merchant_name                      4\n",
              "merchant_info_subtitle             1\n",
              "crawl_month                        0\n",
              "badges_count                       0\n",
              "rating_count                       0\n",
              "badge_product_quality              0\n",
              "rating                             0\n",
              "uses_ad_boosts                     0\n",
              "units_sold                         0\n",
              "currency_buyer                     0\n",
              "retail_price                       0\n",
              "price                              0\n",
              "title_orig                         0\n",
              "badge_local_product                0\n",
              "product_variation_inventory        0\n",
              "badge_fast_shipping                0\n",
              "merchant_rating_count              0\n",
              "product_id                         0\n",
              "product_picture                    0\n",
              "product_url                        0\n",
              "merchant_has_profile_picture       0\n",
              "merchant_id                        0\n",
              "merchant_rating                    0\n",
              "merchant_title                     0\n",
              "tags                               0\n",
              "inventory_total                    0\n",
              "countries_shipped_to               0\n",
              "shipping_is_express                0\n",
              "shipping_option_price              0\n",
              "shipping_option_name               0\n",
              "theme                              0\n",
              "title                              0\n",
              "dtype: int64"
            ]
          },
          "metadata": {},
          "execution_count": 84
        }
      ]
    },
    {
      "cell_type": "code",
      "metadata": {
        "id": "rQPIvlteohwW"
      },
      "source": [
        "bd.drop([\"has_urgency_banner\", \"merchant_profile_picture\", \"urgency_text\"], axis=1, inplace=True)"
      ],
      "execution_count": null,
      "outputs": []
    },
    {
      "cell_type": "markdown",
      "metadata": {
        "id": "e225iKtTfVPG"
      },
      "source": [
        "Como podemos observar, algunas de nuestras variables cuentan con datos nulos. Las columnas has_urgency_banner, merchant_profile_picture y urgency_text tienen mas del 50% de datos faltantes, por lo tanto eliminamos estas variables. En cuanto a las demás columnas con datos nulos, se analizarán para ver si son de utilidad o se eliminan."
      ]
    },
    {
      "cell_type": "markdown",
      "metadata": {
        "id": "rL1zD_65fs1j"
      },
      "source": [
        "### 2) Ratings"
      ]
    },
    {
      "cell_type": "markdown",
      "metadata": {
        "id": "1_nDDPoufMov"
      },
      "source": [
        "En esta sección revisaremos las columnas:\n",
        "\n",
        "rating_one_count, \n",
        "rating_two_count,\n",
        "rating_third_count, \n",
        "rating_fourth_count, \n",
        "rating_five_count,\n",
        "rating y \n",
        "rating_count\n",
        "\n",
        "Las primeras 5 columnas tienen datos nulos. Resultaron ser productos sin ninguna calificación, aunque por alguna razón la calificación de estos productos es 5, teniendo un rating_count de 0.\n",
        "\n",
        "Para estos productos, cambiamos la calificación y todas las calificaciones cuentan a 0, lo que indica que aún no obtuvieron ningún voto."
      ]
    },
    {
      "cell_type": "code",
      "metadata": {
        "colab": {
          "base_uri": "https://localhost:8080/",
          "height": 225
        },
        "id": "y7jcC9TXfjfH",
        "outputId": "909eb409-10e2-459e-bfc7-f6b59f339824"
      },
      "source": [
        "rating_cols = [\"rating_one_count\", \"rating_two_count\", \"rating_three_count\", \"rating_four_count\", \"rating_five_count\",\"rating\",\"rating_count\"]\n",
        "\n",
        "no_vote_bd = bd.loc[bd[rating_cols].isna().any(axis=1), rating_cols]\n",
        "bd.loc[no_vote_bd.index, rating_cols] = 0\n",
        "\n",
        "bd.loc[no_vote_bd.index, rating_cols].head()"
      ],
      "execution_count": null,
      "outputs": [
        {
          "output_type": "execute_result",
          "data": {
            "text/html": [
              "<div>\n",
              "<style scoped>\n",
              "    .dataframe tbody tr th:only-of-type {\n",
              "        vertical-align: middle;\n",
              "    }\n",
              "\n",
              "    .dataframe tbody tr th {\n",
              "        vertical-align: top;\n",
              "    }\n",
              "\n",
              "    .dataframe thead th {\n",
              "        text-align: right;\n",
              "    }\n",
              "</style>\n",
              "<table border=\"1\" class=\"dataframe\">\n",
              "  <thead>\n",
              "    <tr style=\"text-align: right;\">\n",
              "      <th></th>\n",
              "      <th>rating_one_count</th>\n",
              "      <th>rating_two_count</th>\n",
              "      <th>rating_three_count</th>\n",
              "      <th>rating_four_count</th>\n",
              "      <th>rating_five_count</th>\n",
              "      <th>rating</th>\n",
              "      <th>rating_count</th>\n",
              "    </tr>\n",
              "  </thead>\n",
              "  <tbody>\n",
              "    <tr>\n",
              "      <th>74</th>\n",
              "      <td>0.0</td>\n",
              "      <td>0.0</td>\n",
              "      <td>0.0</td>\n",
              "      <td>0.0</td>\n",
              "      <td>0.0</td>\n",
              "      <td>0.0</td>\n",
              "      <td>0</td>\n",
              "    </tr>\n",
              "    <tr>\n",
              "      <th>112</th>\n",
              "      <td>0.0</td>\n",
              "      <td>0.0</td>\n",
              "      <td>0.0</td>\n",
              "      <td>0.0</td>\n",
              "      <td>0.0</td>\n",
              "      <td>0.0</td>\n",
              "      <td>0</td>\n",
              "    </tr>\n",
              "    <tr>\n",
              "      <th>126</th>\n",
              "      <td>0.0</td>\n",
              "      <td>0.0</td>\n",
              "      <td>0.0</td>\n",
              "      <td>0.0</td>\n",
              "      <td>0.0</td>\n",
              "      <td>0.0</td>\n",
              "      <td>0</td>\n",
              "    </tr>\n",
              "    <tr>\n",
              "      <th>189</th>\n",
              "      <td>0.0</td>\n",
              "      <td>0.0</td>\n",
              "      <td>0.0</td>\n",
              "      <td>0.0</td>\n",
              "      <td>0.0</td>\n",
              "      <td>0.0</td>\n",
              "      <td>0</td>\n",
              "    </tr>\n",
              "    <tr>\n",
              "      <th>216</th>\n",
              "      <td>0.0</td>\n",
              "      <td>0.0</td>\n",
              "      <td>0.0</td>\n",
              "      <td>0.0</td>\n",
              "      <td>0.0</td>\n",
              "      <td>0.0</td>\n",
              "      <td>0</td>\n",
              "    </tr>\n",
              "  </tbody>\n",
              "</table>\n",
              "</div>"
            ],
            "text/plain": [
              "     rating_one_count  rating_two_count  ...  rating  rating_count\n",
              "74                0.0               0.0  ...     0.0             0\n",
              "112               0.0               0.0  ...     0.0             0\n",
              "126               0.0               0.0  ...     0.0             0\n",
              "189               0.0               0.0  ...     0.0             0\n",
              "216               0.0               0.0  ...     0.0             0\n",
              "\n",
              "[5 rows x 7 columns]"
            ]
          },
          "metadata": {},
          "execution_count": 86
        }
      ]
    },
    {
      "cell_type": "markdown",
      "metadata": {
        "id": "QYNz9Iqpf6rm"
      },
      "source": [
        "### 3) Countries"
      ]
    },
    {
      "cell_type": "markdown",
      "metadata": {
        "id": "YL3w-eC0QMmZ"
      },
      "source": [
        "Analizaremos las variables origin_country y countries_shipped_to para decidir si son de utilidad para el proyecto."
      ]
    },
    {
      "cell_type": "code",
      "metadata": {
        "id": "E2kmZJi2ftk5",
        "colab": {
          "base_uri": "https://localhost:8080/"
        },
        "outputId": "f3291a06-8050-4acb-ac38-75a534677501"
      },
      "source": [
        "bd[\"origin_country\"].value_counts()"
      ],
      "execution_count": null,
      "outputs": [
        {
          "output_type": "execute_result",
          "data": {
            "text/plain": [
              "CN    1516\n",
              "US      31\n",
              "VE       5\n",
              "SG       2\n",
              "AT       1\n",
              "GB       1\n",
              "Name: origin_country, dtype: int64"
            ]
          },
          "metadata": {},
          "execution_count": 87
        }
      ]
    },
    {
      "cell_type": "code",
      "metadata": {
        "colab": {
          "base_uri": "https://localhost:8080/"
        },
        "id": "LGmi7U3yf2aH",
        "outputId": "855aaf7b-2a4c-476a-91a5-82ec12a8c029"
      },
      "source": [
        "bd[\"countries_shipped_to\"].value_counts()"
      ],
      "execution_count": null,
      "outputs": [
        {
          "output_type": "execute_result",
          "data": {
            "text/plain": [
              "41    171\n",
              "43    170\n",
              "40    106\n",
              "38     76\n",
              "36     64\n",
              "     ... \n",
              "67      1\n",
              "66      1\n",
              "65      1\n",
              "64      1\n",
              "6       1\n",
              "Name: countries_shipped_to, Length: 94, dtype: int64"
            ]
          },
          "metadata": {},
          "execution_count": 88
        }
      ]
    },
    {
      "cell_type": "code",
      "metadata": {
        "id": "pDV6AWtjftid"
      },
      "source": [
        "bd.drop(\"origin_country\", axis=1, inplace=True)"
      ],
      "execution_count": null,
      "outputs": []
    },
    {
      "cell_type": "markdown",
      "metadata": {
        "id": "Emcj3lsnjFQI"
      },
      "source": [
        "La primera variable muestra que más del 95% de los datos se concentran en un único país, por lo tanto, no encontramos utilidad y decidimos borrar esta columna."
      ]
    },
    {
      "cell_type": "markdown",
      "metadata": {
        "id": "JufKeU9qRo-B"
      },
      "source": [
        "### 4) Colors"
      ]
    },
    {
      "cell_type": "markdown",
      "metadata": {
        "id": "__MEGoK6Rulk"
      },
      "source": [
        "En total hay 101 colores, algunos de ellos aparecen con mucha frecuencia mientras que otros no. Buscamos agrupar los colores en una sola tonalidad, de manera que no haya repeticiones y sea más comprensible."
      ]
    },
    {
      "cell_type": "code",
      "metadata": {
        "id": "chcCxxWghe12",
        "colab": {
          "base_uri": "https://localhost:8080/"
        },
        "outputId": "5622892c-03bd-4bcf-d15e-c506844c59f0"
      },
      "source": [
        "pr_colr = bd['product_color'].value_counts()\n",
        "pr_colr[pr_colr > 2]"
      ],
      "execution_count": null,
      "outputs": [
        {
          "output_type": "execute_result",
          "data": {
            "text/plain": [
              "black               302\n",
              "white               254\n",
              "yellow              105\n",
              "blue                 99\n",
              "pink                 99\n",
              "red                  93\n",
              "green                90\n",
              "grey                 71\n",
              "purple               53\n",
              "armygreen            31\n",
              "navyblue             28\n",
              "winered              28\n",
              "orange               27\n",
              "multicolor           20\n",
              "beige                14\n",
              "lightblue            12\n",
              "khaki                12\n",
              "gray                 11\n",
              "white & green        10\n",
              "rosered               8\n",
              "skyblue               8\n",
              "coffee                7\n",
              "brown                 7\n",
              "darkblue              6\n",
              "rose                  5\n",
              "floral                5\n",
              "lightpink             4\n",
              "fluorescentgreen      4\n",
              "navy                  4\n",
              "black & green         4\n",
              "leopard               4\n",
              "Black                 3\n",
              "orange-red            3\n",
              "black & white         3\n",
              "White                 3\n",
              "lightgreen            3\n",
              "camouflage            3\n",
              "Name: product_color, dtype: int64"
            ]
          },
          "metadata": {},
          "execution_count": 90
        }
      ]
    },
    {
      "cell_type": "code",
      "metadata": {
        "id": "LhsyLutYdkyt",
        "colab": {
          "base_uri": "https://localhost:8080/"
        },
        "outputId": "4890b01c-9f84-4f7b-974b-2b937964418b"
      },
      "source": [
        "bd['product_color'] = bd['product_color'].replace('Black', 'black')\n",
        "bd['product_color'] = bd['product_color'].replace('White', 'white')\n",
        "\n",
        "bd['product_color'] = bd['product_color'].replace('navyblue', 'blue')\n",
        "bd['product_color'] = bd['product_color'].replace('lightblue', 'blue')\n",
        "bd['product_color'] = bd['product_color'].replace('skyblue', 'blue')\n",
        "bd['product_color'] = bd['product_color'].replace('darkblue', 'blue')\n",
        "bd['product_color'] = bd['product_color'].replace('navy', 'blue')\n",
        "\n",
        "bd['product_color'] = bd['product_color'].replace('winered', 'red')\n",
        "bd['product_color'] = bd['product_color'].replace('rosered', 'red')\n",
        "bd['product_color'] = bd['product_color'].replace('rose', 'red')\n",
        "bd['product_color'] = bd['product_color'].replace('orange-red', 'red')\n",
        "\n",
        "bd['product_color'] = bd['product_color'].replace('lightpink', 'pink')\n",
        "\n",
        "bd['product_color'] = bd['product_color'].replace('armygreen', 'green')\n",
        "bd['product_color'] = bd['product_color'].replace('khaki', 'green')\n",
        "bd['product_color'] = bd['product_color'].replace('lightgreen', 'green')\n",
        "bd['product_color'] = bd['product_color'].replace('fluorescentgreen', 'green')\n",
        "\n",
        "bd['product_color'] = bd['product_color'].replace('gray', 'grey')\n",
        "\n",
        "bd['product_color'] = bd['product_color'].replace('coffee', 'brown')\n",
        "\n",
        "bd['product_color'] = bd['product_color'].replace('multicolor', 'other')\n",
        "bd['product_color'] = bd['product_color'].replace('floral', 'other')\n",
        "bd['product_color'] = bd['product_color'].replace('leopard', 'other')\n",
        "bd['product_color'] = bd['product_color'].replace('camouflage', 'other')\n",
        "\n",
        "bd['product_color'] = bd['product_color'].replace('white & green', 'dual')\n",
        "bd['product_color'] = bd['product_color'].replace('black & green', 'dual')\n",
        "bd['product_color'] = bd['product_color'].replace('black & white', 'dual')\n",
        "bd['product_color'] = bd['product_color'].replace('pink & white', 'dual')\n",
        "bd['product_color'] = bd['product_color'].replace('camouflage', 'other')\n",
        "    \n",
        "bd['product_color'] = bd['product_color'].replace(np.nan, 'other')\n",
        "\n",
        "pr_colr = bd['product_color'].value_counts()\n",
        "pr_colr[pr_colr>2]"
      ],
      "execution_count": null,
      "outputs": [
        {
          "output_type": "execute_result",
          "data": {
            "text/plain": [
              "black     305\n",
              "white     257\n",
              "blue      157\n",
              "green     140\n",
              "red       137\n",
              "yellow    105\n",
              "pink      103\n",
              "grey       82\n",
              "other      73\n",
              "purple     53\n",
              "orange     27\n",
              "dual       19\n",
              "beige      14\n",
              "brown      14\n",
              "Name: product_color, dtype: int64"
            ]
          },
          "metadata": {},
          "execution_count": 91
        }
      ]
    },
    {
      "cell_type": "code",
      "metadata": {
        "colab": {
          "base_uri": "https://localhost:8080/",
          "height": 1000
        },
        "id": "4GQ3nwjtkqwW",
        "outputId": "2b7317e4-a499-4797-d30b-d890e26375f1"
      },
      "source": [
        "# Mostramos los colores más populares\n",
        "fig_dims = (10, 15)\n",
        "fig, ax = plt.subplots(figsize=fig_dims)\n",
        "sns.countplot('product_color',\n",
        "              data = bd,\n",
        "              order = bd['product_color'].value_counts().iloc[:14].index,\n",
        "              ax = ax)\n",
        "ax.set(xlabel='Product Colour', ylabel='Count')\n",
        "plt.xticks(rotation=45, ha='right')\n",
        "plt.show()"
      ],
      "execution_count": null,
      "outputs": [
        {
          "output_type": "stream",
          "name": "stderr",
          "text": [
            "/usr/local/lib/python3.7/dist-packages/seaborn/_decorators.py:43: FutureWarning:\n",
            "\n",
            "Pass the following variable as a keyword arg: x. From version 0.12, the only valid positional argument will be `data`, and passing other arguments without an explicit keyword will result in an error or misinterpretation.\n",
            "\n"
          ]
        },
        {
          "output_type": "display_data",
          "data": {
            "image/png": "[encoded data removed]",
            "text/plain": [
              "<Figure size 720x1080 with 1 Axes>"
            ]
          },
          "metadata": {}
        }
      ]
    },
    {
      "cell_type": "markdown",
      "metadata": {
        "id": "AFubUH1mS-wy"
      },
      "source": [
        "Logramos clasificar los colores de los productos en 14 diferentes tonalidades. El negro es el color de prenda más comprado por los usuarios de Wish, seguido por el color blanco."
      ]
    },
    {
      "cell_type": "markdown",
      "metadata": {
        "id": "C6prwbmMTt8C"
      },
      "source": [
        "### 5) Product Size"
      ]
    },
    {
      "cell_type": "markdown",
      "metadata": {
        "id": "wnKWSC_mT6FB"
      },
      "source": [
        "Muchos de estos tamaños son de diferentes escalas, así que necesitamos convertirlos a la misma escala y después los hicimos ordinales. Buscamos agrupar las tallas de prendas en XS, S, M, L, XL, de manera que sea más comprensible. Para los datos nulos, se asumió la talla \"M\".\n",
        "\n"
      ]
    },
    {
      "cell_type": "code",
      "metadata": {
        "id": "qbcD98mbSfyy"
      },
      "source": [
        "def pr_var(name):\n",
        "    if name == 'XXS' \\\n",
        "    or name == 'XS' \\\n",
        "    or name == 'S' \\\n",
        "    or name == 'M' \\\n",
        "    or name == 'L' \\\n",
        "    or name == 'XL' \\\n",
        "    or name == 'XXL':\n",
        "        return name\n",
        "    else:\n",
        "        return \"OTHER\"\n",
        "    \n",
        "bd['product_size'] = bd['product_variation_size_id'].replace(np.nan, 'M')\n",
        "bd['product_size'] = bd['product_variation_size_id'].apply(pr_var)\n",
        "##https://www.kaggle.com/mudithsilva/unit-sold-predict-model#Create-Model-to-predict-Units-Sold"
      ],
      "execution_count": null,
      "outputs": []
    },
    {
      "cell_type": "code",
      "metadata": {
        "id": "jmpB8jYidkrv"
      },
      "source": [
        "bd.drop(\"product_variation_size_id\", axis=1, inplace=True)"
      ],
      "execution_count": null,
      "outputs": []
    },
    {
      "cell_type": "markdown",
      "metadata": {
        "id": "Z8-MwI32Whdr"
      },
      "source": [
        "Logramos categorizar las tallas en 5 tamaños y guardarlas en una nueva variable llamada product_size y eliminamos product_variation_size_id. Podemos observar que la talla que más se compra en esta plataforma es la \"S\" seguida por la \"XS\"."
      ]
    },
    {
      "cell_type": "markdown",
      "metadata": {
        "id": "4hLcVJNXXSZT"
      },
      "source": [
        "### 6) Units Sold"
      ]
    },
    {
      "cell_type": "markdown",
      "metadata": {
        "id": "sxut_Rd2YP4J"
      },
      "source": [
        "En total hay 15 números de ventas, algunos de ellos aparecen con mucha frecuencia mientras que otros no. Buscamos agrupar las ventas en una 9 categorías, de manera que sea más entendible."
      ]
    },
    {
      "cell_type": "code",
      "metadata": {
        "id": "MpSjeWvvdkn0",
        "colab": {
          "base_uri": "https://localhost:8080/"
        },
        "outputId": "c5603076-1e61-4c31-9d32-e6ebd012c2eb"
      },
      "source": [
        "pr_unit = bd['units_sold'].value_counts()\n",
        "pr_unit"
      ],
      "execution_count": null,
      "outputs": [
        {
          "output_type": "execute_result",
          "data": {
            "text/plain": [
              "100       509\n",
              "1000      405\n",
              "5000      217\n",
              "10000     177\n",
              "20000     103\n",
              "50         76\n",
              "10         49\n",
              "50000      17\n",
              "100000      6\n",
              "8           4\n",
              "1           3\n",
              "7           2\n",
              "3           2\n",
              "2           2\n",
              "6           1\n",
              "Name: units_sold, dtype: int64"
            ]
          },
          "metadata": {},
          "execution_count": 95
        }
      ]
    },
    {
      "cell_type": "code",
      "metadata": {
        "id": "lDca8Uhpdkkc",
        "colab": {
          "base_uri": "https://localhost:8080/"
        },
        "outputId": "b4ce7fc8-ae63-440e-ccd8-aee1464c890f"
      },
      "source": [
        "def pr_units(item):\n",
        "    if item == 10 \\\n",
        "    or item == 50 \\\n",
        "    or item == 100 \\\n",
        "    or item == 1000 \\\n",
        "    or item == 5000 \\\n",
        "    or item == 10000 \\\n",
        "    or item == 20000 \\\n",
        "    or item == 50000 \\\n",
        "    or item == 100000:\n",
        "        return item\n",
        "    else:\n",
        "        return 10\n",
        "     \n",
        "bd['units_sold'] = bd['units_sold'].apply(pr_units)\n",
        "pr_unit = bd['units_sold'].value_counts()\n",
        "pr_unit"
      ],
      "execution_count": null,
      "outputs": [
        {
          "output_type": "execute_result",
          "data": {
            "text/plain": [
              "100       509\n",
              "1000      405\n",
              "5000      217\n",
              "10000     177\n",
              "20000     103\n",
              "50         76\n",
              "10         63\n",
              "50000      17\n",
              "100000      6\n",
              "Name: units_sold, dtype: int64"
            ]
          },
          "metadata": {},
          "execution_count": 96
        }
      ]
    },
    {
      "cell_type": "markdown",
      "metadata": {
        "id": "2m46GVehYpZ9"
      },
      "source": [
        "Logramos agrupar las ventas en 9 categorías y guardarlas en la misma columna units_sold. Esta variable es clave para la predicción de ventas de un producto."
      ]
    },
    {
      "cell_type": "markdown",
      "metadata": {
        "id": "6A7e5W0nZRfh"
      },
      "source": [
        "### 7) Datos irrelevantes"
      ]
    },
    {
      "cell_type": "markdown",
      "metadata": {
        "id": "RHe0wpukZYVE"
      },
      "source": [
        "En esta sección veremos algunas variables para analizar si nos son de utilidad."
      ]
    },
    {
      "cell_type": "code",
      "metadata": {
        "id": "WSu5VkppZYAn",
        "colab": {
          "base_uri": "https://localhost:8080/"
        },
        "outputId": "a02af1f2-03e4-4533-99c8-2f2d560a7468"
      },
      "source": [
        "bd[\"currency_buyer\"].unique()"
      ],
      "execution_count": null,
      "outputs": [
        {
          "output_type": "execute_result",
          "data": {
            "text/plain": [
              "array(['EUR'], dtype=object)"
            ]
          },
          "metadata": {},
          "execution_count": 97
        }
      ]
    },
    {
      "cell_type": "code",
      "metadata": {
        "id": "vx4pGd1OaE4r",
        "colab": {
          "base_uri": "https://localhost:8080/"
        },
        "outputId": "31fa55d1-c7ee-4534-df50-a3841e8369e7"
      },
      "source": [
        "bd[\"crawl_month\"].unique()\n"
      ],
      "execution_count": null,
      "outputs": [
        {
          "output_type": "execute_result",
          "data": {
            "text/plain": [
              "array(['2020-08'], dtype=object)"
            ]
          },
          "metadata": {},
          "execution_count": 98
        }
      ]
    },
    {
      "cell_type": "code",
      "metadata": {
        "id": "tc0cH9bEaGIl",
        "colab": {
          "base_uri": "https://localhost:8080/"
        },
        "outputId": "d4adf626-ff6f-4e10-fe4e-86a6f4c284ba"
      },
      "source": [
        "bd[\"theme\"].unique()"
      ],
      "execution_count": null,
      "outputs": [
        {
          "output_type": "execute_result",
          "data": {
            "text/plain": [
              "array(['summer'], dtype=object)"
            ]
          },
          "metadata": {},
          "execution_count": 99
        }
      ]
    },
    {
      "cell_type": "code",
      "metadata": {
        "id": "4MCoF5qrqlb7"
      },
      "source": [
        "bd.drop([\"currency_buyer\",\"theme\",\"crawl_month\"], inplace=True, axis=1)"
      ],
      "execution_count": null,
      "outputs": []
    },
    {
      "cell_type": "markdown",
      "metadata": {
        "id": "-A86FQ-3anHc"
      },
      "source": [
        "Las columnas currency_buyer, theme y crawl_month no presentan información importante debido a que se repite el mismo dato en todas las filas. "
      ]
    },
    {
      "cell_type": "code",
      "metadata": {
        "id": "fIymcQDtbWtM"
      },
      "source": [
        "bd.drop(['merchant_title', 'merchant_name','merchant_info_subtitle', 'merchant_rating_count', 'merchant_rating',\n",
        "       'merchant_id', 'merchant_has_profile_picture','shipping_option_name'], inplace=True, axis=1)"
      ],
      "execution_count": null,
      "outputs": []
    },
    {
      "cell_type": "markdown",
      "metadata": {
        "id": "9GfwB2hVaQ8L"
      },
      "source": [
        "Se eliminaron las columnas 'merchant_title', 'merchant_name', 'merchant_info_subtitle', 'merchant_rating_count', 'merchant_rating',       'merchant_id' y 'merchant_has_profile_picture' porque no nos interesa la información de los vendedores"
      ]
    },
    {
      "cell_type": "code",
      "metadata": {
        "id": "0GIw8uaLcVpH"
      },
      "source": [
        "bd.drop([\"product_url\",\"product_picture\",\"title\",\"title_orig\"], inplace=True, axis=1)"
      ],
      "execution_count": null,
      "outputs": []
    },
    {
      "cell_type": "markdown",
      "metadata": {
        "id": "yas2ZB5lcdzC"
      },
      "source": [
        "Se eliminaron las columnas product_url, product_picture, title y title_org ya que no son necesarias para nuestro proyecto."
      ]
    },
    {
      "cell_type": "code",
      "metadata": {
        "id": "fKmiWmWRdkdU",
        "colab": {
          "base_uri": "https://localhost:8080/"
        },
        "outputId": "ae4c3e5e-0d60-40ce-d2d7-e5661b8a35ef"
      },
      "source": [
        "# Confirmar que no hay variables nulls\n",
        "bd.isna().any()"
      ],
      "execution_count": null,
      "outputs": [
        {
          "output_type": "execute_result",
          "data": {
            "text/plain": [
              "price                          False\n",
              "retail_price                   False\n",
              "units_sold                     False\n",
              "uses_ad_boosts                 False\n",
              "rating                         False\n",
              "rating_count                   False\n",
              "rating_five_count              False\n",
              "rating_four_count              False\n",
              "rating_three_count             False\n",
              "rating_two_count               False\n",
              "rating_one_count               False\n",
              "badges_count                   False\n",
              "badge_local_product            False\n",
              "badge_product_quality          False\n",
              "badge_fast_shipping            False\n",
              "tags                           False\n",
              "product_color                  False\n",
              "product_variation_inventory    False\n",
              "shipping_option_price          False\n",
              "shipping_is_express            False\n",
              "countries_shipped_to           False\n",
              "inventory_total                False\n",
              "product_id                     False\n",
              "product_size                   False\n",
              "dtype: bool"
            ]
          },
          "metadata": {},
          "execution_count": 103
        }
      ]
    },
    {
      "cell_type": "markdown",
      "metadata": {
        "id": "pt_OwykjKoVm"
      },
      "source": [
        "A continuación se guarda la base de datos ya limpia y modificada en un nuevo archivo csv."
      ]
    },
    {
      "cell_type": "code",
      "metadata": {
        "id": "ieh0EaM6ebJ2"
      },
      "source": [
        "wish=bd\n",
        "wish.to_csv('wish_datos_limpios.csv',index=True)"
      ],
      "execution_count": null,
      "outputs": []
    },
    {
      "cell_type": "code",
      "metadata": {
        "id": "9WDB2xF7Kx8m",
        "colab": {
          "base_uri": "https://localhost:8080/",
          "height": 225
        },
        "outputId": "713a3046-4a1e-49e0-e8f2-ce8e8379923e"
      },
      "source": [
        "wish.head()"
      ],
      "execution_count": null,
      "outputs": [
        {
          "output_type": "execute_result",
          "data": {
            "text/html": [
              "<div>\n",
              "<style scoped>\n",
              "    .dataframe tbody tr th:only-of-type {\n",
              "        vertical-align: middle;\n",
              "    }\n",
              "\n",
              "    .dataframe tbody tr th {\n",
              "        vertical-align: top;\n",
              "    }\n",
              "\n",
              "    .dataframe thead th {\n",
              "        text-align: right;\n",
              "    }\n",
              "</style>\n",
              "<table border=\"1\" class=\"dataframe\">\n",
              "  <thead>\n",
              "    <tr style=\"text-align: right;\">\n",
              "      <th></th>\n",
              "      <th>price</th>\n",
              "      <th>retail_price</th>\n",
              "      <th>units_sold</th>\n",
              "      <th>uses_ad_boosts</th>\n",
              "      <th>rating</th>\n",
              "      <th>rating_count</th>\n",
              "      <th>rating_five_count</th>\n",
              "      <th>rating_four_count</th>\n",
              "      <th>rating_three_count</th>\n",
              "      <th>rating_two_count</th>\n",
              "      <th>rating_one_count</th>\n",
              "      <th>badges_count</th>\n",
              "      <th>badge_local_product</th>\n",
              "      <th>badge_product_quality</th>\n",
              "      <th>badge_fast_shipping</th>\n",
              "      <th>tags</th>\n",
              "      <th>product_color</th>\n",
              "      <th>product_variation_inventory</th>\n",
              "      <th>shipping_option_price</th>\n",
              "      <th>shipping_is_express</th>\n",
              "      <th>countries_shipped_to</th>\n",
              "      <th>inventory_total</th>\n",
              "      <th>product_id</th>\n",
              "      <th>product_size</th>\n",
              "    </tr>\n",
              "  </thead>\n",
              "  <tbody>\n",
              "    <tr>\n",
              "      <th>0</th>\n",
              "      <td>16.00</td>\n",
              "      <td>14</td>\n",
              "      <td>100</td>\n",
              "      <td>0</td>\n",
              "      <td>3.76</td>\n",
              "      <td>54</td>\n",
              "      <td>26.0</td>\n",
              "      <td>8.0</td>\n",
              "      <td>10.0</td>\n",
              "      <td>1.0</td>\n",
              "      <td>9.0</td>\n",
              "      <td>0</td>\n",
              "      <td>0</td>\n",
              "      <td>0</td>\n",
              "      <td>0</td>\n",
              "      <td>Summer,Fashion,womenunderwearsuit,printedpajam...</td>\n",
              "      <td>white</td>\n",
              "      <td>50</td>\n",
              "      <td>4</td>\n",
              "      <td>0</td>\n",
              "      <td>34</td>\n",
              "      <td>50</td>\n",
              "      <td>5e9ae51d43d6a96e303acdb0</td>\n",
              "      <td>M</td>\n",
              "    </tr>\n",
              "    <tr>\n",
              "      <th>1</th>\n",
              "      <td>8.00</td>\n",
              "      <td>22</td>\n",
              "      <td>20000</td>\n",
              "      <td>1</td>\n",
              "      <td>3.45</td>\n",
              "      <td>6135</td>\n",
              "      <td>2269.0</td>\n",
              "      <td>1027.0</td>\n",
              "      <td>1118.0</td>\n",
              "      <td>644.0</td>\n",
              "      <td>1077.0</td>\n",
              "      <td>0</td>\n",
              "      <td>0</td>\n",
              "      <td>0</td>\n",
              "      <td>0</td>\n",
              "      <td>Mini,womens dresses,Summer,Patchwork,fashion d...</td>\n",
              "      <td>green</td>\n",
              "      <td>50</td>\n",
              "      <td>2</td>\n",
              "      <td>0</td>\n",
              "      <td>41</td>\n",
              "      <td>50</td>\n",
              "      <td>58940d436a0d3d5da4e95a38</td>\n",
              "      <td>XS</td>\n",
              "    </tr>\n",
              "    <tr>\n",
              "      <th>2</th>\n",
              "      <td>8.00</td>\n",
              "      <td>43</td>\n",
              "      <td>100</td>\n",
              "      <td>0</td>\n",
              "      <td>3.57</td>\n",
              "      <td>14</td>\n",
              "      <td>5.0</td>\n",
              "      <td>4.0</td>\n",
              "      <td>2.0</td>\n",
              "      <td>0.0</td>\n",
              "      <td>3.0</td>\n",
              "      <td>0</td>\n",
              "      <td>0</td>\n",
              "      <td>0</td>\n",
              "      <td>0</td>\n",
              "      <td>Summer,cardigan,women beachwear,chiffon,Sexy w...</td>\n",
              "      <td>leopardprint</td>\n",
              "      <td>1</td>\n",
              "      <td>3</td>\n",
              "      <td>0</td>\n",
              "      <td>36</td>\n",
              "      <td>50</td>\n",
              "      <td>5ea10e2c617580260d55310a</td>\n",
              "      <td>XS</td>\n",
              "    </tr>\n",
              "    <tr>\n",
              "      <th>3</th>\n",
              "      <td>8.00</td>\n",
              "      <td>8</td>\n",
              "      <td>5000</td>\n",
              "      <td>1</td>\n",
              "      <td>4.03</td>\n",
              "      <td>579</td>\n",
              "      <td>295.0</td>\n",
              "      <td>119.0</td>\n",
              "      <td>87.0</td>\n",
              "      <td>42.0</td>\n",
              "      <td>36.0</td>\n",
              "      <td>0</td>\n",
              "      <td>0</td>\n",
              "      <td>0</td>\n",
              "      <td>0</td>\n",
              "      <td>Summer,Shorts,Cotton,Cotton T Shirt,Sleeve,pri...</td>\n",
              "      <td>black</td>\n",
              "      <td>50</td>\n",
              "      <td>2</td>\n",
              "      <td>0</td>\n",
              "      <td>41</td>\n",
              "      <td>50</td>\n",
              "      <td>5cedf17ad1d44c52c59e4aca</td>\n",
              "      <td>M</td>\n",
              "    </tr>\n",
              "    <tr>\n",
              "      <th>4</th>\n",
              "      <td>2.72</td>\n",
              "      <td>3</td>\n",
              "      <td>100</td>\n",
              "      <td>1</td>\n",
              "      <td>3.10</td>\n",
              "      <td>20</td>\n",
              "      <td>6.0</td>\n",
              "      <td>4.0</td>\n",
              "      <td>2.0</td>\n",
              "      <td>2.0</td>\n",
              "      <td>6.0</td>\n",
              "      <td>0</td>\n",
              "      <td>0</td>\n",
              "      <td>0</td>\n",
              "      <td>0</td>\n",
              "      <td>Summer,Plus Size,Lace,Casual pants,Bottom,pant...</td>\n",
              "      <td>yellow</td>\n",
              "      <td>1</td>\n",
              "      <td>1</td>\n",
              "      <td>0</td>\n",
              "      <td>35</td>\n",
              "      <td>50</td>\n",
              "      <td>5ebf5819ebac372b070b0e70</td>\n",
              "      <td>S</td>\n",
              "    </tr>\n",
              "  </tbody>\n",
              "</table>\n",
              "</div>"
            ],
            "text/plain": [
              "   price  retail_price  ...                product_id  product_size\n",
              "0  16.00            14  ...  5e9ae51d43d6a96e303acdb0             M\n",
              "1   8.00            22  ...  58940d436a0d3d5da4e95a38            XS\n",
              "2   8.00            43  ...  5ea10e2c617580260d55310a            XS\n",
              "3   8.00             8  ...  5cedf17ad1d44c52c59e4aca             M\n",
              "4   2.72             3  ...  5ebf5819ebac372b070b0e70             S\n",
              "\n",
              "[5 rows x 24 columns]"
            ]
          },
          "metadata": {},
          "execution_count": 105
        }
      ]
    },
    {
      "cell_type": "markdown",
      "metadata": {
        "id": "6uXKJJ60BTDP"
      },
      "source": [
        "## **D) Estadística básica de los datos**\n"
      ]
    },
    {
      "cell_type": "markdown",
      "metadata": {
        "id": "yRa-4-ZHeYc0"
      },
      "source": [
        "### 1) Análisis básico"
      ]
    },
    {
      "cell_type": "markdown",
      "metadata": {
        "id": "olwSiYa6fBKb"
      },
      "source": [
        "A continuación, analizamos el comportamiento de nuestras variables obteniendo: el total de datos por columna, su promedio, la desviación estándar, mínimos, máximos y cuartiles"
      ]
    },
    {
      "cell_type": "code",
      "metadata": {
        "id": "aSBMFpoIk8SS",
        "colab": {
          "base_uri": "https://localhost:8080/",
          "height": 675
        },
        "outputId": "0bf2be87-7f21-4735-eaf9-e5af1f1fb992"
      },
      "source": [
        "wish.describe().T"
      ],
      "execution_count": null,
      "outputs": [
        {
          "output_type": "execute_result",
          "data": {
            "text/html": [
              "<div>\n",
              "<style scoped>\n",
              "    .dataframe tbody tr th:only-of-type {\n",
              "        vertical-align: middle;\n",
              "    }\n",
              "\n",
              "    .dataframe tbody tr th {\n",
              "        vertical-align: top;\n",
              "    }\n",
              "\n",
              "    .dataframe thead th {\n",
              "        text-align: right;\n",
              "    }\n",
              "</style>\n",
              "<table border=\"1\" class=\"dataframe\">\n",
              "  <thead>\n",
              "    <tr style=\"text-align: right;\">\n",
              "      <th></th>\n",
              "      <th>count</th>\n",
              "      <th>mean</th>\n",
              "      <th>std</th>\n",
              "      <th>min</th>\n",
              "      <th>25%</th>\n",
              "      <th>50%</th>\n",
              "      <th>75%</th>\n",
              "      <th>max</th>\n",
              "    </tr>\n",
              "  </thead>\n",
              "  <tbody>\n",
              "    <tr>\n",
              "      <th>price</th>\n",
              "      <td>1573.0</td>\n",
              "      <td>8.325372</td>\n",
              "      <td>3.932030</td>\n",
              "      <td>1.0</td>\n",
              "      <td>5.81</td>\n",
              "      <td>8.00</td>\n",
              "      <td>11.00</td>\n",
              "      <td>49.0</td>\n",
              "    </tr>\n",
              "    <tr>\n",
              "      <th>retail_price</th>\n",
              "      <td>1573.0</td>\n",
              "      <td>23.288620</td>\n",
              "      <td>30.357863</td>\n",
              "      <td>1.0</td>\n",
              "      <td>7.00</td>\n",
              "      <td>10.00</td>\n",
              "      <td>26.00</td>\n",
              "      <td>252.0</td>\n",
              "    </tr>\n",
              "    <tr>\n",
              "      <th>units_sold</th>\n",
              "      <td>1573.0</td>\n",
              "      <td>4339.052765</td>\n",
              "      <td>9356.517210</td>\n",
              "      <td>10.0</td>\n",
              "      <td>100.00</td>\n",
              "      <td>1000.00</td>\n",
              "      <td>5000.00</td>\n",
              "      <td>100000.0</td>\n",
              "    </tr>\n",
              "    <tr>\n",
              "      <th>uses_ad_boosts</th>\n",
              "      <td>1573.0</td>\n",
              "      <td>0.432931</td>\n",
              "      <td>0.495639</td>\n",
              "      <td>0.0</td>\n",
              "      <td>0.00</td>\n",
              "      <td>0.00</td>\n",
              "      <td>1.00</td>\n",
              "      <td>1.0</td>\n",
              "    </tr>\n",
              "    <tr>\n",
              "      <th>rating</th>\n",
              "      <td>1573.0</td>\n",
              "      <td>3.677858</td>\n",
              "      <td>0.789466</td>\n",
              "      <td>0.0</td>\n",
              "      <td>3.50</td>\n",
              "      <td>3.81</td>\n",
              "      <td>4.08</td>\n",
              "      <td>5.0</td>\n",
              "    </tr>\n",
              "    <tr>\n",
              "      <th>rating_count</th>\n",
              "      <td>1573.0</td>\n",
              "      <td>889.659250</td>\n",
              "      <td>1983.928834</td>\n",
              "      <td>0.0</td>\n",
              "      <td>24.00</td>\n",
              "      <td>150.00</td>\n",
              "      <td>855.00</td>\n",
              "      <td>20744.0</td>\n",
              "    </tr>\n",
              "    <tr>\n",
              "      <th>rating_five_count</th>\n",
              "      <td>1573.0</td>\n",
              "      <td>429.611570</td>\n",
              "      <td>968.882684</td>\n",
              "      <td>0.0</td>\n",
              "      <td>10.00</td>\n",
              "      <td>72.00</td>\n",
              "      <td>394.00</td>\n",
              "      <td>11548.0</td>\n",
              "    </tr>\n",
              "    <tr>\n",
              "      <th>rating_four_count</th>\n",
              "      <td>1573.0</td>\n",
              "      <td>174.461538</td>\n",
              "      <td>395.876511</td>\n",
              "      <td>0.0</td>\n",
              "      <td>4.00</td>\n",
              "      <td>29.00</td>\n",
              "      <td>163.00</td>\n",
              "      <td>4152.0</td>\n",
              "    </tr>\n",
              "    <tr>\n",
              "      <th>rating_three_count</th>\n",
              "      <td>1573.0</td>\n",
              "      <td>130.700572</td>\n",
              "      <td>308.015310</td>\n",
              "      <td>0.0</td>\n",
              "      <td>3.00</td>\n",
              "      <td>22.00</td>\n",
              "      <td>121.00</td>\n",
              "      <td>3658.0</td>\n",
              "    </tr>\n",
              "    <tr>\n",
              "      <th>rating_two_count</th>\n",
              "      <td>1573.0</td>\n",
              "      <td>61.888748</td>\n",
              "      <td>149.539900</td>\n",
              "      <td>0.0</td>\n",
              "      <td>1.00</td>\n",
              "      <td>10.00</td>\n",
              "      <td>59.00</td>\n",
              "      <td>2003.0</td>\n",
              "    </tr>\n",
              "    <tr>\n",
              "      <th>rating_one_count</th>\n",
              "      <td>1573.0</td>\n",
              "      <td>92.996821</td>\n",
              "      <td>211.592341</td>\n",
              "      <td>0.0</td>\n",
              "      <td>3.00</td>\n",
              "      <td>18.00</td>\n",
              "      <td>90.00</td>\n",
              "      <td>2789.0</td>\n",
              "    </tr>\n",
              "    <tr>\n",
              "      <th>badges_count</th>\n",
              "      <td>1573.0</td>\n",
              "      <td>0.105531</td>\n",
              "      <td>0.340709</td>\n",
              "      <td>0.0</td>\n",
              "      <td>0.00</td>\n",
              "      <td>0.00</td>\n",
              "      <td>0.00</td>\n",
              "      <td>3.0</td>\n",
              "    </tr>\n",
              "    <tr>\n",
              "      <th>badge_local_product</th>\n",
              "      <td>1573.0</td>\n",
              "      <td>0.018436</td>\n",
              "      <td>0.134565</td>\n",
              "      <td>0.0</td>\n",
              "      <td>0.00</td>\n",
              "      <td>0.00</td>\n",
              "      <td>0.00</td>\n",
              "      <td>1.0</td>\n",
              "    </tr>\n",
              "    <tr>\n",
              "      <th>badge_product_quality</th>\n",
              "      <td>1573.0</td>\n",
              "      <td>0.074380</td>\n",
              "      <td>0.262472</td>\n",
              "      <td>0.0</td>\n",
              "      <td>0.00</td>\n",
              "      <td>0.00</td>\n",
              "      <td>0.00</td>\n",
              "      <td>1.0</td>\n",
              "    </tr>\n",
              "    <tr>\n",
              "      <th>badge_fast_shipping</th>\n",
              "      <td>1573.0</td>\n",
              "      <td>0.012715</td>\n",
              "      <td>0.112075</td>\n",
              "      <td>0.0</td>\n",
              "      <td>0.00</td>\n",
              "      <td>0.00</td>\n",
              "      <td>0.00</td>\n",
              "      <td>1.0</td>\n",
              "    </tr>\n",
              "    <tr>\n",
              "      <th>product_variation_inventory</th>\n",
              "      <td>1573.0</td>\n",
              "      <td>33.081373</td>\n",
              "      <td>21.353137</td>\n",
              "      <td>1.0</td>\n",
              "      <td>6.00</td>\n",
              "      <td>50.00</td>\n",
              "      <td>50.00</td>\n",
              "      <td>50.0</td>\n",
              "    </tr>\n",
              "    <tr>\n",
              "      <th>shipping_option_price</th>\n",
              "      <td>1573.0</td>\n",
              "      <td>2.345200</td>\n",
              "      <td>1.024371</td>\n",
              "      <td>1.0</td>\n",
              "      <td>2.00</td>\n",
              "      <td>2.00</td>\n",
              "      <td>3.00</td>\n",
              "      <td>12.0</td>\n",
              "    </tr>\n",
              "    <tr>\n",
              "      <th>shipping_is_express</th>\n",
              "      <td>1573.0</td>\n",
              "      <td>0.002543</td>\n",
              "      <td>0.050379</td>\n",
              "      <td>0.0</td>\n",
              "      <td>0.00</td>\n",
              "      <td>0.00</td>\n",
              "      <td>0.00</td>\n",
              "      <td>1.0</td>\n",
              "    </tr>\n",
              "    <tr>\n",
              "      <th>countries_shipped_to</th>\n",
              "      <td>1573.0</td>\n",
              "      <td>40.456453</td>\n",
              "      <td>20.301203</td>\n",
              "      <td>6.0</td>\n",
              "      <td>31.00</td>\n",
              "      <td>40.00</td>\n",
              "      <td>43.00</td>\n",
              "      <td>140.0</td>\n",
              "    </tr>\n",
              "    <tr>\n",
              "      <th>inventory_total</th>\n",
              "      <td>1573.0</td>\n",
              "      <td>49.821360</td>\n",
              "      <td>2.562799</td>\n",
              "      <td>1.0</td>\n",
              "      <td>50.00</td>\n",
              "      <td>50.00</td>\n",
              "      <td>50.00</td>\n",
              "      <td>50.0</td>\n",
              "    </tr>\n",
              "  </tbody>\n",
              "</table>\n",
              "</div>"
            ],
            "text/plain": [
              "                              count         mean  ...      75%       max\n",
              "price                        1573.0     8.325372  ...    11.00      49.0\n",
              "retail_price                 1573.0    23.288620  ...    26.00     252.0\n",
              "units_sold                   1573.0  4339.052765  ...  5000.00  100000.0\n",
              "uses_ad_boosts               1573.0     0.432931  ...     1.00       1.0\n",
              "rating                       1573.0     3.677858  ...     4.08       5.0\n",
              "rating_count                 1573.0   889.659250  ...   855.00   20744.0\n",
              "rating_five_count            1573.0   429.611570  ...   394.00   11548.0\n",
              "rating_four_count            1573.0   174.461538  ...   163.00    4152.0\n",
              "rating_three_count           1573.0   130.700572  ...   121.00    3658.0\n",
              "rating_two_count             1573.0    61.888748  ...    59.00    2003.0\n",
              "rating_one_count             1573.0    92.996821  ...    90.00    2789.0\n",
              "badges_count                 1573.0     0.105531  ...     0.00       3.0\n",
              "badge_local_product          1573.0     0.018436  ...     0.00       1.0\n",
              "badge_product_quality        1573.0     0.074380  ...     0.00       1.0\n",
              "badge_fast_shipping          1573.0     0.012715  ...     0.00       1.0\n",
              "product_variation_inventory  1573.0    33.081373  ...    50.00      50.0\n",
              "shipping_option_price        1573.0     2.345200  ...     3.00      12.0\n",
              "shipping_is_express          1573.0     0.002543  ...     0.00       1.0\n",
              "countries_shipped_to         1573.0    40.456453  ...    43.00     140.0\n",
              "inventory_total              1573.0    49.821360  ...    50.00      50.0\n",
              "\n",
              "[20 rows x 8 columns]"
            ]
          },
          "metadata": {},
          "execution_count": 106
        }
      ]
    },
    {
      "cell_type": "markdown",
      "metadata": {
        "id": "Kyt42gB-SVs8"
      },
      "source": [
        "Lo que más nos llamó la atención de esta tabla fue la diferencia de promedios entre el precio wish y el precio externo. De primera instancia, parece que Wish maneja precios bajos a comparación de la competencia. Además, viendo el número de ventas, el rango de datos es bastante amplio y esto ocasionó que la desviación estándar de los datos esté elevada."
      ]
    },
    {
      "cell_type": "markdown",
      "metadata": {
        "id": "DImGVZw7eakl"
      },
      "source": [
        "### 2) Correlación"
      ]
    },
    {
      "cell_type": "markdown",
      "metadata": {
        "id": "wO3Q7Mxqir8C"
      },
      "source": [
        "A continuación, se muestra la matriz de correlación de la base de datos. Dicha información nos es de utilidad para saber si existe una relación directa o indirecta entre las variables. Además de tener una idea de que variables pueden ser de utilidad para la predicción."
      ]
    },
    {
      "cell_type": "code",
      "metadata": {
        "id": "X0VlnJe8s0RL",
        "colab": {
          "base_uri": "https://localhost:8080/",
          "height": 695
        },
        "outputId": "d32a3eb6-cc65-4230-ced7-e8ff3ae3c7ad"
      },
      "source": [
        "wish.corr()"
      ],
      "execution_count": null,
      "outputs": [
        {
          "output_type": "execute_result",
          "data": {
            "text/html": [
              "<div>\n",
              "<style scoped>\n",
              "    .dataframe tbody tr th:only-of-type {\n",
              "        vertical-align: middle;\n",
              "    }\n",
              "\n",
              "    .dataframe tbody tr th {\n",
              "        vertical-align: top;\n",
              "    }\n",
              "\n",
              "    .dataframe thead th {\n",
              "        text-align: right;\n",
              "    }\n",
              "</style>\n",
              "<table border=\"1\" class=\"dataframe\">\n",
              "  <thead>\n",
              "    <tr style=\"text-align: right;\">\n",
              "      <th></th>\n",
              "      <th>price</th>\n",
              "      <th>retail_price</th>\n",
              "      <th>units_sold</th>\n",
              "      <th>uses_ad_boosts</th>\n",
              "      <th>rating</th>\n",
              "      <th>rating_count</th>\n",
              "      <th>rating_five_count</th>\n",
              "      <th>rating_four_count</th>\n",
              "      <th>rating_three_count</th>\n",
              "      <th>rating_two_count</th>\n",
              "      <th>rating_one_count</th>\n",
              "      <th>badges_count</th>\n",
              "      <th>badge_local_product</th>\n",
              "      <th>badge_product_quality</th>\n",
              "      <th>badge_fast_shipping</th>\n",
              "      <th>product_variation_inventory</th>\n",
              "      <th>shipping_option_price</th>\n",
              "      <th>shipping_is_express</th>\n",
              "      <th>countries_shipped_to</th>\n",
              "      <th>inventory_total</th>\n",
              "    </tr>\n",
              "  </thead>\n",
              "  <tbody>\n",
              "    <tr>\n",
              "      <th>price</th>\n",
              "      <td>1.000000</td>\n",
              "      <td>0.304748</td>\n",
              "      <td>-0.024813</td>\n",
              "      <td>-0.073269</td>\n",
              "      <td>0.050379</td>\n",
              "      <td>-0.001911</td>\n",
              "      <td>-0.000660</td>\n",
              "      <td>0.001648</td>\n",
              "      <td>-0.011343</td>\n",
              "      <td>-0.009483</td>\n",
              "      <td>0.005241</td>\n",
              "      <td>0.063542</td>\n",
              "      <td>0.069592</td>\n",
              "      <td>0.009512</td>\n",
              "      <td>0.087336</td>\n",
              "      <td>0.274819</td>\n",
              "      <td>0.872580</td>\n",
              "      <td>0.146751</td>\n",
              "      <td>-0.033312</td>\n",
              "      <td>-0.168222</td>\n",
              "    </tr>\n",
              "    <tr>\n",
              "      <th>retail_price</th>\n",
              "      <td>0.304748</td>\n",
              "      <td>1.000000</td>\n",
              "      <td>0.012638</td>\n",
              "      <td>-0.035325</td>\n",
              "      <td>0.012816</td>\n",
              "      <td>0.053872</td>\n",
              "      <td>0.052374</td>\n",
              "      <td>0.060483</td>\n",
              "      <td>0.047875</td>\n",
              "      <td>0.045413</td>\n",
              "      <td>0.050345</td>\n",
              "      <td>0.019625</td>\n",
              "      <td>0.022677</td>\n",
              "      <td>0.000098</td>\n",
              "      <td>0.032201</td>\n",
              "      <td>0.118842</td>\n",
              "      <td>0.262516</td>\n",
              "      <td>-0.010047</td>\n",
              "      <td>0.035599</td>\n",
              "      <td>-0.003041</td>\n",
              "    </tr>\n",
              "    <tr>\n",
              "      <th>units_sold</th>\n",
              "      <td>-0.024813</td>\n",
              "      <td>0.012638</td>\n",
              "      <td>1.000000</td>\n",
              "      <td>-0.016059</td>\n",
              "      <td>0.109243</td>\n",
              "      <td>0.899463</td>\n",
              "      <td>0.876972</td>\n",
              "      <td>0.891761</td>\n",
              "      <td>0.894834</td>\n",
              "      <td>0.867406</td>\n",
              "      <td>0.833807</td>\n",
              "      <td>0.045401</td>\n",
              "      <td>-0.007545</td>\n",
              "      <td>0.063185</td>\n",
              "      <td>-0.000898</td>\n",
              "      <td>0.133843</td>\n",
              "      <td>-0.030985</td>\n",
              "      <td>-0.008308</td>\n",
              "      <td>-0.013555</td>\n",
              "      <td>0.005609</td>\n",
              "    </tr>\n",
              "    <tr>\n",
              "      <th>uses_ad_boosts</th>\n",
              "      <td>-0.073269</td>\n",
              "      <td>-0.035325</td>\n",
              "      <td>-0.016059</td>\n",
              "      <td>1.000000</td>\n",
              "      <td>-0.028338</td>\n",
              "      <td>-0.043936</td>\n",
              "      <td>-0.043323</td>\n",
              "      <td>-0.043691</td>\n",
              "      <td>-0.041540</td>\n",
              "      <td>-0.043963</td>\n",
              "      <td>-0.040294</td>\n",
              "      <td>0.038173</td>\n",
              "      <td>0.061471</td>\n",
              "      <td>0.001697</td>\n",
              "      <td>0.038265</td>\n",
              "      <td>-0.135384</td>\n",
              "      <td>-0.061495</td>\n",
              "      <td>-0.018641</td>\n",
              "      <td>-0.017439</td>\n",
              "      <td>0.042395</td>\n",
              "    </tr>\n",
              "    <tr>\n",
              "      <th>rating</th>\n",
              "      <td>0.050379</td>\n",
              "      <td>0.012816</td>\n",
              "      <td>0.109243</td>\n",
              "      <td>-0.028338</td>\n",
              "      <td>1.000000</td>\n",
              "      <td>0.116626</td>\n",
              "      <td>0.143732</td>\n",
              "      <td>0.120747</td>\n",
              "      <td>0.086529</td>\n",
              "      <td>0.059653</td>\n",
              "      <td>0.041326</td>\n",
              "      <td>0.187700</td>\n",
              "      <td>0.028576</td>\n",
              "      <td>0.223955</td>\n",
              "      <td>0.011811</td>\n",
              "      <td>0.061739</td>\n",
              "      <td>0.042534</td>\n",
              "      <td>0.024928</td>\n",
              "      <td>0.027634</td>\n",
              "      <td>-0.047339</td>\n",
              "    </tr>\n",
              "    <tr>\n",
              "      <th>rating_count</th>\n",
              "      <td>-0.001911</td>\n",
              "      <td>0.053872</td>\n",
              "      <td>0.899463</td>\n",
              "      <td>-0.043936</td>\n",
              "      <td>0.116626</td>\n",
              "      <td>1.000000</td>\n",
              "      <td>0.983434</td>\n",
              "      <td>0.995945</td>\n",
              "      <td>0.981581</td>\n",
              "      <td>0.946411</td>\n",
              "      <td>0.911927</td>\n",
              "      <td>0.077648</td>\n",
              "      <td>-0.002285</td>\n",
              "      <td>0.082852</td>\n",
              "      <td>0.044762</td>\n",
              "      <td>0.134246</td>\n",
              "      <td>-0.005928</td>\n",
              "      <td>-0.001137</td>\n",
              "      <td>-0.001843</td>\n",
              "      <td>0.008076</td>\n",
              "    </tr>\n",
              "    <tr>\n",
              "      <th>rating_five_count</th>\n",
              "      <td>-0.000660</td>\n",
              "      <td>0.052374</td>\n",
              "      <td>0.876972</td>\n",
              "      <td>-0.043323</td>\n",
              "      <td>0.143732</td>\n",
              "      <td>0.983434</td>\n",
              "      <td>1.000000</td>\n",
              "      <td>0.981310</td>\n",
              "      <td>0.933016</td>\n",
              "      <td>0.874361</td>\n",
              "      <td>0.829750</td>\n",
              "      <td>0.120916</td>\n",
              "      <td>0.002319</td>\n",
              "      <td>0.139067</td>\n",
              "      <td>0.039114</td>\n",
              "      <td>0.126979</td>\n",
              "      <td>-0.000976</td>\n",
              "      <td>0.006172</td>\n",
              "      <td>-0.001279</td>\n",
              "      <td>-0.000243</td>\n",
              "    </tr>\n",
              "    <tr>\n",
              "      <th>rating_four_count</th>\n",
              "      <td>0.001648</td>\n",
              "      <td>0.060483</td>\n",
              "      <td>0.891761</td>\n",
              "      <td>-0.043691</td>\n",
              "      <td>0.120747</td>\n",
              "      <td>0.995945</td>\n",
              "      <td>0.981310</td>\n",
              "      <td>1.000000</td>\n",
              "      <td>0.976517</td>\n",
              "      <td>0.933517</td>\n",
              "      <td>0.892538</td>\n",
              "      <td>0.072289</td>\n",
              "      <td>-0.005892</td>\n",
              "      <td>0.079692</td>\n",
              "      <td>0.040199</td>\n",
              "      <td>0.135092</td>\n",
              "      <td>-0.003982</td>\n",
              "      <td>-0.004429</td>\n",
              "      <td>-0.000832</td>\n",
              "      <td>0.013147</td>\n",
              "    </tr>\n",
              "    <tr>\n",
              "      <th>rating_three_count</th>\n",
              "      <td>-0.011343</td>\n",
              "      <td>0.047875</td>\n",
              "      <td>0.894834</td>\n",
              "      <td>-0.041540</td>\n",
              "      <td>0.086529</td>\n",
              "      <td>0.981581</td>\n",
              "      <td>0.933016</td>\n",
              "      <td>0.976517</td>\n",
              "      <td>1.000000</td>\n",
              "      <td>0.984942</td>\n",
              "      <td>0.952396</td>\n",
              "      <td>0.029913</td>\n",
              "      <td>-0.007801</td>\n",
              "      <td>0.023842</td>\n",
              "      <td>0.044465</td>\n",
              "      <td>0.135342</td>\n",
              "      <td>-0.018233</td>\n",
              "      <td>-0.007781</td>\n",
              "      <td>0.000923</td>\n",
              "      <td>0.016045</td>\n",
              "    </tr>\n",
              "    <tr>\n",
              "      <th>rating_two_count</th>\n",
              "      <td>-0.009483</td>\n",
              "      <td>0.045413</td>\n",
              "      <td>0.867406</td>\n",
              "      <td>-0.043963</td>\n",
              "      <td>0.059653</td>\n",
              "      <td>0.946411</td>\n",
              "      <td>0.874361</td>\n",
              "      <td>0.933517</td>\n",
              "      <td>0.984942</td>\n",
              "      <td>1.000000</td>\n",
              "      <td>0.982943</td>\n",
              "      <td>0.003439</td>\n",
              "      <td>-0.009477</td>\n",
              "      <td>-0.013419</td>\n",
              "      <td>0.053261</td>\n",
              "      <td>0.133836</td>\n",
              "      <td>-0.018245</td>\n",
              "      <td>-0.010686</td>\n",
              "      <td>-0.002282</td>\n",
              "      <td>0.017832</td>\n",
              "    </tr>\n",
              "    <tr>\n",
              "      <th>rating_one_count</th>\n",
              "      <td>0.005241</td>\n",
              "      <td>0.050345</td>\n",
              "      <td>0.833807</td>\n",
              "      <td>-0.040294</td>\n",
              "      <td>0.041326</td>\n",
              "      <td>0.911927</td>\n",
              "      <td>0.829750</td>\n",
              "      <td>0.892538</td>\n",
              "      <td>0.952396</td>\n",
              "      <td>0.982943</td>\n",
              "      <td>1.000000</td>\n",
              "      <td>-0.006852</td>\n",
              "      <td>-0.002969</td>\n",
              "      <td>-0.034278</td>\n",
              "      <td>0.063013</td>\n",
              "      <td>0.132924</td>\n",
              "      <td>-0.004224</td>\n",
              "      <td>-0.011755</td>\n",
              "      <td>-0.009595</td>\n",
              "      <td>0.016280</td>\n",
              "    </tr>\n",
              "    <tr>\n",
              "      <th>badges_count</th>\n",
              "      <td>0.063542</td>\n",
              "      <td>0.019625</td>\n",
              "      <td>0.045401</td>\n",
              "      <td>0.038173</td>\n",
              "      <td>0.187700</td>\n",
              "      <td>0.077648</td>\n",
              "      <td>0.120916</td>\n",
              "      <td>0.072289</td>\n",
              "      <td>0.029913</td>\n",
              "      <td>0.003439</td>\n",
              "      <td>-0.006852</td>\n",
              "      <td>1.000000</td>\n",
              "      <td>0.568036</td>\n",
              "      <td>0.801352</td>\n",
              "      <td>0.481274</td>\n",
              "      <td>0.031346</td>\n",
              "      <td>0.106984</td>\n",
              "      <td>0.317902</td>\n",
              "      <td>0.021542</td>\n",
              "      <td>-0.093504</td>\n",
              "    </tr>\n",
              "    <tr>\n",
              "      <th>badge_local_product</th>\n",
              "      <td>0.069592</td>\n",
              "      <td>0.022677</td>\n",
              "      <td>-0.007545</td>\n",
              "      <td>0.061471</td>\n",
              "      <td>0.028576</td>\n",
              "      <td>-0.002285</td>\n",
              "      <td>0.002319</td>\n",
              "      <td>-0.005892</td>\n",
              "      <td>-0.007801</td>\n",
              "      <td>-0.009477</td>\n",
              "      <td>-0.002969</td>\n",
              "      <td>0.568036</td>\n",
              "      <td>1.000000</td>\n",
              "      <td>0.069215</td>\n",
              "      <td>0.364066</td>\n",
              "      <td>-0.009599</td>\n",
              "      <td>0.101477</td>\n",
              "      <td>0.274585</td>\n",
              "      <td>0.016245</td>\n",
              "      <td>-0.008890</td>\n",
              "    </tr>\n",
              "    <tr>\n",
              "      <th>badge_product_quality</th>\n",
              "      <td>0.009512</td>\n",
              "      <td>0.000098</td>\n",
              "      <td>0.063185</td>\n",
              "      <td>0.001697</td>\n",
              "      <td>0.223955</td>\n",
              "      <td>0.082852</td>\n",
              "      <td>0.139067</td>\n",
              "      <td>0.079692</td>\n",
              "      <td>0.023842</td>\n",
              "      <td>-0.013419</td>\n",
              "      <td>-0.034278</td>\n",
              "      <td>0.801352</td>\n",
              "      <td>0.069215</td>\n",
              "      <td>1.000000</td>\n",
              "      <td>0.011081</td>\n",
              "      <td>0.081776</td>\n",
              "      <td>0.022741</td>\n",
              "      <td>0.081902</td>\n",
              "      <td>0.011293</td>\n",
              "      <td>-0.065347</td>\n",
              "    </tr>\n",
              "    <tr>\n",
              "      <th>badge_fast_shipping</th>\n",
              "      <td>0.087336</td>\n",
              "      <td>0.032201</td>\n",
              "      <td>-0.000898</td>\n",
              "      <td>0.038265</td>\n",
              "      <td>0.011811</td>\n",
              "      <td>0.044762</td>\n",
              "      <td>0.039114</td>\n",
              "      <td>0.040199</td>\n",
              "      <td>0.044465</td>\n",
              "      <td>0.053261</td>\n",
              "      <td>0.063013</td>\n",
              "      <td>0.481274</td>\n",
              "      <td>0.364066</td>\n",
              "      <td>0.011081</td>\n",
              "      <td>1.000000</td>\n",
              "      <td>-0.084695</td>\n",
              "      <td>0.150136</td>\n",
              "      <td>0.444928</td>\n",
              "      <td>0.019535</td>\n",
              "      <td>-0.120542</td>\n",
              "    </tr>\n",
              "    <tr>\n",
              "      <th>product_variation_inventory</th>\n",
              "      <td>0.274819</td>\n",
              "      <td>0.118842</td>\n",
              "      <td>0.133843</td>\n",
              "      <td>-0.135384</td>\n",
              "      <td>0.061739</td>\n",
              "      <td>0.134246</td>\n",
              "      <td>0.126979</td>\n",
              "      <td>0.135092</td>\n",
              "      <td>0.135342</td>\n",
              "      <td>0.133836</td>\n",
              "      <td>0.132924</td>\n",
              "      <td>0.031346</td>\n",
              "      <td>-0.009599</td>\n",
              "      <td>0.081776</td>\n",
              "      <td>-0.084695</td>\n",
              "      <td>1.000000</td>\n",
              "      <td>0.265225</td>\n",
              "      <td>0.011634</td>\n",
              "      <td>0.116129</td>\n",
              "      <td>0.092285</td>\n",
              "    </tr>\n",
              "    <tr>\n",
              "      <th>shipping_option_price</th>\n",
              "      <td>0.872580</td>\n",
              "      <td>0.262516</td>\n",
              "      <td>-0.030985</td>\n",
              "      <td>-0.061495</td>\n",
              "      <td>0.042534</td>\n",
              "      <td>-0.005928</td>\n",
              "      <td>-0.000976</td>\n",
              "      <td>-0.003982</td>\n",
              "      <td>-0.018233</td>\n",
              "      <td>-0.018245</td>\n",
              "      <td>-0.004224</td>\n",
              "      <td>0.106984</td>\n",
              "      <td>0.101477</td>\n",
              "      <td>0.022741</td>\n",
              "      <td>0.150136</td>\n",
              "      <td>0.265225</td>\n",
              "      <td>1.000000</td>\n",
              "      <td>0.278815</td>\n",
              "      <td>-0.051783</td>\n",
              "      <td>-0.159684</td>\n",
              "    </tr>\n",
              "    <tr>\n",
              "      <th>shipping_is_express</th>\n",
              "      <td>0.146751</td>\n",
              "      <td>-0.010047</td>\n",
              "      <td>-0.008308</td>\n",
              "      <td>-0.018641</td>\n",
              "      <td>0.024928</td>\n",
              "      <td>-0.001137</td>\n",
              "      <td>0.006172</td>\n",
              "      <td>-0.004429</td>\n",
              "      <td>-0.007781</td>\n",
              "      <td>-0.010686</td>\n",
              "      <td>-0.011755</td>\n",
              "      <td>0.317902</td>\n",
              "      <td>0.274585</td>\n",
              "      <td>0.081902</td>\n",
              "      <td>0.444928</td>\n",
              "      <td>0.011634</td>\n",
              "      <td>0.278815</td>\n",
              "      <td>1.000000</td>\n",
              "      <td>0.001352</td>\n",
              "      <td>-0.232975</td>\n",
              "    </tr>\n",
              "    <tr>\n",
              "      <th>countries_shipped_to</th>\n",
              "      <td>-0.033312</td>\n",
              "      <td>0.035599</td>\n",
              "      <td>-0.013555</td>\n",
              "      <td>-0.017439</td>\n",
              "      <td>0.027634</td>\n",
              "      <td>-0.001843</td>\n",
              "      <td>-0.001279</td>\n",
              "      <td>-0.000832</td>\n",
              "      <td>0.000923</td>\n",
              "      <td>-0.002282</td>\n",
              "      <td>-0.009595</td>\n",
              "      <td>0.021542</td>\n",
              "      <td>0.016245</td>\n",
              "      <td>0.011293</td>\n",
              "      <td>0.019535</td>\n",
              "      <td>0.116129</td>\n",
              "      <td>-0.051783</td>\n",
              "      <td>0.001352</td>\n",
              "      <td>1.000000</td>\n",
              "      <td>-0.016588</td>\n",
              "    </tr>\n",
              "    <tr>\n",
              "      <th>inventory_total</th>\n",
              "      <td>-0.168222</td>\n",
              "      <td>-0.003041</td>\n",
              "      <td>0.005609</td>\n",
              "      <td>0.042395</td>\n",
              "      <td>-0.047339</td>\n",
              "      <td>0.008076</td>\n",
              "      <td>-0.000243</td>\n",
              "      <td>0.013147</td>\n",
              "      <td>0.016045</td>\n",
              "      <td>0.017832</td>\n",
              "      <td>0.016280</td>\n",
              "      <td>-0.093504</td>\n",
              "      <td>-0.008890</td>\n",
              "      <td>-0.065347</td>\n",
              "      <td>-0.120542</td>\n",
              "      <td>0.092285</td>\n",
              "      <td>-0.159684</td>\n",
              "      <td>-0.232975</td>\n",
              "      <td>-0.016588</td>\n",
              "      <td>1.000000</td>\n",
              "    </tr>\n",
              "  </tbody>\n",
              "</table>\n",
              "</div>"
            ],
            "text/plain": [
              "                                price  ...  inventory_total\n",
              "price                        1.000000  ...        -0.168222\n",
              "retail_price                 0.304748  ...        -0.003041\n",
              "units_sold                  -0.024813  ...         0.005609\n",
              "uses_ad_boosts              -0.073269  ...         0.042395\n",
              "rating                       0.050379  ...        -0.047339\n",
              "rating_count                -0.001911  ...         0.008076\n",
              "rating_five_count           -0.000660  ...        -0.000243\n",
              "rating_four_count            0.001648  ...         0.013147\n",
              "rating_three_count          -0.011343  ...         0.016045\n",
              "rating_two_count            -0.009483  ...         0.017832\n",
              "rating_one_count             0.005241  ...         0.016280\n",
              "badges_count                 0.063542  ...        -0.093504\n",
              "badge_local_product          0.069592  ...        -0.008890\n",
              "badge_product_quality        0.009512  ...        -0.065347\n",
              "badge_fast_shipping          0.087336  ...        -0.120542\n",
              "product_variation_inventory  0.274819  ...         0.092285\n",
              "shipping_option_price        0.872580  ...        -0.159684\n",
              "shipping_is_express          0.146751  ...        -0.232975\n",
              "countries_shipped_to        -0.033312  ...        -0.016588\n",
              "inventory_total             -0.168222  ...         1.000000\n",
              "\n",
              "[20 rows x 20 columns]"
            ]
          },
          "metadata": {},
          "execution_count": 107
        }
      ]
    },
    {
      "cell_type": "markdown",
      "metadata": {
        "id": "FDq4Ndh3iqGI"
      },
      "source": [
        "Las columnas que muestran una mayor correlación (alrededor de 0.9) son *rating_one_count, \n",
        "rating_two_count,\n",
        "rating_third_count, \n",
        "rating_fourth_count, \n",
        "rating_five_count y \n",
        "rating_count* con la columna *units sold*.\n",
        "\n",
        "Esto puede significar que estas variables nos pueden ser muy utiles a la hora de hacer predicciones."
      ]
    },
    {
      "cell_type": "markdown",
      "metadata": {
        "id": "Jh0pdB3L3hZ4"
      },
      "source": [
        "##**E) Gráficas**"
      ]
    },
    {
      "cell_type": "markdown",
      "metadata": {
        "id": "qYvxATqne12M"
      },
      "source": [
        "### 1) Gráfica de barras - Ventas"
      ]
    },
    {
      "cell_type": "markdown",
      "metadata": {
        "id": "-XgZaAxA7Nbd"
      },
      "source": [
        "Se graficaron las diferentes ventas ya agrupadas para buscar la frecuencia de unidades vendidas."
      ]
    },
    {
      "cell_type": "code",
      "metadata": {
        "id": "Uwoqhvs0tqTE",
        "colab": {
          "base_uri": "https://localhost:8080/",
          "height": 975
        },
        "outputId": "05f5172c-32c8-4a75-9982-b4a59e35285c"
      },
      "source": [
        "fig_dims = (10, 15)\n",
        "fig, ax = plt.subplots(figsize=fig_dims)\n",
        "sns.countplot('units_sold',\n",
        "              data = wish,\n",
        "              order = wish['units_sold'].value_counts().index,\n",
        "              ax = ax)\n",
        "ax.set(xlabel='Units Sold', ylabel='Count')\n",
        "plt.show()"
      ],
      "execution_count": null,
      "outputs": [
        {
          "output_type": "stream",
          "name": "stderr",
          "text": [
            "/usr/local/lib/python3.7/dist-packages/seaborn/_decorators.py:43: FutureWarning:\n",
            "\n",
            "Pass the following variable as a keyword arg: x. From version 0.12, the only valid positional argument will be `data`, and passing other arguments without an explicit keyword will result in an error or misinterpretation.\n",
            "\n"
          ]
        },
        {
          "output_type": "display_data",
          "data": {
            "image/png": "[encoded data removed]",
            "text/plain": [
              "<Figure size 720x1080 with 1 Axes>"
            ]
          },
          "metadata": {}
        }
      ]
    },
    {
      "cell_type": "markdown",
      "metadata": {
        "id": "YElQ-vvDfm2n"
      },
      "source": [
        "Evidentemente, la mayoría de productos tienen ventas de 100 unidades, seguidas de 1,000 unidades. Rara vez, un producto es tendencia y alcanza 50,000 o 100,000 ventas."
      ]
    },
    {
      "cell_type": "markdown",
      "metadata": {
        "id": "O9TsZWzJgQxi"
      },
      "source": [
        "### 2) Mapa de calor - Correlación"
      ]
    },
    {
      "cell_type": "markdown",
      "metadata": {
        "id": "PBkEt4Gtt3Qo"
      },
      "source": [
        "Con la ayuda del mapa de calor, podemos ver la correlación de las variables de nuestra base de datos."
      ]
    },
    {
      "cell_type": "code",
      "metadata": {
        "id": "cqd_rkdGu1y9",
        "colab": {
          "base_uri": "https://localhost:8080/",
          "height": 1000
        },
        "outputId": "2cd5b1ea-fa26-4ec5-c19e-3d4724ae9811"
      },
      "source": [
        "f,ax=plt.subplots(figsize = (25,15))\n",
        "sns.heatmap(wish.corr(),annot= True,linewidths=0.5,fmt = \".1f\",ax=ax)\n",
        "plt.xticks(rotation=90)\n",
        "plt.yticks(rotation=0)\n",
        "plt.title('Mapa de correlación')\n",
        "plt.show()"
      ],
      "execution_count": null,
      "outputs": [
        {
          "output_type": "display_data",
          "data": {
            "image/png": "[encoded data removed]",
            "text/plain": [
              "<Figure size 1800x1080 with 2 Axes>"
            ]
          },
          "metadata": {}
        }
      ]
    },
    {
      "cell_type": "markdown",
      "metadata": {
        "id": "VAouggei0twR"
      },
      "source": [
        "Después de realizar este gráfico, nos dimos cuenta que la variable units_sold tiene una alta correlación con las columnas de rating_count. Esto quiere decir que el numero de ventas y la cantidad de calificaciones por producto nos pueden resultar muy útiles más tarde para poder lograr nuestro objetivo de predecir el éxito de ventas. También, las variables price y shipping_option_price tienen una alta correlación."
      ]
    },
    {
      "cell_type": "markdown",
      "metadata": {
        "id": "MVbzv7vbgu-T"
      },
      "source": [
        "### 3) Histograma de distribución - Rating"
      ]
    },
    {
      "cell_type": "markdown",
      "metadata": {
        "id": "tICA9UTBhFcK"
      },
      "source": [
        "Se busca analizar la forma de distribución de la variable rating, al igual que obtener su sesgo y curtosis. "
      ]
    },
    {
      "cell_type": "code",
      "metadata": {
        "id": "Z_9y3xQOu1t3",
        "colab": {
          "base_uri": "https://localhost:8080/",
          "height": 414
        },
        "outputId": "8e30085d-87d4-4b4e-9e77-32d0cad0c064"
      },
      "source": [
        "sns.distplot(wish['rating'])\n",
        "print(\"Sesgo: %f\" % wish['rating'].skew())\n",
        "print(\"Curtosis: %f\" % wish['rating'].kurt())"
      ],
      "execution_count": null,
      "outputs": [
        {
          "output_type": "stream",
          "name": "stderr",
          "text": [
            "/usr/local/lib/python3.7/dist-packages/seaborn/distributions.py:2619: FutureWarning:\n",
            "\n",
            "`distplot` is a deprecated function and will be removed in a future version. Please adapt your code to use either `displot` (a figure-level function with similar flexibility) or `histplot` (an axes-level function for histograms).\n",
            "\n"
          ]
        },
        {
          "output_type": "stream",
          "name": "stdout",
          "text": [
            "Sesgo: -2.942432\n",
            "Curtosis: 11.324077\n"
          ]
        },
        {
          "output_type": "display_data",
          "data": {
            "image/png": "[encoded data removed]",
            "text/plain": [
              "<Figure size 432x288 with 1 Axes>"
            ]
          },
          "metadata": {}
        }
      ]
    },
    {
      "cell_type": "markdown",
      "metadata": {
        "id": "ixHcRG_S3Hxl"
      },
      "source": [
        "En la gráfica de arriba podemos observar la distribución de los datos de la columna rating, la cuál parece una normal, pero está ligeramente sesgada a la derecha y cuenta con una gran curtosis. Podemos notar que es muy probable que a un producto le pongan una calificación de 4 estrellas."
      ]
    },
    {
      "cell_type": "markdown",
      "metadata": {
        "id": "3wY6eHrdiiBX"
      },
      "source": [
        "### 4) Doble histograma - Precios"
      ]
    },
    {
      "cell_type": "markdown",
      "metadata": {
        "id": "4jzL-CnAityc"
      },
      "source": [
        "En la gráfica de abajo, comparamos el precio externo con el precio wish para ver cuál es menor."
      ]
    },
    {
      "cell_type": "code",
      "metadata": {
        "id": "2IDi50WYu1oR",
        "colab": {
          "base_uri": "https://localhost:8080/",
          "height": 268
        },
        "outputId": "851fabe3-a6a8-43e5-d8c6-3ababfefab96"
      },
      "source": [
        "b = wish[\"price\"]\n",
        "a = wish[\"retail_price\"]\n",
        "\n",
        "plt.hist(a, alpha = 0.5, label='Precio externo')\n",
        "plt.hist(b, alpha = 0.5, label='Precio wish',color=\"red\")\n",
        "plt.legend(loc='upper right')\n",
        "plt.xlim(0,175)\n",
        "plt.show()"
      ],
      "execution_count": null,
      "outputs": [
        {
          "output_type": "display_data",
          "data": {
            "image/png": "[encoded data removed]",
            "text/plain": [
              "<Figure size 432x288 with 1 Axes>"
            ]
          },
          "metadata": {}
        }
      ]
    },
    {
      "cell_type": "markdown",
      "metadata": {
        "id": "oK3A91Uk3hah"
      },
      "source": [
        "Claramente se puede apreciar que el precio externo es más elevado que el precio wish porque el precio externo, que es la parte azul, se extiende por el eje x, mientras que el precio wish, que es la parte verde, se mantiene en valores menores a 20. \n"
      ]
    },
    {
      "cell_type": "markdown",
      "metadata": {
        "id": "Zq8fy2upjA0y"
      },
      "source": [
        "### 5) Scatter plot - Precio envío y Precio wish"
      ]
    },
    {
      "cell_type": "markdown",
      "metadata": {
        "id": "r3B85nGhjMgb"
      },
      "source": [
        "Debido a que en el mapa de calor estas variables mostraron una gran correlación, se decidió analizar con más detalle. "
      ]
    },
    {
      "cell_type": "code",
      "metadata": {
        "id": "EaLIF1f_asAQ",
        "colab": {
          "base_uri": "https://localhost:8080/",
          "height": 399
        },
        "outputId": "0a4ed8f0-80ad-4795-9c36-e62ebd3ef752"
      },
      "source": [
        "sns.lmplot(x='shipping_option_price', y='price', data=wish,fit_reg=True)\n",
        "plt.title('Relación entre precio de envío y precio del producto')"
      ],
      "execution_count": null,
      "outputs": [
        {
          "output_type": "execute_result",
          "data": {
            "text/plain": [
              "Text(0.5, 1.0, 'Relación entre precio de envío y precio del producto')"
            ]
          },
          "metadata": {},
          "execution_count": 112
        },
        {
          "output_type": "display_data",
          "data": {
            "image/png": "[encoded data removed]",
            "text/plain": [
              "<Figure size 360x360 with 1 Axes>"
            ]
          },
          "metadata": {}
        }
      ]
    },
    {
      "cell_type": "markdown",
      "metadata": {
        "id": "cpWLQBCqZ4ZX"
      },
      "source": [
        "Del scatter plot, se puede ver una tendencia lineal que, a medida que aumenta el precio de envío, el precio wish también lo hace, por lo que en lo que respecta a un análisis gráfico, persiste la idea de que estas dos variables muestran una relación entre sí."
      ]
    },
    {
      "cell_type": "markdown",
      "metadata": {
        "id": "W6QnjhrTkDvk"
      },
      "source": [
        "### 6) Conclusiones"
      ]
    },
    {
      "cell_type": "markdown",
      "metadata": {
        "id": "ZYWcfOuckH0R"
      },
      "source": [
        "Del análisis gráfico pudimos resolver nuestros objetivos secundarios. Se analizó el precio de un producto con su costo de envío y llegamos a la conclusión que estas variables tienen una relación lineal directa. Es decir, si uno aumenta, el otro sigue el mismo comportamiento. Al comparar el precio wish con el precio externo, nos dimos cuenta que este primero es menor, concluyendo asi que Wish maneja precios más bajos que la competencia. Por último, a raíz del mapa de calor, nos dimos cuenta que las variables relacionadas con el rating tienen cierta relación con las unidades vendidas."
      ]
    },
    {
      "cell_type": "markdown",
      "metadata": {
        "id": "YI7jbq3-9fEj"
      },
      "source": [
        "Primero se creo una columna por cada talla existente en la columna 'product_variation_size_id' para tener los datos más detallados y a su vez sean númericos para utilizarlos en la técnicas"
      ]
    },
    {
      "cell_type": "markdown",
      "metadata": {
        "id": "uzxf5DPFaWtI"
      },
      "source": [
        "##**F) Análisis de regresión lineal**\n"
      ]
    },
    {
      "cell_type": "markdown",
      "metadata": {
        "id": "x4d62jI1r_lU"
      },
      "source": [
        "### 1) Manipulación de datos"
      ]
    },
    {
      "cell_type": "markdown",
      "metadata": {
        "id": "57FY720UqlBX"
      },
      "source": [
        "Se creo una columna por cada talla existente de la columna 'product_size' para tener los datos más detallados y a su vez sean númericos para utilizarlos en la regresión."
      ]
    },
    {
      "cell_type": "code",
      "metadata": {
        "id": "B5SgsI-NmrA6"
      },
      "source": [
        "wish = pd.get_dummies(wish,columns = ['product_size'],\n",
        "                           prefix = 'size',drop_first = True)"
      ],
      "execution_count": null,
      "outputs": []
    },
    {
      "cell_type": "markdown",
      "metadata": {
        "id": "5DW4T_ikqz_V"
      },
      "source": [
        "Creamos una nueva base de datos donde se eliminaron las variables categóricas para poder realizar la regresión."
      ]
    },
    {
      "cell_type": "code",
      "metadata": {
        "id": "vIpLnWWLbT7n"
      },
      "source": [
        "wish2 = wish.drop([\"product_id\",\"tags\",\"product_color\"], axis=1)"
      ],
      "execution_count": null,
      "outputs": []
    },
    {
      "cell_type": "markdown",
      "metadata": {
        "id": "DiYpgsCRsMZk"
      },
      "source": [
        "### 2) Regresión lineal"
      ]
    },
    {
      "cell_type": "markdown",
      "metadata": {
        "id": "XaOCICfTaTQF"
      },
      "source": [
        "Ahora realizaremos una regresión lineal con regularización (elasticnet) para intentar averiguar qué características son en realidad más importantes para la predicción."
      ]
    },
    {
      "cell_type": "code",
      "metadata": {
        "colab": {
          "base_uri": "https://localhost:8080/",
          "height": 344
        },
        "id": "S2K8td8ra3jg",
        "outputId": "1c69d5a1-7843-4390-9ec1-2a603e6c9c7d"
      },
      "source": [
        "X = wish2.drop(\"units_sold\", axis=1)\n",
        "y = wish2[\"units_sold\"]\n",
        "reg = make_pipeline(StandardScaler(), ElasticNet(alpha=0.5))\n",
        "reg.fit(X, y)\n",
        "pd.Series(reg[-1].coef_, index=X.columns).sort_values().plot.bar(figsize=(20, 5))\n",
        "\n",
        "r2 = r2_score(y, reg.predict(X))\n",
        "plt.title(f\"R2: {round(r2, 2)}\")\n",
        "plt.show()\n",
        "\n",
        "#https://www.kaggle.com/djrmarques/predicting-sales-and-product-stock-management"
      ],
      "execution_count": null,
      "outputs": [
        {
          "output_type": "display_data",
          "data": {
            "image/png": "[encoded data removed]",
            "text/plain": [
              "<Figure size 1440x360 with 1 Axes>"
            ]
          },
          "metadata": {}
        }
      ]
    },
    {
      "cell_type": "markdown",
      "metadata": {
        "id": "0LshRNiUrJzX"
      },
      "source": [
        "Con un R2 de 0.82, podemos ver que las variables de rating_count son muy importantes para units_sold, lo cual creemos que indica que los productos que han existido por más tiempo (por lo tanto, tienen más calificaciones) se han vendido más. Por esa razón, decidimos eliminar este conjunto de variables rating_count del resto del análisis.\n"
      ]
    },
    {
      "cell_type": "code",
      "metadata": {
        "id": "a3vK8lbOc7jC"
      },
      "source": [
        "wish_sin_r = wish2.drop([\"rating_count\", \"rating_one_count\",\"rating_two_count\",\"rating_three_count\",\"rating_four_count\",\"rating_five_count\"], axis=1)"
      ],
      "execution_count": null,
      "outputs": []
    },
    {
      "cell_type": "code",
      "metadata": {
        "colab": {
          "base_uri": "https://localhost:8080/",
          "height": 343
        },
        "id": "_wPO8eh4gWX-",
        "outputId": "70d20618-2064-49aa-b2c8-6c3f84c4a8c6"
      },
      "source": [
        "X = wish_sin_r.drop(\"units_sold\", axis=1)\n",
        "y = wish_sin_r[\"units_sold\"]\n",
        "reg = make_pipeline(StandardScaler(), ElasticNet(alpha=0.5))\n",
        "reg.fit(X, y)\n",
        "pd.Series(reg[-1].coef_, index=X.columns).sort_values().plot.bar(figsize=(20, 5))\n",
        "\n",
        "r2 = r2_score(y, reg.predict(X))\n",
        "plt.title(f\"R2: {round(r2, 2)}\")\n",
        "plt.show()"
      ],
      "execution_count": null,
      "outputs": [
        {
          "output_type": "display_data",
          "data": {
            "image/png": "[encoded data removed]",
            "text/plain": [
              "<Figure size 1440x360 with 1 Axes>"
            ]
          },
          "metadata": {}
        }
      ]
    },
    {
      "cell_type": "markdown",
      "metadata": {
        "id": "3dl0Zw1arNdI"
      },
      "source": [
        "Los resultados cambiaron sin las columnas sobre el rating y solo pudimos obtener un R2 del 0.06. Esto nos da a entender que todas aquellas variables diferentes al grupo rating_count, no tienen mucho peso a la hora de modelar."
      ]
    },
    {
      "cell_type": "markdown",
      "metadata": {
        "id": "whR4hAkMss5L"
      },
      "source": [
        "### 3) Modelado y Predicciones"
      ]
    },
    {
      "cell_type": "markdown",
      "metadata": {
        "id": "P0eSVUoNtDUT"
      },
      "source": [
        "Decidimos hacer el modelo de regresión lineal usando como variable predictora la columna rating_count y procedemos a ver si tiene un buen ajuste."
      ]
    },
    {
      "cell_type": "code",
      "metadata": {
        "colab": {
          "base_uri": "https://localhost:8080/"
        },
        "id": "QCun1_LYjWnJ",
        "outputId": "4b1cccd9-68ea-4b95-9703-9b41db167d48"
      },
      "source": [
        "X = wish[\"rating_count\"].to_frame()\n",
        "y = wish[\"units_sold\"]\n",
        "\n",
        "\n",
        "X_train, X_test, y_train, y_test = train_test_split(X, y, shuffle=True)\n",
        "reg = make_pipeline(StandardScaler(), ElasticNet(0.5))\n",
        "reg.fit(X_train, y_train)\n",
        "prediction = reg.predict(X_test)\n",
        "test_r2 = r2_score(y_test, prediction)\n",
        "print(f\"R2_score: {round(test_r2, 2)}\")"
      ],
      "execution_count": null,
      "outputs": [
        {
          "output_type": "stream",
          "name": "stdout",
          "text": [
            "R2_score: 0.74\n"
          ]
        }
      ]
    },
    {
      "cell_type": "markdown",
      "metadata": {
        "id": "8eHWAUKJrQyP"
      },
      "source": [
        "El modelo nos dio una R2 de 0.74, lo cual nos indica que tenemos un buen modelo. Con la ayuda de las predicciones de la regresión y el precio de los productos, obtuvimos las ventas esperadas($) de cada producto."
      ]
    },
    {
      "cell_type": "code",
      "metadata": {
        "id": "fU7Eq5aVkQEt"
      },
      "source": [
        "def get_results(reg, df: pd.DataFrame) -> pd.DataFrame:\n",
        "\n",
        "    wish[\"predicted_sold_units\"] = reg.predict(wish[\"rating_count\"].to_frame())\n",
        "\n",
        "    wish[\"sales\"] = round(wish[\"price\"] * wish[\"predicted_sold_units\"],2) \n",
        "\n",
        "    return df\n",
        "\n",
        "resultado = get_results(reg, wish)\n"
      ],
      "execution_count": null,
      "outputs": []
    },
    {
      "cell_type": "code",
      "metadata": {
        "colab": {
          "base_uri": "https://localhost:8080/"
        },
        "id": "p3EdGzfMlSjo",
        "outputId": "4103b5e1-2c04-4dfd-ca5c-bee1e52cc76c"
      },
      "source": [
        "profitable_products = resultado[[\"sales\", \"product_id\"]].set_index(\"product_id\").squeeze().sort_values(ascending=False)\n",
        "profitable_products.head()"
      ],
      "execution_count": null,
      "outputs": [
        {
          "output_type": "execute_result",
          "data": {
            "text/plain": [
              "product_id\n",
              "576ba1eb7f3351084cd0b578    561146.94\n",
              "574ff29cb4b28660d9f94d3f    530278.27\n",
              "58df3eb809730e54ddd932ca    524337.12\n",
              "5ad987d8918dae087d633040    433940.57\n",
              "5892e3b0da200f71bcec426e    424769.69\n",
              "Name: sales, dtype: float64"
            ]
          },
          "metadata": {},
          "execution_count": 120
        }
      ]
    },
    {
      "cell_type": "markdown",
      "metadata": {
        "id": "bdhYg5yNtIEF"
      },
      "source": [
        "### 4) Conclusiones"
      ]
    },
    {
      "cell_type": "markdown",
      "metadata": {
        "id": "rTSGTfbmrS_3"
      },
      "source": [
        "Con un R2 de 0.74, llegamos a la conclusión de que el número de calificaciones es el factor más importante para determinar el número de unidades vendidas por producto. Utilizando el análisis de regresión lineal, logramos predecir el ingreso de las ventas de cada producto, cumpliendo así nuestro objetivo principal.\n"
      ]
    },
    {
      "cell_type": "markdown",
      "metadata": {
        "id": "KyvQ61X0rcIc"
      },
      "source": [
        "##**G) Trabajo a futuro**"
      ]
    },
    {
      "cell_type": "markdown",
      "metadata": {
        "id": "1TS3WhJMrugK"
      },
      "source": [
        "Este análisis se puede usar para saber cuántas unidades de cada producto se deben tener de inventario, haciendo uso de un algoritmo de optimización. También, se puede buscar que modelo es el que tiene un mayor ajuste entre precio de envío y el precio del producto.\n"
      ]
    }
  ]
}