{
  "nbformat": 4,
  "nbformat_minor": 0,
  "metadata": {
    "colab": {
      "name": "Ej_Python_1849687.ipynb",
      "provenance": [],
      "collapsed_sections": [],
      "toc_visible": true,
      "authorship_tag": "ABX9TyNnkupHt3FkUu7uLvQUNeC8",
      "include_colab_link": true
    },
    "kernelspec": {
      "name": "python3",
      "display_name": "Python 3"
    },
    "language_info": {
      "name": "python"
    }
  },
  "cells": [
    {
      "cell_type": "markdown",
      "metadata": {
        "id": "view-in-github",
        "colab_type": "text"
      },
      "source": [
        "<a href=\"https://colab.research.google.com/github/DiegoRinconP/Mineria_de_datos/blob/main/Ej_Python_1849687.ipynb\" target=\"_parent\"><img src=\"https://colab.research.google.com/assets/colab-badge.svg\" alt=\"Open In Colab\"/></a>"
      ]
    },
    {
      "cell_type": "markdown",
      "metadata": {
        "id": "2nsXJchwmouO"
      },
      "source": [
        "# **EJERCICIO** **1**"
      ]
    },
    {
      "cell_type": "markdown",
      "metadata": {
        "id": "YiIfNdlzm4R7"
      },
      "source": [
        "Realiza una variable con tu matricula y realiza una secuencia de imprimir con tu nombre y tu matricula concatenados\n"
      ]
    },
    {
      "cell_type": "code",
      "metadata": {
        "colab": {
          "base_uri": "https://localhost:8080/"
        },
        "id": "--RgZK28nCXC",
        "outputId": "1904e79a-e6d1-4fdb-d747-e910ab45120c"
      },
      "source": [
        "mat=int(input(\"Introduce tu matricula:\"))\n",
        "nom=str(input(\"Introduce tu nombre:\"))\n",
        "print(nom,mat)"
      ],
      "execution_count": 1,
      "outputs": [
        {
          "output_type": "stream",
          "text": [
            "Introduce tu matricula:1849687\n",
            "Introduce tu nombre:Diego Rincón\n",
            "Diego Rincón 1849687\n"
          ],
          "name": "stdout"
        }
      ]
    },
    {
      "cell_type": "markdown",
      "metadata": {
        "id": "ntegYDSK5LvJ"
      },
      "source": [
        "# **EJERCICIO 2**"
      ]
    },
    {
      "cell_type": "markdown",
      "metadata": {
        "id": "WSHChcgOolhL"
      },
      "source": [
        "Pidiendo el input del usuario pide dos números y crea una pequeña calculadora con los operadores básicos de suma, resta, multiplicación, división, y exponente.\n"
      ]
    },
    {
      "cell_type": "code",
      "metadata": {
        "id": "1bJRhNpQpJye",
        "colab": {
          "base_uri": "https://localhost:8080/"
        },
        "outputId": "7d413c7e-d261-4ea4-f2d8-c8bbee37d038"
      },
      "source": [
        "a=int(input(\"introduce el primer número:\"))\n",
        "b=int(input(\"introduce el segundo número:\"))\n",
        "opt=0\n",
        "print(\"¿Qué deseas hacer?(selecciona el número de opción)\")\n",
        "list1=[\"1.Suma\",\"2.Resta\",\"3.Multiplicación\",\"4.División\",\"5.Exponente\"]\n",
        "print(list1)\n",
        "opt=int(input(\"opción número:\"))\n",
        "if opt==1:\n",
        "  c=a+b\n",
        "  print(\"La suma de %d + %d es %d\"%(a,b,c))\n",
        "elif opt==2:\n",
        "  c=a-b\n",
        "  print(\"La resta de %d - %d es %d\"%(a,b,c))\n",
        "elif opt==3:\n",
        "  c=a*b\n",
        "  print(\"La multiplicación de %d * %d es %d\"%(a,b,c))\n",
        "elif opt==4:\n",
        "\n",
        "      if b!=0:\n",
        "          c=a/b\n",
        "          print(\"La división de %d / %d es %f\"%(a,b,c))\n",
        "      else:\n",
        "        print(\"error\")# no se puede dividir entre 0\n",
        "      \n",
        "  \n",
        "elif opt==5:\n",
        "  c=a**b\n",
        "  print(\"%d elevado a %d es %d\"%(a,b,c))\n",
        "else:\n",
        "  print(\"Opción no válida\")\n",
        "  \n",
        "#Usando información del libro proporcionado Python for Data Mining Quick Syntax Reference para el uso del elif"
      ],
      "execution_count": 6,
      "outputs": [
        {
          "output_type": "stream",
          "text": [
            "introduce el primer número:3\n",
            "introduce el segundo número:2\n",
            "¿Qué deseas hacer?(selecciona el número de opción)\n",
            "['1.Suma', '2.Resta', '3.Multiplicación', '4.División', '5.Exponente']\n",
            "opción número:5\n",
            "3 elevado a 2 es 9\n"
          ],
          "name": "stdout"
        }
      ]
    },
    {
      "cell_type": "markdown",
      "metadata": {
        "id": "tjLsHW4h5E34"
      },
      "source": [
        "# **EJERCICIO 3**"
      ]
    },
    {
      "cell_type": "markdown",
      "metadata": {
        "id": "3_a3HtXS5-JX"
      },
      "source": [
        "Con Loop While o for, realiza una lista de 10 números múltiplos de 3, y después realiza una función de loop que sume todos los números del arreglo"
      ]
    },
    {
      "cell_type": "code",
      "metadata": {
        "colab": {
          "base_uri": "https://localhost:8080/"
        },
        "id": "ZzGALaHP6XQX",
        "outputId": "2e0b4901-3836-4330-b0ff-a6c8b8a2d4cc"
      },
      "source": [
        "lista = []#crea la lista vacia\n",
        "\n",
        "for x in range (1,11):\n",
        "  lista.append(x*3)#agrega el elemento x multiplicado por 3 a la lista\n",
        "print(lista)\n",
        "\n",
        "total=0\n",
        "for i in range(len(lista)):  #para sumar los elementos de la lista\n",
        "  total = total + lista[i]\n",
        "\n",
        "print(total)\n",
        "\n",
        "#Fuentes:\n",
        "#https://realpython.com/list-comprehension-python/\n",
        "#https://www.geeksforgeeks.org/python-program-to-find-sum-of-elements-in-list/"
      ],
      "execution_count": 34,
      "outputs": [
        {
          "output_type": "stream",
          "text": [
            "[3, 6, 9, 12, 15, 18, 21, 24, 27, 30]\n",
            "165\n"
          ],
          "name": "stdout"
        }
      ]
    },
    {
      "cell_type": "markdown",
      "metadata": {
        "id": "Q7ziAZ3LHiwV"
      },
      "source": [
        "# **EJERCICIO 4**"
      ]
    },
    {
      "cell_type": "markdown",
      "metadata": {
        "id": "aGvv3YlQHmQ0"
      },
      "source": [
        "\n",
        "\n",
        "*   Con una función de if else, revisar si un número es par o impar\n",
        "*   Con una función de if else, revisar si un número es primo o no\n",
        "\n"
      ]
    },
    {
      "cell_type": "code",
      "metadata": {
        "colab": {
          "base_uri": "https://localhost:8080/"
        },
        "id": "HUWR3kgIHiR9",
        "outputId": "2b2dd07d-5fbe-4c47-ae1c-040d80d19f7e"
      },
      "source": [
        "a=int(input(\"Ingresa el número que quieras checar: \"))\n",
        "\n",
        "\n",
        "if  a%2==0: \n",
        "  print(\"el número %d es par\"%(a))\n",
        "else: \n",
        "  print(\"el número es %d impar\"%(a))\n",
        "\n",
        "for i in range(2,a-1):\n",
        "  if a%i==0:\n",
        "    valor=0 #numero no es primo\n",
        "    break #detiene el loop for al encontrar que el mod es 0\n",
        "  else:\n",
        "    valor=1 #numero es primo\n",
        "\n",
        "if valor==1:\n",
        " print(\"el numero %d es primo\"%(a))\n",
        "else:\n",
        "  print(\"el numero %d no es primo\"%(a))\n"
      ],
      "execution_count": 35,
      "outputs": [
        {
          "output_type": "stream",
          "text": [
            "Ingresa el número que quieras checar: 11\n",
            "el número es 11 impar\n",
            "el numero 11 es primo\n"
          ],
          "name": "stdout"
        }
      ]
    },
    {
      "cell_type": "markdown",
      "metadata": {
        "id": "nohYnrPg_QbI"
      },
      "source": [
        "# **EJERCICIO 5**"
      ]
    },
    {
      "cell_type": "markdown",
      "metadata": {
        "id": "dJzE2CyP_T9e"
      },
      "source": [
        "Utilizando diferentes clases en Python, crea una calculadora con los operadores básicos de suma, resta, multiplicación, división y exponente."
      ]
    },
    {
      "cell_type": "code",
      "metadata": {
        "colab": {
          "base_uri": "https://localhost:8080/"
        },
        "id": "xU1kRcBZP8n5",
        "outputId": "a7b0e7ae-c02e-4bcd-d80e-be4c497d595d"
      },
      "source": [
        "  class calcs():  \n",
        "      def __init__(self,a,b):\n",
        "         self.a=a\n",
        "         self.b=b\n",
        "      def sum(self):\n",
        "          return self.a + self.b\n",
        "      def resta(self):\n",
        "          return self.a - self.b\n",
        "      def mult(self):\n",
        "          return self.a * self.b\n",
        "      def div(self):\n",
        "          return self.a / self.b\n",
        "      def exp(self):\n",
        "          return self.a ** self.b\n",
        "\n",
        "a=int(input(\"ingrese el primer número:\"))\n",
        "b=int(input(\"ingrese el segundo número:\"))\n",
        "\n",
        "result=calcs(a,b)\n",
        "\n",
        "print(\"¿Qué deseas hacer?(selecciona el número de opción)\")\n",
        "list1=[\"1.Suma\",\"2.Resta\",\"3.Multiplicación\",\"4.División\",\"5.Exponente\"]\n",
        "print(list1)\n",
        "\n",
        "opt=int(input(\"opción número:\"))\n",
        "if opt==1:\n",
        "    print(\"La suma de %d + %d es %d\"%(a,b,result.sum()))\n",
        "elif opt==2:\n",
        "    print(\"La resta de %d - %d es %d\"%(a,b,result.resta()))\n",
        "elif opt==3:\n",
        "    print(\"La multiplicación de %d * %d es %d\"%(a,b,result.mult()))\n",
        "elif opt==4:\n",
        "\n",
        "    if b!=0:\n",
        "      print(\"La división de %d / %d es %f\"%(a,b,result.div()))\n",
        "    else:\n",
        "      print(\"error\")#no divide entre 0\n",
        "\n",
        "elif opt==5:\n",
        "    print(\"%d elevado a %d es %d\"%(a,b,result.exp()))\n",
        "else:\n",
        "    print(\"Opción no válida\")\n",
        "\n",
        "\n",
        "#Fuentes:\n",
        "#https://docs.python.org/3/tutorial/classes.html\n",
        "#https://stackoverflow.com/questions/27017493/python-typeerror-this-constructor-takes-no-arguments\n",
        "#https://www.sanfoundry.com/python-program-class-performs-basic-calculator-operations/\n",
        "\n",
        "              "
      ],
      "execution_count": 36,
      "outputs": [
        {
          "output_type": "stream",
          "text": [
            "ingrese el primer número:3\n",
            "ingrese el segundo número:3\n",
            "¿Qué deseas hacer?(selecciona el número de opción)\n",
            "['1.Suma', '2.Resta', '3.Multiplicación', '4.División', '5.Exponente']\n",
            "opción número:4\n",
            "La división de 3 / 3 es 1.000000\n"
          ],
          "name": "stdout"
        }
      ]
    },
    {
      "cell_type": "markdown",
      "metadata": {
        "id": "022C0kj1Yk2f"
      },
      "source": [
        "# **EJERCICIOS CON ESTRUCTUTA BÁSICA DE PYTHON**\n"
      ]
    },
    {
      "cell_type": "markdown",
      "metadata": {
        "id": "hgKhqM3rYcsx"
      },
      "source": [
        "# Tuplas\n",
        "\n",
        "\n",
        "*   Crear una variable flotante, integer, boleana y compleja e imprimir que tipo de variable es\n",
        "*   Crear una tupla con valores enteros imprimir el primer y último valor\n",
        "\n",
        "*   Añadir 3 valores de string a la tupla\n",
        "*   Verificar si una variable existe dentro de la tupla\n",
        "\n",
        "\n",
        "\n",
        "\n",
        "\n",
        "\n"
      ]
    },
    {
      "cell_type": "code",
      "metadata": {
        "colab": {
          "base_uri": "https://localhost:8080/"
        },
        "id": "ltvHGe0vZ7Zs",
        "outputId": "05601020-9a92-4161-933e-da10e5749e69"
      },
      "source": [
        "\n",
        "a=3.5\n",
        "b=3\n",
        "c=True\n",
        "d=4j\n",
        "print(\"la variable a es de tipo:\",type(a)) \n",
        "print(\"la variable b es de tipo:\",type(b)) \n",
        "print(\"la variable b es de tipo:\",type(c))\n",
        "print(\"la variable b es de tipo:\",type(d))\n",
        "\n"
      ],
      "execution_count": 30,
      "outputs": [
        {
          "output_type": "stream",
          "text": [
            "la variable a es de tipo: <class 'float'>\n",
            "la variable b es de tipo: <class 'int'>\n",
            "la variable b es de tipo: <class 'bool'>\n",
            "la variable b es de tipo: <class 'complex'>\n"
          ],
          "name": "stdout"
        }
      ]
    },
    {
      "cell_type": "code",
      "metadata": {
        "colab": {
          "base_uri": "https://localhost:8080/"
        },
        "id": "Xj2Zf63zfg4L",
        "outputId": "504ca2ff-fbe5-431a-89ae-2da37644c196"
      },
      "source": [
        "tup = (1,2,3,4,5)\n",
        "print(type(tup))\n",
        "res=list(map(type,tup))\n",
        "print(str(res))\n",
        "\n",
        "print(\"primer valor en la tupla:\",tup[0],\",último valor:\",tup[4])"
      ],
      "execution_count": 31,
      "outputs": [
        {
          "output_type": "stream",
          "text": [
            "<class 'tuple'>\n",
            "[<class 'int'>, <class 'int'>, <class 'int'>, <class 'int'>, <class 'int'>]\n",
            "primer valor en la tupla: 1 ,último valor: 5\n"
          ],
          "name": "stdout"
        }
      ]
    },
    {
      "cell_type": "code",
      "metadata": {
        "colab": {
          "base_uri": "https://localhost:8080/"
        },
        "id": "p3y9v0P5iWbR",
        "outputId": "b87d2e65-53ed-4cda-9e3e-40105d899985"
      },
      "source": [
        "\n",
        "tup=tup.__add__((\"ab\",\"cd\",\"ef\",))#añade los elementos a la tupla\n",
        "print(tup)\n",
        "res=list(map(type,tup))#señala el tipo de dato de cada elemento dentro de la tupla\n",
        "print(str(res))\n",
        "\n",
        "#https://www.geeksforgeeks.org/generating-random-number-list-in-python/\n"
      ],
      "execution_count": 32,
      "outputs": [
        {
          "output_type": "stream",
          "text": [
            "(1, 2, 3, 4, 5, 'ab', 'cd', 'ef')\n",
            "[<class 'int'>, <class 'int'>, <class 'int'>, <class 'int'>, <class 'int'>, <class 'str'>, <class 'str'>, <class 'str'>]\n"
          ],
          "name": "stdout"
        }
      ]
    },
    {
      "cell_type": "code",
      "metadata": {
        "colab": {
          "base_uri": "https://localhost:8080/"
        },
        "id": "liCUWKjWnM3K",
        "outputId": "6aaf8d8f-ec04-4f45-e907-077de92f07af"
      },
      "source": [
        "print(\"¿se encuentra ab en la tupla?\" , \"ab\" in tup) #regresa True si el valor ab esta dentro de la tupla"
      ],
      "execution_count": 33,
      "outputs": [
        {
          "output_type": "stream",
          "text": [
            "¿se encuentra ab en la tupla? True\n"
          ],
          "name": "stdout"
        }
      ]
    },
    {
      "cell_type": "markdown",
      "metadata": {
        "id": "GdCSPPbHnkSS"
      },
      "source": [
        "# Listas\n",
        "\n",
        "\n",
        "* Crear una lista con 40 elementos aleatorios enteros\n",
        "* Con una función (def) crear dos listas nuevas a partir de la lista creada por numeros aleatorios, en la cual en una esten los elementos pares, y en la otra los elementos impares\n",
        "\n",
        "* Crear dos variables con la longitud de ambas listas nuevas e imprimir las variables\n",
        "* Ordenar los elementos de la lista par de mayor a menor, y los de la lista impar de menor a mayor\n",
        "\n",
        "* Utilizar al menos cuatro de las funciones de listas en python en la lista original de 40 elementos\n",
        "\n",
        "\n",
        "\n",
        "\n",
        "\n",
        "\n"
      ]
    },
    {
      "cell_type": "code",
      "metadata": {
        "colab": {
          "base_uri": "https://localhost:8080/"
        },
        "id": "SG7Ni7TYqUjC",
        "outputId": "28093b4c-ce1e-4a9b-958f-1467a4200a89"
      },
      "source": [
        "import numpy as np\n",
        "lista=list(np.random.randint(low=99,size=40))\n",
        "print(lista)\n",
        "\n",
        "#https://www.geeksforgeeks.org/generating-random-number-list-in-python/\n"
      ],
      "execution_count": 13,
      "outputs": [
        {
          "output_type": "stream",
          "text": [
            "[74, 87, 43, 94, 94, 87, 26, 8, 46, 69, 3, 58, 89, 86, 60, 79, 70, 20, 45, 84, 36, 27, 51, 62, 3, 91, 36, 23, 42, 25, 6, 34, 55, 97, 43, 45, 29, 19, 37, 17]\n"
          ],
          "name": "stdout"
        }
      ]
    },
    {
      "cell_type": "code",
      "metadata": {
        "colab": {
          "base_uri": "https://localhost:8080/"
        },
        "id": "QHnMKgPw1-hf",
        "outputId": "323632a7-28ac-47b8-f5d7-af3791de6543"
      },
      "source": [
        "def separar(ls):\n",
        "    ls.sort()\n",
        "    pares = [] #crea el arreglo para pares \n",
        "    impares = [] #crea el arreglo para impares\n",
        "    for i in ls:\n",
        "        if i%2==0:\n",
        "          pares.append(i)\n",
        "        else:\n",
        "          impares.append(i)\n",
        "    return pares,impares\n",
        "\n",
        "pares,impares=separar(lista)\n",
        "\n",
        "print(\"lista de elementos pares:\",pares)\n",
        "print(\"lista de elementos impares:\",impares)\n",
        "\n",
        "#https://www.youtube.com/watch?v=ByBaYB74Tx8\n"
      ],
      "execution_count": 15,
      "outputs": [
        {
          "output_type": "stream",
          "text": [
            "lista de elementos pares: [6, 8, 20, 26, 34, 36, 36, 42, 46, 58, 60, 62, 70, 74, 84, 86, 94, 94]\n",
            "lista de elementos impares: [3, 3, 17, 19, 23, 25, 27, 29, 37, 43, 43, 45, 45, 51, 55, 69, 79, 87, 87, 89, 91, 97]\n"
          ],
          "name": "stdout"
        }
      ]
    },
    {
      "cell_type": "code",
      "metadata": {
        "colab": {
          "base_uri": "https://localhost:8080/"
        },
        "id": "Q4UdyOYFJvmf",
        "outputId": "bf1eab03-8302-4f90-c35f-f3c3a5c98c07"
      },
      "source": [
        "longpar=len(pares)\n",
        "print(\"numero de elementos pares:\",longpar)\n",
        "longimpar=len(impares)\n",
        "print(\"número de elementos impares:\",longimpar)"
      ],
      "execution_count": 16,
      "outputs": [
        {
          "output_type": "stream",
          "text": [
            "numero de elementos pares: 18\n",
            "número de elementos impares: 22\n"
          ],
          "name": "stdout"
        }
      ]
    },
    {
      "cell_type": "code",
      "metadata": {
        "colab": {
          "base_uri": "https://localhost:8080/"
        },
        "id": "YGMT627QLi0A",
        "outputId": "d72b4f1b-6ba1-4873-c673-b407a2dee331"
      },
      "source": [
        "pares.sort(reverse=True)#ordena los elementos de mayor a menor \n",
        "impares.sort()\n",
        "print(pares)\n",
        "print(impares)\n",
        "#print(impares.sort(ascending=False))"
      ],
      "execution_count": 17,
      "outputs": [
        {
          "output_type": "stream",
          "text": [
            "[94, 94, 86, 84, 74, 70, 62, 60, 58, 46, 42, 36, 36, 34, 26, 20, 8, 6]\n",
            "[3, 3, 17, 19, 23, 25, 27, 29, 37, 43, 43, 45, 45, 51, 55, 69, 79, 87, 87, 89, 91, 97]\n"
          ],
          "name": "stdout"
        }
      ]
    },
    {
      "cell_type": "code",
      "metadata": {
        "colab": {
          "base_uri": "https://localhost:8080/"
        },
        "id": "X6jR-tP3Q6r1",
        "outputId": "29aab627-d03d-4603-fa1a-a9e945f6ac7c"
      },
      "source": [
        "lista.append(28)#agrega el número 28\n",
        "print(lista)\n",
        "\n"
      ],
      "execution_count": 18,
      "outputs": [
        {
          "output_type": "stream",
          "text": [
            "[3, 3, 6, 8, 17, 19, 20, 23, 25, 26, 27, 29, 34, 36, 36, 37, 42, 43, 43, 45, 45, 46, 51, 55, 58, 60, 62, 69, 70, 74, 79, 84, 86, 87, 87, 89, 91, 94, 94, 97, 28]\n"
          ],
          "name": "stdout"
        }
      ]
    },
    {
      "cell_type": "code",
      "metadata": {
        "colab": {
          "base_uri": "https://localhost:8080/"
        },
        "id": "L2VypLZ4RbCk",
        "outputId": "4b6eedc1-5812-4656-93e3-3e4010fde354"
      },
      "source": [
        "lista.pop()#elimina el último elemento de la lista\n",
        "print(lista)"
      ],
      "execution_count": 19,
      "outputs": [
        {
          "output_type": "stream",
          "text": [
            "[3, 3, 6, 8, 17, 19, 20, 23, 25, 26, 27, 29, 34, 36, 36, 37, 42, 43, 43, 45, 45, 46, 51, 55, 58, 60, 62, 69, 70, 74, 79, 84, 86, 87, 87, 89, 91, 94, 94, 97]\n"
          ],
          "name": "stdout"
        }
      ]
    },
    {
      "cell_type": "code",
      "metadata": {
        "colab": {
          "base_uri": "https://localhost:8080/"
        },
        "id": "p9MJ-IbFReHD",
        "outputId": "24ee4be7-9257-4d4a-8d6a-ca65a7d66a4f"
      },
      "source": [
        "lista.extend([102,108,79])#extiende la lista agregando los elementos\n",
        "print(lista)"
      ],
      "execution_count": 20,
      "outputs": [
        {
          "output_type": "stream",
          "text": [
            "[3, 3, 6, 8, 17, 19, 20, 23, 25, 26, 27, 29, 34, 36, 36, 37, 42, 43, 43, 45, 45, 46, 51, 55, 58, 60, 62, 69, 70, 74, 79, 84, 86, 87, 87, 89, 91, 94, 94, 97, 102, 108, 79]\n"
          ],
          "name": "stdout"
        }
      ]
    },
    {
      "cell_type": "code",
      "metadata": {
        "colab": {
          "base_uri": "https://localhost:8080/"
        },
        "id": "dgN0YIw8Sa4F",
        "outputId": "f9775089-851f-4cdb-97f0-d29c311f4d61"
      },
      "source": [
        "lista.clear()#borra todos los elementos de la lista\n",
        "print(lista)"
      ],
      "execution_count": 21,
      "outputs": [
        {
          "output_type": "stream",
          "text": [
            "[]\n"
          ],
          "name": "stdout"
        }
      ]
    },
    {
      "cell_type": "markdown",
      "metadata": {
        "id": "RlgUy3uVTVCb"
      },
      "source": [
        "## Diccionarios\n",
        "\n",
        "\n",
        "*   Crear un diccionario de 6 personas que conozcas con su primer nombre y su edad \n",
        "*   Crear una lista con los valores de la edad y reacomodar la lista de menor a mayor valor\n",
        "\n",
        "\n",
        "*   Usando el diccionario y un loop, imprimir solo los nombre\n",
        "*   Añadir dos personas nuevas a tu diccionario, incluyendo edad\n",
        "\n",
        "\n",
        "\n"
      ]
    },
    {
      "cell_type": "code",
      "metadata": {
        "colab": {
          "base_uri": "https://localhost:8080/"
        },
        "id": "qLAHwc6QWlXm",
        "outputId": "2c160fdc-db15-40c7-f846-be4f9741cd1a"
      },
      "source": [
        "dicc={\"Diego\":20,\"victor\":17,\"Adriana\":44,\"Gerardo\":53,\"Alejandro\":36,\"Eduardo\":18}\n",
        "print(dicc)\n"
      ],
      "execution_count": 22,
      "outputs": [
        {
          "output_type": "stream",
          "text": [
            "{'Diego': 20, 'victor': 17, 'Adriana': 44, 'Gerardo': 53, 'Alejandro': 36, 'Eduardo': 18}\n"
          ],
          "name": "stdout"
        }
      ]
    },
    {
      "cell_type": "code",
      "metadata": {
        "colab": {
          "base_uri": "https://localhost:8080/"
        },
        "id": "c27GDWN1ZN5J",
        "outputId": "0ca451f4-4dda-4888-bc47-af57dc0eb2d3"
      },
      "source": [
        "edad=[]\n",
        "for i in dicc.values():\n",
        "    edad.append(i)\n",
        "  \n",
        "edad.sort()\n",
        "print(edad)\n",
        "\n",
        "#https://docs.python.org/3/tutorial/datastructures.html"
      ],
      "execution_count": 23,
      "outputs": [
        {
          "output_type": "stream",
          "text": [
            "[17, 18, 20, 36, 44, 53]\n"
          ],
          "name": "stdout"
        }
      ]
    },
    {
      "cell_type": "code",
      "metadata": {
        "colab": {
          "base_uri": "https://localhost:8080/"
        },
        "id": "Jxs7dH6yZ1uu",
        "outputId": "94b8ddb5-1dd3-454e-eb3e-7adb4ea7824a"
      },
      "source": [
        "for i in dicc.keys():\n",
        "    print (i)"
      ],
      "execution_count": 24,
      "outputs": [
        {
          "output_type": "stream",
          "text": [
            "Diego\n",
            "victor\n",
            "Adriana\n",
            "Gerardo\n",
            "Alejandro\n",
            "Eduardo\n"
          ],
          "name": "stdout"
        }
      ]
    },
    {
      "cell_type": "code",
      "metadata": {
        "colab": {
          "base_uri": "https://localhost:8080/"
        },
        "id": "zGhKpuIQbkcz",
        "outputId": "834b3d2c-a1e8-48c2-8ff0-3bae958dec70"
      },
      "source": [
        "dicc[\"Victoria\"]=\"23\"\n",
        "dicc[\"Elizabeth\"]=\"32\"\n",
        "print(dicc)"
      ],
      "execution_count": 25,
      "outputs": [
        {
          "output_type": "stream",
          "text": [
            "{'Diego': 20, 'victor': 17, 'Adriana': 44, 'Gerardo': 53, 'Alejandro': 36, 'Eduardo': 18, 'Victoria': '23', 'Elizabeth': '32'}\n"
          ],
          "name": "stdout"
        }
      ]
    },
    {
      "cell_type": "markdown",
      "metadata": {
        "id": "78q2aFVGfWmq"
      },
      "source": [
        "# Sets\n",
        "\n",
        "\n",
        "*   Crea un set con 100 numeros aleatorios enteros de 1 a 25\n",
        "*   Comprueba la longitud de tu set\n",
        "\n",
        "\n",
        "*   Crea una lista de 5 numeros aleatorios del 1 al 10 y comprueba si cada valor aparece en el set inicial\n",
        "\n",
        "\n",
        "\n",
        "\n",
        "\n"
      ]
    },
    {
      "cell_type": "code",
      "metadata": {
        "id": "x0g-h3BOgNoq",
        "colab": {
          "base_uri": "https://localhost:8080/"
        },
        "outputId": "0e1482cf-0bc4-45ef-98f7-87538f59857f"
      },
      "source": [
        "import random\n",
        "set1 = set()\n",
        "for i in range(0,100):\n",
        "  n=random.randint(1,25)\n",
        "  set1.add(n)\n",
        "\n",
        "print(set1) #Los sets consisten de elementos únicos (no duplicados)\n",
        "\n",
        "#Información del libro proporcionado y https://www.w3schools.com/python/python_sets.asp\n",
        "\n"
      ],
      "execution_count": 26,
      "outputs": [
        {
          "output_type": "stream",
          "text": [
            "{1, 2, 3, 4, 5, 6, 7, 8, 9, 10, 11, 12, 13, 14, 16, 17, 18, 19, 20, 21, 22, 23, 24, 25}\n"
          ],
          "name": "stdout"
        }
      ]
    },
    {
      "cell_type": "code",
      "metadata": {
        "colab": {
          "base_uri": "https://localhost:8080/"
        },
        "id": "vDUJ_jhTNhSb",
        "outputId": "60b701fd-b16d-4b15-827a-1fed7e23f6d2"
      },
      "source": [
        "print(\"la longitud del set es:\",len(set1))"
      ],
      "execution_count": 27,
      "outputs": [
        {
          "output_type": "stream",
          "text": [
            "la longitud del set es: 24\n"
          ],
          "name": "stdout"
        }
      ]
    },
    {
      "cell_type": "code",
      "metadata": {
        "colab": {
          "base_uri": "https://localhost:8080/"
        },
        "id": "lRqsP5CbLtLP",
        "outputId": "7003d3a5-47e1-42f6-990a-dd7384f43534"
      },
      "source": [
        "import random\n",
        "listac=[]\n",
        "for i in range(0,5):\n",
        "  n=random.randint(1,10) #genera el número aleatorio entre 1 y 10\n",
        "  listac.append(n)\n",
        "\n",
        "print(listac)\n",
        "\n"
      ],
      "execution_count": 28,
      "outputs": [
        {
          "output_type": "stream",
          "text": [
            "[8, 6, 5, 5, 4]\n"
          ],
          "name": "stdout"
        }
      ]
    },
    {
      "cell_type": "code",
      "metadata": {
        "colab": {
          "base_uri": "https://localhost:8080/"
        },
        "id": "Gcbt0dbXNv3S",
        "outputId": "681078dc-ce63-48ce-90b3-221ee18916ba"
      },
      "source": [
        "\n",
        "for i in range(len(listac)):\n",
        " print(\"¿Esta el elemento\",listac[i],\" de la lista en el set?\",listac[i] in set1)"
      ],
      "execution_count": 29,
      "outputs": [
        {
          "output_type": "stream",
          "text": [
            "¿Esta el elemento 8  de la lista en el set? True\n",
            "¿Esta el elemento 6  de la lista en el set? True\n",
            "¿Esta el elemento 5  de la lista en el set? True\n",
            "¿Esta el elemento 5  de la lista en el set? True\n",
            "¿Esta el elemento 4  de la lista en el set? True\n"
          ],
          "name": "stdout"
        }
      ]
    }
  ]
}