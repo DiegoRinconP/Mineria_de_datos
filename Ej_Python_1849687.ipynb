{
  "nbformat": 4,
  "nbformat_minor": 0,
  "metadata": {
    "colab": {
      "name": "Ej_Python_1849687.ipynb",
      "provenance": [],
      "collapsed_sections": [],
      "toc_visible": true,
      "authorship_tag": "ABX9TyMBXdi/wt9r74poOEgUbb9e",
      "include_colab_link": true
    },
    "kernelspec": {
      "name": "python3",
      "display_name": "Python 3"
    },
    "language_info": {
      "name": "python"
    }
  },
  "cells": [
    {
      "cell_type": "markdown",
      "metadata": {
        "id": "view-in-github",
        "colab_type": "text"
      },
      "source": [
        "<a href=\"https://colab.research.google.com/github/DiegoRinconP/Mineria_de_datos/blob/main/Ej_Python_1849687.ipynb\" target=\"_parent\"><img src=\"https://colab.research.google.com/assets/colab-badge.svg\" alt=\"Open In Colab\"/></a>"
      ]
    },
    {
      "cell_type": "markdown",
      "metadata": {
        "id": "2nsXJchwmouO"
      },
      "source": [
        "# **EJERCICIO** **1**"
      ]
    },
    {
      "cell_type": "markdown",
      "metadata": {
        "id": "YiIfNdlzm4R7"
      },
      "source": [
        "Realiza una variable con tu matricula y realiza una secuencia de imprimir con tu nombre y tu matricula concatenados\n"
      ]
    },
    {
      "cell_type": "code",
      "metadata": {
        "colab": {
          "base_uri": "https://localhost:8080/"
        },
        "id": "--RgZK28nCXC",
        "outputId": "1904e79a-e6d1-4fdb-d747-e910ab45120c"
      },
      "source": [
        "mat=int(input(\"Introduce tu matricula:\"))\n",
        "nom=str(input(\"Introduce tu nombre:\"))\n",
        "print(nom,mat)"
      ],
      "execution_count": 1,
      "outputs": [
        {
          "output_type": "stream",
          "text": [
            "Introduce tu matricula:1849687\n",
            "Introduce tu nombre:Diego Rincón\n",
            "Diego Rincón 1849687\n"
          ],
          "name": "stdout"
        }
      ]
    },
    {
      "cell_type": "markdown",
      "metadata": {
        "id": "ntegYDSK5LvJ"
      },
      "source": [
        "# **EJERCICIO 2**"
      ]
    },
    {
      "cell_type": "markdown",
      "metadata": {
        "id": "WSHChcgOolhL"
      },
      "source": [
        "Pidiendo el input del usuario pide dos números y crea una pequeña calculadora con los operadores básicos de suma, resta, multiplicación, división, y exponente.\n"
      ]
    },
    {
      "cell_type": "code",
      "metadata": {
        "id": "1bJRhNpQpJye",
        "colab": {
          "base_uri": "https://localhost:8080/"
        },
        "outputId": "7d413c7e-d261-4ea4-f2d8-c8bbee37d038"
      },
      "source": [
        "a=int(input(\"introduce el primer número:\"))\n",
        "b=int(input(\"introduce el segundo número:\"))\n",
        "opt=0\n",
        "print(\"¿Qué deseas hacer?(selecciona el número de opción)\")\n",
        "list1=[\"1.Suma\",\"2.Resta\",\"3.Multiplicación\",\"4.División\",\"5.Exponente\"]\n",
        "print(list1)\n",
        "opt=int(input(\"opción número:\"))\n",
        "if opt==1:\n",
        "  c=a+b\n",
        "  print(\"La suma de %d + %d es %d\"%(a,b,c))\n",
        "elif opt==2:\n",
        "  c=a-b\n",
        "  print(\"La resta de %d - %d es %d\"%(a,b,c))\n",
        "elif opt==3:\n",
        "  c=a*b\n",
        "  print(\"La multiplicación de %d * %d es %d\"%(a,b,c))\n",
        "elif opt==4:\n",
        "\n",
        "      if b!=0:\n",
        "          c=a/b\n",
        "          print(\"La división de %d / %d es %f\"%(a,b,c))\n",
        "      else:\n",
        "        print(\"error\")# no se puede dividir entre 0\n",
        "      \n",
        "  \n",
        "elif opt==5:\n",
        "  c=a**b\n",
        "  print(\"%d elevado a %d es %d\"%(a,b,c))\n",
        "else:\n",
        "  print(\"Opción no válida\")\n",
        "  \n",
        "#Usando información del libro proporcionado Python for Data Mining Quick Syntax Reference para el uso del elif"
      ],
      "execution_count": 6,
      "outputs": [
        {
          "output_type": "stream",
          "text": [
            "introduce el primer número:3\n",
            "introduce el segundo número:2\n",
            "¿Qué deseas hacer?(selecciona el número de opción)\n",
            "['1.Suma', '2.Resta', '3.Multiplicación', '4.División', '5.Exponente']\n",
            "opción número:5\n",
            "3 elevado a 2 es 9\n"
          ],
          "name": "stdout"
        }
      ]
    },
    {
      "cell_type": "markdown",
      "metadata": {
        "id": "tjLsHW4h5E34"
      },
      "source": [
        "# **EJERCICIO 3**"
      ]
    },
    {
      "cell_type": "markdown",
      "metadata": {
        "id": "3_a3HtXS5-JX"
      },
      "source": [
        "Con Loop While o for, realiza una lista de 10 números múltiplos de 3, y después realiza una función de loop que sume todos los números del arreglo"
      ]
    },
    {
      "cell_type": "code",
      "metadata": {
        "colab": {
          "base_uri": "https://localhost:8080/"
        },
        "id": "ZzGALaHP6XQX",
        "outputId": "518610c2-efa0-49f5-ed6d-06ea330f7917"
      },
      "source": [
        "lista = []#crea la lista vacia\n",
        "\n",
        "for x in range (1,11):\n",
        "  lista.append(x*3)#agrega el elemento x multiplicado por 3 a la lista\n",
        "print(lista)\n",
        "\n",
        "total=0\n",
        "for i in range(len(lista)):  #para sumar los elementos de la lista\n",
        "  total = total + lista[i]\n",
        "\n",
        "print(total)\n",
        "\n",
        "#Fuentes:\n",
        "#https://realpython.com/list-comprehension-python/\n",
        "#https://www.geeksforgeeks.org/python-program-to-find-sum-of-elements-in-list/"
      ],
      "execution_count": 7,
      "outputs": [
        {
          "output_type": "stream",
          "text": [
            "[3, 6, 9, 12, 15, 18, 21, 24, 27, 30]\n",
            "165\n"
          ],
          "name": "stdout"
        }
      ]
    },
    {
      "cell_type": "markdown",
      "metadata": {
        "id": "Q7ziAZ3LHiwV"
      },
      "source": [
        "# **EJERCICIO 4**"
      ]
    },
    {
      "cell_type": "markdown",
      "metadata": {
        "id": "aGvv3YlQHmQ0"
      },
      "source": [
        "\n",
        "\n",
        "*   Con una función de if else, revisar si un número es par o impar\n",
        "*   Con una función de if else, revisar si un número es primo o no\n",
        "\n"
      ]
    },
    {
      "cell_type": "code",
      "metadata": {
        "colab": {
          "base_uri": "https://localhost:8080/"
        },
        "id": "HUWR3kgIHiR9",
        "outputId": "1feecdd5-a821-4511-fbc1-0469663ad7e2"
      },
      "source": [
        "a=int(input(\"Ingresa el número que quieras checar: \"))\n",
        "\n",
        "\n",
        "if  a%2==0: \n",
        "  print(\"el número %d es par\"%(a))\n",
        "else: \n",
        "  print(\"el número es %d impar\"%(a))\n",
        "\n",
        "for i in range(2,a-1):\n",
        "  if a%i==0:\n",
        "    valor=0 #numero no es primo\n",
        "    break #detiene el loop for al encontrar que el mod es 0\n",
        "  else:\n",
        "    valor=1 #numero es primo\n",
        "\n",
        "if valor==1:\n",
        " print(\"el numero %d es primo\"%(a))\n",
        "else:\n",
        "  print(\"el numero %d no es primo\"%(a))\n"
      ],
      "execution_count": null,
      "outputs": [
        {
          "output_type": "stream",
          "text": [
            "Ingresa el número que quieras checar: 7\n",
            "el número es 7 impar\n",
            "el numero 7 es primo\n"
          ],
          "name": "stdout"
        }
      ]
    },
    {
      "cell_type": "markdown",
      "metadata": {
        "id": "nohYnrPg_QbI"
      },
      "source": [
        "# **EJERCICIO 5**"
      ]
    },
    {
      "cell_type": "markdown",
      "metadata": {
        "id": "dJzE2CyP_T9e"
      },
      "source": [
        "Utilizando diferentes clases en Python, crea una calculadora con los operadores básicos de suma, resta, multiplicación, división y exponente."
      ]
    },
    {
      "cell_type": "code",
      "metadata": {
        "colab": {
          "base_uri": "https://localhost:8080/"
        },
        "id": "xU1kRcBZP8n5",
        "outputId": "210004e7-9bba-4e4f-ac20-772e5534cc15"
      },
      "source": [
        "  class calcs():  \n",
        "      def __init__(self,a,b):\n",
        "         self.a=a\n",
        "         self.b=b\n",
        "      def sum(self):\n",
        "          return self.a + self.b\n",
        "      def resta(self):\n",
        "          return self.a - self.b\n",
        "      def mult(self):\n",
        "          return self.a * self.b\n",
        "      def div(self):\n",
        "          return self.a / self.b\n",
        "      def exp(self):\n",
        "          return self.a ** self.b\n",
        "\n",
        "a=int(input(\"ingrese el primer número:\"))\n",
        "b=int(input(\"ingrese el segundo número:\"))\n",
        "\n",
        "result=calcs(a,b)\n",
        "\n",
        "print(\"¿Qué deseas hacer?(selecciona el número de opción)\")\n",
        "list1=[\"1.Suma\",\"2.Resta\",\"3.Multiplicación\",\"4.División\",\"5.Exponente\"]\n",
        "print(list1)\n",
        "\n",
        "opt=int(input(\"opción número:\"))\n",
        "if opt==1:\n",
        "    print(\"La suma de %d + %d es %d\"%(a,b,result.sum()))\n",
        "elif opt==2:\n",
        "    print(\"La resta de %d - %d es %d\"%(a,b,result.resta()))\n",
        "elif opt==3:\n",
        "    print(\"La multiplicación de %d * %d es %d\"%(a,b,result.mult()))\n",
        "elif opt==4:\n",
        "\n",
        "    if b!=0:\n",
        "      print(\"La división de %d / %d es %f\"%(a,b,result.div()))\n",
        "    else:\n",
        "      print(\"error\")#no divide entre 0\n",
        "\n",
        "elif opt==5:\n",
        "    print(\"%d elevado a %d es %d\"%(a,b,result.exp()))\n",
        "else:\n",
        "    print(\"Opción no válida\")\n",
        "\n",
        "\n",
        "#Fuentes:\n",
        "#https://docs.python.org/3/tutorial/classes.html\n",
        "#https://stackoverflow.com/questions/27017493/python-typeerror-this-constructor-takes-no-arguments\n",
        "#https://www.sanfoundry.com/python-program-class-performs-basic-calculator-operations/\n",
        "\n",
        "              "
      ],
      "execution_count": null,
      "outputs": [
        {
          "output_type": "stream",
          "text": [
            "ingrese el primer número:2\n",
            "ingrese el segundo número:4\n",
            "¿Qué deseas hacer?(selecciona el número de opción)\n",
            "['1.Suma', '2.Resta', '3.Multiplicación', '4.División', '5.Exponente']\n",
            "opción número:4\n",
            "La división de 2 / 4 es 0.500000\n"
          ],
          "name": "stdout"
        }
      ]
    },
    {
      "cell_type": "markdown",
      "metadata": {
        "id": "022C0kj1Yk2f"
      },
      "source": [
        "# **EJERCICIOS CON ESTRUCTUTA BÁSICA DE PYTHON**\n"
      ]
    },
    {
      "cell_type": "markdown",
      "metadata": {
        "id": "hgKhqM3rYcsx"
      },
      "source": [
        "# Tuplas\n",
        "\n",
        "\n",
        "*   Crear una variable flotante, integer, boleana y compleja e imprimir que tipo de variable es\n",
        "*   Crear una tupla con valores enteros imprimir el primer y último valor\n",
        "\n",
        "*   Añadir 3 valores de string a la tupla\n",
        "*   Verificar si una variable existe dentro de la tupla\n",
        "\n",
        "\n",
        "\n",
        "\n",
        "\n",
        "\n"
      ]
    },
    {
      "cell_type": "code",
      "metadata": {
        "colab": {
          "base_uri": "https://localhost:8080/"
        },
        "id": "ltvHGe0vZ7Zs",
        "outputId": "a7c469f5-ad19-492d-dfa5-7942e75b51fd"
      },
      "source": [
        "\n",
        "a=3.5\n",
        "b=3\n",
        "c=True\n",
        "d=4j\n",
        "print(\"la variable a es de tipo:\",type(a)) \n",
        "print(\"la variable b es de tipo:\",type(b)) \n",
        "print(\"la variable b es de tipo:\",type(c))\n",
        "print(\"la variable b es de tipo:\",type(d))\n",
        "\n"
      ],
      "execution_count": null,
      "outputs": [
        {
          "output_type": "stream",
          "text": [
            "la variable a es de tipo: <class 'float'>\n",
            "la variable b es de tipo: <class 'int'>\n",
            "la variable b es de tipo: <class 'bool'>\n",
            "la variable b es de tipo: <class 'complex'>\n"
          ],
          "name": "stdout"
        }
      ]
    },
    {
      "cell_type": "code",
      "metadata": {
        "colab": {
          "base_uri": "https://localhost:8080/"
        },
        "id": "Xj2Zf63zfg4L",
        "outputId": "b761355b-b93a-4861-b13c-d578e1b4aba1"
      },
      "source": [
        "tup = (1,2,3,4,5)\n",
        "print(type(tup))\n",
        "res=list(map(type,tup))\n",
        "print(str(res))\n",
        "\n",
        "print(\"primer valor en la tupla:\",tup[0],\",último valor:\",tup[4])"
      ],
      "execution_count": null,
      "outputs": [
        {
          "output_type": "stream",
          "text": [
            "<class 'tuple'>\n",
            "[<class 'int'>, <class 'int'>, <class 'int'>, <class 'int'>, <class 'int'>]\n",
            "primer valor en la tupla: 1 ,último valor: 5\n"
          ],
          "name": "stdout"
        }
      ]
    },
    {
      "cell_type": "code",
      "metadata": {
        "colab": {
          "base_uri": "https://localhost:8080/"
        },
        "id": "p3y9v0P5iWbR",
        "outputId": "30164482-3b0b-4b3c-c8c9-14d831ddca89"
      },
      "source": [
        "\n",
        "tup=tup.__add__((\"ab\",\"cd\",\"ef\",))#añade los elementos a la tupla\n",
        "print(tup)\n",
        "res=list(map(type,tup))#señala el tipo de dato de cada elemento dentro de la tupla\n",
        "print(str(res))\n",
        "\n",
        "#https://www.geeksforgeeks.org/generating-random-number-list-in-python/\n"
      ],
      "execution_count": null,
      "outputs": [
        {
          "output_type": "stream",
          "text": [
            "(1, 2, 3, 4, 5, 'ab', 'cd', 'ef', 'ab', 'cd', 'ef')\n",
            "[<class 'int'>, <class 'int'>, <class 'int'>, <class 'int'>, <class 'int'>, <class 'str'>, <class 'str'>, <class 'str'>, <class 'str'>, <class 'str'>, <class 'str'>]\n"
          ],
          "name": "stdout"
        }
      ]
    },
    {
      "cell_type": "code",
      "metadata": {
        "colab": {
          "base_uri": "https://localhost:8080/"
        },
        "id": "liCUWKjWnM3K",
        "outputId": "dc3db439-e9b7-4cfb-a5a8-866a6bf52ed9"
      },
      "source": [
        "print(\"¿se encuentra ab en la tupla?\" , \"ab\" in tup) #regresa True si el valor ab esta dentro de la tupla"
      ],
      "execution_count": null,
      "outputs": [
        {
          "output_type": "stream",
          "text": [
            "¿se encuentra ab en la tupla? True\n"
          ],
          "name": "stdout"
        }
      ]
    },
    {
      "cell_type": "markdown",
      "metadata": {
        "id": "GdCSPPbHnkSS"
      },
      "source": [
        "# Listas\n",
        "\n",
        "\n",
        "* Crear una lista con 40 elementos aleatorios enteros\n",
        "* Con una función (def) crear dos listas nuevas a partir de la lista creada por numeros aleatorios, en la cual en una esten los elementos pares, y en la otra los elementos impares\n",
        "\n",
        "* Crear dos variables con la longitud de ambas listas nuevas e imprimir las variables\n",
        "* Ordenar los elementos de la lista par de mayor a menor, y los de la lista impar de menor a mayor\n",
        "\n",
        "* Utilizar al menos cuatro de las funciones de listas en python en la lista original de 40 elementos\n",
        "\n",
        "\n",
        "\n",
        "\n",
        "\n",
        "\n"
      ]
    },
    {
      "cell_type": "code",
      "metadata": {
        "colab": {
          "base_uri": "https://localhost:8080/"
        },
        "id": "SG7Ni7TYqUjC",
        "outputId": "cc0b4b9b-b6ee-47f7-c5de-a446d2743d6c"
      },
      "source": [
        "import numpy as np\n",
        "lista=list(np.random.randint(low=99,size=40))\n",
        "print(lista)\n",
        "\n",
        "#https://www.geeksforgeeks.org/generating-random-number-list-in-python/\n"
      ],
      "execution_count": null,
      "outputs": [
        {
          "output_type": "stream",
          "text": [
            "[34, 13, 63, 24, 43, 38, 86, 64, 21, 8, 38, 19, 26, 10, 70, 78, 83, 46, 72, 11, 31, 17, 21, 31, 64, 83, 80, 35, 11, 90, 7, 15, 74, 23, 29, 78, 4, 29, 96, 48]\n"
          ],
          "name": "stdout"
        }
      ]
    },
    {
      "cell_type": "code",
      "metadata": {
        "colab": {
          "base_uri": "https://localhost:8080/"
        },
        "id": "QHnMKgPw1-hf",
        "outputId": "225199bb-af77-48c3-dc6d-a220b9f1cfe5"
      },
      "source": [
        "def separar(ls):\n",
        "    ls.sort()\n",
        "    pares = [] #crea el arreglo para pares \n",
        "    impares = [] #crea el arreglo para impares\n",
        "    for i in ls:\n",
        "        if i%2==0:\n",
        "          pares.append(i)\n",
        "        else:\n",
        "          impares.append(i)\n",
        "    return pares,impares\n",
        "\n",
        "separar(lista)\n",
        "\n",
        "print(\"lista de elementos pares:\",pares)\n",
        "print(\"lista de elementos impares:\",impares)\n",
        "\n",
        "#https://www.youtube.com/watch?v=ByBaYB74Tx8\n"
      ],
      "execution_count": null,
      "outputs": [
        {
          "output_type": "stream",
          "text": [
            "lista de elementos pares: [96, 84, 80, 76, 70, 70, 68, 58, 46, 46, 38, 36, 32, 26, 16, 16, 12, 12, 12, 8, 8, 6]\n",
            "lista de elementos impares: [1, 7, 11, 15, 21, 25, 51, 57, 61, 71, 75, 79, 81, 83, 85, 85, 95, 97]\n"
          ],
          "name": "stdout"
        }
      ]
    },
    {
      "cell_type": "code",
      "metadata": {
        "colab": {
          "base_uri": "https://localhost:8080/"
        },
        "id": "Q4UdyOYFJvmf",
        "outputId": "9dbcccea-fcb0-4cd4-8271-b58886d9c9a1"
      },
      "source": [
        "longpar=len(pares)\n",
        "print(\"numero de elementos pares:\",longpar)\n",
        "longimpar=len(impares)\n",
        "print(\"número de elementos impares:\",longimpar)"
      ],
      "execution_count": null,
      "outputs": [
        {
          "output_type": "stream",
          "text": [
            "numero de elementos pares: 22\n",
            "número de elementos impares: 18\n"
          ],
          "name": "stdout"
        }
      ]
    },
    {
      "cell_type": "code",
      "metadata": {
        "colab": {
          "base_uri": "https://localhost:8080/"
        },
        "id": "YGMT627QLi0A",
        "outputId": "afb5e59d-979b-429a-834d-d2c4d193318d"
      },
      "source": [
        "pares.sort(reverse=True)#ordena los elementos de mayor a menor \n",
        "impares.sort()\n",
        "print(pares)\n",
        "print(impares)\n",
        "#print(impares.sort(ascending=False))"
      ],
      "execution_count": null,
      "outputs": [
        {
          "output_type": "stream",
          "text": [
            "[96, 84, 80, 76, 70, 70, 68, 58, 46, 46, 38, 36, 32, 26, 16, 16, 12, 12, 12, 8, 8, 6]\n",
            "[1, 7, 11, 15, 21, 25, 51, 57, 61, 71, 75, 79, 81, 83, 85, 85, 95, 97]\n"
          ],
          "name": "stdout"
        }
      ]
    },
    {
      "cell_type": "code",
      "metadata": {
        "colab": {
          "base_uri": "https://localhost:8080/"
        },
        "id": "X6jR-tP3Q6r1",
        "outputId": "0a9972c2-b521-43fc-f00b-8b7c0cf49f36"
      },
      "source": [
        "lista.append(28)#agrega el número 28\n",
        "print(lista)\n",
        "\n"
      ],
      "execution_count": null,
      "outputs": [
        {
          "output_type": "stream",
          "text": [
            "[4, 7, 8, 10, 11, 11, 13, 15, 17, 19, 21, 21, 23, 24, 26, 29, 29, 31, 31, 34, 35, 38, 38, 43, 46, 48, 63, 64, 64, 70, 72, 74, 78, 78, 80, 83, 83, 86, 90, 96, 28]\n"
          ],
          "name": "stdout"
        }
      ]
    },
    {
      "cell_type": "code",
      "metadata": {
        "colab": {
          "base_uri": "https://localhost:8080/"
        },
        "id": "L2VypLZ4RbCk",
        "outputId": "36acf091-407c-4839-c452-ae9e383f2154"
      },
      "source": [
        "lista.pop()#elimina el último elemento de la lista\n",
        "print(lista)"
      ],
      "execution_count": null,
      "outputs": [
        {
          "output_type": "stream",
          "text": [
            "[4, 7, 8, 10, 11, 11, 13, 15, 17, 19, 21, 21, 23, 24, 26, 29, 29, 31, 31, 34, 35, 38, 38, 43, 46, 48, 63, 64, 64, 70, 72, 74, 78, 78, 80, 83, 83, 86, 90, 96]\n"
          ],
          "name": "stdout"
        }
      ]
    },
    {
      "cell_type": "code",
      "metadata": {
        "colab": {
          "base_uri": "https://localhost:8080/"
        },
        "id": "p9MJ-IbFReHD",
        "outputId": "33c33187-ce70-4984-b34b-b14dc33138b6"
      },
      "source": [
        "lista.extend([102,108,79])#extiende la lista agregando los elementos\n",
        "print(lista)"
      ],
      "execution_count": null,
      "outputs": [
        {
          "output_type": "stream",
          "text": [
            "[4, 7, 8, 10, 11, 11, 13, 15, 17, 19, 21, 21, 23, 24, 26, 29, 29, 31, 31, 34, 35, 38, 38, 43, 46, 48, 63, 64, 64, 70, 72, 74, 78, 78, 80, 83, 83, 86, 90, 96, 102, 108, 79]\n"
          ],
          "name": "stdout"
        }
      ]
    },
    {
      "cell_type": "code",
      "metadata": {
        "colab": {
          "base_uri": "https://localhost:8080/"
        },
        "id": "dgN0YIw8Sa4F",
        "outputId": "09e7121d-cca3-4aa5-fea7-3fe2267cbd19"
      },
      "source": [
        "lista.clear()#borra todos los elementos de la lista\n",
        "print(lista)"
      ],
      "execution_count": null,
      "outputs": [
        {
          "output_type": "stream",
          "text": [
            "[]\n"
          ],
          "name": "stdout"
        }
      ]
    },
    {
      "cell_type": "markdown",
      "metadata": {
        "id": "RlgUy3uVTVCb"
      },
      "source": [
        "## Diccionarios\n",
        "\n",
        "\n",
        "*   Crear un diccionario de 6 personas que conozcas con su primer nombre y su edad \n",
        "*   Crear una lista con los valores de la edad y reacomodar la lista de menor a mayor valor\n",
        "\n",
        "\n",
        "*   Usando el diccionario y un loop, imprimir solo los nombre\n",
        "*   Añadir dos personas nuevas a tu diccionario, incluyendo edad\n",
        "\n",
        "\n",
        "\n"
      ]
    },
    {
      "cell_type": "code",
      "metadata": {
        "colab": {
          "base_uri": "https://localhost:8080/"
        },
        "id": "qLAHwc6QWlXm",
        "outputId": "84f5c2f5-89e2-453a-b566-607621ab9644"
      },
      "source": [
        "dicc={\"Diego\":20,\"victor\":17,\"Adriana\":44,\"Gerardo\":53,\"Alejandro\":36,\"Eduardo\":18}\n",
        "print(dicc)\n"
      ],
      "execution_count": 8,
      "outputs": [
        {
          "output_type": "stream",
          "text": [
            "{'Diego': 20, 'victor': 17, 'Adriana': 44, 'Gerardo': 53, 'Alejandro': 36, 'Eduardo': 18}\n"
          ],
          "name": "stdout"
        }
      ]
    },
    {
      "cell_type": "code",
      "metadata": {
        "colab": {
          "base_uri": "https://localhost:8080/"
        },
        "id": "c27GDWN1ZN5J",
        "outputId": "9f0bcac7-96ed-4744-8a68-cb311a58d6c9"
      },
      "source": [
        "edad=[]\n",
        "for i in dicc.values():\n",
        "    edad.append(i)\n",
        "  \n",
        "edad.sort()\n",
        "print(edad)\n",
        "\n",
        "#https://docs.python.org/3/tutorial/datastructures.html"
      ],
      "execution_count": null,
      "outputs": [
        {
          "output_type": "stream",
          "text": [
            "[17, 18, 20, 36, 44, 53]\n"
          ],
          "name": "stdout"
        }
      ]
    },
    {
      "cell_type": "code",
      "metadata": {
        "colab": {
          "base_uri": "https://localhost:8080/"
        },
        "id": "Jxs7dH6yZ1uu",
        "outputId": "d4118068-c699-4bac-9420-fdc5ce2439f9"
      },
      "source": [
        "for i in dicc.keys():\n",
        "    print (i)"
      ],
      "execution_count": null,
      "outputs": [
        {
          "output_type": "stream",
          "text": [
            "Diego\n",
            "victor\n",
            "Adriana\n",
            "Gerardo\n",
            "Alejandro\n",
            "Eduardo\n"
          ],
          "name": "stdout"
        }
      ]
    },
    {
      "cell_type": "code",
      "metadata": {
        "colab": {
          "base_uri": "https://localhost:8080/"
        },
        "id": "zGhKpuIQbkcz",
        "outputId": "69a7f858-b763-4974-ca7a-dee58c93a1c0"
      },
      "source": [
        "dicc[\"Victoria\"]=\"23\"\n",
        "dicc[\"Elizabeth\"]=\"32\"\n",
        "print(dicc)"
      ],
      "execution_count": null,
      "outputs": [
        {
          "output_type": "stream",
          "text": [
            "{'Diego': 20, 'victor': 17, 'Adriana': 44, 'Gerardo': 53, 'Alejandro': 36, 'Eduardo': 18, 'Victoria': '23', 'Elizabeth': '32'}\n"
          ],
          "name": "stdout"
        }
      ]
    },
    {
      "cell_type": "markdown",
      "metadata": {
        "id": "78q2aFVGfWmq"
      },
      "source": [
        "# Sets\n",
        "\n",
        "\n",
        "*   Crea un set con 100 numeros aleatorios enteros de 1 a 25\n",
        "*   Comprueba la longitud de tu set\n",
        "\n",
        "\n",
        "*   Crea una lista de 5 numeros aleatorios del 1 al 10 y comprueba si cada valor aparece en el set inicial\n",
        "\n",
        "\n",
        "\n",
        "\n",
        "\n"
      ]
    },
    {
      "cell_type": "code",
      "metadata": {
        "id": "x0g-h3BOgNoq",
        "colab": {
          "base_uri": "https://localhost:8080/"
        },
        "outputId": "35d171ba-2889-42fd-ea9f-fb9163b4dd84"
      },
      "source": [
        "import random\n",
        "set1 = set()\n",
        "for i in range(0,100):\n",
        "  n=random.randint(1,25)\n",
        "  set1.add(n)\n",
        "\n",
        "print(set1) #Los sets consisten de elementos únicos (no duplicados)\n",
        "\n",
        "#Información del libro proporcionado y https://www.w3schools.com/python/python_sets.asp\n",
        "\n"
      ],
      "execution_count": null,
      "outputs": [
        {
          "output_type": "stream",
          "text": [
            "{1, 2, 3, 4, 5, 7, 8, 9, 10, 11, 12, 13, 14, 15, 16, 17, 18, 19, 20, 21, 22, 23, 24, 25}\n"
          ],
          "name": "stdout"
        }
      ]
    },
    {
      "cell_type": "code",
      "metadata": {
        "colab": {
          "base_uri": "https://localhost:8080/"
        },
        "id": "vDUJ_jhTNhSb",
        "outputId": "d6b84393-7365-4712-8956-fe0d53bfef97"
      },
      "source": [
        "print(\"la longitud del set es:\",len(set1))"
      ],
      "execution_count": null,
      "outputs": [
        {
          "output_type": "stream",
          "text": [
            "la longitud del set es: 24\n"
          ],
          "name": "stdout"
        }
      ]
    },
    {
      "cell_type": "code",
      "metadata": {
        "colab": {
          "base_uri": "https://localhost:8080/"
        },
        "id": "lRqsP5CbLtLP",
        "outputId": "0515296c-169c-44fa-87eb-ac271236ac24"
      },
      "source": [
        "import random\n",
        "listac=[]\n",
        "for i in range(0,5):\n",
        "  n=random.randint(1,10) #genera el número aleatorio entre 1 y 10\n",
        "  listac.append(n)\n",
        "\n",
        "print(listac)\n",
        "\n"
      ],
      "execution_count": null,
      "outputs": [
        {
          "output_type": "stream",
          "text": [
            "[5, 6, 7, 1, 5]\n"
          ],
          "name": "stdout"
        }
      ]
    },
    {
      "cell_type": "code",
      "metadata": {
        "colab": {
          "base_uri": "https://localhost:8080/"
        },
        "id": "Gcbt0dbXNv3S",
        "outputId": "cd1e1449-5308-4fec-b61b-9d7e6cf73afb"
      },
      "source": [
        "\n",
        "for i in range(len(listac)):\n",
        " print(\"¿Esta el elemento\",listac[i],\" de la lista en el set?\",listac[i] in set1)"
      ],
      "execution_count": null,
      "outputs": [
        {
          "output_type": "stream",
          "text": [
            "¿Esta el elemento 5  de la lista en el set? True\n",
            "¿Esta el elemento 6  de la lista en el set? False\n",
            "¿Esta el elemento 7  de la lista en el set? True\n",
            "¿Esta el elemento 1  de la lista en el set? True\n",
            "¿Esta el elemento 5  de la lista en el set? True\n"
          ],
          "name": "stdout"
        }
      ]
    }
  ]
}