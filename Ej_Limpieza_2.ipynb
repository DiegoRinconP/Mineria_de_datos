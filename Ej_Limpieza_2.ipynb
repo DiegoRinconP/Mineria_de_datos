{
  "nbformat": 4,
  "nbformat_minor": 0,
  "metadata": {
    "colab": {
      "name": "Ej_Limpieza_2.ipynb",
      "provenance": [],
      "collapsed_sections": [],
      "include_colab_link": true
    },
    "kernelspec": {
      "name": "python3",
      "display_name": "Python 3"
    },
    "language_info": {
      "name": "python"
    }
  },
  "cells": [
    {
      "cell_type": "markdown",
      "metadata": {
        "id": "view-in-github",
        "colab_type": "text"
      },
      "source": [
        "<a href=\"https://colab.research.google.com/github/DiegoRinconP/Mineria_de_datos/blob/main/Ej_Limpieza_2.ipynb\" target=\"_parent\"><img src=\"https://colab.research.google.com/assets/colab-badge.svg\" alt=\"Open In Colab\"/></a>"
      ]
    },
    {
      "cell_type": "markdown",
      "metadata": {
        "id": "y2SCARxIuOBo"
      },
      "source": [
        "# PRÁCTICA 1 - LIMPIEZA DE DATOS\n",
        "**Equipo**: 2\n",
        "\n",
        "**Grupo**: 002 Miércoles\n",
        "\n",
        "**Integrantes**: \n",
        "*   1850231 Cid Sanabria Dulce Ximena\n",
        "*   1851895 Ortiz Cruz Jaclyn Lizeth\n",
        "*   1849687 Rincón Pacheco Diego Alejandro\n",
        "*   1854410 Serrano Caballero Lizeth"
      ]
    },
    {
      "cell_type": "markdown",
      "metadata": {
        "id": "kaZudg9TcXTv"
      },
      "source": [
        "## Netflix movies and TV shows\n",
        "https://www.kaggle.com/shivamb/netflix-shows/version/4"
      ]
    },
    {
      "cell_type": "markdown",
      "metadata": {
        "id": "Rw927DKdJ1uI"
      },
      "source": [
        "**Importar librería y base de datos**"
      ]
    },
    {
      "cell_type": "markdown",
      "metadata": {
        "id": "mRfNvw4KMywp"
      },
      "source": [
        "El primer paso es importar las librerías que se usarán en el proceso"
      ]
    },
    {
      "cell_type": "code",
      "metadata": {
        "id": "WnWqQHcwFoph"
      },
      "source": [
        "import pandas as pd\n",
        "import numpy as np"
      ],
      "execution_count": null,
      "outputs": []
    },
    {
      "cell_type": "markdown",
      "metadata": {
        "id": "iecKv_xqNF2n"
      },
      "source": [
        "Se carga la base de datos csv a archivos, para después llamarla y almacenarla en una variable"
      ]
    },
    {
      "cell_type": "code",
      "metadata": {
        "id": "ngA5WFCHF4_f"
      },
      "source": [
        "bd=pd.read_csv('/content/netflix_titles.csv') #se manda llamar la base de datos original"
      ],
      "execution_count": null,
      "outputs": []
    },
    {
      "cell_type": "markdown",
      "metadata": {
        "id": "pUQhtnVxKIDw"
      },
      "source": [
        "**Visualizar los datos**"
      ]
    },
    {
      "cell_type": "markdown",
      "metadata": {
        "id": "gZVVycvnNfbg"
      },
      "source": [
        "Lo primero que se deba hacer es analizar la base de datos cargada, para verificar que no hayan existido problemas al momento de llamarla"
      ]
    },
    {
      "cell_type": "markdown",
      "metadata": {
        "id": "uDN1D58iNx6L"
      },
      "source": [
        "con la función shape se puede observar el número de filas y columnas de la base de datos"
      ]
    },
    {
      "cell_type": "code",
      "metadata": {
        "id": "KUW-qfgdaLOG",
        "colab": {
          "base_uri": "https://localhost:8080/"
        },
        "outputId": "9a9d8198-2421-4ba8-fe00-979111c79507"
      },
      "source": [
        "bd.shape #regresa filas, columnas"
      ],
      "execution_count": null,
      "outputs": [
        {
          "output_type": "execute_result",
          "data": {
            "text/plain": [
              "(7787, 12)"
            ]
          },
          "metadata": {},
          "execution_count": 11
        }
      ]
    },
    {
      "cell_type": "markdown",
      "metadata": {
        "id": "WUmu-4rmOhFf"
      },
      "source": [
        "Para ver como se forma la base de datos, las propiedades head y tail permiten mostrar las primeras 5 filas o las últimas 5 filas de la base de datos, respectivamente.\n",
        "\n"
      ]
    },
    {
      "cell_type": "code",
      "metadata": {
        "id": "5r1sdRPVbCnO",
        "colab": {
          "base_uri": "https://localhost:8080/",
          "height": 438
        },
        "outputId": "5baed4e6-1519-44ce-fcf5-533849ed7bd6"
      },
      "source": [
        "bd.head() #enseña las primeras 5 filas"
      ],
      "execution_count": null,
      "outputs": [
        {
          "output_type": "execute_result",
          "data": {
            "text/html": [
              "<div>\n",
              "<style scoped>\n",
              "    .dataframe tbody tr th:only-of-type {\n",
              "        vertical-align: middle;\n",
              "    }\n",
              "\n",
              "    .dataframe tbody tr th {\n",
              "        vertical-align: top;\n",
              "    }\n",
              "\n",
              "    .dataframe thead th {\n",
              "        text-align: right;\n",
              "    }\n",
              "</style>\n",
              "<table border=\"1\" class=\"dataframe\">\n",
              "  <thead>\n",
              "    <tr style=\"text-align: right;\">\n",
              "      <th></th>\n",
              "      <th>show_id</th>\n",
              "      <th>type</th>\n",
              "      <th>title</th>\n",
              "      <th>director</th>\n",
              "      <th>cast</th>\n",
              "      <th>country</th>\n",
              "      <th>date_added</th>\n",
              "      <th>release_year</th>\n",
              "      <th>rating</th>\n",
              "      <th>duration</th>\n",
              "      <th>listed_in</th>\n",
              "      <th>description</th>\n",
              "    </tr>\n",
              "  </thead>\n",
              "  <tbody>\n",
              "    <tr>\n",
              "      <th>0</th>\n",
              "      <td>s1</td>\n",
              "      <td>TV Show</td>\n",
              "      <td>3%</td>\n",
              "      <td>NaN</td>\n",
              "      <td>João Miguel, Bianca Comparato, Michel Gomes, R...</td>\n",
              "      <td>Brazil</td>\n",
              "      <td>August 14, 2020</td>\n",
              "      <td>2020</td>\n",
              "      <td>TV-MA</td>\n",
              "      <td>4 Seasons</td>\n",
              "      <td>International TV Shows, TV Dramas, TV Sci-Fi &amp;...</td>\n",
              "      <td>In a future where the elite inhabit an island ...</td>\n",
              "    </tr>\n",
              "    <tr>\n",
              "      <th>1</th>\n",
              "      <td>s2</td>\n",
              "      <td>Movie</td>\n",
              "      <td>7:19</td>\n",
              "      <td>Jorge Michel Grau</td>\n",
              "      <td>Demián Bichir, Héctor Bonilla, Oscar Serrano, ...</td>\n",
              "      <td>Mexico</td>\n",
              "      <td>December 23, 2016</td>\n",
              "      <td>2016</td>\n",
              "      <td>TV-MA</td>\n",
              "      <td>93 min</td>\n",
              "      <td>Dramas, International Movies</td>\n",
              "      <td>After a devastating earthquake hits Mexico Cit...</td>\n",
              "    </tr>\n",
              "    <tr>\n",
              "      <th>2</th>\n",
              "      <td>s3</td>\n",
              "      <td>Movie</td>\n",
              "      <td>23:59</td>\n",
              "      <td>Gilbert Chan</td>\n",
              "      <td>Tedd Chan, Stella Chung, Henley Hii, Lawrence ...</td>\n",
              "      <td>Singapore</td>\n",
              "      <td>December 20, 2018</td>\n",
              "      <td>2011</td>\n",
              "      <td>R</td>\n",
              "      <td>78 min</td>\n",
              "      <td>Horror Movies, International Movies</td>\n",
              "      <td>When an army recruit is found dead, his fellow...</td>\n",
              "    </tr>\n",
              "    <tr>\n",
              "      <th>3</th>\n",
              "      <td>s4</td>\n",
              "      <td>Movie</td>\n",
              "      <td>9</td>\n",
              "      <td>Shane Acker</td>\n",
              "      <td>Elijah Wood, John C. Reilly, Jennifer Connelly...</td>\n",
              "      <td>United States</td>\n",
              "      <td>November 16, 2017</td>\n",
              "      <td>2009</td>\n",
              "      <td>PG-13</td>\n",
              "      <td>80 min</td>\n",
              "      <td>Action &amp; Adventure, Independent Movies, Sci-Fi...</td>\n",
              "      <td>In a postapocalyptic world, rag-doll robots hi...</td>\n",
              "    </tr>\n",
              "    <tr>\n",
              "      <th>4</th>\n",
              "      <td>s5</td>\n",
              "      <td>Movie</td>\n",
              "      <td>21</td>\n",
              "      <td>Robert Luketic</td>\n",
              "      <td>Jim Sturgess, Kevin Spacey, Kate Bosworth, Aar...</td>\n",
              "      <td>United States</td>\n",
              "      <td>January 1, 2020</td>\n",
              "      <td>2008</td>\n",
              "      <td>PG-13</td>\n",
              "      <td>123 min</td>\n",
              "      <td>Dramas</td>\n",
              "      <td>A brilliant group of students become card-coun...</td>\n",
              "    </tr>\n",
              "  </tbody>\n",
              "</table>\n",
              "</div>"
            ],
            "text/plain": [
              "  show_id  ...                                        description\n",
              "0      s1  ...  In a future where the elite inhabit an island ...\n",
              "1      s2  ...  After a devastating earthquake hits Mexico Cit...\n",
              "2      s3  ...  When an army recruit is found dead, his fellow...\n",
              "3      s4  ...  In a postapocalyptic world, rag-doll robots hi...\n",
              "4      s5  ...  A brilliant group of students become card-coun...\n",
              "\n",
              "[5 rows x 12 columns]"
            ]
          },
          "metadata": {},
          "execution_count": 12
        }
      ]
    },
    {
      "cell_type": "code",
      "metadata": {
        "id": "i2YPLi4Zbb-G",
        "colab": {
          "base_uri": "https://localhost:8080/",
          "height": 556
        },
        "outputId": "077b3ab6-4e02-45b3-8f11-2fe6c1a9d767"
      },
      "source": [
        "bd.tail() #enseña las últimas 5 filas"
      ],
      "execution_count": null,
      "outputs": [
        {
          "output_type": "execute_result",
          "data": {
            "text/html": [
              "<div>\n",
              "<style scoped>\n",
              "    .dataframe tbody tr th:only-of-type {\n",
              "        vertical-align: middle;\n",
              "    }\n",
              "\n",
              "    .dataframe tbody tr th {\n",
              "        vertical-align: top;\n",
              "    }\n",
              "\n",
              "    .dataframe thead th {\n",
              "        text-align: right;\n",
              "    }\n",
              "</style>\n",
              "<table border=\"1\" class=\"dataframe\">\n",
              "  <thead>\n",
              "    <tr style=\"text-align: right;\">\n",
              "      <th></th>\n",
              "      <th>show_id</th>\n",
              "      <th>type</th>\n",
              "      <th>title</th>\n",
              "      <th>director</th>\n",
              "      <th>cast</th>\n",
              "      <th>country</th>\n",
              "      <th>date_added</th>\n",
              "      <th>release_year</th>\n",
              "      <th>rating</th>\n",
              "      <th>duration</th>\n",
              "      <th>listed_in</th>\n",
              "      <th>description</th>\n",
              "    </tr>\n",
              "  </thead>\n",
              "  <tbody>\n",
              "    <tr>\n",
              "      <th>7782</th>\n",
              "      <td>s7783</td>\n",
              "      <td>Movie</td>\n",
              "      <td>Zozo</td>\n",
              "      <td>Josef Fares</td>\n",
              "      <td>Imad Creidi, Antoinette Turk, Elias Gergi, Car...</td>\n",
              "      <td>Sweden, Czech Republic, United Kingdom, Denmar...</td>\n",
              "      <td>October 19, 2020</td>\n",
              "      <td>2005</td>\n",
              "      <td>TV-MA</td>\n",
              "      <td>99 min</td>\n",
              "      <td>Dramas, International Movies</td>\n",
              "      <td>When Lebanon's Civil War deprives Zozo of his ...</td>\n",
              "    </tr>\n",
              "    <tr>\n",
              "      <th>7783</th>\n",
              "      <td>s7784</td>\n",
              "      <td>Movie</td>\n",
              "      <td>Zubaan</td>\n",
              "      <td>Mozez Singh</td>\n",
              "      <td>Vicky Kaushal, Sarah-Jane Dias, Raaghav Chanan...</td>\n",
              "      <td>India</td>\n",
              "      <td>March 2, 2019</td>\n",
              "      <td>2015</td>\n",
              "      <td>TV-14</td>\n",
              "      <td>111 min</td>\n",
              "      <td>Dramas, International Movies, Music &amp; Musicals</td>\n",
              "      <td>A scrappy but poor boy worms his way into a ty...</td>\n",
              "    </tr>\n",
              "    <tr>\n",
              "      <th>7784</th>\n",
              "      <td>s7785</td>\n",
              "      <td>Movie</td>\n",
              "      <td>Zulu Man in Japan</td>\n",
              "      <td>NaN</td>\n",
              "      <td>Nasty C</td>\n",
              "      <td>NaN</td>\n",
              "      <td>September 25, 2020</td>\n",
              "      <td>2019</td>\n",
              "      <td>TV-MA</td>\n",
              "      <td>44 min</td>\n",
              "      <td>Documentaries, International Movies, Music &amp; M...</td>\n",
              "      <td>In this documentary, South African rapper Nast...</td>\n",
              "    </tr>\n",
              "    <tr>\n",
              "      <th>7785</th>\n",
              "      <td>s7786</td>\n",
              "      <td>TV Show</td>\n",
              "      <td>Zumbo's Just Desserts</td>\n",
              "      <td>NaN</td>\n",
              "      <td>Adriano Zumbo, Rachel Khoo</td>\n",
              "      <td>Australia</td>\n",
              "      <td>October 31, 2020</td>\n",
              "      <td>2019</td>\n",
              "      <td>TV-PG</td>\n",
              "      <td>1 Season</td>\n",
              "      <td>International TV Shows, Reality TV</td>\n",
              "      <td>Dessert wizard Adriano Zumbo looks for the nex...</td>\n",
              "    </tr>\n",
              "    <tr>\n",
              "      <th>7786</th>\n",
              "      <td>s7787</td>\n",
              "      <td>Movie</td>\n",
              "      <td>ZZ TOP: THAT LITTLE OL' BAND FROM TEXAS</td>\n",
              "      <td>Sam Dunn</td>\n",
              "      <td>NaN</td>\n",
              "      <td>United Kingdom, Canada, United States</td>\n",
              "      <td>March 1, 2020</td>\n",
              "      <td>2019</td>\n",
              "      <td>TV-MA</td>\n",
              "      <td>90 min</td>\n",
              "      <td>Documentaries, Music &amp; Musicals</td>\n",
              "      <td>This documentary delves into the mystique behi...</td>\n",
              "    </tr>\n",
              "  </tbody>\n",
              "</table>\n",
              "</div>"
            ],
            "text/plain": [
              "     show_id  ...                                        description\n",
              "7782   s7783  ...  When Lebanon's Civil War deprives Zozo of his ...\n",
              "7783   s7784  ...  A scrappy but poor boy worms his way into a ty...\n",
              "7784   s7785  ...  In this documentary, South African rapper Nast...\n",
              "7785   s7786  ...  Dessert wizard Adriano Zumbo looks for the nex...\n",
              "7786   s7787  ...  This documentary delves into the mystique behi...\n",
              "\n",
              "[5 rows x 12 columns]"
            ]
          },
          "metadata": {},
          "execution_count": 13
        }
      ]
    },
    {
      "cell_type": "markdown",
      "metadata": {
        "id": "DowBMYAVKPRL"
      },
      "source": [
        "**Descripción básica de columnas**"
      ]
    },
    {
      "cell_type": "markdown",
      "metadata": {
        "id": "vC0r3L_tPmqf"
      },
      "source": [
        "Para observar las columnas que conforman la base de datos, se puede hacer uso del atributo columns, el cual regresa los nombres de las columnas."
      ]
    },
    {
      "cell_type": "code",
      "metadata": {
        "id": "Zyry2T0CbPG1",
        "colab": {
          "base_uri": "https://localhost:8080/"
        },
        "outputId": "59e07b1d-9629-4ead-c641-a9a89f8c289c"
      },
      "source": [
        "bd.columns #enseña las columnas que conforman la base de datos"
      ],
      "execution_count": null,
      "outputs": [
        {
          "output_type": "execute_result",
          "data": {
            "text/plain": [
              "Index(['show_id', 'type', 'title', 'director', 'cast', 'country', 'date_added',\n",
              "       'release_year', 'rating', 'duration', 'listed_in', 'description'],\n",
              "      dtype='object')"
            ]
          },
          "metadata": {},
          "execution_count": 14
        }
      ]
    },
    {
      "cell_type": "markdown",
      "metadata": {
        "id": "5fdW7gqQQHbJ"
      },
      "source": [
        " **Cambiar nombres de columnas**\n",
        "\n",
        " \n",
        "En la siguiente línea de código se cambian el nombre de dos de las columnas de la base de datos, con uso del atributo rename."
      ]
    },
    {
      "cell_type": "code",
      "metadata": {
        "id": "YdgesKWudRPv"
      },
      "source": [
        "bd.rename(columns={'listed_in':'genre','show_id':'id'},inplace=True) #con el inplace se hace el cambio \"permanente\"\n",
        "\n",
        "#https://stackoverflow.com/questions/11346283/renaming-column-names-in-pandas"
      ],
      "execution_count": null,
      "outputs": []
    },
    {
      "cell_type": "markdown",
      "metadata": {
        "id": "jpDNVit2QtRj"
      },
      "source": [
        "Con el atributo dtypes, se puede observar de que tipo de dato estan compuestas cada una de las columnas de la base de datos."
      ]
    },
    {
      "cell_type": "code",
      "metadata": {
        "id": "IQAhH-mqc44L",
        "colab": {
          "base_uri": "https://localhost:8080/"
        },
        "outputId": "6827aea7-1500-428a-d218-6d57e6ca0454"
      },
      "source": [
        "bd.dtypes #enseña el tipo de dato de cada columna de la base de datos"
      ],
      "execution_count": null,
      "outputs": [
        {
          "output_type": "execute_result",
          "data": {
            "text/plain": [
              "id              object\n",
              "type            object\n",
              "title           object\n",
              "director        object\n",
              "cast            object\n",
              "country         object\n",
              "date_added      object\n",
              "release_year     int64\n",
              "rating          object\n",
              "duration        object\n",
              "genre           object\n",
              "description     object\n",
              "dtype: object"
            ]
          },
          "metadata": {},
          "execution_count": 16
        }
      ]
    },
    {
      "cell_type": "markdown",
      "metadata": {
        "id": "N2-ry50nQ84p"
      },
      "source": [
        "También se puede buscar el tipo de dato de una columna en específico con el atributo dtype."
      ]
    },
    {
      "cell_type": "code",
      "metadata": {
        "id": "nerqDyWxeI-o",
        "colab": {
          "base_uri": "https://localhost:8080/"
        },
        "outputId": "8815afb6-51dc-4a8a-bf7c-0bb7a6d9420e"
      },
      "source": [
        "bd['genre'].dtype #enseña tipo de objeto de una columna en específico"
      ],
      "execution_count": null,
      "outputs": [
        {
          "output_type": "execute_result",
          "data": {
            "text/plain": [
              "dtype('O')"
            ]
          },
          "metadata": {},
          "execution_count": 17
        }
      ]
    },
    {
      "cell_type": "markdown",
      "metadata": {
        "id": "53Tfi5NrRQ-Y"
      },
      "source": [
        "En la siguiente línea de código, se cambio el tipo de dato del contenido de una de las columnas, usando el atributo astype."
      ]
    },
    {
      "cell_type": "code",
      "metadata": {
        "id": "C2f7siEZlSdO",
        "colab": {
          "base_uri": "https://localhost:8080/"
        },
        "outputId": "b8194cb6-add3-439b-8ed9-c0209f42f684"
      },
      "source": [
        "bd.astype({'release_year':float}) #cambia el tipo de objeto de los datos de una columna en específico\n",
        "\n",
        "bd['release_year'].dtype #verificando si el cambio de tipo de dato funciono\n",
        "\n",
        "#https://www.it-swarm-es.com/es/python/cambiar-el-tipo-de-datos-de-las-columnas-en-pandas./1072113742/"
      ],
      "execution_count": null,
      "outputs": [
        {
          "output_type": "execute_result",
          "data": {
            "text/plain": [
              "dtype('int64')"
            ]
          },
          "metadata": {},
          "execution_count": 18
        }
      ]
    },
    {
      "cell_type": "code",
      "metadata": {
        "id": "IctLox2anUNp",
        "colab": {
          "base_uri": "https://localhost:8080/",
          "height": 371
        },
        "outputId": "67d72da3-f002-4060-af07-987d9ef2cab4"
      },
      "source": [
        "bd.head() #verificando los cambios realizados"
      ],
      "execution_count": null,
      "outputs": [
        {
          "output_type": "execute_result",
          "data": {
            "text/html": [
              "<div>\n",
              "<style scoped>\n",
              "    .dataframe tbody tr th:only-of-type {\n",
              "        vertical-align: middle;\n",
              "    }\n",
              "\n",
              "    .dataframe tbody tr th {\n",
              "        vertical-align: top;\n",
              "    }\n",
              "\n",
              "    .dataframe thead th {\n",
              "        text-align: right;\n",
              "    }\n",
              "</style>\n",
              "<table border=\"1\" class=\"dataframe\">\n",
              "  <thead>\n",
              "    <tr style=\"text-align: right;\">\n",
              "      <th></th>\n",
              "      <th>id</th>\n",
              "      <th>type</th>\n",
              "      <th>title</th>\n",
              "      <th>director</th>\n",
              "      <th>cast</th>\n",
              "      <th>country</th>\n",
              "      <th>date_added</th>\n",
              "      <th>release_year</th>\n",
              "      <th>rating</th>\n",
              "      <th>duration</th>\n",
              "      <th>genre</th>\n",
              "      <th>description</th>\n",
              "    </tr>\n",
              "  </thead>\n",
              "  <tbody>\n",
              "    <tr>\n",
              "      <th>0</th>\n",
              "      <td>s1</td>\n",
              "      <td>TV Show</td>\n",
              "      <td>3%</td>\n",
              "      <td>NaN</td>\n",
              "      <td>João Miguel, Bianca Comparato, Michel Gomes, R...</td>\n",
              "      <td>Brazil</td>\n",
              "      <td>August 14, 2020</td>\n",
              "      <td>2020</td>\n",
              "      <td>TV-MA</td>\n",
              "      <td>4 Seasons</td>\n",
              "      <td>International TV Shows, TV Dramas, TV Sci-Fi &amp;...</td>\n",
              "      <td>In a future where the elite inhabit an island ...</td>\n",
              "    </tr>\n",
              "    <tr>\n",
              "      <th>1</th>\n",
              "      <td>s2</td>\n",
              "      <td>Movie</td>\n",
              "      <td>7:19</td>\n",
              "      <td>Jorge Michel Grau</td>\n",
              "      <td>Demián Bichir, Héctor Bonilla, Oscar Serrano, ...</td>\n",
              "      <td>Mexico</td>\n",
              "      <td>December 23, 2016</td>\n",
              "      <td>2016</td>\n",
              "      <td>TV-MA</td>\n",
              "      <td>93 min</td>\n",
              "      <td>Dramas, International Movies</td>\n",
              "      <td>After a devastating earthquake hits Mexico Cit...</td>\n",
              "    </tr>\n",
              "    <tr>\n",
              "      <th>2</th>\n",
              "      <td>s3</td>\n",
              "      <td>Movie</td>\n",
              "      <td>23:59</td>\n",
              "      <td>Gilbert Chan</td>\n",
              "      <td>Tedd Chan, Stella Chung, Henley Hii, Lawrence ...</td>\n",
              "      <td>Singapore</td>\n",
              "      <td>December 20, 2018</td>\n",
              "      <td>2011</td>\n",
              "      <td>R</td>\n",
              "      <td>78 min</td>\n",
              "      <td>Horror Movies, International Movies</td>\n",
              "      <td>When an army recruit is found dead, his fellow...</td>\n",
              "    </tr>\n",
              "    <tr>\n",
              "      <th>3</th>\n",
              "      <td>s4</td>\n",
              "      <td>Movie</td>\n",
              "      <td>9</td>\n",
              "      <td>Shane Acker</td>\n",
              "      <td>Elijah Wood, John C. Reilly, Jennifer Connelly...</td>\n",
              "      <td>United States</td>\n",
              "      <td>November 16, 2017</td>\n",
              "      <td>2009</td>\n",
              "      <td>PG-13</td>\n",
              "      <td>80 min</td>\n",
              "      <td>Action &amp; Adventure, Independent Movies, Sci-Fi...</td>\n",
              "      <td>In a postapocalyptic world, rag-doll robots hi...</td>\n",
              "    </tr>\n",
              "    <tr>\n",
              "      <th>4</th>\n",
              "      <td>s5</td>\n",
              "      <td>Movie</td>\n",
              "      <td>21</td>\n",
              "      <td>Robert Luketic</td>\n",
              "      <td>Jim Sturgess, Kevin Spacey, Kate Bosworth, Aar...</td>\n",
              "      <td>United States</td>\n",
              "      <td>January 1, 2020</td>\n",
              "      <td>2008</td>\n",
              "      <td>PG-13</td>\n",
              "      <td>123 min</td>\n",
              "      <td>Dramas</td>\n",
              "      <td>A brilliant group of students become card-coun...</td>\n",
              "    </tr>\n",
              "  </tbody>\n",
              "</table>\n",
              "</div>"
            ],
            "text/plain": [
              "   id  ...                                        description\n",
              "0  s1  ...  In a future where the elite inhabit an island ...\n",
              "1  s2  ...  After a devastating earthquake hits Mexico Cit...\n",
              "2  s3  ...  When an army recruit is found dead, his fellow...\n",
              "3  s4  ...  In a postapocalyptic world, rag-doll robots hi...\n",
              "4  s5  ...  A brilliant group of students become card-coun...\n",
              "\n",
              "[5 rows x 12 columns]"
            ]
          },
          "metadata": {},
          "execution_count": 19
        }
      ]
    },
    {
      "cell_type": "markdown",
      "metadata": {
        "id": "NF5ZNmTNSs6H"
      },
      "source": [
        "Con la siguiente línea de código, se elimina la columna \"description\", usando el atributo drop."
      ]
    },
    {
      "cell_type": "code",
      "metadata": {
        "id": "pi6T7Xkn39FP"
      },
      "source": [
        "bd.drop('description',axis=1,inplace=True) #se elimina la columna descripción de la base de datos"
      ],
      "execution_count": null,
      "outputs": []
    },
    {
      "cell_type": "code",
      "metadata": {
        "id": "pefNi8m86Tzw",
        "colab": {
          "base_uri": "https://localhost:8080/",
          "height": 304
        },
        "outputId": "6c61a856-e250-4a73-d00d-2347fd016886"
      },
      "source": [
        "bd.head() #verificando que se haya aplicado la línea de código anterior"
      ],
      "execution_count": null,
      "outputs": [
        {
          "output_type": "execute_result",
          "data": {
            "text/html": [
              "<div>\n",
              "<style scoped>\n",
              "    .dataframe tbody tr th:only-of-type {\n",
              "        vertical-align: middle;\n",
              "    }\n",
              "\n",
              "    .dataframe tbody tr th {\n",
              "        vertical-align: top;\n",
              "    }\n",
              "\n",
              "    .dataframe thead th {\n",
              "        text-align: right;\n",
              "    }\n",
              "</style>\n",
              "<table border=\"1\" class=\"dataframe\">\n",
              "  <thead>\n",
              "    <tr style=\"text-align: right;\">\n",
              "      <th></th>\n",
              "      <th>id</th>\n",
              "      <th>type</th>\n",
              "      <th>title</th>\n",
              "      <th>director</th>\n",
              "      <th>cast</th>\n",
              "      <th>country</th>\n",
              "      <th>date_added</th>\n",
              "      <th>release_year</th>\n",
              "      <th>rating</th>\n",
              "      <th>duration</th>\n",
              "      <th>genre</th>\n",
              "    </tr>\n",
              "  </thead>\n",
              "  <tbody>\n",
              "    <tr>\n",
              "      <th>0</th>\n",
              "      <td>s1</td>\n",
              "      <td>TV Show</td>\n",
              "      <td>3%</td>\n",
              "      <td>NaN</td>\n",
              "      <td>João Miguel, Bianca Comparato, Michel Gomes, R...</td>\n",
              "      <td>Brazil</td>\n",
              "      <td>August 14, 2020</td>\n",
              "      <td>2020</td>\n",
              "      <td>TV-MA</td>\n",
              "      <td>4 Seasons</td>\n",
              "      <td>International TV Shows, TV Dramas, TV Sci-Fi &amp;...</td>\n",
              "    </tr>\n",
              "    <tr>\n",
              "      <th>1</th>\n",
              "      <td>s2</td>\n",
              "      <td>Movie</td>\n",
              "      <td>7:19</td>\n",
              "      <td>Jorge Michel Grau</td>\n",
              "      <td>Demián Bichir, Héctor Bonilla, Oscar Serrano, ...</td>\n",
              "      <td>Mexico</td>\n",
              "      <td>December 23, 2016</td>\n",
              "      <td>2016</td>\n",
              "      <td>TV-MA</td>\n",
              "      <td>93 min</td>\n",
              "      <td>Dramas, International Movies</td>\n",
              "    </tr>\n",
              "    <tr>\n",
              "      <th>2</th>\n",
              "      <td>s3</td>\n",
              "      <td>Movie</td>\n",
              "      <td>23:59</td>\n",
              "      <td>Gilbert Chan</td>\n",
              "      <td>Tedd Chan, Stella Chung, Henley Hii, Lawrence ...</td>\n",
              "      <td>Singapore</td>\n",
              "      <td>December 20, 2018</td>\n",
              "      <td>2011</td>\n",
              "      <td>R</td>\n",
              "      <td>78 min</td>\n",
              "      <td>Horror Movies, International Movies</td>\n",
              "    </tr>\n",
              "    <tr>\n",
              "      <th>3</th>\n",
              "      <td>s4</td>\n",
              "      <td>Movie</td>\n",
              "      <td>9</td>\n",
              "      <td>Shane Acker</td>\n",
              "      <td>Elijah Wood, John C. Reilly, Jennifer Connelly...</td>\n",
              "      <td>United States</td>\n",
              "      <td>November 16, 2017</td>\n",
              "      <td>2009</td>\n",
              "      <td>PG-13</td>\n",
              "      <td>80 min</td>\n",
              "      <td>Action &amp; Adventure, Independent Movies, Sci-Fi...</td>\n",
              "    </tr>\n",
              "    <tr>\n",
              "      <th>4</th>\n",
              "      <td>s5</td>\n",
              "      <td>Movie</td>\n",
              "      <td>21</td>\n",
              "      <td>Robert Luketic</td>\n",
              "      <td>Jim Sturgess, Kevin Spacey, Kate Bosworth, Aar...</td>\n",
              "      <td>United States</td>\n",
              "      <td>January 1, 2020</td>\n",
              "      <td>2008</td>\n",
              "      <td>PG-13</td>\n",
              "      <td>123 min</td>\n",
              "      <td>Dramas</td>\n",
              "    </tr>\n",
              "  </tbody>\n",
              "</table>\n",
              "</div>"
            ],
            "text/plain": [
              "   id     type  ...   duration                                              genre\n",
              "0  s1  TV Show  ...  4 Seasons  International TV Shows, TV Dramas, TV Sci-Fi &...\n",
              "1  s2    Movie  ...     93 min                       Dramas, International Movies\n",
              "2  s3    Movie  ...     78 min                Horror Movies, International Movies\n",
              "3  s4    Movie  ...     80 min  Action & Adventure, Independent Movies, Sci-Fi...\n",
              "4  s5    Movie  ...    123 min                                             Dramas\n",
              "\n",
              "[5 rows x 11 columns]"
            ]
          },
          "metadata": {},
          "execution_count": 21
        }
      ]
    },
    {
      "cell_type": "markdown",
      "metadata": {
        "id": "GlESu1KVS-PL"
      },
      "source": [
        "Una parte importante de trabajar bases de datos es la identificación de datos nulos. Las siguientes líneas de código ejemplifican este proceso."
      ]
    },
    {
      "cell_type": "code",
      "metadata": {
        "id": "eNNZlphQ4Pip",
        "colab": {
          "base_uri": "https://localhost:8080/"
        },
        "outputId": "8ba42eeb-c22f-4f2c-e07a-7fc1a28d28c2"
      },
      "source": [
        "bd.isnull().any() #devuleve la lista de columnas y los valores True o False, dependiendo si hay valores nulos o no en las columnas"
      ],
      "execution_count": null,
      "outputs": [
        {
          "output_type": "execute_result",
          "data": {
            "text/plain": [
              "id              False\n",
              "type            False\n",
              "title           False\n",
              "director         True\n",
              "cast             True\n",
              "country          True\n",
              "date_added       True\n",
              "release_year    False\n",
              "rating           True\n",
              "duration        False\n",
              "genre           False\n",
              "dtype: bool"
            ]
          },
          "metadata": {},
          "execution_count": 22
        }
      ]
    },
    {
      "cell_type": "code",
      "metadata": {
        "id": "JYP11I944pxl",
        "colab": {
          "base_uri": "https://localhost:8080/"
        },
        "outputId": "132a38ab-3480-4c16-90d2-a71a6f83f090"
      },
      "source": [
        "bd.isnull().sum() #devuelve el total de valores nulos por columna"
      ],
      "execution_count": null,
      "outputs": [
        {
          "output_type": "execute_result",
          "data": {
            "text/plain": [
              "id                 0\n",
              "type               0\n",
              "title              0\n",
              "director        2389\n",
              "cast             718\n",
              "country          507\n",
              "date_added        10\n",
              "release_year       0\n",
              "rating             7\n",
              "duration           0\n",
              "genre              0\n",
              "dtype: int64"
            ]
          },
          "metadata": {},
          "execution_count": 23
        }
      ]
    },
    {
      "cell_type": "markdown",
      "metadata": {
        "id": "vRLJZ2R9Tbfv"
      },
      "source": [
        "Una vez identificados los datos nulos, se puede hacer uso del atributo dropna para poder eliminar las columnas o renglones que contengan dichos datos nulos. Para columnas se usa de argumento axis=1, mientras que en renglones axis=0."
      ]
    },
    {
      "cell_type": "code",
      "metadata": {
        "id": "WfxTL1Go41ld"
      },
      "source": [
        "bd.dropna(axis=0,inplace=True) #elimina las filas que contengan datos nulos"
      ],
      "execution_count": null,
      "outputs": []
    },
    {
      "cell_type": "code",
      "metadata": {
        "id": "7I0XIIEK6hlm",
        "colab": {
          "base_uri": "https://localhost:8080/"
        },
        "outputId": "1595cc1b-b0bd-4f31-82d5-feb5abc2bf76"
      },
      "source": [
        "bd.shape #verificando que se haya aplicado la línea de código anterior al ver si ahora hay menos filas"
      ],
      "execution_count": null,
      "outputs": [
        {
          "output_type": "execute_result",
          "data": {
            "text/plain": [
              "(4808, 11)"
            ]
          },
          "metadata": {},
          "execution_count": 25
        }
      ]
    },
    {
      "cell_type": "markdown",
      "metadata": {
        "id": "db2PjKPBKmoD"
      },
      "source": [
        "**Clasificación de datos y Agrupación**"
      ]
    },
    {
      "cell_type": "markdown",
      "metadata": {
        "id": "ukzKrOQ7Va59"
      },
      "source": [
        "Otro aspecto importante a trabajar base de datos es agrupar los datos para tener un mejor manejo.\n"
      ]
    },
    {
      "cell_type": "markdown",
      "metadata": {
        "id": "XyQ7fDTKVrVz"
      },
      "source": [
        "En la siguiente línea de código, se está identificando los valores que se contienen en la columna \"type\", usando el atributo unique."
      ]
    },
    {
      "cell_type": "code",
      "metadata": {
        "id": "20v02OIRoM4j",
        "colab": {
          "base_uri": "https://localhost:8080/"
        },
        "outputId": "3ae4ccdd-ec09-4c6d-ab63-de26c181372a"
      },
      "source": [
        "bd.type.unique() #nos arroja los datos únicos que aparecen en esa columna"
      ],
      "execution_count": null,
      "outputs": [
        {
          "output_type": "execute_result",
          "data": {
            "text/plain": [
              "array(['Movie', 'TV Show'], dtype=object)"
            ]
          },
          "metadata": {},
          "execution_count": 26
        }
      ]
    },
    {
      "cell_type": "markdown",
      "metadata": {
        "id": "V-s696F6WOiD"
      },
      "source": [
        "Después de identificar los valores de la columna, se pueden filtrar los datos, como se muestra en el ejemplo que se estan guardando por \"Movie\" en una variable. Luego esa variable se puede guardar en un archivo csv para tener acceso a él.\n"
      ]
    },
    {
      "cell_type": "code",
      "metadata": {
        "id": "KdWHVKJHsS_l"
      },
      "source": [
        "tipo_movie=bd[bd[\"type\"]=='Movie'] #definir que información queremos guardar en la variable\n",
        "\n",
        "tipo_movie.to_csv('Solo_Movie.csv',index=False)  #guardar los datos en csv"
      ],
      "execution_count": null,
      "outputs": []
    },
    {
      "cell_type": "code",
      "metadata": {
        "id": "T6-_Noyeswks",
        "colab": {
          "base_uri": "https://localhost:8080/",
          "height": 287
        },
        "outputId": "19a1de9a-9c77-424d-ca49-718d6f8f62d7"
      },
      "source": [
        "tipo_movie.head() #analizando como queda la base de datos después del filtro"
      ],
      "execution_count": null,
      "outputs": [
        {
          "output_type": "execute_result",
          "data": {
            "text/html": [
              "<div>\n",
              "<style scoped>\n",
              "    .dataframe tbody tr th:only-of-type {\n",
              "        vertical-align: middle;\n",
              "    }\n",
              "\n",
              "    .dataframe tbody tr th {\n",
              "        vertical-align: top;\n",
              "    }\n",
              "\n",
              "    .dataframe thead th {\n",
              "        text-align: right;\n",
              "    }\n",
              "</style>\n",
              "<table border=\"1\" class=\"dataframe\">\n",
              "  <thead>\n",
              "    <tr style=\"text-align: right;\">\n",
              "      <th></th>\n",
              "      <th>id</th>\n",
              "      <th>type</th>\n",
              "      <th>title</th>\n",
              "      <th>director</th>\n",
              "      <th>cast</th>\n",
              "      <th>country</th>\n",
              "      <th>date_added</th>\n",
              "      <th>release_year</th>\n",
              "      <th>rating</th>\n",
              "      <th>duration</th>\n",
              "      <th>genre</th>\n",
              "    </tr>\n",
              "  </thead>\n",
              "  <tbody>\n",
              "    <tr>\n",
              "      <th>1</th>\n",
              "      <td>s2</td>\n",
              "      <td>Movie</td>\n",
              "      <td>7:19</td>\n",
              "      <td>Jorge Michel Grau</td>\n",
              "      <td>Demián Bichir, Héctor Bonilla, Oscar Serrano, ...</td>\n",
              "      <td>Mexico</td>\n",
              "      <td>December 23, 2016</td>\n",
              "      <td>2016</td>\n",
              "      <td>TV-MA</td>\n",
              "      <td>93 min</td>\n",
              "      <td>Dramas, International Movies</td>\n",
              "    </tr>\n",
              "    <tr>\n",
              "      <th>2</th>\n",
              "      <td>s3</td>\n",
              "      <td>Movie</td>\n",
              "      <td>23:59</td>\n",
              "      <td>Gilbert Chan</td>\n",
              "      <td>Tedd Chan, Stella Chung, Henley Hii, Lawrence ...</td>\n",
              "      <td>Singapore</td>\n",
              "      <td>December 20, 2018</td>\n",
              "      <td>2011</td>\n",
              "      <td>R</td>\n",
              "      <td>78 min</td>\n",
              "      <td>Horror Movies, International Movies</td>\n",
              "    </tr>\n",
              "    <tr>\n",
              "      <th>3</th>\n",
              "      <td>s4</td>\n",
              "      <td>Movie</td>\n",
              "      <td>9</td>\n",
              "      <td>Shane Acker</td>\n",
              "      <td>Elijah Wood, John C. Reilly, Jennifer Connelly...</td>\n",
              "      <td>United States</td>\n",
              "      <td>November 16, 2017</td>\n",
              "      <td>2009</td>\n",
              "      <td>PG-13</td>\n",
              "      <td>80 min</td>\n",
              "      <td>Action &amp; Adventure, Independent Movies, Sci-Fi...</td>\n",
              "    </tr>\n",
              "    <tr>\n",
              "      <th>4</th>\n",
              "      <td>s5</td>\n",
              "      <td>Movie</td>\n",
              "      <td>21</td>\n",
              "      <td>Robert Luketic</td>\n",
              "      <td>Jim Sturgess, Kevin Spacey, Kate Bosworth, Aar...</td>\n",
              "      <td>United States</td>\n",
              "      <td>January 1, 2020</td>\n",
              "      <td>2008</td>\n",
              "      <td>PG-13</td>\n",
              "      <td>123 min</td>\n",
              "      <td>Dramas</td>\n",
              "    </tr>\n",
              "    <tr>\n",
              "      <th>6</th>\n",
              "      <td>s7</td>\n",
              "      <td>Movie</td>\n",
              "      <td>122</td>\n",
              "      <td>Yasir Al Yasiri</td>\n",
              "      <td>Amina Khalil, Ahmed Dawood, Tarek Lotfy, Ahmed...</td>\n",
              "      <td>Egypt</td>\n",
              "      <td>June 1, 2020</td>\n",
              "      <td>2019</td>\n",
              "      <td>TV-MA</td>\n",
              "      <td>95 min</td>\n",
              "      <td>Horror Movies, International Movies</td>\n",
              "    </tr>\n",
              "  </tbody>\n",
              "</table>\n",
              "</div>"
            ],
            "text/plain": [
              "   id   type  ... duration                                              genre\n",
              "1  s2  Movie  ...   93 min                       Dramas, International Movies\n",
              "2  s3  Movie  ...   78 min                Horror Movies, International Movies\n",
              "3  s4  Movie  ...   80 min  Action & Adventure, Independent Movies, Sci-Fi...\n",
              "4  s5  Movie  ...  123 min                                             Dramas\n",
              "6  s7  Movie  ...   95 min                Horror Movies, International Movies\n",
              "\n",
              "[5 rows x 11 columns]"
            ]
          },
          "metadata": {},
          "execution_count": 28
        }
      ]
    },
    {
      "cell_type": "markdown",
      "metadata": {
        "id": "HckM0eobXggo"
      },
      "source": [
        "En la siguiente línea del código, se trabaja otra forma de filtrar los datos de una base de datos. En este caso se esta trabajando con la base que se creo de la línea anterior, usando el atributo loc para poder aplicar el nuevo filtro."
      ]
    },
    {
      "cell_type": "code",
      "metadata": {
        "id": "c1nPTT_UuUsR"
      },
      "source": [
        "movie_mx=tipo_movie.loc[tipo_movie.country=='Mexico'] #Forma de filtrar los datos siguiendo cierto criterio"
      ],
      "execution_count": null,
      "outputs": []
    },
    {
      "cell_type": "code",
      "metadata": {
        "id": "zML291fTwIES",
        "colab": {
          "base_uri": "https://localhost:8080/",
          "height": 354
        },
        "outputId": "94951f67-9b9d-4cb2-9bf6-c06fa0fde381"
      },
      "source": [
        "movie_mx.head() #verificando que se haya aplicado el filtro de la línea de código anterior"
      ],
      "execution_count": null,
      "outputs": [
        {
          "output_type": "execute_result",
          "data": {
            "text/html": [
              "<div>\n",
              "<style scoped>\n",
              "    .dataframe tbody tr th:only-of-type {\n",
              "        vertical-align: middle;\n",
              "    }\n",
              "\n",
              "    .dataframe tbody tr th {\n",
              "        vertical-align: top;\n",
              "    }\n",
              "\n",
              "    .dataframe thead th {\n",
              "        text-align: right;\n",
              "    }\n",
              "</style>\n",
              "<table border=\"1\" class=\"dataframe\">\n",
              "  <thead>\n",
              "    <tr style=\"text-align: right;\">\n",
              "      <th></th>\n",
              "      <th>id</th>\n",
              "      <th>type</th>\n",
              "      <th>title</th>\n",
              "      <th>director</th>\n",
              "      <th>cast</th>\n",
              "      <th>country</th>\n",
              "      <th>date_added</th>\n",
              "      <th>release_year</th>\n",
              "      <th>rating</th>\n",
              "      <th>duration</th>\n",
              "      <th>genre</th>\n",
              "    </tr>\n",
              "  </thead>\n",
              "  <tbody>\n",
              "    <tr>\n",
              "      <th>1</th>\n",
              "      <td>s2</td>\n",
              "      <td>Movie</td>\n",
              "      <td>7:19</td>\n",
              "      <td>Jorge Michel Grau</td>\n",
              "      <td>Demián Bichir, Héctor Bonilla, Oscar Serrano, ...</td>\n",
              "      <td>Mexico</td>\n",
              "      <td>December 23, 2016</td>\n",
              "      <td>2016</td>\n",
              "      <td>TV-MA</td>\n",
              "      <td>93 min</td>\n",
              "      <td>Dramas, International Movies</td>\n",
              "    </tr>\n",
              "    <tr>\n",
              "      <th>292</th>\n",
              "      <td>s293</td>\n",
              "      <td>Movie</td>\n",
              "      <td>Acapulco La vida va</td>\n",
              "      <td>Alfonso Serrano Maturino</td>\n",
              "      <td>Patricio Castillo, Sergio Bustamante, Alejandr...</td>\n",
              "      <td>Mexico</td>\n",
              "      <td>June 3, 2017</td>\n",
              "      <td>2016</td>\n",
              "      <td>TV-MA</td>\n",
              "      <td>89 min</td>\n",
              "      <td>Comedies, Dramas, International Movies</td>\n",
              "    </tr>\n",
              "    <tr>\n",
              "      <th>370</th>\n",
              "      <td>s371</td>\n",
              "      <td>Movie</td>\n",
              "      <td>Alan Saldaña: Mi vida de pobre</td>\n",
              "      <td>Raúl Campos, Jan Suter</td>\n",
              "      <td>Alan Saldaña</td>\n",
              "      <td>Mexico</td>\n",
              "      <td>August 4, 2017</td>\n",
              "      <td>2017</td>\n",
              "      <td>TV-MA</td>\n",
              "      <td>54 min</td>\n",
              "      <td>Stand-Up Comedy</td>\n",
              "    </tr>\n",
              "    <tr>\n",
              "      <th>378</th>\n",
              "      <td>s379</td>\n",
              "      <td>Movie</td>\n",
              "      <td>Alex Fernández: The Best Comedian in the World</td>\n",
              "      <td>Alex Díaz</td>\n",
              "      <td>Alex Fernández</td>\n",
              "      <td>Mexico</td>\n",
              "      <td>January 23, 2020</td>\n",
              "      <td>2020</td>\n",
              "      <td>TV-MA</td>\n",
              "      <td>51 min</td>\n",
              "      <td>Stand-Up Comedy</td>\n",
              "    </tr>\n",
              "    <tr>\n",
              "      <th>420</th>\n",
              "      <td>s421</td>\n",
              "      <td>Movie</td>\n",
              "      <td>All the Freckles in the World</td>\n",
              "      <td>Yibrán Asuad</td>\n",
              "      <td>Hánssel Casillas, Loreto Peralta, Andrea Sutto...</td>\n",
              "      <td>Mexico</td>\n",
              "      <td>January 3, 2020</td>\n",
              "      <td>2020</td>\n",
              "      <td>TV-14</td>\n",
              "      <td>90 min</td>\n",
              "      <td>Comedies, International Movies, Romantic Movies</td>\n",
              "    </tr>\n",
              "  </tbody>\n",
              "</table>\n",
              "</div>"
            ],
            "text/plain": [
              "       id   type  ... duration                                            genre\n",
              "1      s2  Movie  ...   93 min                     Dramas, International Movies\n",
              "292  s293  Movie  ...   89 min           Comedies, Dramas, International Movies\n",
              "370  s371  Movie  ...   54 min                                  Stand-Up Comedy\n",
              "378  s379  Movie  ...   51 min                                  Stand-Up Comedy\n",
              "420  s421  Movie  ...   90 min  Comedies, International Movies, Romantic Movies\n",
              "\n",
              "[5 rows x 11 columns]"
            ]
          },
          "metadata": {},
          "execution_count": 30
        }
      ]
    },
    {
      "cell_type": "markdown",
      "metadata": {
        "id": "ZgMN1ddMZyqR"
      },
      "source": [
        "En la siguiente línea de código se muestra otra forma de usar el atributo loc. En este caso se estan guardando los valores de la columna \"release_year\" de los datos correspondientes a \"TV Show\" de la columna \"type\", en la variable TV_vs_Salida."
      ]
    },
    {
      "cell_type": "code",
      "metadata": {
        "id": "tj0YvXe6-Tpm"
      },
      "source": [
        "TV_vs_salida = bd.loc[bd.type == 'TV Show'].release_year #se guardan los valores de la columna release_year correspondientes a TV Show de la columna type"
      ],
      "execution_count": null,
      "outputs": []
    },
    {
      "cell_type": "code",
      "metadata": {
        "id": "UkxeNQ_3-4R5",
        "colab": {
          "base_uri": "https://localhost:8080/"
        },
        "outputId": "f958541a-b8e6-4c3a-b185-49a2d9278465"
      },
      "source": [
        "TV_vs_salida"
      ],
      "execution_count": null,
      "outputs": [
        {
          "output_type": "execute_result",
          "data": {
            "text/plain": [
              "5       2016\n",
              "132     2019\n",
              "218     2020\n",
              "260     2018\n",
              "276     2019\n",
              "        ... \n",
              "7385    2020\n",
              "7400    2016\n",
              "7492    2018\n",
              "7666    2017\n",
              "7721    2019\n",
              "Name: release_year, Length: 135, dtype: int64"
            ]
          },
          "metadata": {},
          "execution_count": 32
        }
      ]
    },
    {
      "cell_type": "markdown",
      "metadata": {
        "id": "fHtHBrGT_smy"
      },
      "source": [
        "## Preguntas de Interés"
      ]
    },
    {
      "cell_type": "markdown",
      "metadata": {
        "id": "M9SjMVCODcxo"
      },
      "source": [
        "* ¿Para que me puede servir estas agrupaciones para la práctica siguiente?\n",
        "\n",
        "Nos puede ayudar a mejorar la precisión de los modelos predictivos, y   la comprensión de la distribución de los datos."
      ]
    },
    {
      "cell_type": "markdown",
      "metadata": {
        "id": "Yz6qrhNjDc7o"
      },
      "source": [
        "\n",
        "\n",
        "\n",
        "* Importancia del análisis previo de los datos antes de iniciar las modificaciones\n",
        "\n",
        "Es necesario hacer un recorrido por la base de datos para, de esta manera, poder decidir que información resulta útil para el proyecto. Si se empieza a modificar la información antes, podemos cometer el error de eliminar algún dato clave y quedarnos con información obsoleta o de poca relevancia.  \n",
        "\n"
      ]
    },
    {
      "cell_type": "markdown",
      "metadata": {
        "id": "nWs6FcthyN0R"
      },
      "source": [
        "### Tareas de puntos extra\n",
        "**1.-**Investigar los siguientes comandos: \n",
        " \n",
        "*   **df.dropna()**:El método dropna permite, de una forma muy conveniente,filtrar los valores de una estructura de datos pandas para dejar solo aquellos no nulos.\n",
        "*   **df.astype**:Transmite un objeto pandas a un tipo de formato específico.\n",
        "\n",
        "Ambas forman parte de la libreria \"pandas\" que nos ayuda en el manejo y análisis de estructuras de datos.\n",
        "   \n",
        "\n",
        "**2.-** Realizar una tarea de preprocesamiento no mencionada en esta práctica."
      ]
    },
    {
      "cell_type": "markdown",
      "metadata": {
        "id": "agbPg4FVAojT"
      },
      "source": [
        "La librería matplotlib es una librería para la creación de gráficos de dos dimensiones.\n",
        "A continuación se muestra una gráfica de barras correspondiente al rating  de las películas de México que se realizó en el agrupamiento anterior."
      ]
    },
    {
      "cell_type": "code",
      "metadata": {
        "id": "LNE9ShJp6PNS",
        "colab": {
          "base_uri": "https://localhost:8080/",
          "height": 286
        },
        "outputId": "927d1b31-e066-4434-c554-b7e712cc9a9f"
      },
      "source": [
        "import matplotlib.pyplot as plt\n",
        "\n",
        "eje_x=movie_mx.rating.unique()\n",
        "\n",
        "eje_y=movie_mx['rating'].value_counts() #agrupa y cuenta los valores de los ratings de las películas\n",
        "\n",
        "plt.title('Rating de las películas',fontsize=18)\n",
        "\n",
        "plt.bar(eje_x,eje_y)\n",
        "\n",
        "plt.show()\n",
        "\n",
        "#https://pythonbros.com/grafica-de-barras-con-matplotlib/"
      ],
      "execution_count": null,
      "outputs": [
        {
          "output_type": "display_data",
          "data": {
            "image/png": "[encoded data removed]",
            "text/plain": [
              "<Figure size 432x288 with 1 Axes>"
            ]
          },
          "metadata": {
            "needs_background": "light"
          }
        }
      ]
    }
  ]
}